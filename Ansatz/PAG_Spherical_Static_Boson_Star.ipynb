{
 "cells": [
  {
   "cell_type": "code",
   "execution_count": 1,
   "id": "ee4aa0df",
   "metadata": {},
   "outputs": [
    {
     "data": {
      "text/html": [
       "<html>\\(\\displaystyle \\verb|SageMath|\\verb| |\\verb|version|\\verb| |\\verb|9.7,|\\verb| |\\verb|Release|\\verb| |\\verb|Date:|\\verb| |\\verb|2022-09-19|\\)</html>"
      ],
      "text/latex": [
       "$\\displaystyle \\verb|SageMath|\\verb| |\\verb|version|\\verb| |\\verb|9.7,|\\verb| |\\verb|Release|\\verb| |\\verb|Date:|\\verb| |\\verb|2022-09-19|$"
      ],
      "text/plain": [
       "'SageMath version 9.7, Release Date: 2022-09-19'"
      ]
     },
     "execution_count": 1,
     "metadata": {},
     "output_type": "execute_result"
    }
   ],
   "source": [
    "reset()\n",
    "%display latex\n",
    "version()"
   ]
  },
  {
   "cell_type": "markdown",
   "id": "637891fa",
   "metadata": {},
   "source": [
    "# Definition of the manifold and the most general connection"
   ]
  },
  {
   "cell_type": "code",
   "execution_count": 2,
   "id": "6c8a69b1",
   "metadata": {},
   "outputs": [],
   "source": [
    "M=Manifold(4,\"M\")\n",
    "XS.<t,r,th,ph> = M.chart(r't r:(0,+oo) th:(0,pi):\\theta ph:(0,2*pi):\\phi')"
   ]
  },
  {
   "cell_type": "code",
   "execution_count": 3,
   "id": "a60bdd7c",
   "metadata": {},
   "outputs": [
    {
     "data": {
      "text/html": [
       "<html>\\(\\displaystyle \\begin{array}{lcl} \\Gamma_{ \\phantom{\\, t} \\, t \\, t }^{ \\, t \\phantom{\\, t} \\phantom{\\, t} } & = & V\\left(t, r\\right) \\\\ \\Gamma_{ \\phantom{\\, t} \\, t \\, r }^{ \\, t \\phantom{\\, t} \\phantom{\\, r} } & = & A\\left(t, r\\right) \\\\ \\Gamma_{ \\phantom{\\, t} \\, r \\, t }^{ \\, t \\phantom{\\, r} \\phantom{\\, t} } & = & A\\left(t, r\\right) \\\\ \\Gamma_{ \\phantom{\\, t} \\, r \\, r }^{ \\, t \\phantom{\\, r} \\phantom{\\, r} } & = & W\\left(t, r\\right) \\\\ \\Gamma_{ \\phantom{\\, t} \\, {\\theta} \\, {\\theta} }^{ \\, t \\phantom{\\, {\\theta}} \\phantom{\\, {\\theta}} } & = & X\\left(t, r\\right) \\\\ \\Gamma_{ \\phantom{\\, t} \\, {\\phi} \\, {\\phi} }^{ \\, t \\phantom{\\, {\\phi}} \\phantom{\\, {\\phi}} } & = & X\\left(t, r\\right) \\sin\\left({\\theta}\\right)^{2} \\\\ \\Gamma_{ \\phantom{\\, r} \\, t \\, t }^{ \\, r \\phantom{\\, t} \\phantom{\\, t} } & = & B\\left(t, r\\right) \\\\ \\Gamma_{ \\phantom{\\, r} \\, t \\, r }^{ \\, r \\phantom{\\, t} \\phantom{\\, r} } & = & Y\\left(t, r\\right) \\\\ \\Gamma_{ \\phantom{\\, r} \\, r \\, t }^{ \\, r \\phantom{\\, r} \\phantom{\\, t} } & = & Y\\left(t, r\\right) \\\\ \\Gamma_{ \\phantom{\\, r} \\, r \\, r }^{ \\, r \\phantom{\\, r} \\phantom{\\, r} } & = & C\\left(t, r\\right) \\\\ \\Gamma_{ \\phantom{\\, r} \\, {\\theta} \\, {\\theta} }^{ \\, r \\phantom{\\, {\\theta}} \\phantom{\\, {\\theta}} } & = & F\\left(t, r\\right) \\\\ \\Gamma_{ \\phantom{\\, r} \\, {\\phi} \\, {\\phi} }^{ \\, r \\phantom{\\, {\\phi}} \\phantom{\\, {\\phi}} } & = & F\\left(t, r\\right) \\sin\\left({\\theta}\\right)^{2} \\\\ \\Gamma_{ \\phantom{\\, {\\theta}} \\, t \\, {\\theta} }^{ \\, {\\theta} \\phantom{\\, t} \\phantom{\\, {\\theta}} } & = & Z\\left(t, r\\right) \\\\ \\Gamma_{ \\phantom{\\, {\\theta}} \\, t \\, {\\phi} }^{ \\, {\\theta} \\phantom{\\, t} \\phantom{\\, {\\phi}} } & = & -D\\left(t, r\\right) \\sin\\left({\\theta}\\right) \\\\ \\Gamma_{ \\phantom{\\, {\\theta}} \\, r \\, {\\theta} }^{ \\, {\\theta} \\phantom{\\, r} \\phantom{\\, {\\theta}} } & = & G\\left(t, r\\right) \\\\ \\Gamma_{ \\phantom{\\, {\\theta}} \\, r \\, {\\phi} }^{ \\, {\\theta} \\phantom{\\, r} \\phantom{\\, {\\phi}} } & = & -H\\left(t, r\\right) \\sin\\left({\\theta}\\right) \\\\ \\Gamma_{ \\phantom{\\, {\\theta}} \\, {\\theta} \\, t }^{ \\, {\\theta} \\phantom{\\, {\\theta}} \\phantom{\\, t} } & = & Z\\left(t, r\\right) \\\\ \\Gamma_{ \\phantom{\\, {\\theta}} \\, {\\theta} \\, r }^{ \\, {\\theta} \\phantom{\\, {\\theta}} \\phantom{\\, r} } & = & G\\left(t, r\\right) \\\\ \\Gamma_{ \\phantom{\\, {\\theta}} \\, {\\phi} \\, t }^{ \\, {\\theta} \\phantom{\\, {\\phi}} \\phantom{\\, t} } & = & -D\\left(t, r\\right) \\sin\\left({\\theta}\\right) \\\\ \\Gamma_{ \\phantom{\\, {\\theta}} \\, {\\phi} \\, r }^{ \\, {\\theta} \\phantom{\\, {\\phi}} \\phantom{\\, r} } & = & -H\\left(t, r\\right) \\sin\\left({\\theta}\\right) \\\\ \\Gamma_{ \\phantom{\\, {\\theta}} \\, {\\phi} \\, {\\phi} }^{ \\, {\\theta} \\phantom{\\, {\\phi}} \\phantom{\\, {\\phi}} } & = & -\\cos\\left({\\theta}\\right) \\sin\\left({\\theta}\\right) \\\\ \\Gamma_{ \\phantom{\\, {\\phi}} \\, t \\, {\\theta} }^{ \\, {\\phi} \\phantom{\\, t} \\phantom{\\, {\\theta}} } & = & \\frac{D\\left(t, r\\right)}{\\sin\\left({\\theta}\\right)} \\\\ \\Gamma_{ \\phantom{\\, {\\phi}} \\, t \\, {\\phi} }^{ \\, {\\phi} \\phantom{\\, t} \\phantom{\\, {\\phi}} } & = & Z\\left(t, r\\right) \\\\ \\Gamma_{ \\phantom{\\, {\\phi}} \\, r \\, {\\theta} }^{ \\, {\\phi} \\phantom{\\, r} \\phantom{\\, {\\theta}} } & = & \\frac{H\\left(t, r\\right)}{\\sin\\left({\\theta}\\right)} \\\\ \\Gamma_{ \\phantom{\\, {\\phi}} \\, r \\, {\\phi} }^{ \\, {\\phi} \\phantom{\\, r} \\phantom{\\, {\\phi}} } & = & G\\left(t, r\\right) \\\\ \\Gamma_{ \\phantom{\\, {\\phi}} \\, {\\theta} \\, t }^{ \\, {\\phi} \\phantom{\\, {\\theta}} \\phantom{\\, t} } & = & \\frac{D\\left(t, r\\right)}{\\sin\\left({\\theta}\\right)} \\\\ \\Gamma_{ \\phantom{\\, {\\phi}} \\, {\\theta} \\, r }^{ \\, {\\phi} \\phantom{\\, {\\theta}} \\phantom{\\, r} } & = & \\frac{H\\left(t, r\\right)}{\\sin\\left({\\theta}\\right)} \\\\ \\Gamma_{ \\phantom{\\, {\\phi}} \\, {\\theta} \\, {\\phi} }^{ \\, {\\phi} \\phantom{\\, {\\theta}} \\phantom{\\, {\\phi}} } & = & \\frac{\\cos\\left({\\theta}\\right)}{\\sin\\left({\\theta}\\right)} \\\\ \\Gamma_{ \\phantom{\\, {\\phi}} \\, {\\phi} \\, t }^{ \\, {\\phi} \\phantom{\\, {\\phi}} \\phantom{\\, t} } & = & Z\\left(t, r\\right) \\\\ \\Gamma_{ \\phantom{\\, {\\phi}} \\, {\\phi} \\, r }^{ \\, {\\phi} \\phantom{\\, {\\phi}} \\phantom{\\, r} } & = & G\\left(t, r\\right) \\\\ \\Gamma_{ \\phantom{\\, {\\phi}} \\, {\\phi} \\, {\\theta} }^{ \\, {\\phi} \\phantom{\\, {\\phi}} \\phantom{\\, {\\theta}} } & = & \\frac{\\cos\\left({\\theta}\\right)}{\\sin\\left({\\theta}\\right)} \\end{array}\\)</html>"
      ],
      "text/latex": [
       "$\\displaystyle \\begin{array}{lcl} \\Gamma_{ \\phantom{\\, t} \\, t \\, t }^{ \\, t \\phantom{\\, t} \\phantom{\\, t} } & = & V\\left(t, r\\right) \\\\ \\Gamma_{ \\phantom{\\, t} \\, t \\, r }^{ \\, t \\phantom{\\, t} \\phantom{\\, r} } & = & A\\left(t, r\\right) \\\\ \\Gamma_{ \\phantom{\\, t} \\, r \\, t }^{ \\, t \\phantom{\\, r} \\phantom{\\, t} } & = & A\\left(t, r\\right) \\\\ \\Gamma_{ \\phantom{\\, t} \\, r \\, r }^{ \\, t \\phantom{\\, r} \\phantom{\\, r} } & = & W\\left(t, r\\right) \\\\ \\Gamma_{ \\phantom{\\, t} \\, {\\theta} \\, {\\theta} }^{ \\, t \\phantom{\\, {\\theta}} \\phantom{\\, {\\theta}} } & = & X\\left(t, r\\right) \\\\ \\Gamma_{ \\phantom{\\, t} \\, {\\phi} \\, {\\phi} }^{ \\, t \\phantom{\\, {\\phi}} \\phantom{\\, {\\phi}} } & = & X\\left(t, r\\right) \\sin\\left({\\theta}\\right)^{2} \\\\ \\Gamma_{ \\phantom{\\, r} \\, t \\, t }^{ \\, r \\phantom{\\, t} \\phantom{\\, t} } & = & B\\left(t, r\\right) \\\\ \\Gamma_{ \\phantom{\\, r} \\, t \\, r }^{ \\, r \\phantom{\\, t} \\phantom{\\, r} } & = & Y\\left(t, r\\right) \\\\ \\Gamma_{ \\phantom{\\, r} \\, r \\, t }^{ \\, r \\phantom{\\, r} \\phantom{\\, t} } & = & Y\\left(t, r\\right) \\\\ \\Gamma_{ \\phantom{\\, r} \\, r \\, r }^{ \\, r \\phantom{\\, r} \\phantom{\\, r} } & = & C\\left(t, r\\right) \\\\ \\Gamma_{ \\phantom{\\, r} \\, {\\theta} \\, {\\theta} }^{ \\, r \\phantom{\\, {\\theta}} \\phantom{\\, {\\theta}} } & = & F\\left(t, r\\right) \\\\ \\Gamma_{ \\phantom{\\, r} \\, {\\phi} \\, {\\phi} }^{ \\, r \\phantom{\\, {\\phi}} \\phantom{\\, {\\phi}} } & = & F\\left(t, r\\right) \\sin\\left({\\theta}\\right)^{2} \\\\ \\Gamma_{ \\phantom{\\, {\\theta}} \\, t \\, {\\theta} }^{ \\, {\\theta} \\phantom{\\, t} \\phantom{\\, {\\theta}} } & = & Z\\left(t, r\\right) \\\\ \\Gamma_{ \\phantom{\\, {\\theta}} \\, t \\, {\\phi} }^{ \\, {\\theta} \\phantom{\\, t} \\phantom{\\, {\\phi}} } & = & -D\\left(t, r\\right) \\sin\\left({\\theta}\\right) \\\\ \\Gamma_{ \\phantom{\\, {\\theta}} \\, r \\, {\\theta} }^{ \\, {\\theta} \\phantom{\\, r} \\phantom{\\, {\\theta}} } & = & G\\left(t, r\\right) \\\\ \\Gamma_{ \\phantom{\\, {\\theta}} \\, r \\, {\\phi} }^{ \\, {\\theta} \\phantom{\\, r} \\phantom{\\, {\\phi}} } & = & -H\\left(t, r\\right) \\sin\\left({\\theta}\\right) \\\\ \\Gamma_{ \\phantom{\\, {\\theta}} \\, {\\theta} \\, t }^{ \\, {\\theta} \\phantom{\\, {\\theta}} \\phantom{\\, t} } & = & Z\\left(t, r\\right) \\\\ \\Gamma_{ \\phantom{\\, {\\theta}} \\, {\\theta} \\, r }^{ \\, {\\theta} \\phantom{\\, {\\theta}} \\phantom{\\, r} } & = & G\\left(t, r\\right) \\\\ \\Gamma_{ \\phantom{\\, {\\theta}} \\, {\\phi} \\, t }^{ \\, {\\theta} \\phantom{\\, {\\phi}} \\phantom{\\, t} } & = & -D\\left(t, r\\right) \\sin\\left({\\theta}\\right) \\\\ \\Gamma_{ \\phantom{\\, {\\theta}} \\, {\\phi} \\, r }^{ \\, {\\theta} \\phantom{\\, {\\phi}} \\phantom{\\, r} } & = & -H\\left(t, r\\right) \\sin\\left({\\theta}\\right) \\\\ \\Gamma_{ \\phantom{\\, {\\theta}} \\, {\\phi} \\, {\\phi} }^{ \\, {\\theta} \\phantom{\\, {\\phi}} \\phantom{\\, {\\phi}} } & = & -\\cos\\left({\\theta}\\right) \\sin\\left({\\theta}\\right) \\\\ \\Gamma_{ \\phantom{\\, {\\phi}} \\, t \\, {\\theta} }^{ \\, {\\phi} \\phantom{\\, t} \\phantom{\\, {\\theta}} } & = & \\frac{D\\left(t, r\\right)}{\\sin\\left({\\theta}\\right)} \\\\ \\Gamma_{ \\phantom{\\, {\\phi}} \\, t \\, {\\phi} }^{ \\, {\\phi} \\phantom{\\, t} \\phantom{\\, {\\phi}} } & = & Z\\left(t, r\\right) \\\\ \\Gamma_{ \\phantom{\\, {\\phi}} \\, r \\, {\\theta} }^{ \\, {\\phi} \\phantom{\\, r} \\phantom{\\, {\\theta}} } & = & \\frac{H\\left(t, r\\right)}{\\sin\\left({\\theta}\\right)} \\\\ \\Gamma_{ \\phantom{\\, {\\phi}} \\, r \\, {\\phi} }^{ \\, {\\phi} \\phantom{\\, r} \\phantom{\\, {\\phi}} } & = & G\\left(t, r\\right) \\\\ \\Gamma_{ \\phantom{\\, {\\phi}} \\, {\\theta} \\, t }^{ \\, {\\phi} \\phantom{\\, {\\theta}} \\phantom{\\, t} } & = & \\frac{D\\left(t, r\\right)}{\\sin\\left({\\theta}\\right)} \\\\ \\Gamma_{ \\phantom{\\, {\\phi}} \\, {\\theta} \\, r }^{ \\, {\\phi} \\phantom{\\, {\\theta}} \\phantom{\\, r} } & = & \\frac{H\\left(t, r\\right)}{\\sin\\left({\\theta}\\right)} \\\\ \\Gamma_{ \\phantom{\\, {\\phi}} \\, {\\theta} \\, {\\phi} }^{ \\, {\\phi} \\phantom{\\, {\\theta}} \\phantom{\\, {\\phi}} } & = & \\frac{\\cos\\left({\\theta}\\right)}{\\sin\\left({\\theta}\\right)} \\\\ \\Gamma_{ \\phantom{\\, {\\phi}} \\, {\\phi} \\, t }^{ \\, {\\phi} \\phantom{\\, {\\phi}} \\phantom{\\, t} } & = & Z\\left(t, r\\right) \\\\ \\Gamma_{ \\phantom{\\, {\\phi}} \\, {\\phi} \\, r }^{ \\, {\\phi} \\phantom{\\, {\\phi}} \\phantom{\\, r} } & = & G\\left(t, r\\right) \\\\ \\Gamma_{ \\phantom{\\, {\\phi}} \\, {\\phi} \\, {\\theta} }^{ \\, {\\phi} \\phantom{\\, {\\phi}} \\phantom{\\, {\\theta}} } & = & \\frac{\\cos\\left({\\theta}\\right)}{\\sin\\left({\\theta}\\right)} \\end{array}$"
      ],
      "text/plain": [
       "Gam^t_t,t = V(t, r) \n",
       "Gam^t_t,r = A(t, r) \n",
       "Gam^t_r,t = A(t, r) \n",
       "Gam^t_r,r = W(t, r) \n",
       "Gam^t_th,th = X(t, r) \n",
       "Gam^t_ph,ph = X(t, r)*sin(th)^2 \n",
       "Gam^r_t,t = B(t, r) \n",
       "Gam^r_t,r = Y(t, r) \n",
       "Gam^r_r,t = Y(t, r) \n",
       "Gam^r_r,r = C(t, r) \n",
       "Gam^r_th,th = F(t, r) \n",
       "Gam^r_ph,ph = F(t, r)*sin(th)^2 \n",
       "Gam^th_t,th = Z(t, r) \n",
       "Gam^th_t,ph = -D(t, r)*sin(th) \n",
       "Gam^th_r,th = G(t, r) \n",
       "Gam^th_r,ph = -H(t, r)*sin(th) \n",
       "Gam^th_th,t = Z(t, r) \n",
       "Gam^th_th,r = G(t, r) \n",
       "Gam^th_ph,t = -D(t, r)*sin(th) \n",
       "Gam^th_ph,r = -H(t, r)*sin(th) \n",
       "Gam^th_ph,ph = -cos(th)*sin(th) \n",
       "Gam^ph_t,th = D(t, r)/sin(th) \n",
       "Gam^ph_t,ph = Z(t, r) \n",
       "Gam^ph_r,th = H(t, r)/sin(th) \n",
       "Gam^ph_r,ph = G(t, r) \n",
       "Gam^ph_th,t = D(t, r)/sin(th) \n",
       "Gam^ph_th,r = H(t, r)/sin(th) \n",
       "Gam^ph_th,ph = cos(th)/sin(th) \n",
       "Gam^ph_ph,t = Z(t, r) \n",
       "Gam^ph_ph,r = G(t, r) \n",
       "Gam^ph_ph,th = cos(th)/sin(th) "
      ]
     },
     "execution_count": 3,
     "metadata": {},
     "output_type": "execute_result"
    }
   ],
   "source": [
    "T = M.affine_connection('T',\"T\")\n",
    "\n",
    "\n",
    "T[0,0,0] = function(\"V\")(t,r)\n",
    "T[0,0,1] = function(\"A\")(t,r)\n",
    "T[0,1,0] = T[0,0,1]\n",
    "T[0,1,1] = function(\"W\")(t,r)\n",
    "T[0,2,2] = function(\"X\")(t,r)\n",
    "T[0,3,3] = function(\"X\")(t,r)*(sin(th))^2\n",
    "T[1,0,0] = function(\"B\")(t,r)\n",
    "T[1,0,1] = function(\"Y\")(t,r)\n",
    "T[1,1,0] = T[1,0,1]\n",
    "T[1,1,1] = function(\"C\")(t,r)\n",
    "T[1,2,2] = function(\"F\")(t,r)\n",
    "T[1,3,3] = function(\"F\")(t,r)*(sin(th))^2\n",
    "T[2,0,2] = function(\"Z\")(t,r)\n",
    "T[2,2,0] = T[2,0,2]\n",
    "T[2,0,3] = - function(\"D\")(t,r)*sin(th)\n",
    "T[2,3,0] = T[2,0,3]\n",
    "T[2,1,2] = function(\"G\")(t,r)\n",
    "T[2,2,1] = T[2,1,2]\n",
    "T[2,1,3] = - function(\"H\")(t,r)*sin(th)\n",
    "T[2,3,1] = T[2,1,3]\n",
    "T[2,3,3] = -cos(th)*sin(th)\n",
    "T[3,0,2] = function(\"D\")(t,r)/sin(th)\n",
    "T[3,2,0] = T[3,0,2]\n",
    "T[3,0,3] = function(\"Z\")(t,r)\n",
    "T[3,3,0] = T[3,0,3]\n",
    "T[3,1,2] = function(\"H\")(t,r)/sin(th)\n",
    "T[3,2,1] = T[3,1,2]\n",
    "T[3,1,3] = function(\"G\")(t,r)\n",
    "T[3,3,1] = T[3,1,3]\n",
    "T[3,2,3] = cos(th)/sin(th)\n",
    "T[3,3,2] = T[3,2,3]\n",
    "\n",
    "T.display(only_nonredundant=True)"
   ]
  },
  {
   "cell_type": "code",
   "execution_count": 4,
   "id": "30985c5e",
   "metadata": {},
   "outputs": [
    {
     "data": {
      "text/html": [
       "<html>\\(\\displaystyle \\begin{array}{lcl} X_{ \\, t \\, t }^{ \\phantom{\\, t}\\phantom{\\, t} } & = & -A\\left(t, r\\right) B\\left(t, r\\right) + B\\left(t, r\\right) C\\left(t, r\\right) + 2 \\, D\\left(t, r\\right)^{2} + 2 \\, B\\left(t, r\\right) G\\left(t, r\\right) + V\\left(t, r\\right) Y\\left(t, r\\right) - Y\\left(t, r\\right)^{2} + 2 \\, V\\left(t, r\\right) Z\\left(t, r\\right) - 2 \\, Z\\left(t, r\\right)^{2} + \\frac{\\partial\\,B}{\\partial r} - \\frac{\\partial\\,Y}{\\partial t} - 2 \\, \\frac{\\partial\\,Z}{\\partial t} \\\\ X_{ \\, t \\, r }^{ \\phantom{\\, t}\\phantom{\\, r} } & = & 2 \\, D\\left(t, r\\right) H\\left(t, r\\right) - B\\left(t, r\\right) W\\left(t, r\\right) + {\\left(A\\left(t, r\\right) + 2 \\, G\\left(t, r\\right)\\right)} Y\\left(t, r\\right) + 2 \\, {\\left(A\\left(t, r\\right) - G\\left(t, r\\right)\\right)} Z\\left(t, r\\right) + \\frac{\\partial\\,A}{\\partial t} - \\frac{\\partial\\,V}{\\partial r} - 2 \\, \\frac{\\partial\\,Z}{\\partial r} \\\\ X_{ \\, r \\, t }^{ \\phantom{\\, r}\\phantom{\\, t} } & = & 2 \\, D\\left(t, r\\right) H\\left(t, r\\right) - B\\left(t, r\\right) W\\left(t, r\\right) + {\\left(A\\left(t, r\\right) + 2 \\, G\\left(t, r\\right)\\right)} Y\\left(t, r\\right) + 2 \\, {\\left(A\\left(t, r\\right) - G\\left(t, r\\right)\\right)} Z\\left(t, r\\right) - \\frac{\\partial\\,C}{\\partial t} - 2 \\, \\frac{\\partial\\,G}{\\partial t} + \\frac{\\partial\\,Y}{\\partial r} \\\\ X_{ \\, r \\, r }^{ \\phantom{\\, r}\\phantom{\\, r} } & = & -A\\left(t, r\\right)^{2} + A\\left(t, r\\right) C\\left(t, r\\right) + 2 \\, C\\left(t, r\\right) G\\left(t, r\\right) - 2 \\, G\\left(t, r\\right)^{2} + 2 \\, H\\left(t, r\\right)^{2} + V\\left(t, r\\right) W\\left(t, r\\right) - W\\left(t, r\\right) Y\\left(t, r\\right) + 2 \\, W\\left(t, r\\right) Z\\left(t, r\\right) - \\frac{\\partial\\,A}{\\partial r} - 2 \\, \\frac{\\partial\\,G}{\\partial r} + \\frac{\\partial\\,W}{\\partial t} \\\\ X_{ \\, {\\theta} \\, {\\theta} }^{ \\phantom{\\, {\\theta}}\\phantom{\\, {\\theta}} } & = & {\\left(A\\left(t, r\\right) + C\\left(t, r\\right)\\right)} F\\left(t, r\\right) + V\\left(t, r\\right) X\\left(t, r\\right) + X\\left(t, r\\right) Y\\left(t, r\\right) + \\frac{\\partial\\,F}{\\partial r} + \\frac{\\partial\\,X}{\\partial t} + 1 \\\\ X_{ \\, {\\phi} \\, {\\phi} }^{ \\phantom{\\, {\\phi}}\\phantom{\\, {\\phi}} } & = & {\\left({\\left(A\\left(t, r\\right) + C\\left(t, r\\right)\\right)} F\\left(t, r\\right) + V\\left(t, r\\right) X\\left(t, r\\right) + X\\left(t, r\\right) Y\\left(t, r\\right) + \\frac{\\partial\\,F}{\\partial r} + \\frac{\\partial\\,X}{\\partial t} + 1\\right)} \\sin\\left({\\theta}\\right)^{2} \\end{array}\\)</html>"
      ],
      "text/latex": [
       "$\\displaystyle \\begin{array}{lcl} X_{ \\, t \\, t }^{ \\phantom{\\, t}\\phantom{\\, t} } & = & -A\\left(t, r\\right) B\\left(t, r\\right) + B\\left(t, r\\right) C\\left(t, r\\right) + 2 \\, D\\left(t, r\\right)^{2} + 2 \\, B\\left(t, r\\right) G\\left(t, r\\right) + V\\left(t, r\\right) Y\\left(t, r\\right) - Y\\left(t, r\\right)^{2} + 2 \\, V\\left(t, r\\right) Z\\left(t, r\\right) - 2 \\, Z\\left(t, r\\right)^{2} + \\frac{\\partial\\,B}{\\partial r} - \\frac{\\partial\\,Y}{\\partial t} - 2 \\, \\frac{\\partial\\,Z}{\\partial t} \\\\ X_{ \\, t \\, r }^{ \\phantom{\\, t}\\phantom{\\, r} } & = & 2 \\, D\\left(t, r\\right) H\\left(t, r\\right) - B\\left(t, r\\right) W\\left(t, r\\right) + {\\left(A\\left(t, r\\right) + 2 \\, G\\left(t, r\\right)\\right)} Y\\left(t, r\\right) + 2 \\, {\\left(A\\left(t, r\\right) - G\\left(t, r\\right)\\right)} Z\\left(t, r\\right) + \\frac{\\partial\\,A}{\\partial t} - \\frac{\\partial\\,V}{\\partial r} - 2 \\, \\frac{\\partial\\,Z}{\\partial r} \\\\ X_{ \\, r \\, t }^{ \\phantom{\\, r}\\phantom{\\, t} } & = & 2 \\, D\\left(t, r\\right) H\\left(t, r\\right) - B\\left(t, r\\right) W\\left(t, r\\right) + {\\left(A\\left(t, r\\right) + 2 \\, G\\left(t, r\\right)\\right)} Y\\left(t, r\\right) + 2 \\, {\\left(A\\left(t, r\\right) - G\\left(t, r\\right)\\right)} Z\\left(t, r\\right) - \\frac{\\partial\\,C}{\\partial t} - 2 \\, \\frac{\\partial\\,G}{\\partial t} + \\frac{\\partial\\,Y}{\\partial r} \\\\ X_{ \\, r \\, r }^{ \\phantom{\\, r}\\phantom{\\, r} } & = & -A\\left(t, r\\right)^{2} + A\\left(t, r\\right) C\\left(t, r\\right) + 2 \\, C\\left(t, r\\right) G\\left(t, r\\right) - 2 \\, G\\left(t, r\\right)^{2} + 2 \\, H\\left(t, r\\right)^{2} + V\\left(t, r\\right) W\\left(t, r\\right) - W\\left(t, r\\right) Y\\left(t, r\\right) + 2 \\, W\\left(t, r\\right) Z\\left(t, r\\right) - \\frac{\\partial\\,A}{\\partial r} - 2 \\, \\frac{\\partial\\,G}{\\partial r} + \\frac{\\partial\\,W}{\\partial t} \\\\ X_{ \\, {\\theta} \\, {\\theta} }^{ \\phantom{\\, {\\theta}}\\phantom{\\, {\\theta}} } & = & {\\left(A\\left(t, r\\right) + C\\left(t, r\\right)\\right)} F\\left(t, r\\right) + V\\left(t, r\\right) X\\left(t, r\\right) + X\\left(t, r\\right) Y\\left(t, r\\right) + \\frac{\\partial\\,F}{\\partial r} + \\frac{\\partial\\,X}{\\partial t} + 1 \\\\ X_{ \\, {\\phi} \\, {\\phi} }^{ \\phantom{\\, {\\phi}}\\phantom{\\, {\\phi}} } & = & {\\left({\\left(A\\left(t, r\\right) + C\\left(t, r\\right)\\right)} F\\left(t, r\\right) + V\\left(t, r\\right) X\\left(t, r\\right) + X\\left(t, r\\right) Y\\left(t, r\\right) + \\frac{\\partial\\,F}{\\partial r} + \\frac{\\partial\\,X}{\\partial t} + 1\\right)} \\sin\\left({\\theta}\\right)^{2} \\end{array}$"
      ],
      "text/plain": [
       "X_t,t = -A(t, r)*B(t, r) + B(t, r)*C(t, r) + 2*D(t, r)^2 + 2*B(t, r)*G(t, r) + V(t, r)*Y(t, r) - Y(t, r)^2 + 2*V(t, r)*Z(t, r) - 2*Z(t, r)^2 + d(B)/dr - d(Y)/dt - 2*d(Z)/dt \n",
       "X_t,r = 2*D(t, r)*H(t, r) - B(t, r)*W(t, r) + (A(t, r) + 2*G(t, r))*Y(t, r) + 2*(A(t, r) - G(t, r))*Z(t, r) + d(A)/dt - d(V)/dr - 2*d(Z)/dr \n",
       "X_r,t = 2*D(t, r)*H(t, r) - B(t, r)*W(t, r) + (A(t, r) + 2*G(t, r))*Y(t, r) + 2*(A(t, r) - G(t, r))*Z(t, r) - d(C)/dt - 2*d(G)/dt + d(Y)/dr \n",
       "X_r,r = -A(t, r)^2 + A(t, r)*C(t, r) + 2*C(t, r)*G(t, r) - 2*G(t, r)^2 + 2*H(t, r)^2 + V(t, r)*W(t, r) - W(t, r)*Y(t, r) + 2*W(t, r)*Z(t, r) - d(A)/dr - 2*d(G)/dr + d(W)/dt \n",
       "X_th,th = (A(t, r) + C(t, r))*F(t, r) + V(t, r)*X(t, r) + X(t, r)*Y(t, r) + d(F)/dr + d(X)/dt + 1 \n",
       "X_ph,ph = ((A(t, r) + C(t, r))*F(t, r) + V(t, r)*X(t, r) + X(t, r)*Y(t, r) + d(F)/dr + d(X)/dt + 1)*sin(th)^2 "
      ]
     },
     "execution_count": 4,
     "metadata": {},
     "output_type": "execute_result"
    }
   ],
   "source": [
    "Riem= T.riemann()\n",
    "Riem[\"^{a}_{bac}\"].display_comp()"
   ]
  },
  {
   "cell_type": "code",
   "execution_count": 5,
   "id": "4be86053",
   "metadata": {},
   "outputs": [
    {
     "data": {
      "text/html": [
       "<html>\\(\\displaystyle \\begin{array}{lcl} X_{ \\, t \\, r }^{ \\phantom{\\, t}\\phantom{\\, r} } & = & \\frac{\\partial\\,A}{\\partial t} + \\frac{\\partial\\,C}{\\partial t} + 2 \\, \\frac{\\partial\\,G}{\\partial t} - \\frac{\\partial\\,V}{\\partial r} - \\frac{\\partial\\,Y}{\\partial r} - 2 \\, \\frac{\\partial\\,Z}{\\partial r} \\\\ X_{ \\, r \\, t }^{ \\phantom{\\, r}\\phantom{\\, t} } & = & -\\frac{\\partial\\,A}{\\partial t} - \\frac{\\partial\\,C}{\\partial t} - 2 \\, \\frac{\\partial\\,G}{\\partial t} + \\frac{\\partial\\,V}{\\partial r} + \\frac{\\partial\\,Y}{\\partial r} + 2 \\, \\frac{\\partial\\,Z}{\\partial r} \\end{array}\\)</html>"
      ],
      "text/latex": [
       "$\\displaystyle \\begin{array}{lcl} X_{ \\, t \\, r }^{ \\phantom{\\, t}\\phantom{\\, r} } & = & \\frac{\\partial\\,A}{\\partial t} + \\frac{\\partial\\,C}{\\partial t} + 2 \\, \\frac{\\partial\\,G}{\\partial t} - \\frac{\\partial\\,V}{\\partial r} - \\frac{\\partial\\,Y}{\\partial r} - 2 \\, \\frac{\\partial\\,Z}{\\partial r} \\\\ X_{ \\, r \\, t }^{ \\phantom{\\, r}\\phantom{\\, t} } & = & -\\frac{\\partial\\,A}{\\partial t} - \\frac{\\partial\\,C}{\\partial t} - 2 \\, \\frac{\\partial\\,G}{\\partial t} + \\frac{\\partial\\,V}{\\partial r} + \\frac{\\partial\\,Y}{\\partial r} + 2 \\, \\frac{\\partial\\,Z}{\\partial r} \\end{array}$"
      ],
      "text/plain": [
       "X_t,r = d(A)/dt + d(C)/dt + 2*d(G)/dt - d(V)/dr - d(Y)/dr - 2*d(Z)/dr \n",
       "X_r,t = -d(A)/dt - d(C)/dt - 2*d(G)/dt + d(V)/dr + d(Y)/dr + 2*d(Z)/dr "
      ]
     },
     "execution_count": 5,
     "metadata": {},
     "output_type": "execute_result"
    }
   ],
   "source": [
    "Riem[\"^{a}_{abc}\"].display_comp()"
   ]
  },
  {
   "cell_type": "markdown",
   "id": "f2811bea",
   "metadata": {},
   "source": [
    "## Time reversal + azimuthal symmetry + static"
   ]
  },
  {
   "cell_type": "code",
   "execution_count": 6,
   "id": "c3735abd",
   "metadata": {},
   "outputs": [
    {
     "data": {
      "text/html": [
       "<html>\\(\\displaystyle \\begin{array}{lcl} \\Gamma_{ \\phantom{\\, t} \\, t \\, r }^{ \\, t \\phantom{\\, t} \\phantom{\\, r} } & = & A\\left(r\\right) \\\\ \\Gamma_{ \\phantom{\\, t} \\, r \\, t }^{ \\, t \\phantom{\\, r} \\phantom{\\, t} } & = & A\\left(r\\right) \\\\ \\Gamma_{ \\phantom{\\, r} \\, t \\, t }^{ \\, r \\phantom{\\, t} \\phantom{\\, t} } & = & B\\left(r\\right) \\\\ \\Gamma_{ \\phantom{\\, r} \\, r \\, r }^{ \\, r \\phantom{\\, r} \\phantom{\\, r} } & = & C\\left(r\\right) \\\\ \\Gamma_{ \\phantom{\\, r} \\, {\\theta} \\, {\\theta} }^{ \\, r \\phantom{\\, {\\theta}} \\phantom{\\, {\\theta}} } & = & F\\left(r\\right) \\\\ \\Gamma_{ \\phantom{\\, r} \\, {\\phi} \\, {\\phi} }^{ \\, r \\phantom{\\, {\\phi}} \\phantom{\\, {\\phi}} } & = & F\\left(r\\right) \\sin\\left({\\theta}\\right)^{2} \\\\ \\Gamma_{ \\phantom{\\, {\\theta}} \\, r \\, {\\theta} }^{ \\, {\\theta} \\phantom{\\, r} \\phantom{\\, {\\theta}} } & = & G\\left(r\\right) \\\\ \\Gamma_{ \\phantom{\\, {\\theta}} \\, {\\theta} \\, r }^{ \\, {\\theta} \\phantom{\\, {\\theta}} \\phantom{\\, r} } & = & G\\left(r\\right) \\\\ \\Gamma_{ \\phantom{\\, {\\theta}} \\, {\\phi} \\, {\\phi} }^{ \\, {\\theta} \\phantom{\\, {\\phi}} \\phantom{\\, {\\phi}} } & = & -\\cos\\left({\\theta}\\right) \\sin\\left({\\theta}\\right) \\\\ \\Gamma_{ \\phantom{\\, {\\phi}} \\, r \\, {\\phi} }^{ \\, {\\phi} \\phantom{\\, r} \\phantom{\\, {\\phi}} } & = & G\\left(r\\right) \\\\ \\Gamma_{ \\phantom{\\, {\\phi}} \\, {\\theta} \\, {\\phi} }^{ \\, {\\phi} \\phantom{\\, {\\theta}} \\phantom{\\, {\\phi}} } & = & \\frac{\\cos\\left({\\theta}\\right)}{\\sin\\left({\\theta}\\right)} \\\\ \\Gamma_{ \\phantom{\\, {\\phi}} \\, {\\phi} \\, r }^{ \\, {\\phi} \\phantom{\\, {\\phi}} \\phantom{\\, r} } & = & G\\left(r\\right) \\\\ \\Gamma_{ \\phantom{\\, {\\phi}} \\, {\\phi} \\, {\\theta} }^{ \\, {\\phi} \\phantom{\\, {\\phi}} \\phantom{\\, {\\theta}} } & = & \\frac{\\cos\\left({\\theta}\\right)}{\\sin\\left({\\theta}\\right)} \\end{array}\\)</html>"
      ],
      "text/latex": [
       "$\\displaystyle \\begin{array}{lcl} \\Gamma_{ \\phantom{\\, t} \\, t \\, r }^{ \\, t \\phantom{\\, t} \\phantom{\\, r} } & = & A\\left(r\\right) \\\\ \\Gamma_{ \\phantom{\\, t} \\, r \\, t }^{ \\, t \\phantom{\\, r} \\phantom{\\, t} } & = & A\\left(r\\right) \\\\ \\Gamma_{ \\phantom{\\, r} \\, t \\, t }^{ \\, r \\phantom{\\, t} \\phantom{\\, t} } & = & B\\left(r\\right) \\\\ \\Gamma_{ \\phantom{\\, r} \\, r \\, r }^{ \\, r \\phantom{\\, r} \\phantom{\\, r} } & = & C\\left(r\\right) \\\\ \\Gamma_{ \\phantom{\\, r} \\, {\\theta} \\, {\\theta} }^{ \\, r \\phantom{\\, {\\theta}} \\phantom{\\, {\\theta}} } & = & F\\left(r\\right) \\\\ \\Gamma_{ \\phantom{\\, r} \\, {\\phi} \\, {\\phi} }^{ \\, r \\phantom{\\, {\\phi}} \\phantom{\\, {\\phi}} } & = & F\\left(r\\right) \\sin\\left({\\theta}\\right)^{2} \\\\ \\Gamma_{ \\phantom{\\, {\\theta}} \\, r \\, {\\theta} }^{ \\, {\\theta} \\phantom{\\, r} \\phantom{\\, {\\theta}} } & = & G\\left(r\\right) \\\\ \\Gamma_{ \\phantom{\\, {\\theta}} \\, {\\theta} \\, r }^{ \\, {\\theta} \\phantom{\\, {\\theta}} \\phantom{\\, r} } & = & G\\left(r\\right) \\\\ \\Gamma_{ \\phantom{\\, {\\theta}} \\, {\\phi} \\, {\\phi} }^{ \\, {\\theta} \\phantom{\\, {\\phi}} \\phantom{\\, {\\phi}} } & = & -\\cos\\left({\\theta}\\right) \\sin\\left({\\theta}\\right) \\\\ \\Gamma_{ \\phantom{\\, {\\phi}} \\, r \\, {\\phi} }^{ \\, {\\phi} \\phantom{\\, r} \\phantom{\\, {\\phi}} } & = & G\\left(r\\right) \\\\ \\Gamma_{ \\phantom{\\, {\\phi}} \\, {\\theta} \\, {\\phi} }^{ \\, {\\phi} \\phantom{\\, {\\theta}} \\phantom{\\, {\\phi}} } & = & \\frac{\\cos\\left({\\theta}\\right)}{\\sin\\left({\\theta}\\right)} \\\\ \\Gamma_{ \\phantom{\\, {\\phi}} \\, {\\phi} \\, r }^{ \\, {\\phi} \\phantom{\\, {\\phi}} \\phantom{\\, r} } & = & G\\left(r\\right) \\\\ \\Gamma_{ \\phantom{\\, {\\phi}} \\, {\\phi} \\, {\\theta} }^{ \\, {\\phi} \\phantom{\\, {\\phi}} \\phantom{\\, {\\theta}} } & = & \\frac{\\cos\\left({\\theta}\\right)}{\\sin\\left({\\theta}\\right)} \\end{array}$"
      ],
      "text/plain": [
       "Gam^t_t,r = A(r) \n",
       "Gam^t_r,t = A(r) \n",
       "Gam^r_t,t = B(r) \n",
       "Gam^r_r,r = C(r) \n",
       "Gam^r_th,th = F(r) \n",
       "Gam^r_ph,ph = F(r)*sin(th)^2 \n",
       "Gam^th_r,th = G(r) \n",
       "Gam^th_th,r = G(r) \n",
       "Gam^th_ph,ph = -cos(th)*sin(th) \n",
       "Gam^ph_r,ph = G(r) \n",
       "Gam^ph_th,ph = cos(th)/sin(th) \n",
       "Gam^ph_ph,r = G(r) \n",
       "Gam^ph_ph,th = cos(th)/sin(th) "
      ]
     },
     "execution_count": 6,
     "metadata": {},
     "output_type": "execute_result"
    }
   ],
   "source": [
    "T[0,0,0] = 0\n",
    "T[0,0,1] = function(\"A\")(r)\n",
    "T[0,1,0] = T[0,0,1]\n",
    "T[0,1,1] = 0\n",
    "T[0,2,2] = 0\n",
    "T[0,3,3] = 0\n",
    "\n",
    "\n",
    "T[1,0,0] = function(\"B\")(r)\n",
    "T[1,0,1] = 0\n",
    "T[1,1,0] = T[1,0,1]\n",
    "T[1,1,1] = function(\"C\")(r)\n",
    "T[1,2,2] = function(\"F\")(r)\n",
    "T[1,3,3] = function(\"F\")(r)*(sin(th))^2\n",
    "\n",
    "\n",
    "T[2,0,2] = 0\n",
    "T[2,2,0] = T[2,0,2]\n",
    "T[2,0,3] = 0\n",
    "T[2,3,0] = T[2,0,3]\n",
    "T[2,1,2] = function(\"G\")(r)\n",
    "T[2,2,1] = T[2,1,2]\n",
    "T[2,1,3] = 0\n",
    "T[2,3,1] = T[2,1,3]\n",
    "T[2,3,3] = -cos(th)*sin(th)\n",
    "\n",
    "\n",
    "T[3,0,2] = 0\n",
    "T[3,2,0] = T[3,0,2]\n",
    "T[3,0,3] = 0\n",
    "T[3,3,0] = T[3,0,3]\n",
    "T[3,1,2] = 0\n",
    "T[3,2,1] = T[3,1,2]\n",
    "T[3,1,3] = function(\"G\")(r)\n",
    "T[3,3,1] = T[3,1,3]\n",
    "T[3,2,3] = cos(th)/sin(th)\n",
    "T[3,3,2] = T[3,2,3]\n",
    "\n",
    "T.display(only_nonredundant=True)"
   ]
  },
  {
   "cell_type": "code",
   "execution_count": 7,
   "id": "7c1ebdcd",
   "metadata": {},
   "outputs": [
    {
     "data": {
      "text/html": [
       "<html>\\(\\displaystyle \\begin{array}{lcl} X_{ \\, t \\, t }^{ \\phantom{\\, t}\\phantom{\\, t} } & = & -A\\left(r\\right) B\\left(r\\right) + B\\left(r\\right) C\\left(r\\right) + 2 \\, B\\left(r\\right) G\\left(r\\right) + \\frac{\\partial\\,B}{\\partial r} \\\\ X_{ \\, r \\, r }^{ \\phantom{\\, r}\\phantom{\\, r} } & = & -A\\left(r\\right)^{2} + A\\left(r\\right) C\\left(r\\right) + 2 \\, C\\left(r\\right) G\\left(r\\right) - 2 \\, G\\left(r\\right)^{2} - \\frac{\\partial\\,A}{\\partial r} - 2 \\, \\frac{\\partial\\,G}{\\partial r} \\\\ X_{ \\, {\\theta} \\, {\\theta} }^{ \\phantom{\\, {\\theta}}\\phantom{\\, {\\theta}} } & = & {\\left(A\\left(r\\right) + C\\left(r\\right)\\right)} F\\left(r\\right) + \\frac{\\partial\\,F}{\\partial r} + 1 \\\\ X_{ \\, {\\phi} \\, {\\phi} }^{ \\phantom{\\, {\\phi}}\\phantom{\\, {\\phi}} } & = & {\\left({\\left(A\\left(r\\right) + C\\left(r\\right)\\right)} F\\left(r\\right) + \\frac{\\partial\\,F}{\\partial r} + 1\\right)} \\sin\\left({\\theta}\\right)^{2} \\end{array}\\)</html>"
      ],
      "text/latex": [
       "$\\displaystyle \\begin{array}{lcl} X_{ \\, t \\, t }^{ \\phantom{\\, t}\\phantom{\\, t} } & = & -A\\left(r\\right) B\\left(r\\right) + B\\left(r\\right) C\\left(r\\right) + 2 \\, B\\left(r\\right) G\\left(r\\right) + \\frac{\\partial\\,B}{\\partial r} \\\\ X_{ \\, r \\, r }^{ \\phantom{\\, r}\\phantom{\\, r} } & = & -A\\left(r\\right)^{2} + A\\left(r\\right) C\\left(r\\right) + 2 \\, C\\left(r\\right) G\\left(r\\right) - 2 \\, G\\left(r\\right)^{2} - \\frac{\\partial\\,A}{\\partial r} - 2 \\, \\frac{\\partial\\,G}{\\partial r} \\\\ X_{ \\, {\\theta} \\, {\\theta} }^{ \\phantom{\\, {\\theta}}\\phantom{\\, {\\theta}} } & = & {\\left(A\\left(r\\right) + C\\left(r\\right)\\right)} F\\left(r\\right) + \\frac{\\partial\\,F}{\\partial r} + 1 \\\\ X_{ \\, {\\phi} \\, {\\phi} }^{ \\phantom{\\, {\\phi}}\\phantom{\\, {\\phi}} } & = & {\\left({\\left(A\\left(r\\right) + C\\left(r\\right)\\right)} F\\left(r\\right) + \\frac{\\partial\\,F}{\\partial r} + 1\\right)} \\sin\\left({\\theta}\\right)^{2} \\end{array}$"
      ],
      "text/plain": [
       "X_t,t = -A(r)*B(r) + B(r)*C(r) + 2*B(r)*G(r) + d(B)/dr \n",
       "X_r,r = -A(r)^2 + A(r)*C(r) + 2*C(r)*G(r) - 2*G(r)^2 - d(A)/dr - 2*d(G)/dr \n",
       "X_th,th = (A(r) + C(r))*F(r) + d(F)/dr + 1 \n",
       "X_ph,ph = ((A(r) + C(r))*F(r) + d(F)/dr + 1)*sin(th)^2 "
      ]
     },
     "execution_count": 7,
     "metadata": {},
     "output_type": "execute_result"
    }
   ],
   "source": [
    "Riem= T.riemann()\n",
    "Riem[\"^{a}_{bac}\"].display_comp()"
   ]
  },
  {
   "cell_type": "code",
   "execution_count": 8,
   "id": "867d28d8",
   "metadata": {},
   "outputs": [
    {
     "data": {
      "text/html": [
       "<html>\\(\\displaystyle \\)</html>"
      ],
      "text/latex": [
       "$\\displaystyle $"
      ],
      "text/plain": []
     },
     "execution_count": 8,
     "metadata": {},
     "output_type": "execute_result"
    }
   ],
   "source": [
    "Riem[\"^{a}_{abc}\"].display_comp()"
   ]
  },
  {
   "cell_type": "markdown",
   "id": "6b9d4285",
   "metadata": {},
   "source": [
    "## $\\mathcal{R}_{\\mu\\nu} = 0$"
   ]
  },
  {
   "cell_type": "code",
   "execution_count": 9,
   "id": "e3833a83",
   "metadata": {},
   "outputs": [
    {
     "data": {
      "text/html": [
       "<html>\\(\\displaystyle \\begin{array}{lcl} X_{ \\, t \\, t }^{ \\phantom{\\, t}\\phantom{\\, t} } & = & -A\\left(r\\right) B\\left(r\\right) + B\\left(r\\right) C\\left(r\\right) + 2 \\, B\\left(r\\right) G\\left(r\\right) + \\frac{\\partial\\,B}{\\partial r} \\\\ X_{ \\, r \\, r }^{ \\phantom{\\, r}\\phantom{\\, r} } & = & -A\\left(r\\right)^{2} + A\\left(r\\right) C\\left(r\\right) + 2 \\, C\\left(r\\right) G\\left(r\\right) - 2 \\, G\\left(r\\right)^{2} - \\frac{\\partial\\,A}{\\partial r} - 2 \\, \\frac{\\partial\\,G}{\\partial r} \\\\ X_{ \\, {\\theta} \\, {\\theta} }^{ \\phantom{\\, {\\theta}}\\phantom{\\, {\\theta}} } & = & {\\left(A\\left(r\\right) + C\\left(r\\right)\\right)} F\\left(r\\right) + \\frac{\\partial\\,F}{\\partial r} + 1 \\\\ X_{ \\, {\\phi} \\, {\\phi} }^{ \\phantom{\\, {\\phi}}\\phantom{\\, {\\phi}} } & = & {\\left({\\left(A\\left(r\\right) + C\\left(r\\right)\\right)} F\\left(r\\right) + \\frac{\\partial\\,F}{\\partial r} + 1\\right)} \\sin\\left({\\theta}\\right)^{2} \\end{array}\\)</html>"
      ],
      "text/latex": [
       "$\\displaystyle \\begin{array}{lcl} X_{ \\, t \\, t }^{ \\phantom{\\, t}\\phantom{\\, t} } & = & -A\\left(r\\right) B\\left(r\\right) + B\\left(r\\right) C\\left(r\\right) + 2 \\, B\\left(r\\right) G\\left(r\\right) + \\frac{\\partial\\,B}{\\partial r} \\\\ X_{ \\, r \\, r }^{ \\phantom{\\, r}\\phantom{\\, r} } & = & -A\\left(r\\right)^{2} + A\\left(r\\right) C\\left(r\\right) + 2 \\, C\\left(r\\right) G\\left(r\\right) - 2 \\, G\\left(r\\right)^{2} - \\frac{\\partial\\,A}{\\partial r} - 2 \\, \\frac{\\partial\\,G}{\\partial r} \\\\ X_{ \\, {\\theta} \\, {\\theta} }^{ \\phantom{\\, {\\theta}}\\phantom{\\, {\\theta}} } & = & {\\left(A\\left(r\\right) + C\\left(r\\right)\\right)} F\\left(r\\right) + \\frac{\\partial\\,F}{\\partial r} + 1 \\\\ X_{ \\, {\\phi} \\, {\\phi} }^{ \\phantom{\\, {\\phi}}\\phantom{\\, {\\phi}} } & = & {\\left({\\left(A\\left(r\\right) + C\\left(r\\right)\\right)} F\\left(r\\right) + \\frac{\\partial\\,F}{\\partial r} + 1\\right)} \\sin\\left({\\theta}\\right)^{2} \\end{array}$"
      ],
      "text/plain": [
       "X_t,t = -A(r)*B(r) + B(r)*C(r) + 2*B(r)*G(r) + d(B)/dr \n",
       "X_r,r = -A(r)^2 + A(r)*C(r) + 2*C(r)*G(r) - 2*G(r)^2 - d(A)/dr - 2*d(G)/dr \n",
       "X_th,th = (A(r) + C(r))*F(r) + d(F)/dr + 1 \n",
       "X_ph,ph = ((A(r) + C(r))*F(r) + d(F)/dr + 1)*sin(th)^2 "
      ]
     },
     "execution_count": 9,
     "metadata": {},
     "output_type": "execute_result"
    }
   ],
   "source": [
    "Ricci = T.ricci()\n",
    "Ricci.display_comp()"
   ]
  },
  {
   "cell_type": "markdown",
   "id": "f59b3018",
   "metadata": {},
   "source": [
    "## $\\nabla_\\delta \\mathcal{R}_{\\mu\\nu} = 0$"
   ]
  },
  {
   "cell_type": "code",
   "execution_count": 10,
   "id": "370024ca",
   "metadata": {},
   "outputs": [
    {
     "data": {
      "text/html": [
       "<html>\\(\\displaystyle \\begin{array}{lcl} X_{ \\, t \\, t \\, r }^{ \\phantom{\\, t}\\phantom{\\, t}\\phantom{\\, r} } & = & 2 \\, A\\left(r\\right)^{2} B\\left(r\\right) - 2 \\, A\\left(r\\right) B\\left(r\\right) C\\left(r\\right) - 4 \\, A\\left(r\\right) B\\left(r\\right) G\\left(r\\right) - B\\left(r\\right) \\frac{\\partial\\,A}{\\partial r} - {\\left(3 \\, A\\left(r\\right) - C\\left(r\\right) - 2 \\, G\\left(r\\right)\\right)} \\frac{\\partial\\,B}{\\partial r} + B\\left(r\\right) \\frac{\\partial\\,C}{\\partial r} + 2 \\, B\\left(r\\right) \\frac{\\partial\\,G}{\\partial r} + \\frac{\\partial^2\\,B}{\\partial r ^ 2} \\\\ X_{ \\, t \\, r \\, t }^{ \\phantom{\\, t}\\phantom{\\, r}\\phantom{\\, t} } & = & 2 \\, A\\left(r\\right)^{2} B\\left(r\\right) - 2 \\, A\\left(r\\right) B\\left(r\\right) C\\left(r\\right) + 2 \\, B\\left(r\\right) G\\left(r\\right)^{2} - 2 \\, {\\left(A\\left(r\\right) B\\left(r\\right) + B\\left(r\\right) C\\left(r\\right)\\right)} G\\left(r\\right) + B\\left(r\\right) \\frac{\\partial\\,A}{\\partial r} - A\\left(r\\right) \\frac{\\partial\\,B}{\\partial r} + 2 \\, B\\left(r\\right) \\frac{\\partial\\,G}{\\partial r} \\\\ X_{ \\, r \\, t \\, t }^{ \\phantom{\\, r}\\phantom{\\, t}\\phantom{\\, t} } & = & 2 \\, A\\left(r\\right)^{2} B\\left(r\\right) - 2 \\, A\\left(r\\right) B\\left(r\\right) C\\left(r\\right) + 2 \\, B\\left(r\\right) G\\left(r\\right)^{2} - 2 \\, {\\left(A\\left(r\\right) B\\left(r\\right) + B\\left(r\\right) C\\left(r\\right)\\right)} G\\left(r\\right) + B\\left(r\\right) \\frac{\\partial\\,A}{\\partial r} - A\\left(r\\right) \\frac{\\partial\\,B}{\\partial r} + 2 \\, B\\left(r\\right) \\frac{\\partial\\,G}{\\partial r} \\\\ X_{ \\, r \\, r \\, r }^{ \\phantom{\\, r}\\phantom{\\, r}\\phantom{\\, r} } & = & 2 \\, A\\left(r\\right)^{2} C\\left(r\\right) - 2 \\, A\\left(r\\right) C\\left(r\\right)^{2} - 4 \\, C\\left(r\\right)^{2} G\\left(r\\right) + 4 \\, C\\left(r\\right) G\\left(r\\right)^{2} - {\\left(2 \\, A\\left(r\\right) - 3 \\, C\\left(r\\right)\\right)} \\frac{\\partial\\,A}{\\partial r} + {\\left(A\\left(r\\right) + 2 \\, G\\left(r\\right)\\right)} \\frac{\\partial\\,C}{\\partial r} + 2 \\, {\\left(3 \\, C\\left(r\\right) - 2 \\, G\\left(r\\right)\\right)} \\frac{\\partial\\,G}{\\partial r} - \\frac{\\partial^2\\,A}{\\partial r ^ 2} - 2 \\, \\frac{\\partial^2\\,G}{\\partial r ^ 2} \\\\ X_{ \\, r \\, {\\theta} \\, {\\theta} }^{ \\phantom{\\, r}\\phantom{\\, {\\theta}}\\phantom{\\, {\\theta}} } & = & 2 \\, F\\left(r\\right) G\\left(r\\right)^{2} + {\\left(A\\left(r\\right)^{2} - A\\left(r\\right) C\\left(r\\right)\\right)} F\\left(r\\right) - {\\left({\\left(A\\left(r\\right) + 3 \\, C\\left(r\\right)\\right)} F\\left(r\\right) + 1\\right)} G\\left(r\\right) + F\\left(r\\right) \\frac{\\partial\\,A}{\\partial r} - G\\left(r\\right) \\frac{\\partial\\,F}{\\partial r} + 2 \\, F\\left(r\\right) \\frac{\\partial\\,G}{\\partial r} \\\\ X_{ \\, r \\, {\\phi} \\, {\\phi} }^{ \\phantom{\\, r}\\phantom{\\, {\\phi}}\\phantom{\\, {\\phi}} } & = & {\\left(2 \\, F\\left(r\\right) G\\left(r\\right)^{2} + {\\left(A\\left(r\\right)^{2} - A\\left(r\\right) C\\left(r\\right)\\right)} F\\left(r\\right) - {\\left({\\left(A\\left(r\\right) + 3 \\, C\\left(r\\right)\\right)} F\\left(r\\right) + 1\\right)} G\\left(r\\right) + F\\left(r\\right) \\frac{\\partial\\,A}{\\partial r} - G\\left(r\\right) \\frac{\\partial\\,F}{\\partial r} + 2 \\, F\\left(r\\right) \\frac{\\partial\\,G}{\\partial r}\\right)} \\sin\\left({\\theta}\\right)^{2} \\\\ X_{ \\, {\\theta} \\, r \\, {\\theta} }^{ \\phantom{\\, {\\theta}}\\phantom{\\, r}\\phantom{\\, {\\theta}} } & = & 2 \\, F\\left(r\\right) G\\left(r\\right)^{2} + {\\left(A\\left(r\\right)^{2} - A\\left(r\\right) C\\left(r\\right)\\right)} F\\left(r\\right) - {\\left({\\left(A\\left(r\\right) + 3 \\, C\\left(r\\right)\\right)} F\\left(r\\right) + 1\\right)} G\\left(r\\right) + F\\left(r\\right) \\frac{\\partial\\,A}{\\partial r} - G\\left(r\\right) \\frac{\\partial\\,F}{\\partial r} + 2 \\, F\\left(r\\right) \\frac{\\partial\\,G}{\\partial r} \\\\ X_{ \\, {\\theta} \\, {\\theta} \\, r }^{ \\phantom{\\, {\\theta}}\\phantom{\\, {\\theta}}\\phantom{\\, r} } & = & -2 \\, {\\left({\\left(A\\left(r\\right) + C\\left(r\\right)\\right)} F\\left(r\\right) + 1\\right)} G\\left(r\\right) + F\\left(r\\right) \\frac{\\partial\\,A}{\\partial r} + F\\left(r\\right) \\frac{\\partial\\,C}{\\partial r} + {\\left(A\\left(r\\right) + C\\left(r\\right) - 2 \\, G\\left(r\\right)\\right)} \\frac{\\partial\\,F}{\\partial r} + \\frac{\\partial^2\\,F}{\\partial r ^ 2} \\\\ X_{ \\, {\\phi} \\, r \\, {\\phi} }^{ \\phantom{\\, {\\phi}}\\phantom{\\, r}\\phantom{\\, {\\phi}} } & = & {\\left(2 \\, F\\left(r\\right) G\\left(r\\right)^{2} + {\\left(A\\left(r\\right)^{2} - A\\left(r\\right) C\\left(r\\right)\\right)} F\\left(r\\right) - {\\left({\\left(A\\left(r\\right) + 3 \\, C\\left(r\\right)\\right)} F\\left(r\\right) + 1\\right)} G\\left(r\\right) + F\\left(r\\right) \\frac{\\partial\\,A}{\\partial r} - G\\left(r\\right) \\frac{\\partial\\,F}{\\partial r} + 2 \\, F\\left(r\\right) \\frac{\\partial\\,G}{\\partial r}\\right)} \\sin\\left({\\theta}\\right)^{2} \\\\ X_{ \\, {\\phi} \\, {\\phi} \\, r }^{ \\phantom{\\, {\\phi}}\\phantom{\\, {\\phi}}\\phantom{\\, r} } & = & -{\\left(2 \\, {\\left({\\left(A\\left(r\\right) + C\\left(r\\right)\\right)} F\\left(r\\right) + 1\\right)} G\\left(r\\right) - F\\left(r\\right) \\frac{\\partial\\,A}{\\partial r} - F\\left(r\\right) \\frac{\\partial\\,C}{\\partial r} - {\\left(A\\left(r\\right) + C\\left(r\\right) - 2 \\, G\\left(r\\right)\\right)} \\frac{\\partial\\,F}{\\partial r} - \\frac{\\partial^2\\,F}{\\partial r ^ 2}\\right)} \\sin\\left({\\theta}\\right)^{2} \\end{array}\\)</html>"
      ],
      "text/latex": [
       "$\\displaystyle \\begin{array}{lcl} X_{ \\, t \\, t \\, r }^{ \\phantom{\\, t}\\phantom{\\, t}\\phantom{\\, r} } & = & 2 \\, A\\left(r\\right)^{2} B\\left(r\\right) - 2 \\, A\\left(r\\right) B\\left(r\\right) C\\left(r\\right) - 4 \\, A\\left(r\\right) B\\left(r\\right) G\\left(r\\right) - B\\left(r\\right) \\frac{\\partial\\,A}{\\partial r} - {\\left(3 \\, A\\left(r\\right) - C\\left(r\\right) - 2 \\, G\\left(r\\right)\\right)} \\frac{\\partial\\,B}{\\partial r} + B\\left(r\\right) \\frac{\\partial\\,C}{\\partial r} + 2 \\, B\\left(r\\right) \\frac{\\partial\\,G}{\\partial r} + \\frac{\\partial^2\\,B}{\\partial r ^ 2} \\\\ X_{ \\, t \\, r \\, t }^{ \\phantom{\\, t}\\phantom{\\, r}\\phantom{\\, t} } & = & 2 \\, A\\left(r\\right)^{2} B\\left(r\\right) - 2 \\, A\\left(r\\right) B\\left(r\\right) C\\left(r\\right) + 2 \\, B\\left(r\\right) G\\left(r\\right)^{2} - 2 \\, {\\left(A\\left(r\\right) B\\left(r\\right) + B\\left(r\\right) C\\left(r\\right)\\right)} G\\left(r\\right) + B\\left(r\\right) \\frac{\\partial\\,A}{\\partial r} - A\\left(r\\right) \\frac{\\partial\\,B}{\\partial r} + 2 \\, B\\left(r\\right) \\frac{\\partial\\,G}{\\partial r} \\\\ X_{ \\, r \\, t \\, t }^{ \\phantom{\\, r}\\phantom{\\, t}\\phantom{\\, t} } & = & 2 \\, A\\left(r\\right)^{2} B\\left(r\\right) - 2 \\, A\\left(r\\right) B\\left(r\\right) C\\left(r\\right) + 2 \\, B\\left(r\\right) G\\left(r\\right)^{2} - 2 \\, {\\left(A\\left(r\\right) B\\left(r\\right) + B\\left(r\\right) C\\left(r\\right)\\right)} G\\left(r\\right) + B\\left(r\\right) \\frac{\\partial\\,A}{\\partial r} - A\\left(r\\right) \\frac{\\partial\\,B}{\\partial r} + 2 \\, B\\left(r\\right) \\frac{\\partial\\,G}{\\partial r} \\\\ X_{ \\, r \\, r \\, r }^{ \\phantom{\\, r}\\phantom{\\, r}\\phantom{\\, r} } & = & 2 \\, A\\left(r\\right)^{2} C\\left(r\\right) - 2 \\, A\\left(r\\right) C\\left(r\\right)^{2} - 4 \\, C\\left(r\\right)^{2} G\\left(r\\right) + 4 \\, C\\left(r\\right) G\\left(r\\right)^{2} - {\\left(2 \\, A\\left(r\\right) - 3 \\, C\\left(r\\right)\\right)} \\frac{\\partial\\,A}{\\partial r} + {\\left(A\\left(r\\right) + 2 \\, G\\left(r\\right)\\right)} \\frac{\\partial\\,C}{\\partial r} + 2 \\, {\\left(3 \\, C\\left(r\\right) - 2 \\, G\\left(r\\right)\\right)} \\frac{\\partial\\,G}{\\partial r} - \\frac{\\partial^2\\,A}{\\partial r ^ 2} - 2 \\, \\frac{\\partial^2\\,G}{\\partial r ^ 2} \\\\ X_{ \\, r \\, {\\theta} \\, {\\theta} }^{ \\phantom{\\, r}\\phantom{\\, {\\theta}}\\phantom{\\, {\\theta}} } & = & 2 \\, F\\left(r\\right) G\\left(r\\right)^{2} + {\\left(A\\left(r\\right)^{2} - A\\left(r\\right) C\\left(r\\right)\\right)} F\\left(r\\right) - {\\left({\\left(A\\left(r\\right) + 3 \\, C\\left(r\\right)\\right)} F\\left(r\\right) + 1\\right)} G\\left(r\\right) + F\\left(r\\right) \\frac{\\partial\\,A}{\\partial r} - G\\left(r\\right) \\frac{\\partial\\,F}{\\partial r} + 2 \\, F\\left(r\\right) \\frac{\\partial\\,G}{\\partial r} \\\\ X_{ \\, r \\, {\\phi} \\, {\\phi} }^{ \\phantom{\\, r}\\phantom{\\, {\\phi}}\\phantom{\\, {\\phi}} } & = & {\\left(2 \\, F\\left(r\\right) G\\left(r\\right)^{2} + {\\left(A\\left(r\\right)^{2} - A\\left(r\\right) C\\left(r\\right)\\right)} F\\left(r\\right) - {\\left({\\left(A\\left(r\\right) + 3 \\, C\\left(r\\right)\\right)} F\\left(r\\right) + 1\\right)} G\\left(r\\right) + F\\left(r\\right) \\frac{\\partial\\,A}{\\partial r} - G\\left(r\\right) \\frac{\\partial\\,F}{\\partial r} + 2 \\, F\\left(r\\right) \\frac{\\partial\\,G}{\\partial r}\\right)} \\sin\\left({\\theta}\\right)^{2} \\\\ X_{ \\, {\\theta} \\, r \\, {\\theta} }^{ \\phantom{\\, {\\theta}}\\phantom{\\, r}\\phantom{\\, {\\theta}} } & = & 2 \\, F\\left(r\\right) G\\left(r\\right)^{2} + {\\left(A\\left(r\\right)^{2} - A\\left(r\\right) C\\left(r\\right)\\right)} F\\left(r\\right) - {\\left({\\left(A\\left(r\\right) + 3 \\, C\\left(r\\right)\\right)} F\\left(r\\right) + 1\\right)} G\\left(r\\right) + F\\left(r\\right) \\frac{\\partial\\,A}{\\partial r} - G\\left(r\\right) \\frac{\\partial\\,F}{\\partial r} + 2 \\, F\\left(r\\right) \\frac{\\partial\\,G}{\\partial r} \\\\ X_{ \\, {\\theta} \\, {\\theta} \\, r }^{ \\phantom{\\, {\\theta}}\\phantom{\\, {\\theta}}\\phantom{\\, r} } & = & -2 \\, {\\left({\\left(A\\left(r\\right) + C\\left(r\\right)\\right)} F\\left(r\\right) + 1\\right)} G\\left(r\\right) + F\\left(r\\right) \\frac{\\partial\\,A}{\\partial r} + F\\left(r\\right) \\frac{\\partial\\,C}{\\partial r} + {\\left(A\\left(r\\right) + C\\left(r\\right) - 2 \\, G\\left(r\\right)\\right)} \\frac{\\partial\\,F}{\\partial r} + \\frac{\\partial^2\\,F}{\\partial r ^ 2} \\\\ X_{ \\, {\\phi} \\, r \\, {\\phi} }^{ \\phantom{\\, {\\phi}}\\phantom{\\, r}\\phantom{\\, {\\phi}} } & = & {\\left(2 \\, F\\left(r\\right) G\\left(r\\right)^{2} + {\\left(A\\left(r\\right)^{2} - A\\left(r\\right) C\\left(r\\right)\\right)} F\\left(r\\right) - {\\left({\\left(A\\left(r\\right) + 3 \\, C\\left(r\\right)\\right)} F\\left(r\\right) + 1\\right)} G\\left(r\\right) + F\\left(r\\right) \\frac{\\partial\\,A}{\\partial r} - G\\left(r\\right) \\frac{\\partial\\,F}{\\partial r} + 2 \\, F\\left(r\\right) \\frac{\\partial\\,G}{\\partial r}\\right)} \\sin\\left({\\theta}\\right)^{2} \\\\ X_{ \\, {\\phi} \\, {\\phi} \\, r }^{ \\phantom{\\, {\\phi}}\\phantom{\\, {\\phi}}\\phantom{\\, r} } & = & -{\\left(2 \\, {\\left({\\left(A\\left(r\\right) + C\\left(r\\right)\\right)} F\\left(r\\right) + 1\\right)} G\\left(r\\right) - F\\left(r\\right) \\frac{\\partial\\,A}{\\partial r} - F\\left(r\\right) \\frac{\\partial\\,C}{\\partial r} - {\\left(A\\left(r\\right) + C\\left(r\\right) - 2 \\, G\\left(r\\right)\\right)} \\frac{\\partial\\,F}{\\partial r} - \\frac{\\partial^2\\,F}{\\partial r ^ 2}\\right)} \\sin\\left({\\theta}\\right)^{2} \\end{array}$"
      ],
      "text/plain": [
       "X_t,t,r = 2*A(r)^2*B(r) - 2*A(r)*B(r)*C(r) - 4*A(r)*B(r)*G(r) - B(r)*d(A)/dr - (3*A(r) - C(r) - 2*G(r))*d(B)/dr + B(r)*d(C)/dr + 2*B(r)*d(G)/dr + d^2(B)/dr^2 \n",
       "X_t,r,t = 2*A(r)^2*B(r) - 2*A(r)*B(r)*C(r) + 2*B(r)*G(r)^2 - 2*(A(r)*B(r) + B(r)*C(r))*G(r) + B(r)*d(A)/dr - A(r)*d(B)/dr + 2*B(r)*d(G)/dr \n",
       "X_r,t,t = 2*A(r)^2*B(r) - 2*A(r)*B(r)*C(r) + 2*B(r)*G(r)^2 - 2*(A(r)*B(r) + B(r)*C(r))*G(r) + B(r)*d(A)/dr - A(r)*d(B)/dr + 2*B(r)*d(G)/dr \n",
       "X_r,r,r = 2*A(r)^2*C(r) - 2*A(r)*C(r)^2 - 4*C(r)^2*G(r) + 4*C(r)*G(r)^2 - (2*A(r) - 3*C(r))*d(A)/dr + (A(r) + 2*G(r))*d(C)/dr + 2*(3*C(r) - 2*G(r))*d(G)/dr - d^2(A)/dr^2 - 2*d^2(G)/dr^2 \n",
       "X_r,th,th = 2*F(r)*G(r)^2 + (A(r)^2 - A(r)*C(r))*F(r) - ((A(r) + 3*C(r))*F(r) + 1)*G(r) + F(r)*d(A)/dr - G(r)*d(F)/dr + 2*F(r)*d(G)/dr \n",
       "X_r,ph,ph = (2*F(r)*G(r)^2 + (A(r)^2 - A(r)*C(r))*F(r) - ((A(r) + 3*C(r))*F(r) + 1)*G(r) + F(r)*d(A)/dr - G(r)*d(F)/dr + 2*F(r)*d(G)/dr)*sin(th)^2 \n",
       "X_th,r,th = 2*F(r)*G(r)^2 + (A(r)^2 - A(r)*C(r))*F(r) - ((A(r) + 3*C(r))*F(r) + 1)*G(r) + F(r)*d(A)/dr - G(r)*d(F)/dr + 2*F(r)*d(G)/dr \n",
       "X_th,th,r = -2*((A(r) + C(r))*F(r) + 1)*G(r) + F(r)*d(A)/dr + F(r)*d(C)/dr + (A(r) + C(r) - 2*G(r))*d(F)/dr + d^2(F)/dr^2 \n",
       "X_ph,r,ph = (2*F(r)*G(r)^2 + (A(r)^2 - A(r)*C(r))*F(r) - ((A(r) + 3*C(r))*F(r) + 1)*G(r) + F(r)*d(A)/dr - G(r)*d(F)/dr + 2*F(r)*d(G)/dr)*sin(th)^2 \n",
       "X_ph,ph,r = -(2*((A(r) + C(r))*F(r) + 1)*G(r) - F(r)*d(A)/dr - F(r)*d(C)/dr - (A(r) + C(r) - 2*G(r))*d(F)/dr - d^2(F)/dr^2)*sin(th)^2 "
      ]
     },
     "execution_count": 10,
     "metadata": {},
     "output_type": "execute_result"
    }
   ],
   "source": [
    "NRicci = T(Ricci)\n",
    "NRicci.display_comp()"
   ]
  },
  {
   "cell_type": "markdown",
   "id": "6b56a7e7",
   "metadata": {},
   "source": [
    "## $\\nabla_{[\\delta} \\mathcal{R}_{\\mu]\\nu} = 0$"
   ]
  },
  {
   "cell_type": "code",
   "execution_count": 11,
   "id": "bf8f9cc8",
   "metadata": {},
   "outputs": [
    {
     "data": {
      "text/html": [
       "<html>\\(\\displaystyle \\begin{array}{lcl} X_{ \\, t \\, t \\, r }^{ \\phantom{\\, t}\\phantom{\\, t}\\phantom{\\, r} } & = & -B\\left(r\\right) G\\left(r\\right)^{2} - {\\left(A\\left(r\\right) B\\left(r\\right) - B\\left(r\\right) C\\left(r\\right)\\right)} G\\left(r\\right) - B\\left(r\\right) \\frac{\\partial\\,A}{\\partial r} - \\frac{1}{2} \\, {\\left(2 \\, A\\left(r\\right) - C\\left(r\\right) - 2 \\, G\\left(r\\right)\\right)} \\frac{\\partial\\,B}{\\partial r} + \\frac{1}{2} \\, B\\left(r\\right) \\frac{\\partial\\,C}{\\partial r} + \\frac{1}{2} \\, \\frac{\\partial^2\\,B}{\\partial r ^ 2} \\\\ X_{ \\, r \\, {\\theta} \\, {\\theta} }^{ \\phantom{\\, r}\\phantom{\\, {\\theta}}\\phantom{\\, {\\theta}} } & = & F\\left(r\\right) G\\left(r\\right)^{2} + \\frac{1}{2} \\, {\\left(A\\left(r\\right)^{2} - A\\left(r\\right) C\\left(r\\right)\\right)} F\\left(r\\right) + \\frac{1}{2} \\, {\\left({\\left(A\\left(r\\right) - C\\left(r\\right)\\right)} F\\left(r\\right) + 1\\right)} G\\left(r\\right) - \\frac{1}{2} \\, F\\left(r\\right) \\frac{\\partial\\,C}{\\partial r} - \\frac{1}{2} \\, {\\left(A\\left(r\\right) + C\\left(r\\right) - G\\left(r\\right)\\right)} \\frac{\\partial\\,F}{\\partial r} + F\\left(r\\right) \\frac{\\partial\\,G}{\\partial r} - \\frac{1}{2} \\, \\frac{\\partial^2\\,F}{\\partial r ^ 2} \\\\ X_{ \\, r \\, {\\phi} \\, {\\phi} }^{ \\phantom{\\, r}\\phantom{\\, {\\phi}}\\phantom{\\, {\\phi}} } & = & \\frac{1}{2} \\, {\\left(2 \\, F\\left(r\\right) G\\left(r\\right)^{2} + {\\left(A\\left(r\\right)^{2} - A\\left(r\\right) C\\left(r\\right)\\right)} F\\left(r\\right) + {\\left({\\left(A\\left(r\\right) - C\\left(r\\right)\\right)} F\\left(r\\right) + 1\\right)} G\\left(r\\right) - F\\left(r\\right) \\frac{\\partial\\,C}{\\partial r} - {\\left(A\\left(r\\right) + C\\left(r\\right) - G\\left(r\\right)\\right)} \\frac{\\partial\\,F}{\\partial r} + 2 \\, F\\left(r\\right) \\frac{\\partial\\,G}{\\partial r} - \\frac{\\partial^2\\,F}{\\partial r ^ 2}\\right)} \\sin\\left({\\theta}\\right)^{2} \\end{array}\\)</html>"
      ],
      "text/latex": [
       "$\\displaystyle \\begin{array}{lcl} X_{ \\, t \\, t \\, r }^{ \\phantom{\\, t}\\phantom{\\, t}\\phantom{\\, r} } & = & -B\\left(r\\right) G\\left(r\\right)^{2} - {\\left(A\\left(r\\right) B\\left(r\\right) - B\\left(r\\right) C\\left(r\\right)\\right)} G\\left(r\\right) - B\\left(r\\right) \\frac{\\partial\\,A}{\\partial r} - \\frac{1}{2} \\, {\\left(2 \\, A\\left(r\\right) - C\\left(r\\right) - 2 \\, G\\left(r\\right)\\right)} \\frac{\\partial\\,B}{\\partial r} + \\frac{1}{2} \\, B\\left(r\\right) \\frac{\\partial\\,C}{\\partial r} + \\frac{1}{2} \\, \\frac{\\partial^2\\,B}{\\partial r ^ 2} \\\\ X_{ \\, r \\, {\\theta} \\, {\\theta} }^{ \\phantom{\\, r}\\phantom{\\, {\\theta}}\\phantom{\\, {\\theta}} } & = & F\\left(r\\right) G\\left(r\\right)^{2} + \\frac{1}{2} \\, {\\left(A\\left(r\\right)^{2} - A\\left(r\\right) C\\left(r\\right)\\right)} F\\left(r\\right) + \\frac{1}{2} \\, {\\left({\\left(A\\left(r\\right) - C\\left(r\\right)\\right)} F\\left(r\\right) + 1\\right)} G\\left(r\\right) - \\frac{1}{2} \\, F\\left(r\\right) \\frac{\\partial\\,C}{\\partial r} - \\frac{1}{2} \\, {\\left(A\\left(r\\right) + C\\left(r\\right) - G\\left(r\\right)\\right)} \\frac{\\partial\\,F}{\\partial r} + F\\left(r\\right) \\frac{\\partial\\,G}{\\partial r} - \\frac{1}{2} \\, \\frac{\\partial^2\\,F}{\\partial r ^ 2} \\\\ X_{ \\, r \\, {\\phi} \\, {\\phi} }^{ \\phantom{\\, r}\\phantom{\\, {\\phi}}\\phantom{\\, {\\phi}} } & = & \\frac{1}{2} \\, {\\left(2 \\, F\\left(r\\right) G\\left(r\\right)^{2} + {\\left(A\\left(r\\right)^{2} - A\\left(r\\right) C\\left(r\\right)\\right)} F\\left(r\\right) + {\\left({\\left(A\\left(r\\right) - C\\left(r\\right)\\right)} F\\left(r\\right) + 1\\right)} G\\left(r\\right) - F\\left(r\\right) \\frac{\\partial\\,C}{\\partial r} - {\\left(A\\left(r\\right) + C\\left(r\\right) - G\\left(r\\right)\\right)} \\frac{\\partial\\,F}{\\partial r} + 2 \\, F\\left(r\\right) \\frac{\\partial\\,G}{\\partial r} - \\frac{\\partial^2\\,F}{\\partial r ^ 2}\\right)} \\sin\\left({\\theta}\\right)^{2} \\end{array}$"
      ],
      "text/plain": [
       "X_t,t,r = -B(r)*G(r)^2 - (A(r)*B(r) - B(r)*C(r))*G(r) - B(r)*d(A)/dr - 1/2*(2*A(r) - C(r) - 2*G(r))*d(B)/dr + 1/2*B(r)*d(C)/dr + 1/2*d^2(B)/dr^2 \n",
       "X_r,th,th = F(r)*G(r)^2 + 1/2*(A(r)^2 - A(r)*C(r))*F(r) + 1/2*((A(r) - C(r))*F(r) + 1)*G(r) - 1/2*F(r)*d(C)/dr - 1/2*(A(r) + C(r) - G(r))*d(F)/dr + F(r)*d(G)/dr - 1/2*d^2(F)/dr^2 \n",
       "X_r,ph,ph = 1/2*(2*F(r)*G(r)^2 + (A(r)^2 - A(r)*C(r))*F(r) + ((A(r) - C(r))*F(r) + 1)*G(r) - F(r)*d(C)/dr - (A(r) + C(r) - G(r))*d(F)/dr + 2*F(r)*d(G)/dr - d^2(F)/dr^2)*sin(th)^2 "
      ]
     },
     "execution_count": 11,
     "metadata": {},
     "output_type": "execute_result"
    }
   ],
   "source": [
    "NRicci.antisymmetrize(0,2).display_comp(only_nonredundant=True)"
   ]
  },
  {
   "cell_type": "markdown",
   "id": "1c7e1276",
   "metadata": {},
   "source": [
    "## Boson start alike ansatz"
   ]
  },
  {
   "cell_type": "code",
   "execution_count": 23,
   "id": "a55e0d3e",
   "metadata": {},
   "outputs": [
    {
     "data": {
      "text/html": [
       "<html>\\(\\displaystyle \\begin{array}{lcl} \\Gamma_{ \\phantom{\\, t} \\, t \\, r }^{ \\, t \\phantom{\\, t} \\phantom{\\, r} } & = & \\frac{\\frac{\\partial\\,a}{\\partial r}}{a\\left(r\\right)} \\\\ \\Gamma_{ \\phantom{\\, t} \\, r \\, t }^{ \\, t \\phantom{\\, r} \\phantom{\\, t} } & = & \\frac{\\frac{\\partial\\,a}{\\partial r}}{a\\left(r\\right)} \\\\ \\Gamma_{ \\phantom{\\, r} \\, t \\, t }^{ \\, r \\phantom{\\, t} \\phantom{\\, t} } & = & \\frac{a\\left(r\\right) \\frac{\\partial\\,a}{\\partial r}}{b\\left(r\\right)^{2}} \\\\ \\Gamma_{ \\phantom{\\, r} \\, r \\, r }^{ \\, r \\phantom{\\, r} \\phantom{\\, r} } & = & \\frac{\\frac{\\partial\\,b}{\\partial r}}{b\\left(r\\right)} \\\\ \\Gamma_{ \\phantom{\\, r} \\, {\\theta} \\, {\\theta} }^{ \\, r \\phantom{\\, {\\theta}} \\phantom{\\, {\\theta}} } & = & -\\frac{r}{b\\left(r\\right)^{2}} \\\\ \\Gamma_{ \\phantom{\\, r} \\, {\\phi} \\, {\\phi} }^{ \\, r \\phantom{\\, {\\phi}} \\phantom{\\, {\\phi}} } & = & -\\frac{r \\sin\\left({\\theta}\\right)^{2}}{b\\left(r\\right)^{2}} \\\\ \\Gamma_{ \\phantom{\\, {\\theta}} \\, r \\, {\\theta} }^{ \\, {\\theta} \\phantom{\\, r} \\phantom{\\, {\\theta}} } & = & \\frac{1}{r} \\\\ \\Gamma_{ \\phantom{\\, {\\theta}} \\, {\\theta} \\, r }^{ \\, {\\theta} \\phantom{\\, {\\theta}} \\phantom{\\, r} } & = & \\frac{1}{r} \\\\ \\Gamma_{ \\phantom{\\, {\\theta}} \\, {\\phi} \\, {\\phi} }^{ \\, {\\theta} \\phantom{\\, {\\phi}} \\phantom{\\, {\\phi}} } & = & -\\cos\\left({\\theta}\\right) \\sin\\left({\\theta}\\right) \\\\ \\Gamma_{ \\phantom{\\, {\\phi}} \\, r \\, {\\phi} }^{ \\, {\\phi} \\phantom{\\, r} \\phantom{\\, {\\phi}} } & = & \\frac{1}{r} \\\\ \\Gamma_{ \\phantom{\\, {\\phi}} \\, {\\theta} \\, {\\phi} }^{ \\, {\\phi} \\phantom{\\, {\\theta}} \\phantom{\\, {\\phi}} } & = & \\frac{\\cos\\left({\\theta}\\right)}{\\sin\\left({\\theta}\\right)} \\\\ \\Gamma_{ \\phantom{\\, {\\phi}} \\, {\\phi} \\, r }^{ \\, {\\phi} \\phantom{\\, {\\phi}} \\phantom{\\, r} } & = & \\frac{1}{r} \\\\ \\Gamma_{ \\phantom{\\, {\\phi}} \\, {\\phi} \\, {\\theta} }^{ \\, {\\phi} \\phantom{\\, {\\phi}} \\phantom{\\, {\\theta}} } & = & \\frac{\\cos\\left({\\theta}\\right)}{\\sin\\left({\\theta}\\right)} \\end{array}\\)</html>"
      ],
      "text/latex": [
       "$\\displaystyle \\begin{array}{lcl} \\Gamma_{ \\phantom{\\, t} \\, t \\, r }^{ \\, t \\phantom{\\, t} \\phantom{\\, r} } & = & \\frac{\\frac{\\partial\\,a}{\\partial r}}{a\\left(r\\right)} \\\\ \\Gamma_{ \\phantom{\\, t} \\, r \\, t }^{ \\, t \\phantom{\\, r} \\phantom{\\, t} } & = & \\frac{\\frac{\\partial\\,a}{\\partial r}}{a\\left(r\\right)} \\\\ \\Gamma_{ \\phantom{\\, r} \\, t \\, t }^{ \\, r \\phantom{\\, t} \\phantom{\\, t} } & = & \\frac{a\\left(r\\right) \\frac{\\partial\\,a}{\\partial r}}{b\\left(r\\right)^{2}} \\\\ \\Gamma_{ \\phantom{\\, r} \\, r \\, r }^{ \\, r \\phantom{\\, r} \\phantom{\\, r} } & = & \\frac{\\frac{\\partial\\,b}{\\partial r}}{b\\left(r\\right)} \\\\ \\Gamma_{ \\phantom{\\, r} \\, {\\theta} \\, {\\theta} }^{ \\, r \\phantom{\\, {\\theta}} \\phantom{\\, {\\theta}} } & = & -\\frac{r}{b\\left(r\\right)^{2}} \\\\ \\Gamma_{ \\phantom{\\, r} \\, {\\phi} \\, {\\phi} }^{ \\, r \\phantom{\\, {\\phi}} \\phantom{\\, {\\phi}} } & = & -\\frac{r \\sin\\left({\\theta}\\right)^{2}}{b\\left(r\\right)^{2}} \\\\ \\Gamma_{ \\phantom{\\, {\\theta}} \\, r \\, {\\theta} }^{ \\, {\\theta} \\phantom{\\, r} \\phantom{\\, {\\theta}} } & = & \\frac{1}{r} \\\\ \\Gamma_{ \\phantom{\\, {\\theta}} \\, {\\theta} \\, r }^{ \\, {\\theta} \\phantom{\\, {\\theta}} \\phantom{\\, r} } & = & \\frac{1}{r} \\\\ \\Gamma_{ \\phantom{\\, {\\theta}} \\, {\\phi} \\, {\\phi} }^{ \\, {\\theta} \\phantom{\\, {\\phi}} \\phantom{\\, {\\phi}} } & = & -\\cos\\left({\\theta}\\right) \\sin\\left({\\theta}\\right) \\\\ \\Gamma_{ \\phantom{\\, {\\phi}} \\, r \\, {\\phi} }^{ \\, {\\phi} \\phantom{\\, r} \\phantom{\\, {\\phi}} } & = & \\frac{1}{r} \\\\ \\Gamma_{ \\phantom{\\, {\\phi}} \\, {\\theta} \\, {\\phi} }^{ \\, {\\phi} \\phantom{\\, {\\theta}} \\phantom{\\, {\\phi}} } & = & \\frac{\\cos\\left({\\theta}\\right)}{\\sin\\left({\\theta}\\right)} \\\\ \\Gamma_{ \\phantom{\\, {\\phi}} \\, {\\phi} \\, r }^{ \\, {\\phi} \\phantom{\\, {\\phi}} \\phantom{\\, r} } & = & \\frac{1}{r} \\\\ \\Gamma_{ \\phantom{\\, {\\phi}} \\, {\\phi} \\, {\\theta} }^{ \\, {\\phi} \\phantom{\\, {\\phi}} \\phantom{\\, {\\theta}} } & = & \\frac{\\cos\\left({\\theta}\\right)}{\\sin\\left({\\theta}\\right)} \\end{array}$"
      ],
      "text/plain": [
       "Gam^t_t,r = d(a)/dr/a(r) \n",
       "Gam^t_r,t = d(a)/dr/a(r) \n",
       "Gam^r_t,t = a(r)*d(a)/dr/b(r)^2 \n",
       "Gam^r_r,r = d(b)/dr/b(r) \n",
       "Gam^r_th,th = -r/b(r)^2 \n",
       "Gam^r_ph,ph = -r*sin(th)^2/b(r)^2 \n",
       "Gam^th_r,th = 1/r \n",
       "Gam^th_th,r = 1/r \n",
       "Gam^th_ph,ph = -cos(th)*sin(th) \n",
       "Gam^ph_r,ph = 1/r \n",
       "Gam^ph_th,ph = cos(th)/sin(th) \n",
       "Gam^ph_ph,r = 1/r \n",
       "Gam^ph_ph,th = cos(th)/sin(th) "
      ]
     },
     "execution_count": 23,
     "metadata": {},
     "output_type": "execute_result"
    }
   ],
   "source": [
    "a = function('a')(r)\n",
    "b = function('b')(r)\n",
    "\n",
    "T[0,0,0] = 0\n",
    "T[0,0,1] = derivative(a,r)/a\n",
    "T[0,1,0] = T[0,0,1]\n",
    "T[0,1,1] = 0\n",
    "T[0,2,2] = 0\n",
    "T[0,3,3] = 0\n",
    "\n",
    "\n",
    "T[1,0,0] = derivative(a,r)*a/(b**2)\n",
    "T[1,0,1] = 0\n",
    "T[1,1,0] = T[1,0,1]\n",
    "T[1,1,1] = derivative(b,r)/b\n",
    "T[1,2,2] = -r/(b**2)\n",
    "T[1,3,3] = -r/(b**2)*(sin(th))^2\n",
    "\n",
    "\n",
    "T[2,0,2] = 0\n",
    "T[2,2,0] = T[2,0,2]\n",
    "T[2,0,3] = 0\n",
    "T[2,3,0] = T[2,0,3]\n",
    "T[2,1,2] = 1/r\n",
    "T[2,2,1] = T[2,1,2]\n",
    "T[2,1,3] = 0\n",
    "T[2,3,1] = T[2,1,3]\n",
    "T[2,3,3] = -cos(th)*sin(th)\n",
    "\n",
    "\n",
    "T[3,0,2] = 0\n",
    "T[3,2,0] = T[3,0,2]\n",
    "T[3,0,3] = 0\n",
    "T[3,3,0] = T[3,0,3]\n",
    "T[3,1,2] = 0\n",
    "T[3,2,1] = T[3,1,2]\n",
    "T[3,1,3] = 1/r\n",
    "T[3,3,1] = T[3,1,3]\n",
    "T[3,2,3] = cos(th)/sin(th)\n",
    "T[3,3,2] = T[3,2,3]\n",
    "\n",
    "T.display(only_nonredundant=True)"
   ]
  },
  {
   "cell_type": "code",
   "execution_count": 24,
   "id": "2e989ae7",
   "metadata": {},
   "outputs": [
    {
     "data": {
      "text/html": [
       "<html>\\(\\displaystyle \\begin{array}{lcl} X_{ \\, t \\, t }^{ \\phantom{\\, t}\\phantom{\\, t} } & = & \\frac{r a\\left(r\\right) b\\left(r\\right) \\frac{\\partial^2\\,a}{\\partial r ^ 2} - r a\\left(r\\right) \\frac{\\partial\\,a}{\\partial r} \\frac{\\partial\\,b}{\\partial r} + 2 \\, a\\left(r\\right) b\\left(r\\right) \\frac{\\partial\\,a}{\\partial r}}{r b\\left(r\\right)^{3}} \\\\ X_{ \\, r \\, r }^{ \\phantom{\\, r}\\phantom{\\, r} } & = & -\\frac{r b\\left(r\\right) \\frac{\\partial^2\\,a}{\\partial r ^ 2} - {\\left(r \\frac{\\partial\\,a}{\\partial r} + 2 \\, a\\left(r\\right)\\right)} \\frac{\\partial\\,b}{\\partial r}}{r a\\left(r\\right) b\\left(r\\right)} \\\\ X_{ \\, {\\theta} \\, {\\theta} }^{ \\phantom{\\, {\\theta}}\\phantom{\\, {\\theta}} } & = & \\frac{a\\left(r\\right) b\\left(r\\right)^{3} - r b\\left(r\\right) \\frac{\\partial\\,a}{\\partial r} + r a\\left(r\\right) \\frac{\\partial\\,b}{\\partial r} - a\\left(r\\right) b\\left(r\\right)}{a\\left(r\\right) b\\left(r\\right)^{3}} \\\\ X_{ \\, {\\phi} \\, {\\phi} }^{ \\phantom{\\, {\\phi}}\\phantom{\\, {\\phi}} } & = & \\frac{{\\left(a\\left(r\\right) b\\left(r\\right)^{3} - r b\\left(r\\right) \\frac{\\partial\\,a}{\\partial r} + r a\\left(r\\right) \\frac{\\partial\\,b}{\\partial r} - a\\left(r\\right) b\\left(r\\right)\\right)} \\sin\\left({\\theta}\\right)^{2}}{a\\left(r\\right) b\\left(r\\right)^{3}} \\end{array}\\)</html>"
      ],
      "text/latex": [
       "$\\displaystyle \\begin{array}{lcl} X_{ \\, t \\, t }^{ \\phantom{\\, t}\\phantom{\\, t} } & = & \\frac{r a\\left(r\\right) b\\left(r\\right) \\frac{\\partial^2\\,a}{\\partial r ^ 2} - r a\\left(r\\right) \\frac{\\partial\\,a}{\\partial r} \\frac{\\partial\\,b}{\\partial r} + 2 \\, a\\left(r\\right) b\\left(r\\right) \\frac{\\partial\\,a}{\\partial r}}{r b\\left(r\\right)^{3}} \\\\ X_{ \\, r \\, r }^{ \\phantom{\\, r}\\phantom{\\, r} } & = & -\\frac{r b\\left(r\\right) \\frac{\\partial^2\\,a}{\\partial r ^ 2} - {\\left(r \\frac{\\partial\\,a}{\\partial r} + 2 \\, a\\left(r\\right)\\right)} \\frac{\\partial\\,b}{\\partial r}}{r a\\left(r\\right) b\\left(r\\right)} \\\\ X_{ \\, {\\theta} \\, {\\theta} }^{ \\phantom{\\, {\\theta}}\\phantom{\\, {\\theta}} } & = & \\frac{a\\left(r\\right) b\\left(r\\right)^{3} - r b\\left(r\\right) \\frac{\\partial\\,a}{\\partial r} + r a\\left(r\\right) \\frac{\\partial\\,b}{\\partial r} - a\\left(r\\right) b\\left(r\\right)}{a\\left(r\\right) b\\left(r\\right)^{3}} \\\\ X_{ \\, {\\phi} \\, {\\phi} }^{ \\phantom{\\, {\\phi}}\\phantom{\\, {\\phi}} } & = & \\frac{{\\left(a\\left(r\\right) b\\left(r\\right)^{3} - r b\\left(r\\right) \\frac{\\partial\\,a}{\\partial r} + r a\\left(r\\right) \\frac{\\partial\\,b}{\\partial r} - a\\left(r\\right) b\\left(r\\right)\\right)} \\sin\\left({\\theta}\\right)^{2}}{a\\left(r\\right) b\\left(r\\right)^{3}} \\end{array}$"
      ],
      "text/plain": [
       "X_t,t = (r*a(r)*b(r)*d^2(a)/dr^2 - r*a(r)*d(a)/dr*d(b)/dr + 2*a(r)*b(r)*d(a)/dr)/(r*b(r)^3) \n",
       "X_r,r = -(r*b(r)*d^2(a)/dr^2 - (r*d(a)/dr + 2*a(r))*d(b)/dr)/(r*a(r)*b(r)) \n",
       "X_th,th = (a(r)*b(r)^3 - r*b(r)*d(a)/dr + r*a(r)*d(b)/dr - a(r)*b(r))/(a(r)*b(r)^3) \n",
       "X_ph,ph = (a(r)*b(r)^3 - r*b(r)*d(a)/dr + r*a(r)*d(b)/dr - a(r)*b(r))*sin(th)^2/(a(r)*b(r)^3) "
      ]
     },
     "execution_count": 24,
     "metadata": {},
     "output_type": "execute_result"
    }
   ],
   "source": [
    "Ricci = T.ricci()\n",
    "Ricci.display_comp()"
   ]
  },
  {
   "cell_type": "code",
   "execution_count": 25,
   "id": "d2b5d572",
   "metadata": {},
   "outputs": [
    {
     "data": {
      "text/html": [
       "<html>\\(\\displaystyle \\begin{array}{lcl} X_{ \\, t \\, t \\, r }^{ \\phantom{\\, t}\\phantom{\\, t}\\phantom{\\, r} } & = & \\frac{r^{2} a\\left(r\\right) b\\left(r\\right)^{2} \\frac{\\partial^3\\,a}{\\partial r ^ 3} + 3 \\, r^{2} a\\left(r\\right) \\frac{\\partial\\,a}{\\partial r} \\left(\\frac{\\partial\\,b}{\\partial r}\\right)^{2} - r^{2} a\\left(r\\right) b\\left(r\\right) \\frac{\\partial\\,a}{\\partial r} \\frac{\\partial^2\\,b}{\\partial r ^ 2} - 2 \\, r b\\left(r\\right)^{2} \\frac{\\partial\\,a}{\\partial r}^{2} - 2 \\, a\\left(r\\right) b\\left(r\\right)^{2} \\frac{\\partial\\,a}{\\partial r} - {\\left(r^{2} b\\left(r\\right)^{2} \\frac{\\partial\\,a}{\\partial r} - 2 \\, r a\\left(r\\right) b\\left(r\\right)^{2}\\right)} \\frac{\\partial^2\\,a}{\\partial r ^ 2} + {\\left(r^{2} b\\left(r\\right) \\frac{\\partial\\,a}{\\partial r}^{2} - 3 \\, r^{2} a\\left(r\\right) b\\left(r\\right) \\frac{\\partial^2\\,a}{\\partial r ^ 2} - 4 \\, r a\\left(r\\right) b\\left(r\\right) \\frac{\\partial\\,a}{\\partial r}\\right)} \\frac{\\partial\\,b}{\\partial r}}{r^{2} b\\left(r\\right)^{4}} \\\\ X_{ \\, t \\, r \\, t }^{ \\phantom{\\, t}\\phantom{\\, r}\\phantom{\\, t} } & = & -\\frac{2 \\, {\\left(b\\left(r\\right) \\left(\\frac{\\partial\\,a}{\\partial r}\\right)^{2} + a\\left(r\\right) \\frac{\\partial\\,a}{\\partial r} \\frac{\\partial\\,b}{\\partial r}\\right)}}{r b\\left(r\\right)^{3}} \\\\ X_{ \\, r \\, t \\, t }^{ \\phantom{\\, r}\\phantom{\\, t}\\phantom{\\, t} } & = & -\\frac{2 \\, {\\left(b\\left(r\\right) \\left(\\frac{\\partial\\,a}{\\partial r}\\right)^{2} + a\\left(r\\right) \\frac{\\partial\\,a}{\\partial r} \\frac{\\partial\\,b}{\\partial r}\\right)}}{r b\\left(r\\right)^{3}} \\\\ X_{ \\, r \\, r \\, r }^{ \\phantom{\\, r}\\phantom{\\, r}\\phantom{\\, r} } & = & \\frac{r^{2} b\\left(r\\right)^{2} \\frac{\\partial\\,a}{\\partial r} \\frac{\\partial^2\\,a}{\\partial r ^ 2} - r^{2} a\\left(r\\right) b\\left(r\\right)^{2} \\frac{\\partial^3\\,a}{\\partial r ^ 3} - 3 \\, {\\left(r^{2} a\\left(r\\right) \\frac{\\partial\\,a}{\\partial r} + 2 \\, r a\\left(r\\right)^{2}\\right)} \\left(\\frac{\\partial\\,b}{\\partial r}\\right)^{2} - {\\left(r^{2} b\\left(r\\right) \\frac{\\partial\\,a}{\\partial r}^{2} - 3 \\, r^{2} a\\left(r\\right) b\\left(r\\right) \\frac{\\partial^2\\,a}{\\partial r ^ 2} + 2 \\, a\\left(r\\right)^{2} b\\left(r\\right)\\right)} \\frac{\\partial\\,b}{\\partial r} + {\\left(r^{2} a\\left(r\\right) b\\left(r\\right) \\frac{\\partial\\,a}{\\partial r} + 2 \\, r a\\left(r\\right)^{2} b\\left(r\\right)\\right)} \\frac{\\partial^2\\,b}{\\partial r ^ 2}}{r^{2} a\\left(r\\right)^{2} b\\left(r\\right)^{2}} \\\\ X_{ \\, r \\, {\\theta} \\, {\\theta} }^{ \\phantom{\\, r}\\phantom{\\, {\\theta}}\\phantom{\\, {\\theta}} } & = & -\\frac{a\\left(r\\right) b\\left(r\\right)^{3} + r^{2} b\\left(r\\right) \\frac{\\partial^2\\,a}{\\partial r ^ 2} - r b\\left(r\\right) \\frac{\\partial\\,a}{\\partial r} - a\\left(r\\right) b\\left(r\\right) - {\\left(r^{2} \\frac{\\partial\\,a}{\\partial r} + r a\\left(r\\right)\\right)} \\frac{\\partial\\,b}{\\partial r}}{r a\\left(r\\right) b\\left(r\\right)^{3}} \\\\ X_{ \\, r \\, {\\phi} \\, {\\phi} }^{ \\phantom{\\, r}\\phantom{\\, {\\phi}}\\phantom{\\, {\\phi}} } & = & -\\frac{{\\left(a\\left(r\\right) b\\left(r\\right)^{3} + r^{2} b\\left(r\\right) \\frac{\\partial^2\\,a}{\\partial r ^ 2} - r b\\left(r\\right) \\frac{\\partial\\,a}{\\partial r} - a\\left(r\\right) b\\left(r\\right) - {\\left(r^{2} \\frac{\\partial\\,a}{\\partial r} + r a\\left(r\\right)\\right)} \\frac{\\partial\\,b}{\\partial r}\\right)} \\sin\\left({\\theta}\\right)^{2}}{r a\\left(r\\right) b\\left(r\\right)^{3}} \\\\ X_{ \\, {\\theta} \\, r \\, {\\theta} }^{ \\phantom{\\, {\\theta}}\\phantom{\\, r}\\phantom{\\, {\\theta}} } & = & -\\frac{a\\left(r\\right) b\\left(r\\right)^{3} + r^{2} b\\left(r\\right) \\frac{\\partial^2\\,a}{\\partial r ^ 2} - r b\\left(r\\right) \\frac{\\partial\\,a}{\\partial r} - a\\left(r\\right) b\\left(r\\right) - {\\left(r^{2} \\frac{\\partial\\,a}{\\partial r} + r a\\left(r\\right)\\right)} \\frac{\\partial\\,b}{\\partial r}}{r a\\left(r\\right) b\\left(r\\right)^{3}} \\\\ X_{ \\, {\\theta} \\, {\\theta} \\, r }^{ \\phantom{\\, {\\theta}}\\phantom{\\, {\\theta}}\\phantom{\\, r} } & = & -\\frac{2 \\, a\\left(r\\right)^{2} b\\left(r\\right)^{4} - r^{2} b\\left(r\\right)^{2} \\left(\\frac{\\partial\\,a}{\\partial r}\\right)^{2} + r^{2} a\\left(r\\right) b\\left(r\\right)^{2} \\frac{\\partial^2\\,a}{\\partial r ^ 2} + 3 \\, r^{2} a\\left(r\\right)^{2} \\left(\\frac{\\partial\\,b}{\\partial r}\\right)^{2} - r^{2} a\\left(r\\right)^{2} b\\left(r\\right) \\frac{\\partial^2\\,b}{\\partial r ^ 2} - r a\\left(r\\right) b\\left(r\\right)^{2} \\frac{\\partial\\,a}{\\partial r} - 2 \\, a\\left(r\\right)^{2} b\\left(r\\right)^{2} - {\\left(2 \\, r^{2} a\\left(r\\right) b\\left(r\\right) \\frac{\\partial\\,a}{\\partial r} + r a\\left(r\\right)^{2} b\\left(r\\right)\\right)} \\frac{\\partial\\,b}{\\partial r}}{r a\\left(r\\right)^{2} b\\left(r\\right)^{4}} \\\\ X_{ \\, {\\phi} \\, r \\, {\\phi} }^{ \\phantom{\\, {\\phi}}\\phantom{\\, r}\\phantom{\\, {\\phi}} } & = & -\\frac{{\\left(a\\left(r\\right) b\\left(r\\right)^{3} + r^{2} b\\left(r\\right) \\frac{\\partial^2\\,a}{\\partial r ^ 2} - r b\\left(r\\right) \\frac{\\partial\\,a}{\\partial r} - a\\left(r\\right) b\\left(r\\right) - {\\left(r^{2} \\frac{\\partial\\,a}{\\partial r} + r a\\left(r\\right)\\right)} \\frac{\\partial\\,b}{\\partial r}\\right)} \\sin\\left({\\theta}\\right)^{2}}{r a\\left(r\\right) b\\left(r\\right)^{3}} \\\\ X_{ \\, {\\phi} \\, {\\phi} \\, r }^{ \\phantom{\\, {\\phi}}\\phantom{\\, {\\phi}}\\phantom{\\, r} } & = & -\\frac{{\\left(2 \\, a\\left(r\\right)^{2} b\\left(r\\right)^{4} - r^{2} b\\left(r\\right)^{2} \\left(\\frac{\\partial\\,a}{\\partial r}\\right)^{2} + r^{2} a\\left(r\\right) b\\left(r\\right)^{2} \\frac{\\partial^2\\,a}{\\partial r ^ 2} + 3 \\, r^{2} a\\left(r\\right)^{2} \\left(\\frac{\\partial\\,b}{\\partial r}\\right)^{2} - r^{2} a\\left(r\\right)^{2} b\\left(r\\right) \\frac{\\partial^2\\,b}{\\partial r ^ 2} - r a\\left(r\\right) b\\left(r\\right)^{2} \\frac{\\partial\\,a}{\\partial r} - 2 \\, a\\left(r\\right)^{2} b\\left(r\\right)^{2} - {\\left(2 \\, r^{2} a\\left(r\\right) b\\left(r\\right) \\frac{\\partial\\,a}{\\partial r} + r a\\left(r\\right)^{2} b\\left(r\\right)\\right)} \\frac{\\partial\\,b}{\\partial r}\\right)} \\sin\\left({\\theta}\\right)^{2}}{r a\\left(r\\right)^{2} b\\left(r\\right)^{4}} \\end{array}\\)</html>"
      ],
      "text/latex": [
       "$\\displaystyle \\begin{array}{lcl} X_{ \\, t \\, t \\, r }^{ \\phantom{\\, t}\\phantom{\\, t}\\phantom{\\, r} } & = & \\frac{r^{2} a\\left(r\\right) b\\left(r\\right)^{2} \\frac{\\partial^3\\,a}{\\partial r ^ 3} + 3 \\, r^{2} a\\left(r\\right) \\frac{\\partial\\,a}{\\partial r} \\left(\\frac{\\partial\\,b}{\\partial r}\\right)^{2} - r^{2} a\\left(r\\right) b\\left(r\\right) \\frac{\\partial\\,a}{\\partial r} \\frac{\\partial^2\\,b}{\\partial r ^ 2} - 2 \\, r b\\left(r\\right)^{2} \\frac{\\partial\\,a}{\\partial r}^{2} - 2 \\, a\\left(r\\right) b\\left(r\\right)^{2} \\frac{\\partial\\,a}{\\partial r} - {\\left(r^{2} b\\left(r\\right)^{2} \\frac{\\partial\\,a}{\\partial r} - 2 \\, r a\\left(r\\right) b\\left(r\\right)^{2}\\right)} \\frac{\\partial^2\\,a}{\\partial r ^ 2} + {\\left(r^{2} b\\left(r\\right) \\frac{\\partial\\,a}{\\partial r}^{2} - 3 \\, r^{2} a\\left(r\\right) b\\left(r\\right) \\frac{\\partial^2\\,a}{\\partial r ^ 2} - 4 \\, r a\\left(r\\right) b\\left(r\\right) \\frac{\\partial\\,a}{\\partial r}\\right)} \\frac{\\partial\\,b}{\\partial r}}{r^{2} b\\left(r\\right)^{4}} \\\\ X_{ \\, t \\, r \\, t }^{ \\phantom{\\, t}\\phantom{\\, r}\\phantom{\\, t} } & = & -\\frac{2 \\, {\\left(b\\left(r\\right) \\left(\\frac{\\partial\\,a}{\\partial r}\\right)^{2} + a\\left(r\\right) \\frac{\\partial\\,a}{\\partial r} \\frac{\\partial\\,b}{\\partial r}\\right)}}{r b\\left(r\\right)^{3}} \\\\ X_{ \\, r \\, t \\, t }^{ \\phantom{\\, r}\\phantom{\\, t}\\phantom{\\, t} } & = & -\\frac{2 \\, {\\left(b\\left(r\\right) \\left(\\frac{\\partial\\,a}{\\partial r}\\right)^{2} + a\\left(r\\right) \\frac{\\partial\\,a}{\\partial r} \\frac{\\partial\\,b}{\\partial r}\\right)}}{r b\\left(r\\right)^{3}} \\\\ X_{ \\, r \\, r \\, r }^{ \\phantom{\\, r}\\phantom{\\, r}\\phantom{\\, r} } & = & \\frac{r^{2} b\\left(r\\right)^{2} \\frac{\\partial\\,a}{\\partial r} \\frac{\\partial^2\\,a}{\\partial r ^ 2} - r^{2} a\\left(r\\right) b\\left(r\\right)^{2} \\frac{\\partial^3\\,a}{\\partial r ^ 3} - 3 \\, {\\left(r^{2} a\\left(r\\right) \\frac{\\partial\\,a}{\\partial r} + 2 \\, r a\\left(r\\right)^{2}\\right)} \\left(\\frac{\\partial\\,b}{\\partial r}\\right)^{2} - {\\left(r^{2} b\\left(r\\right) \\frac{\\partial\\,a}{\\partial r}^{2} - 3 \\, r^{2} a\\left(r\\right) b\\left(r\\right) \\frac{\\partial^2\\,a}{\\partial r ^ 2} + 2 \\, a\\left(r\\right)^{2} b\\left(r\\right)\\right)} \\frac{\\partial\\,b}{\\partial r} + {\\left(r^{2} a\\left(r\\right) b\\left(r\\right) \\frac{\\partial\\,a}{\\partial r} + 2 \\, r a\\left(r\\right)^{2} b\\left(r\\right)\\right)} \\frac{\\partial^2\\,b}{\\partial r ^ 2}}{r^{2} a\\left(r\\right)^{2} b\\left(r\\right)^{2}} \\\\ X_{ \\, r \\, {\\theta} \\, {\\theta} }^{ \\phantom{\\, r}\\phantom{\\, {\\theta}}\\phantom{\\, {\\theta}} } & = & -\\frac{a\\left(r\\right) b\\left(r\\right)^{3} + r^{2} b\\left(r\\right) \\frac{\\partial^2\\,a}{\\partial r ^ 2} - r b\\left(r\\right) \\frac{\\partial\\,a}{\\partial r} - a\\left(r\\right) b\\left(r\\right) - {\\left(r^{2} \\frac{\\partial\\,a}{\\partial r} + r a\\left(r\\right)\\right)} \\frac{\\partial\\,b}{\\partial r}}{r a\\left(r\\right) b\\left(r\\right)^{3}} \\\\ X_{ \\, r \\, {\\phi} \\, {\\phi} }^{ \\phantom{\\, r}\\phantom{\\, {\\phi}}\\phantom{\\, {\\phi}} } & = & -\\frac{{\\left(a\\left(r\\right) b\\left(r\\right)^{3} + r^{2} b\\left(r\\right) \\frac{\\partial^2\\,a}{\\partial r ^ 2} - r b\\left(r\\right) \\frac{\\partial\\,a}{\\partial r} - a\\left(r\\right) b\\left(r\\right) - {\\left(r^{2} \\frac{\\partial\\,a}{\\partial r} + r a\\left(r\\right)\\right)} \\frac{\\partial\\,b}{\\partial r}\\right)} \\sin\\left({\\theta}\\right)^{2}}{r a\\left(r\\right) b\\left(r\\right)^{3}} \\\\ X_{ \\, {\\theta} \\, r \\, {\\theta} }^{ \\phantom{\\, {\\theta}}\\phantom{\\, r}\\phantom{\\, {\\theta}} } & = & -\\frac{a\\left(r\\right) b\\left(r\\right)^{3} + r^{2} b\\left(r\\right) \\frac{\\partial^2\\,a}{\\partial r ^ 2} - r b\\left(r\\right) \\frac{\\partial\\,a}{\\partial r} - a\\left(r\\right) b\\left(r\\right) - {\\left(r^{2} \\frac{\\partial\\,a}{\\partial r} + r a\\left(r\\right)\\right)} \\frac{\\partial\\,b}{\\partial r}}{r a\\left(r\\right) b\\left(r\\right)^{3}} \\\\ X_{ \\, {\\theta} \\, {\\theta} \\, r }^{ \\phantom{\\, {\\theta}}\\phantom{\\, {\\theta}}\\phantom{\\, r} } & = & -\\frac{2 \\, a\\left(r\\right)^{2} b\\left(r\\right)^{4} - r^{2} b\\left(r\\right)^{2} \\left(\\frac{\\partial\\,a}{\\partial r}\\right)^{2} + r^{2} a\\left(r\\right) b\\left(r\\right)^{2} \\frac{\\partial^2\\,a}{\\partial r ^ 2} + 3 \\, r^{2} a\\left(r\\right)^{2} \\left(\\frac{\\partial\\,b}{\\partial r}\\right)^{2} - r^{2} a\\left(r\\right)^{2} b\\left(r\\right) \\frac{\\partial^2\\,b}{\\partial r ^ 2} - r a\\left(r\\right) b\\left(r\\right)^{2} \\frac{\\partial\\,a}{\\partial r} - 2 \\, a\\left(r\\right)^{2} b\\left(r\\right)^{2} - {\\left(2 \\, r^{2} a\\left(r\\right) b\\left(r\\right) \\frac{\\partial\\,a}{\\partial r} + r a\\left(r\\right)^{2} b\\left(r\\right)\\right)} \\frac{\\partial\\,b}{\\partial r}}{r a\\left(r\\right)^{2} b\\left(r\\right)^{4}} \\\\ X_{ \\, {\\phi} \\, r \\, {\\phi} }^{ \\phantom{\\, {\\phi}}\\phantom{\\, r}\\phantom{\\, {\\phi}} } & = & -\\frac{{\\left(a\\left(r\\right) b\\left(r\\right)^{3} + r^{2} b\\left(r\\right) \\frac{\\partial^2\\,a}{\\partial r ^ 2} - r b\\left(r\\right) \\frac{\\partial\\,a}{\\partial r} - a\\left(r\\right) b\\left(r\\right) - {\\left(r^{2} \\frac{\\partial\\,a}{\\partial r} + r a\\left(r\\right)\\right)} \\frac{\\partial\\,b}{\\partial r}\\right)} \\sin\\left({\\theta}\\right)^{2}}{r a\\left(r\\right) b\\left(r\\right)^{3}} \\\\ X_{ \\, {\\phi} \\, {\\phi} \\, r }^{ \\phantom{\\, {\\phi}}\\phantom{\\, {\\phi}}\\phantom{\\, r} } & = & -\\frac{{\\left(2 \\, a\\left(r\\right)^{2} b\\left(r\\right)^{4} - r^{2} b\\left(r\\right)^{2} \\left(\\frac{\\partial\\,a}{\\partial r}\\right)^{2} + r^{2} a\\left(r\\right) b\\left(r\\right)^{2} \\frac{\\partial^2\\,a}{\\partial r ^ 2} + 3 \\, r^{2} a\\left(r\\right)^{2} \\left(\\frac{\\partial\\,b}{\\partial r}\\right)^{2} - r^{2} a\\left(r\\right)^{2} b\\left(r\\right) \\frac{\\partial^2\\,b}{\\partial r ^ 2} - r a\\left(r\\right) b\\left(r\\right)^{2} \\frac{\\partial\\,a}{\\partial r} - 2 \\, a\\left(r\\right)^{2} b\\left(r\\right)^{2} - {\\left(2 \\, r^{2} a\\left(r\\right) b\\left(r\\right) \\frac{\\partial\\,a}{\\partial r} + r a\\left(r\\right)^{2} b\\left(r\\right)\\right)} \\frac{\\partial\\,b}{\\partial r}\\right)} \\sin\\left({\\theta}\\right)^{2}}{r a\\left(r\\right)^{2} b\\left(r\\right)^{4}} \\end{array}$"
      ],
      "text/plain": [
       "X_t,t,r = (r^2*a(r)*b(r)^2*d^3(a)/dr^3 + 3*r^2*a(r)*d(a)/dr*(d(b)/dr)^2 - r^2*a(r)*b(r)*d(a)/dr*d^2(b)/dr^2 - 2*r*b(r)^2*d(a)/dr^2 - 2*a(r)*b(r)^2*d(a)/dr - (r^2*b(r)^2*d(a)/dr - 2*r*a(r)*b(r)^2)*d^2(a)/dr^2 + (r^2*b(r)*d(a)/dr^2 - 3*r^2*a(r)*b(r)*d^2(a)/dr^2 - 4*r*a(r)*b(r)*d(a)/dr)*d(b)/dr)/(r^2*b(r)^4) \n",
       "X_t,r,t = -2*(b(r)*(d(a)/dr)^2 + a(r)*d(a)/dr*d(b)/dr)/(r*b(r)^3) \n",
       "X_r,t,t = -2*(b(r)*(d(a)/dr)^2 + a(r)*d(a)/dr*d(b)/dr)/(r*b(r)^3) \n",
       "X_r,r,r = (r^2*b(r)^2*d(a)/dr*d^2(a)/dr^2 - r^2*a(r)*b(r)^2*d^3(a)/dr^3 - 3*(r^2*a(r)*d(a)/dr + 2*r*a(r)^2)*(d(b)/dr)^2 - (r^2*b(r)*d(a)/dr^2 - 3*r^2*a(r)*b(r)*d^2(a)/dr^2 + 2*a(r)^2*b(r))*d(b)/dr + (r^2*a(r)*b(r)*d(a)/dr + 2*r*a(r)^2*b(r))*d^2(b)/dr^2)/(r^2*a(r)^2*b(r)^2) \n",
       "X_r,th,th = -(a(r)*b(r)^3 + r^2*b(r)*d^2(a)/dr^2 - r*b(r)*d(a)/dr - a(r)*b(r) - (r^2*d(a)/dr + r*a(r))*d(b)/dr)/(r*a(r)*b(r)^3) \n",
       "X_r,ph,ph = -(a(r)*b(r)^3 + r^2*b(r)*d^2(a)/dr^2 - r*b(r)*d(a)/dr - a(r)*b(r) - (r^2*d(a)/dr + r*a(r))*d(b)/dr)*sin(th)^2/(r*a(r)*b(r)^3) \n",
       "X_th,r,th = -(a(r)*b(r)^3 + r^2*b(r)*d^2(a)/dr^2 - r*b(r)*d(a)/dr - a(r)*b(r) - (r^2*d(a)/dr + r*a(r))*d(b)/dr)/(r*a(r)*b(r)^3) \n",
       "X_th,th,r = -(2*a(r)^2*b(r)^4 - r^2*b(r)^2*(d(a)/dr)^2 + r^2*a(r)*b(r)^2*d^2(a)/dr^2 + 3*r^2*a(r)^2*(d(b)/dr)^2 - r^2*a(r)^2*b(r)*d^2(b)/dr^2 - r*a(r)*b(r)^2*d(a)/dr - 2*a(r)^2*b(r)^2 - (2*r^2*a(r)*b(r)*d(a)/dr + r*a(r)^2*b(r))*d(b)/dr)/(r*a(r)^2*b(r)^4) \n",
       "X_ph,r,ph = -(a(r)*b(r)^3 + r^2*b(r)*d^2(a)/dr^2 - r*b(r)*d(a)/dr - a(r)*b(r) - (r^2*d(a)/dr + r*a(r))*d(b)/dr)*sin(th)^2/(r*a(r)*b(r)^3) \n",
       "X_ph,ph,r = -(2*a(r)^2*b(r)^4 - r^2*b(r)^2*(d(a)/dr)^2 + r^2*a(r)*b(r)^2*d^2(a)/dr^2 + 3*r^2*a(r)^2*(d(b)/dr)^2 - r^2*a(r)^2*b(r)*d^2(b)/dr^2 - r*a(r)*b(r)^2*d(a)/dr - 2*a(r)^2*b(r)^2 - (2*r^2*a(r)*b(r)*d(a)/dr + r*a(r)^2*b(r))*d(b)/dr)*sin(th)^2/(r*a(r)^2*b(r)^4) "
      ]
     },
     "execution_count": 25,
     "metadata": {},
     "output_type": "execute_result"
    }
   ],
   "source": [
    "NRicci = T(Ricci)\n",
    "NRicci.display_comp()"
   ]
  },
  {
   "cell_type": "code",
   "execution_count": 26,
   "id": "52965f55",
   "metadata": {},
   "outputs": [
    {
     "data": {
      "text/html": [
       "<html>\\(\\displaystyle \\begin{array}{lcl} X_{ \\, t \\, t \\, r }^{ \\phantom{\\, t}\\phantom{\\, t}\\phantom{\\, r} } & = & \\frac{r^{2} a\\left(r\\right) b\\left(r\\right)^{2} \\frac{\\partial^3\\,a}{\\partial r ^ 3} + 3 \\, r^{2} a\\left(r\\right) \\frac{\\partial\\,a}{\\partial r} \\left(\\frac{\\partial\\,b}{\\partial r}\\right)^{2} - r^{2} a\\left(r\\right) b\\left(r\\right) \\frac{\\partial\\,a}{\\partial r} \\frac{\\partial^2\\,b}{\\partial r ^ 2} - 2 \\, a\\left(r\\right) b\\left(r\\right)^{2} \\frac{\\partial\\,a}{\\partial r} - {\\left(r^{2} b\\left(r\\right)^{2} \\frac{\\partial\\,a}{\\partial r} - 2 \\, r a\\left(r\\right) b\\left(r\\right)^{2}\\right)} \\frac{\\partial^2\\,a}{\\partial r ^ 2} + {\\left(r^{2} b\\left(r\\right) \\frac{\\partial\\,a}{\\partial r}^{2} - 3 \\, r^{2} a\\left(r\\right) b\\left(r\\right) \\frac{\\partial^2\\,a}{\\partial r ^ 2} - 2 \\, r a\\left(r\\right) b\\left(r\\right) \\frac{\\partial\\,a}{\\partial r}\\right)} \\frac{\\partial\\,b}{\\partial r}}{2 \\, r^{2} b\\left(r\\right)^{4}} \\\\ X_{ \\, r \\, {\\theta} \\, {\\theta} }^{ \\phantom{\\, r}\\phantom{\\, {\\theta}}\\phantom{\\, {\\theta}} } & = & \\frac{a\\left(r\\right)^{2} b\\left(r\\right)^{4} - r^{2} b\\left(r\\right)^{2} \\left(\\frac{\\partial\\,a}{\\partial r}\\right)^{2} - r^{2} a\\left(r\\right) b\\left(r\\right) \\frac{\\partial\\,a}{\\partial r} \\frac{\\partial\\,b}{\\partial r} + 3 \\, r^{2} a\\left(r\\right)^{2} \\frac{\\partial\\,b}{\\partial r}^{2} - r^{2} a\\left(r\\right)^{2} b\\left(r\\right) \\frac{\\partial^2\\,b}{\\partial r ^ 2} - a\\left(r\\right)^{2} b\\left(r\\right)^{2}}{2 \\, r a\\left(r\\right)^{2} b\\left(r\\right)^{4}} \\\\ X_{ \\, r \\, {\\phi} \\, {\\phi} }^{ \\phantom{\\, r}\\phantom{\\, {\\phi}}\\phantom{\\, {\\phi}} } & = & \\frac{{\\left(a\\left(r\\right)^{2} b\\left(r\\right)^{4} - r^{2} b\\left(r\\right)^{2} \\left(\\frac{\\partial\\,a}{\\partial r}\\right)^{2} - r^{2} a\\left(r\\right) b\\left(r\\right) \\frac{\\partial\\,a}{\\partial r} \\frac{\\partial\\,b}{\\partial r} + 3 \\, r^{2} a\\left(r\\right)^{2} \\frac{\\partial\\,b}{\\partial r}^{2} - r^{2} a\\left(r\\right)^{2} b\\left(r\\right) \\frac{\\partial^2\\,b}{\\partial r ^ 2} - a\\left(r\\right)^{2} b\\left(r\\right)^{2}\\right)} \\sin\\left({\\theta}\\right)^{2}}{2 \\, r a\\left(r\\right)^{2} b\\left(r\\right)^{4}} \\end{array}\\)</html>"
      ],
      "text/latex": [
       "$\\displaystyle \\begin{array}{lcl} X_{ \\, t \\, t \\, r }^{ \\phantom{\\, t}\\phantom{\\, t}\\phantom{\\, r} } & = & \\frac{r^{2} a\\left(r\\right) b\\left(r\\right)^{2} \\frac{\\partial^3\\,a}{\\partial r ^ 3} + 3 \\, r^{2} a\\left(r\\right) \\frac{\\partial\\,a}{\\partial r} \\left(\\frac{\\partial\\,b}{\\partial r}\\right)^{2} - r^{2} a\\left(r\\right) b\\left(r\\right) \\frac{\\partial\\,a}{\\partial r} \\frac{\\partial^2\\,b}{\\partial r ^ 2} - 2 \\, a\\left(r\\right) b\\left(r\\right)^{2} \\frac{\\partial\\,a}{\\partial r} - {\\left(r^{2} b\\left(r\\right)^{2} \\frac{\\partial\\,a}{\\partial r} - 2 \\, r a\\left(r\\right) b\\left(r\\right)^{2}\\right)} \\frac{\\partial^2\\,a}{\\partial r ^ 2} + {\\left(r^{2} b\\left(r\\right) \\frac{\\partial\\,a}{\\partial r}^{2} - 3 \\, r^{2} a\\left(r\\right) b\\left(r\\right) \\frac{\\partial^2\\,a}{\\partial r ^ 2} - 2 \\, r a\\left(r\\right) b\\left(r\\right) \\frac{\\partial\\,a}{\\partial r}\\right)} \\frac{\\partial\\,b}{\\partial r}}{2 \\, r^{2} b\\left(r\\right)^{4}} \\\\ X_{ \\, r \\, {\\theta} \\, {\\theta} }^{ \\phantom{\\, r}\\phantom{\\, {\\theta}}\\phantom{\\, {\\theta}} } & = & \\frac{a\\left(r\\right)^{2} b\\left(r\\right)^{4} - r^{2} b\\left(r\\right)^{2} \\left(\\frac{\\partial\\,a}{\\partial r}\\right)^{2} - r^{2} a\\left(r\\right) b\\left(r\\right) \\frac{\\partial\\,a}{\\partial r} \\frac{\\partial\\,b}{\\partial r} + 3 \\, r^{2} a\\left(r\\right)^{2} \\frac{\\partial\\,b}{\\partial r}^{2} - r^{2} a\\left(r\\right)^{2} b\\left(r\\right) \\frac{\\partial^2\\,b}{\\partial r ^ 2} - a\\left(r\\right)^{2} b\\left(r\\right)^{2}}{2 \\, r a\\left(r\\right)^{2} b\\left(r\\right)^{4}} \\\\ X_{ \\, r \\, {\\phi} \\, {\\phi} }^{ \\phantom{\\, r}\\phantom{\\, {\\phi}}\\phantom{\\, {\\phi}} } & = & \\frac{{\\left(a\\left(r\\right)^{2} b\\left(r\\right)^{4} - r^{2} b\\left(r\\right)^{2} \\left(\\frac{\\partial\\,a}{\\partial r}\\right)^{2} - r^{2} a\\left(r\\right) b\\left(r\\right) \\frac{\\partial\\,a}{\\partial r} \\frac{\\partial\\,b}{\\partial r} + 3 \\, r^{2} a\\left(r\\right)^{2} \\frac{\\partial\\,b}{\\partial r}^{2} - r^{2} a\\left(r\\right)^{2} b\\left(r\\right) \\frac{\\partial^2\\,b}{\\partial r ^ 2} - a\\left(r\\right)^{2} b\\left(r\\right)^{2}\\right)} \\sin\\left({\\theta}\\right)^{2}}{2 \\, r a\\left(r\\right)^{2} b\\left(r\\right)^{4}} \\end{array}$"
      ],
      "text/plain": [
       "X_t,t,r = 1/2*(r^2*a(r)*b(r)^2*d^3(a)/dr^3 + 3*r^2*a(r)*d(a)/dr*(d(b)/dr)^2 - r^2*a(r)*b(r)*d(a)/dr*d^2(b)/dr^2 - 2*a(r)*b(r)^2*d(a)/dr - (r^2*b(r)^2*d(a)/dr - 2*r*a(r)*b(r)^2)*d^2(a)/dr^2 + (r^2*b(r)*d(a)/dr^2 - 3*r^2*a(r)*b(r)*d^2(a)/dr^2 - 2*r*a(r)*b(r)*d(a)/dr)*d(b)/dr)/(r^2*b(r)^4) \n",
       "X_r,th,th = 1/2*(a(r)^2*b(r)^4 - r^2*b(r)^2*(d(a)/dr)^2 - r^2*a(r)*b(r)*d(a)/dr*d(b)/dr + 3*r^2*a(r)^2*d(b)/dr^2 - r^2*a(r)^2*b(r)*d^2(b)/dr^2 - a(r)^2*b(r)^2)/(r*a(r)^2*b(r)^4) \n",
       "X_r,ph,ph = 1/2*(a(r)^2*b(r)^4 - r^2*b(r)^2*(d(a)/dr)^2 - r^2*a(r)*b(r)*d(a)/dr*d(b)/dr + 3*r^2*a(r)^2*d(b)/dr^2 - r^2*a(r)^2*b(r)*d^2(b)/dr^2 - a(r)^2*b(r)^2)*sin(th)^2/(r*a(r)^2*b(r)^4) "
      ]
     },
     "execution_count": 26,
     "metadata": {},
     "output_type": "execute_result"
    }
   ],
   "source": [
    "NRicci.antisymmetrize(0,2).display_comp(only_nonredundant=True)"
   ]
  },
  {
   "cell_type": "code",
   "execution_count": 46,
   "id": "b4b6347f",
   "metadata": {},
   "outputs": [
    {
     "data": {
      "text/html": [
       "<html>\\(\\displaystyle \\begin{array}{lcl} \\Gamma_{ \\phantom{\\, t} \\, t \\, r }^{ \\, t \\phantom{\\, t} \\phantom{\\, r} } & = & \\frac{{\\left(3 \\, C_{2} r^{2} - 2 \\, c_{1} + 3 \\, r\\right)} {\\left(\\frac{3 \\, {\\left(2 \\, C_{2} r + 1\\right)} r}{{\\left(3 \\, C_{2} r^{2} - 2 \\, c_{1} + 3 \\, r\\right)}^{2}} - \\frac{1}{3 \\, C_{2} r^{2} - 2 \\, c_{1} + 3 \\, r}\\right)}}{2 \\, r} \\\\ \\Gamma_{ \\phantom{\\, t} \\, r \\, t }^{ \\, t \\phantom{\\, r} \\phantom{\\, t} } & = & \\frac{{\\left(3 \\, C_{2} r^{2} - 2 \\, c_{1} + 3 \\, r\\right)} {\\left(\\frac{3 \\, {\\left(2 \\, C_{2} r + 1\\right)} r}{{\\left(3 \\, C_{2} r^{2} - 2 \\, c_{1} + 3 \\, r\\right)}^{2}} - \\frac{1}{3 \\, C_{2} r^{2} - 2 \\, c_{1} + 3 \\, r}\\right)}}{2 \\, r} \\\\ \\Gamma_{ \\phantom{\\, r} \\, t \\, t }^{ \\, r \\phantom{\\, t} \\phantom{\\, t} } & = & \\frac{{\\left(3 \\, C_{2} r^{2} - 2 \\, c_{1} + 3 \\, r\\right)}^{3} {\\left(\\frac{3 \\, {\\left(2 \\, C_{2} r + 1\\right)} r}{{\\left(3 \\, C_{2} r^{2} - 2 \\, c_{1} + 3 \\, r\\right)}^{2}} - \\frac{1}{3 \\, C_{2} r^{2} - 2 \\, c_{1} + 3 \\, r}\\right)} e^{\\left(2 \\, r_{0}\\right)}}{18 \\, r^{3}} \\\\ \\Gamma_{ \\phantom{\\, r} \\, r \\, r }^{ \\, r \\phantom{\\, r} \\phantom{\\, r} } & = & -\\frac{{\\left(3 \\, C_{2} r^{2} - 2 \\, c_{1} + 3 \\, r\\right)} {\\left(\\frac{3 \\, {\\left(2 \\, C_{2} r + 1\\right)} r}{{\\left(3 \\, C_{2} r^{2} - 2 \\, c_{1} + 3 \\, r\\right)}^{2}} - \\frac{1}{3 \\, C_{2} r^{2} - 2 \\, c_{1} + 3 \\, r}\\right)}}{2 \\, r} \\\\ \\Gamma_{ \\phantom{\\, r} \\, {\\theta} \\, {\\theta} }^{ \\, r \\phantom{\\, {\\theta}} \\phantom{\\, {\\theta}} } & = & -C_{2} r^{2} + \\frac{2}{3} \\, c_{1} - r \\\\ \\Gamma_{ \\phantom{\\, r} \\, {\\phi} \\, {\\phi} }^{ \\, r \\phantom{\\, {\\phi}} \\phantom{\\, {\\phi}} } & = & -\\frac{1}{3} \\, {\\left(3 \\, C_{2} r^{2} - 2 \\, c_{1} + 3 \\, r\\right)} \\sin\\left({\\theta}\\right)^{2} \\\\ \\Gamma_{ \\phantom{\\, {\\theta}} \\, r \\, {\\theta} }^{ \\, {\\theta} \\phantom{\\, r} \\phantom{\\, {\\theta}} } & = & \\frac{1}{r} \\\\ \\Gamma_{ \\phantom{\\, {\\theta}} \\, {\\theta} \\, r }^{ \\, {\\theta} \\phantom{\\, {\\theta}} \\phantom{\\, r} } & = & \\frac{1}{r} \\\\ \\Gamma_{ \\phantom{\\, {\\theta}} \\, {\\phi} \\, {\\phi} }^{ \\, {\\theta} \\phantom{\\, {\\phi}} \\phantom{\\, {\\phi}} } & = & -\\cos\\left({\\theta}\\right) \\sin\\left({\\theta}\\right) \\\\ \\Gamma_{ \\phantom{\\, {\\phi}} \\, r \\, {\\phi} }^{ \\, {\\phi} \\phantom{\\, r} \\phantom{\\, {\\phi}} } & = & \\frac{1}{r} \\\\ \\Gamma_{ \\phantom{\\, {\\phi}} \\, {\\theta} \\, {\\phi} }^{ \\, {\\phi} \\phantom{\\, {\\theta}} \\phantom{\\, {\\phi}} } & = & \\frac{\\cos\\left({\\theta}\\right)}{\\sin\\left({\\theta}\\right)} \\\\ \\Gamma_{ \\phantom{\\, {\\phi}} \\, {\\phi} \\, r }^{ \\, {\\phi} \\phantom{\\, {\\phi}} \\phantom{\\, r} } & = & \\frac{1}{r} \\\\ \\Gamma_{ \\phantom{\\, {\\phi}} \\, {\\phi} \\, {\\theta} }^{ \\, {\\phi} \\phantom{\\, {\\phi}} \\phantom{\\, {\\theta}} } & = & \\frac{\\cos\\left({\\theta}\\right)}{\\sin\\left({\\theta}\\right)} \\end{array}\\)</html>"
      ],
      "text/latex": [
       "$\\displaystyle \\begin{array}{lcl} \\Gamma_{ \\phantom{\\, t} \\, t \\, r }^{ \\, t \\phantom{\\, t} \\phantom{\\, r} } & = & \\frac{{\\left(3 \\, C_{2} r^{2} - 2 \\, c_{1} + 3 \\, r\\right)} {\\left(\\frac{3 \\, {\\left(2 \\, C_{2} r + 1\\right)} r}{{\\left(3 \\, C_{2} r^{2} - 2 \\, c_{1} + 3 \\, r\\right)}^{2}} - \\frac{1}{3 \\, C_{2} r^{2} - 2 \\, c_{1} + 3 \\, r}\\right)}}{2 \\, r} \\\\ \\Gamma_{ \\phantom{\\, t} \\, r \\, t }^{ \\, t \\phantom{\\, r} \\phantom{\\, t} } & = & \\frac{{\\left(3 \\, C_{2} r^{2} - 2 \\, c_{1} + 3 \\, r\\right)} {\\left(\\frac{3 \\, {\\left(2 \\, C_{2} r + 1\\right)} r}{{\\left(3 \\, C_{2} r^{2} - 2 \\, c_{1} + 3 \\, r\\right)}^{2}} - \\frac{1}{3 \\, C_{2} r^{2} - 2 \\, c_{1} + 3 \\, r}\\right)}}{2 \\, r} \\\\ \\Gamma_{ \\phantom{\\, r} \\, t \\, t }^{ \\, r \\phantom{\\, t} \\phantom{\\, t} } & = & \\frac{{\\left(3 \\, C_{2} r^{2} - 2 \\, c_{1} + 3 \\, r\\right)}^{3} {\\left(\\frac{3 \\, {\\left(2 \\, C_{2} r + 1\\right)} r}{{\\left(3 \\, C_{2} r^{2} - 2 \\, c_{1} + 3 \\, r\\right)}^{2}} - \\frac{1}{3 \\, C_{2} r^{2} - 2 \\, c_{1} + 3 \\, r}\\right)} e^{\\left(2 \\, r_{0}\\right)}}{18 \\, r^{3}} \\\\ \\Gamma_{ \\phantom{\\, r} \\, r \\, r }^{ \\, r \\phantom{\\, r} \\phantom{\\, r} } & = & -\\frac{{\\left(3 \\, C_{2} r^{2} - 2 \\, c_{1} + 3 \\, r\\right)} {\\left(\\frac{3 \\, {\\left(2 \\, C_{2} r + 1\\right)} r}{{\\left(3 \\, C_{2} r^{2} - 2 \\, c_{1} + 3 \\, r\\right)}^{2}} - \\frac{1}{3 \\, C_{2} r^{2} - 2 \\, c_{1} + 3 \\, r}\\right)}}{2 \\, r} \\\\ \\Gamma_{ \\phantom{\\, r} \\, {\\theta} \\, {\\theta} }^{ \\, r \\phantom{\\, {\\theta}} \\phantom{\\, {\\theta}} } & = & -C_{2} r^{2} + \\frac{2}{3} \\, c_{1} - r \\\\ \\Gamma_{ \\phantom{\\, r} \\, {\\phi} \\, {\\phi} }^{ \\, r \\phantom{\\, {\\phi}} \\phantom{\\, {\\phi}} } & = & -\\frac{1}{3} \\, {\\left(3 \\, C_{2} r^{2} - 2 \\, c_{1} + 3 \\, r\\right)} \\sin\\left({\\theta}\\right)^{2} \\\\ \\Gamma_{ \\phantom{\\, {\\theta}} \\, r \\, {\\theta} }^{ \\, {\\theta} \\phantom{\\, r} \\phantom{\\, {\\theta}} } & = & \\frac{1}{r} \\\\ \\Gamma_{ \\phantom{\\, {\\theta}} \\, {\\theta} \\, r }^{ \\, {\\theta} \\phantom{\\, {\\theta}} \\phantom{\\, r} } & = & \\frac{1}{r} \\\\ \\Gamma_{ \\phantom{\\, {\\theta}} \\, {\\phi} \\, {\\phi} }^{ \\, {\\theta} \\phantom{\\, {\\phi}} \\phantom{\\, {\\phi}} } & = & -\\cos\\left({\\theta}\\right) \\sin\\left({\\theta}\\right) \\\\ \\Gamma_{ \\phantom{\\, {\\phi}} \\, r \\, {\\phi} }^{ \\, {\\phi} \\phantom{\\, r} \\phantom{\\, {\\phi}} } & = & \\frac{1}{r} \\\\ \\Gamma_{ \\phantom{\\, {\\phi}} \\, {\\theta} \\, {\\phi} }^{ \\, {\\phi} \\phantom{\\, {\\theta}} \\phantom{\\, {\\phi}} } & = & \\frac{\\cos\\left({\\theta}\\right)}{\\sin\\left({\\theta}\\right)} \\\\ \\Gamma_{ \\phantom{\\, {\\phi}} \\, {\\phi} \\, r }^{ \\, {\\phi} \\phantom{\\, {\\phi}} \\phantom{\\, r} } & = & \\frac{1}{r} \\\\ \\Gamma_{ \\phantom{\\, {\\phi}} \\, {\\phi} \\, {\\theta} }^{ \\, {\\phi} \\phantom{\\, {\\phi}} \\phantom{\\, {\\theta}} } & = & \\frac{\\cos\\left({\\theta}\\right)}{\\sin\\left({\\theta}\\right)} \\end{array}$"
      ],
      "text/plain": [
       "Gam^t_t,r = 1/2*(3*C_2*r^2 - 2*c_1 + 3*r)*(3*(2*C_2*r + 1)*r/(3*C_2*r^2 - 2*c_1 + 3*r)^2 - 1/(3*C_2*r^2 - 2*c_1 + 3*r))/r \n",
       "Gam^t_r,t = 1/2*(3*C_2*r^2 - 2*c_1 + 3*r)*(3*(2*C_2*r + 1)*r/(3*C_2*r^2 - 2*c_1 + 3*r)^2 - 1/(3*C_2*r^2 - 2*c_1 + 3*r))/r \n",
       "Gam^r_t,t = 1/18*(3*C_2*r^2 - 2*c_1 + 3*r)^3*(3*(2*C_2*r + 1)*r/(3*C_2*r^2 - 2*c_1 + 3*r)^2 - 1/(3*C_2*r^2 - 2*c_1 + 3*r))*e^(2*r_0)/r^3 \n",
       "Gam^r_r,r = -1/2*(3*C_2*r^2 - 2*c_1 + 3*r)*(3*(2*C_2*r + 1)*r/(3*C_2*r^2 - 2*c_1 + 3*r)^2 - 1/(3*C_2*r^2 - 2*c_1 + 3*r))/r \n",
       "Gam^r_th,th = -C_2*r^2 + 2/3*c_1 - r \n",
       "Gam^r_ph,ph = -1/3*(3*C_2*r^2 - 2*c_1 + 3*r)*sin(th)^2 \n",
       "Gam^th_r,th = 1/r \n",
       "Gam^th_th,r = 1/r \n",
       "Gam^th_ph,ph = -cos(th)*sin(th) \n",
       "Gam^ph_r,ph = 1/r \n",
       "Gam^ph_th,ph = cos(th)/sin(th) \n",
       "Gam^ph_ph,r = 1/r \n",
       "Gam^ph_ph,th = cos(th)/sin(th) "
      ]
     },
     "execution_count": 46,
     "metadata": {},
     "output_type": "execute_result"
    }
   ],
   "source": [
    "a = function('a')(r)\n",
    "b = function('b')(r)\n",
    "r0 = var('r_0')\n",
    "c1 = var('c_1')\n",
    "c2 = var('c_2')\n",
    "C2 = var('C_2')\n",
    "c2 = C2\n",
    "\n",
    "b = sqrt((3*r)/(3*r-2*c1 + 3*r**2*c2))\n",
    "a = exp(r0)/b\n",
    "\n",
    "T[0,0,0] = 0\n",
    "T[0,0,1] = derivative(a,r)/a\n",
    "T[0,1,0] = T[0,0,1]\n",
    "T[0,1,1] = 0\n",
    "T[0,2,2] = 0\n",
    "T[0,3,3] = 0\n",
    "\n",
    "\n",
    "T[1,0,0] = derivative(a,r)*a/(b**2)\n",
    "T[1,0,1] = 0\n",
    "T[1,1,0] = T[1,0,1]\n",
    "T[1,1,1] = derivative(b,r)/b\n",
    "T[1,2,2] = -r/(b**2)\n",
    "T[1,3,3] = -r/(b**2)*(sin(th))^2\n",
    "\n",
    "\n",
    "T[2,0,2] = 0\n",
    "T[2,2,0] = T[2,0,2]\n",
    "T[2,0,3] = 0\n",
    "T[2,3,0] = T[2,0,3]\n",
    "T[2,1,2] = 1/r\n",
    "T[2,2,1] = T[2,1,2]\n",
    "T[2,1,3] = 0\n",
    "T[2,3,1] = T[2,1,3]\n",
    "T[2,3,3] = -cos(th)*sin(th)\n",
    "\n",
    "\n",
    "T[3,0,2] = 0\n",
    "T[3,2,0] = T[3,0,2]\n",
    "T[3,0,3] = 0\n",
    "T[3,3,0] = T[3,0,3]\n",
    "T[3,1,2] = 0\n",
    "T[3,2,1] = T[3,1,2]\n",
    "T[3,1,3] = 1/r\n",
    "T[3,3,1] = T[3,1,3]\n",
    "T[3,2,3] = cos(th)/sin(th)\n",
    "T[3,3,2] = T[3,2,3]\n",
    "\n",
    "T.display(only_nonredundant=True)"
   ]
  },
  {
   "cell_type": "code",
   "execution_count": 47,
   "id": "a8171f93",
   "metadata": {},
   "outputs": [
    {
     "data": {
      "text/html": [
       "<html>\\(\\displaystyle \\begin{array}{lcl} X_{ \\, t \\, t }^{ \\phantom{\\, t}\\phantom{\\, t} } & = & \\frac{{\\left(3 \\, C_{2}^{2} r^{2} - 2 \\, C_{2} c_{1} + 3 \\, C_{2} r\\right)} e^{\\left(2 \\, r_{0}\\right)}}{3 \\, r^{2}} \\\\ X_{ \\, r \\, r }^{ \\phantom{\\, r}\\phantom{\\, r} } & = & -\\frac{3 \\, C_{2}}{3 \\, C_{2} r^{2} - 2 \\, c_{1} + 3 \\, r} \\\\ X_{ \\, {\\theta} \\, {\\theta} }^{ \\phantom{\\, {\\theta}}\\phantom{\\, {\\theta}} } & = & -2 \\, C_{2} r \\\\ X_{ \\, {\\phi} \\, {\\phi} }^{ \\phantom{\\, {\\phi}}\\phantom{\\, {\\phi}} } & = & -2 \\, C_{2} r \\sin\\left({\\theta}\\right)^{2} \\end{array}\\)</html>"
      ],
      "text/latex": [
       "$\\displaystyle \\begin{array}{lcl} X_{ \\, t \\, t }^{ \\phantom{\\, t}\\phantom{\\, t} } & = & \\frac{{\\left(3 \\, C_{2}^{2} r^{2} - 2 \\, C_{2} c_{1} + 3 \\, C_{2} r\\right)} e^{\\left(2 \\, r_{0}\\right)}}{3 \\, r^{2}} \\\\ X_{ \\, r \\, r }^{ \\phantom{\\, r}\\phantom{\\, r} } & = & -\\frac{3 \\, C_{2}}{3 \\, C_{2} r^{2} - 2 \\, c_{1} + 3 \\, r} \\\\ X_{ \\, {\\theta} \\, {\\theta} }^{ \\phantom{\\, {\\theta}}\\phantom{\\, {\\theta}} } & = & -2 \\, C_{2} r \\\\ X_{ \\, {\\phi} \\, {\\phi} }^{ \\phantom{\\, {\\phi}}\\phantom{\\, {\\phi}} } & = & -2 \\, C_{2} r \\sin\\left({\\theta}\\right)^{2} \\end{array}$"
      ],
      "text/plain": [
       "X_t,t = 1/3*(3*C_2^2*r^2 - 2*C_2*c_1 + 3*C_2*r)*e^(2*r_0)/r^2 \n",
       "X_r,r = -3*C_2/(3*C_2*r^2 - 2*c_1 + 3*r) \n",
       "X_th,th = -2*C_2*r \n",
       "X_ph,ph = -2*C_2*r*sin(th)^2 "
      ]
     },
     "execution_count": 47,
     "metadata": {},
     "output_type": "execute_result"
    }
   ],
   "source": [
    "Ricci = T.ricci()\n",
    "Ricci.display_comp()"
   ]
  },
  {
   "cell_type": "code",
   "execution_count": 48,
   "id": "67f3d13c",
   "metadata": {},
   "outputs": [
    {
     "data": {
      "text/html": [
       "<html>\\(\\displaystyle \\begin{array}{lcl} X_{ \\, t \\, t \\, r }^{ \\phantom{\\, t}\\phantom{\\, t}\\phantom{\\, r} } & = & -\\frac{{\\left(3 \\, C_{2}^{2} r^{2} - 2 \\, C_{2} c_{1} + 3 \\, C_{2} r\\right)} e^{\\left(2 \\, r_{0}\\right)}}{3 \\, r^{3}} \\\\ X_{ \\, r \\, r \\, r }^{ \\phantom{\\, r}\\phantom{\\, r}\\phantom{\\, r} } & = & \\frac{3 \\, C_{2}}{3 \\, C_{2} r^{3} - 2 \\, c_{1} r + 3 \\, r^{2}} \\\\ X_{ \\, r \\, {\\theta} \\, {\\theta} }^{ \\phantom{\\, r}\\phantom{\\, {\\theta}}\\phantom{\\, {\\theta}} } & = & C_{2} \\\\ X_{ \\, r \\, {\\phi} \\, {\\phi} }^{ \\phantom{\\, r}\\phantom{\\, {\\phi}}\\phantom{\\, {\\phi}} } & = & C_{2} \\sin\\left({\\theta}\\right)^{2} \\\\ X_{ \\, {\\theta} \\, r \\, {\\theta} }^{ \\phantom{\\, {\\theta}}\\phantom{\\, r}\\phantom{\\, {\\theta}} } & = & C_{2} \\\\ X_{ \\, {\\theta} \\, {\\theta} \\, r }^{ \\phantom{\\, {\\theta}}\\phantom{\\, {\\theta}}\\phantom{\\, r} } & = & 2 \\, C_{2} \\\\ X_{ \\, {\\phi} \\, r \\, {\\phi} }^{ \\phantom{\\, {\\phi}}\\phantom{\\, r}\\phantom{\\, {\\phi}} } & = & C_{2} \\sin\\left({\\theta}\\right)^{2} \\\\ X_{ \\, {\\phi} \\, {\\phi} \\, r }^{ \\phantom{\\, {\\phi}}\\phantom{\\, {\\phi}}\\phantom{\\, r} } & = & 2 \\, C_{2} \\sin\\left({\\theta}\\right)^{2} \\end{array}\\)</html>"
      ],
      "text/latex": [
       "$\\displaystyle \\begin{array}{lcl} X_{ \\, t \\, t \\, r }^{ \\phantom{\\, t}\\phantom{\\, t}\\phantom{\\, r} } & = & -\\frac{{\\left(3 \\, C_{2}^{2} r^{2} - 2 \\, C_{2} c_{1} + 3 \\, C_{2} r\\right)} e^{\\left(2 \\, r_{0}\\right)}}{3 \\, r^{3}} \\\\ X_{ \\, r \\, r \\, r }^{ \\phantom{\\, r}\\phantom{\\, r}\\phantom{\\, r} } & = & \\frac{3 \\, C_{2}}{3 \\, C_{2} r^{3} - 2 \\, c_{1} r + 3 \\, r^{2}} \\\\ X_{ \\, r \\, {\\theta} \\, {\\theta} }^{ \\phantom{\\, r}\\phantom{\\, {\\theta}}\\phantom{\\, {\\theta}} } & = & C_{2} \\\\ X_{ \\, r \\, {\\phi} \\, {\\phi} }^{ \\phantom{\\, r}\\phantom{\\, {\\phi}}\\phantom{\\, {\\phi}} } & = & C_{2} \\sin\\left({\\theta}\\right)^{2} \\\\ X_{ \\, {\\theta} \\, r \\, {\\theta} }^{ \\phantom{\\, {\\theta}}\\phantom{\\, r}\\phantom{\\, {\\theta}} } & = & C_{2} \\\\ X_{ \\, {\\theta} \\, {\\theta} \\, r }^{ \\phantom{\\, {\\theta}}\\phantom{\\, {\\theta}}\\phantom{\\, r} } & = & 2 \\, C_{2} \\\\ X_{ \\, {\\phi} \\, r \\, {\\phi} }^{ \\phantom{\\, {\\phi}}\\phantom{\\, r}\\phantom{\\, {\\phi}} } & = & C_{2} \\sin\\left({\\theta}\\right)^{2} \\\\ X_{ \\, {\\phi} \\, {\\phi} \\, r }^{ \\phantom{\\, {\\phi}}\\phantom{\\, {\\phi}}\\phantom{\\, r} } & = & 2 \\, C_{2} \\sin\\left({\\theta}\\right)^{2} \\end{array}$"
      ],
      "text/plain": [
       "X_t,t,r = -1/3*(3*C_2^2*r^2 - 2*C_2*c_1 + 3*C_2*r)*e^(2*r_0)/r^3 \n",
       "X_r,r,r = 3*C_2/(3*C_2*r^3 - 2*c_1*r + 3*r^2) \n",
       "X_r,th,th = C_2 \n",
       "X_r,ph,ph = C_2*sin(th)^2 \n",
       "X_th,r,th = C_2 \n",
       "X_th,th,r = 2*C_2 \n",
       "X_ph,r,ph = C_2*sin(th)^2 \n",
       "X_ph,ph,r = 2*C_2*sin(th)^2 "
      ]
     },
     "execution_count": 48,
     "metadata": {},
     "output_type": "execute_result"
    }
   ],
   "source": [
    "NRicci = T(Ricci)\n",
    "NRicci.display_comp()"
   ]
  },
  {
   "cell_type": "code",
   "execution_count": 49,
   "id": "cf3c7826",
   "metadata": {},
   "outputs": [
    {
     "data": {
      "text/html": [
       "<html>\\(\\displaystyle \\begin{array}{lcl} X_{ \\, t \\, t \\, r }^{ \\phantom{\\, t}\\phantom{\\, t}\\phantom{\\, r} } & = & -\\frac{{\\left(3 \\, C_{2}^{2} r^{2} - 2 \\, C_{2} c_{1} + 3 \\, C_{2} r\\right)} e^{\\left(2 \\, r_{0}\\right)}}{6 \\, r^{3}} \\\\ X_{ \\, r \\, {\\theta} \\, {\\theta} }^{ \\phantom{\\, r}\\phantom{\\, {\\theta}}\\phantom{\\, {\\theta}} } & = & -\\frac{1}{2} \\, C_{2} \\\\ X_{ \\, r \\, {\\phi} \\, {\\phi} }^{ \\phantom{\\, r}\\phantom{\\, {\\phi}}\\phantom{\\, {\\phi}} } & = & -\\frac{1}{2} \\, C_{2} \\sin\\left({\\theta}\\right)^{2} \\end{array}\\)</html>"
      ],
      "text/latex": [
       "$\\displaystyle \\begin{array}{lcl} X_{ \\, t \\, t \\, r }^{ \\phantom{\\, t}\\phantom{\\, t}\\phantom{\\, r} } & = & -\\frac{{\\left(3 \\, C_{2}^{2} r^{2} - 2 \\, C_{2} c_{1} + 3 \\, C_{2} r\\right)} e^{\\left(2 \\, r_{0}\\right)}}{6 \\, r^{3}} \\\\ X_{ \\, r \\, {\\theta} \\, {\\theta} }^{ \\phantom{\\, r}\\phantom{\\, {\\theta}}\\phantom{\\, {\\theta}} } & = & -\\frac{1}{2} \\, C_{2} \\\\ X_{ \\, r \\, {\\phi} \\, {\\phi} }^{ \\phantom{\\, r}\\phantom{\\, {\\phi}}\\phantom{\\, {\\phi}} } & = & -\\frac{1}{2} \\, C_{2} \\sin\\left({\\theta}\\right)^{2} \\end{array}$"
      ],
      "text/plain": [
       "X_t,t,r = -1/6*(3*C_2^2*r^2 - 2*C_2*c_1 + 3*C_2*r)*e^(2*r_0)/r^3 \n",
       "X_r,th,th = -1/2*C_2 \n",
       "X_r,ph,ph = -1/2*C_2*sin(th)^2 "
      ]
     },
     "execution_count": 49,
     "metadata": {},
     "output_type": "execute_result"
    }
   ],
   "source": [
    "NRicci.antisymmetrize(0,2).display_comp(only_nonredundant=True)"
   ]
  },
  {
   "cell_type": "code",
   "execution_count": null,
   "id": "bb8eb9ee",
   "metadata": {},
   "outputs": [],
   "source": []
  }
 ],
 "metadata": {
  "kernelspec": {
   "display_name": "SageMath 9.7",
   "language": "sage",
   "name": "sagemath-9.7"
  },
  "language_info": {
   "codemirror_mode": {
    "name": "ipython",
    "version": 3
   },
   "file_extension": ".py",
   "mimetype": "text/x-python",
   "name": "python",
   "nbconvert_exporter": "python",
   "pygments_lexer": "ipython3",
   "version": "3.10.5"
  }
 },
 "nbformat": 4,
 "nbformat_minor": 5
}
