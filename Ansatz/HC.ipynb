{
 "cells": [
  {
   "cell_type": "code",
   "execution_count": 71,
   "id": "ee4aa0df",
   "metadata": {},
   "outputs": [
    {
     "data": {
      "text/html": [
       "<html>\\(\\displaystyle \\verb|SageMath|\\verb| |\\verb|version|\\verb| |\\verb|9.7,|\\verb| |\\verb|Release|\\verb| |\\verb|Date:|\\verb| |\\verb|2022-09-19|\\)</html>"
      ],
      "text/latex": [
       "$\\displaystyle \\verb|SageMath|\\verb| |\\verb|version|\\verb| |\\verb|9.7,|\\verb| |\\verb|Release|\\verb| |\\verb|Date:|\\verb| |\\verb|2022-09-19|$"
      ],
      "text/plain": [
       "'SageMath version 9.7, Release Date: 2022-09-19'"
      ]
     },
     "execution_count": 71,
     "metadata": {},
     "output_type": "execute_result"
    }
   ],
   "source": [
    "reset()\n",
    "%display latex\n",
    "version()"
   ]
  },
  {
   "cell_type": "markdown",
   "id": "637891fa",
   "metadata": {},
   "source": [
    "# Definition of the manifold and the most general connection"
   ]
  },
  {
   "cell_type": "code",
   "execution_count": 72,
   "id": "6c8a69b1",
   "metadata": {},
   "outputs": [],
   "source": [
    "M=Manifold(4,\"M\")\n",
    "XS.<t,r,th,ph> = M.chart(r't r:(0,+oo) th:(0,pi):\\theta ph:(0,2*pi):\\phi')"
   ]
  },
  {
   "cell_type": "code",
   "execution_count": 73,
   "id": "a60bdd7c",
   "metadata": {},
   "outputs": [],
   "source": [
    "T = M.affine_connection('T',\"T\")\n",
    "\n",
    "\n",
    "T[0,0,0] = function(\"V\")(t,r)\n",
    "T[0,0,1] = function(\"A\")(t,r)\n",
    "T[0,1,0] = T[0,0,1]\n",
    "T[0,1,1] = function(\"W\")(t,r)\n",
    "T[0,2,2] = function(\"X\")(t,r)\n",
    "T[0,3,3] = function(\"X\")(t,r)*(sin(th))^2\n",
    "T[1,0,0] = function(\"B\")(t,r)\n",
    "T[1,0,1] = function(\"Y\")(t,r)\n",
    "T[1,1,0] = T[1,0,1]\n",
    "T[1,1,1] = function(\"C\")(t,r)\n",
    "T[1,2,2] = function(\"F\")(t,r)\n",
    "T[1,3,3] = function(\"F\")(t,r)*(sin(th))^2\n",
    "T[2,0,2] = function(\"Z\")(t,r)\n",
    "T[2,2,0] = T[2,0,2]\n",
    "T[2,0,3] = - function(\"D\")(t,r)*sin(th)\n",
    "T[2,3,0] = T[2,0,3]\n",
    "T[2,1,2] = function(\"G\")(t,r)\n",
    "T[2,2,1] = T[2,1,2]\n",
    "T[2,1,3] = - function(\"H\")(t,r)*sin(th)\n",
    "T[2,3,1] = T[2,1,3]\n",
    "T[2,3,3] = -cos(th)*sin(th)\n",
    "T[3,0,2] = function(\"D\")(t,r)/sin(th)\n",
    "T[3,2,0] = T[3,0,2]\n",
    "T[3,0,3] = function(\"Z\")(t,r)\n",
    "T[3,3,0] = T[3,0,3]\n",
    "T[3,1,2] = function(\"H\")(t,r)/sin(th)\n",
    "T[3,2,1] = T[3,1,2]\n",
    "T[3,1,3] = function(\"G\")(t,r)\n",
    "T[3,3,1] = T[3,1,3]\n",
    "T[3,2,3] = cos(th)/sin(th)\n",
    "T[3,3,2] = T[3,2,3]\n",
    "\n",
    "#T.display(only_nonredundant=True)"
   ]
  },
  {
   "cell_type": "code",
   "execution_count": 74,
   "id": "30985c5e",
   "metadata": {},
   "outputs": [
    {
     "data": {
      "text/html": [
       "<html>\\(\\displaystyle \\begin{array}{lcl} X_{ \\, t \\, t }^{ \\phantom{\\, t}\\phantom{\\, t} } & = & -A\\left(t, r\\right) B\\left(t, r\\right) + B\\left(t, r\\right) C\\left(t, r\\right) + 2 \\, D\\left(t, r\\right)^{2} + 2 \\, B\\left(t, r\\right) G\\left(t, r\\right) + V\\left(t, r\\right) Y\\left(t, r\\right) - Y\\left(t, r\\right)^{2} + 2 \\, V\\left(t, r\\right) Z\\left(t, r\\right) - 2 \\, Z\\left(t, r\\right)^{2} + \\frac{\\partial\\,B}{\\partial r} - \\frac{\\partial\\,Y}{\\partial t} - 2 \\, \\frac{\\partial\\,Z}{\\partial t} \\\\ X_{ \\, t \\, r }^{ \\phantom{\\, t}\\phantom{\\, r} } & = & 2 \\, D\\left(t, r\\right) H\\left(t, r\\right) - B\\left(t, r\\right) W\\left(t, r\\right) + {\\left(A\\left(t, r\\right) + 2 \\, G\\left(t, r\\right)\\right)} Y\\left(t, r\\right) + 2 \\, {\\left(A\\left(t, r\\right) - G\\left(t, r\\right)\\right)} Z\\left(t, r\\right) + \\frac{\\partial\\,A}{\\partial t} - \\frac{\\partial\\,V}{\\partial r} - 2 \\, \\frac{\\partial\\,Z}{\\partial r} \\\\ X_{ \\, r \\, t }^{ \\phantom{\\, r}\\phantom{\\, t} } & = & 2 \\, D\\left(t, r\\right) H\\left(t, r\\right) - B\\left(t, r\\right) W\\left(t, r\\right) + {\\left(A\\left(t, r\\right) + 2 \\, G\\left(t, r\\right)\\right)} Y\\left(t, r\\right) + 2 \\, {\\left(A\\left(t, r\\right) - G\\left(t, r\\right)\\right)} Z\\left(t, r\\right) - \\frac{\\partial\\,C}{\\partial t} - 2 \\, \\frac{\\partial\\,G}{\\partial t} + \\frac{\\partial\\,Y}{\\partial r} \\\\ X_{ \\, r \\, r }^{ \\phantom{\\, r}\\phantom{\\, r} } & = & -A\\left(t, r\\right)^{2} + A\\left(t, r\\right) C\\left(t, r\\right) + 2 \\, C\\left(t, r\\right) G\\left(t, r\\right) - 2 \\, G\\left(t, r\\right)^{2} + 2 \\, H\\left(t, r\\right)^{2} + V\\left(t, r\\right) W\\left(t, r\\right) - W\\left(t, r\\right) Y\\left(t, r\\right) + 2 \\, W\\left(t, r\\right) Z\\left(t, r\\right) - \\frac{\\partial\\,A}{\\partial r} - 2 \\, \\frac{\\partial\\,G}{\\partial r} + \\frac{\\partial\\,W}{\\partial t} \\\\ X_{ \\, {\\theta} \\, {\\theta} }^{ \\phantom{\\, {\\theta}}\\phantom{\\, {\\theta}} } & = & {\\left(A\\left(t, r\\right) + C\\left(t, r\\right)\\right)} F\\left(t, r\\right) + V\\left(t, r\\right) X\\left(t, r\\right) + X\\left(t, r\\right) Y\\left(t, r\\right) + \\frac{\\partial\\,F}{\\partial r} + \\frac{\\partial\\,X}{\\partial t} + 1 \\\\ X_{ \\, {\\phi} \\, {\\phi} }^{ \\phantom{\\, {\\phi}}\\phantom{\\, {\\phi}} } & = & {\\left({\\left(A\\left(t, r\\right) + C\\left(t, r\\right)\\right)} F\\left(t, r\\right) + V\\left(t, r\\right) X\\left(t, r\\right) + X\\left(t, r\\right) Y\\left(t, r\\right) + \\frac{\\partial\\,F}{\\partial r} + \\frac{\\partial\\,X}{\\partial t} + 1\\right)} \\sin\\left({\\theta}\\right)^{2} \\end{array}\\)</html>"
      ],
      "text/latex": [
       "$\\displaystyle \\begin{array}{lcl} X_{ \\, t \\, t }^{ \\phantom{\\, t}\\phantom{\\, t} } & = & -A\\left(t, r\\right) B\\left(t, r\\right) + B\\left(t, r\\right) C\\left(t, r\\right) + 2 \\, D\\left(t, r\\right)^{2} + 2 \\, B\\left(t, r\\right) G\\left(t, r\\right) + V\\left(t, r\\right) Y\\left(t, r\\right) - Y\\left(t, r\\right)^{2} + 2 \\, V\\left(t, r\\right) Z\\left(t, r\\right) - 2 \\, Z\\left(t, r\\right)^{2} + \\frac{\\partial\\,B}{\\partial r} - \\frac{\\partial\\,Y}{\\partial t} - 2 \\, \\frac{\\partial\\,Z}{\\partial t} \\\\ X_{ \\, t \\, r }^{ \\phantom{\\, t}\\phantom{\\, r} } & = & 2 \\, D\\left(t, r\\right) H\\left(t, r\\right) - B\\left(t, r\\right) W\\left(t, r\\right) + {\\left(A\\left(t, r\\right) + 2 \\, G\\left(t, r\\right)\\right)} Y\\left(t, r\\right) + 2 \\, {\\left(A\\left(t, r\\right) - G\\left(t, r\\right)\\right)} Z\\left(t, r\\right) + \\frac{\\partial\\,A}{\\partial t} - \\frac{\\partial\\,V}{\\partial r} - 2 \\, \\frac{\\partial\\,Z}{\\partial r} \\\\ X_{ \\, r \\, t }^{ \\phantom{\\, r}\\phantom{\\, t} } & = & 2 \\, D\\left(t, r\\right) H\\left(t, r\\right) - B\\left(t, r\\right) W\\left(t, r\\right) + {\\left(A\\left(t, r\\right) + 2 \\, G\\left(t, r\\right)\\right)} Y\\left(t, r\\right) + 2 \\, {\\left(A\\left(t, r\\right) - G\\left(t, r\\right)\\right)} Z\\left(t, r\\right) - \\frac{\\partial\\,C}{\\partial t} - 2 \\, \\frac{\\partial\\,G}{\\partial t} + \\frac{\\partial\\,Y}{\\partial r} \\\\ X_{ \\, r \\, r }^{ \\phantom{\\, r}\\phantom{\\, r} } & = & -A\\left(t, r\\right)^{2} + A\\left(t, r\\right) C\\left(t, r\\right) + 2 \\, C\\left(t, r\\right) G\\left(t, r\\right) - 2 \\, G\\left(t, r\\right)^{2} + 2 \\, H\\left(t, r\\right)^{2} + V\\left(t, r\\right) W\\left(t, r\\right) - W\\left(t, r\\right) Y\\left(t, r\\right) + 2 \\, W\\left(t, r\\right) Z\\left(t, r\\right) - \\frac{\\partial\\,A}{\\partial r} - 2 \\, \\frac{\\partial\\,G}{\\partial r} + \\frac{\\partial\\,W}{\\partial t} \\\\ X_{ \\, {\\theta} \\, {\\theta} }^{ \\phantom{\\, {\\theta}}\\phantom{\\, {\\theta}} } & = & {\\left(A\\left(t, r\\right) + C\\left(t, r\\right)\\right)} F\\left(t, r\\right) + V\\left(t, r\\right) X\\left(t, r\\right) + X\\left(t, r\\right) Y\\left(t, r\\right) + \\frac{\\partial\\,F}{\\partial r} + \\frac{\\partial\\,X}{\\partial t} + 1 \\\\ X_{ \\, {\\phi} \\, {\\phi} }^{ \\phantom{\\, {\\phi}}\\phantom{\\, {\\phi}} } & = & {\\left({\\left(A\\left(t, r\\right) + C\\left(t, r\\right)\\right)} F\\left(t, r\\right) + V\\left(t, r\\right) X\\left(t, r\\right) + X\\left(t, r\\right) Y\\left(t, r\\right) + \\frac{\\partial\\,F}{\\partial r} + \\frac{\\partial\\,X}{\\partial t} + 1\\right)} \\sin\\left({\\theta}\\right)^{2} \\end{array}$"
      ],
      "text/plain": [
       "X_t,t = -A(t, r)*B(t, r) + B(t, r)*C(t, r) + 2*D(t, r)^2 + 2*B(t, r)*G(t, r) + V(t, r)*Y(t, r) - Y(t, r)^2 + 2*V(t, r)*Z(t, r) - 2*Z(t, r)^2 + d(B)/dr - d(Y)/dt - 2*d(Z)/dt \n",
       "X_t,r = 2*D(t, r)*H(t, r) - B(t, r)*W(t, r) + (A(t, r) + 2*G(t, r))*Y(t, r) + 2*(A(t, r) - G(t, r))*Z(t, r) + d(A)/dt - d(V)/dr - 2*d(Z)/dr \n",
       "X_r,t = 2*D(t, r)*H(t, r) - B(t, r)*W(t, r) + (A(t, r) + 2*G(t, r))*Y(t, r) + 2*(A(t, r) - G(t, r))*Z(t, r) - d(C)/dt - 2*d(G)/dt + d(Y)/dr \n",
       "X_r,r = -A(t, r)^2 + A(t, r)*C(t, r) + 2*C(t, r)*G(t, r) - 2*G(t, r)^2 + 2*H(t, r)^2 + V(t, r)*W(t, r) - W(t, r)*Y(t, r) + 2*W(t, r)*Z(t, r) - d(A)/dr - 2*d(G)/dr + d(W)/dt \n",
       "X_th,th = (A(t, r) + C(t, r))*F(t, r) + V(t, r)*X(t, r) + X(t, r)*Y(t, r) + d(F)/dr + d(X)/dt + 1 \n",
       "X_ph,ph = ((A(t, r) + C(t, r))*F(t, r) + V(t, r)*X(t, r) + X(t, r)*Y(t, r) + d(F)/dr + d(X)/dt + 1)*sin(th)^2 "
      ]
     },
     "execution_count": 74,
     "metadata": {},
     "output_type": "execute_result"
    }
   ],
   "source": [
    "Riem= T.riemann()\n",
    "Riem[\"^{a}_{bac}\"].display_comp()"
   ]
  },
  {
   "cell_type": "code",
   "execution_count": 75,
   "id": "4be86053",
   "metadata": {},
   "outputs": [
    {
     "data": {
      "text/html": [
       "<html>\\(\\displaystyle \\begin{array}{lcl} X_{ \\, t \\, r }^{ \\phantom{\\, t}\\phantom{\\, r} } & = & \\frac{\\partial\\,A}{\\partial t} + \\frac{\\partial\\,C}{\\partial t} + 2 \\, \\frac{\\partial\\,G}{\\partial t} - \\frac{\\partial\\,V}{\\partial r} - \\frac{\\partial\\,Y}{\\partial r} - 2 \\, \\frac{\\partial\\,Z}{\\partial r} \\\\ X_{ \\, r \\, t }^{ \\phantom{\\, r}\\phantom{\\, t} } & = & -\\frac{\\partial\\,A}{\\partial t} - \\frac{\\partial\\,C}{\\partial t} - 2 \\, \\frac{\\partial\\,G}{\\partial t} + \\frac{\\partial\\,V}{\\partial r} + \\frac{\\partial\\,Y}{\\partial r} + 2 \\, \\frac{\\partial\\,Z}{\\partial r} \\end{array}\\)</html>"
      ],
      "text/latex": [
       "$\\displaystyle \\begin{array}{lcl} X_{ \\, t \\, r }^{ \\phantom{\\, t}\\phantom{\\, r} } & = & \\frac{\\partial\\,A}{\\partial t} + \\frac{\\partial\\,C}{\\partial t} + 2 \\, \\frac{\\partial\\,G}{\\partial t} - \\frac{\\partial\\,V}{\\partial r} - \\frac{\\partial\\,Y}{\\partial r} - 2 \\, \\frac{\\partial\\,Z}{\\partial r} \\\\ X_{ \\, r \\, t }^{ \\phantom{\\, r}\\phantom{\\, t} } & = & -\\frac{\\partial\\,A}{\\partial t} - \\frac{\\partial\\,C}{\\partial t} - 2 \\, \\frac{\\partial\\,G}{\\partial t} + \\frac{\\partial\\,V}{\\partial r} + \\frac{\\partial\\,Y}{\\partial r} + 2 \\, \\frac{\\partial\\,Z}{\\partial r} \\end{array}$"
      ],
      "text/plain": [
       "X_t,r = d(A)/dt + d(C)/dt + 2*d(G)/dt - d(V)/dr - d(Y)/dr - 2*d(Z)/dr \n",
       "X_r,t = -d(A)/dt - d(C)/dt - 2*d(G)/dt + d(V)/dr + d(Y)/dr + 2*d(Z)/dr "
      ]
     },
     "execution_count": 75,
     "metadata": {},
     "output_type": "execute_result"
    }
   ],
   "source": [
    "Riem[\"^{a}_{abc}\"].display_comp()"
   ]
  },
  {
   "cell_type": "markdown",
   "id": "f2811bea",
   "metadata": {},
   "source": [
    "## Time reversal + azimuthal symmetry  (circularity conditions) + static"
   ]
  },
  {
   "cell_type": "code",
   "execution_count": 76,
   "id": "c3735abd",
   "metadata": {},
   "outputs": [],
   "source": [
    "T[0,0,0] = 0\n",
    "T[0,0,1] = function(\"A\")(r)\n",
    "T[0,1,0] = T[0,0,1]\n",
    "T[0,1,1] = 0\n",
    "T[0,2,2] = 0\n",
    "T[0,3,3] = 0\n",
    "\n",
    "\n",
    "T[1,0,0] = function(\"B\")(r)\n",
    "T[1,0,1] = 0\n",
    "T[1,1,0] = T[1,0,1]\n",
    "T[1,1,1] = function(\"C\")(r)\n",
    "T[1,2,2] = function(\"F\")(r)\n",
    "T[1,3,3] = function(\"F\")(r)*(sin(th))^2\n",
    "\n",
    "\n",
    "T[2,0,2] = 0\n",
    "T[2,2,0] = T[2,0,2]\n",
    "T[2,0,3] = 0\n",
    "T[2,3,0] = T[2,0,3]\n",
    "T[2,1,2] = function(\"G\")(r)\n",
    "T[2,2,1] = T[2,1,2]\n",
    "T[2,1,3] = 0\n",
    "T[2,3,1] = T[2,1,3]\n",
    "T[2,3,3] = -cos(th)*sin(th)\n",
    "\n",
    "\n",
    "T[3,0,2] = 0\n",
    "T[3,2,0] = T[3,0,2]\n",
    "T[3,0,3] = 0\n",
    "T[3,3,0] = T[3,0,3]\n",
    "T[3,1,2] = 0\n",
    "T[3,2,1] = T[3,1,2]\n",
    "T[3,1,3] = function(\"G\")(r)\n",
    "T[3,3,1] = T[3,1,3]\n",
    "T[3,2,3] = cos(th)/sin(th)\n",
    "T[3,3,2] = T[3,2,3]\n",
    "\n",
    "#T.display(only_nonredundant=True)"
   ]
  },
  {
   "cell_type": "code",
   "execution_count": 77,
   "id": "7c1ebdcd",
   "metadata": {},
   "outputs": [
    {
     "data": {
      "text/html": [
       "<html>\\(\\displaystyle \\begin{array}{lcl} X_{ \\, t \\, t }^{ \\phantom{\\, t}\\phantom{\\, t} } & = & -A\\left(r\\right) B\\left(r\\right) + B\\left(r\\right) C\\left(r\\right) + 2 \\, B\\left(r\\right) G\\left(r\\right) + \\frac{\\partial\\,B}{\\partial r} \\\\ X_{ \\, r \\, r }^{ \\phantom{\\, r}\\phantom{\\, r} } & = & -A\\left(r\\right)^{2} + A\\left(r\\right) C\\left(r\\right) + 2 \\, C\\left(r\\right) G\\left(r\\right) - 2 \\, G\\left(r\\right)^{2} - \\frac{\\partial\\,A}{\\partial r} - 2 \\, \\frac{\\partial\\,G}{\\partial r} \\\\ X_{ \\, {\\theta} \\, {\\theta} }^{ \\phantom{\\, {\\theta}}\\phantom{\\, {\\theta}} } & = & {\\left(A\\left(r\\right) + C\\left(r\\right)\\right)} F\\left(r\\right) + \\frac{\\partial\\,F}{\\partial r} + 1 \\\\ X_{ \\, {\\phi} \\, {\\phi} }^{ \\phantom{\\, {\\phi}}\\phantom{\\, {\\phi}} } & = & {\\left({\\left(A\\left(r\\right) + C\\left(r\\right)\\right)} F\\left(r\\right) + \\frac{\\partial\\,F}{\\partial r} + 1\\right)} \\sin\\left({\\theta}\\right)^{2} \\end{array}\\)</html>"
      ],
      "text/latex": [
       "$\\displaystyle \\begin{array}{lcl} X_{ \\, t \\, t }^{ \\phantom{\\, t}\\phantom{\\, t} } & = & -A\\left(r\\right) B\\left(r\\right) + B\\left(r\\right) C\\left(r\\right) + 2 \\, B\\left(r\\right) G\\left(r\\right) + \\frac{\\partial\\,B}{\\partial r} \\\\ X_{ \\, r \\, r }^{ \\phantom{\\, r}\\phantom{\\, r} } & = & -A\\left(r\\right)^{2} + A\\left(r\\right) C\\left(r\\right) + 2 \\, C\\left(r\\right) G\\left(r\\right) - 2 \\, G\\left(r\\right)^{2} - \\frac{\\partial\\,A}{\\partial r} - 2 \\, \\frac{\\partial\\,G}{\\partial r} \\\\ X_{ \\, {\\theta} \\, {\\theta} }^{ \\phantom{\\, {\\theta}}\\phantom{\\, {\\theta}} } & = & {\\left(A\\left(r\\right) + C\\left(r\\right)\\right)} F\\left(r\\right) + \\frac{\\partial\\,F}{\\partial r} + 1 \\\\ X_{ \\, {\\phi} \\, {\\phi} }^{ \\phantom{\\, {\\phi}}\\phantom{\\, {\\phi}} } & = & {\\left({\\left(A\\left(r\\right) + C\\left(r\\right)\\right)} F\\left(r\\right) + \\frac{\\partial\\,F}{\\partial r} + 1\\right)} \\sin\\left({\\theta}\\right)^{2} \\end{array}$"
      ],
      "text/plain": [
       "X_t,t = -A(r)*B(r) + B(r)*C(r) + 2*B(r)*G(r) + d(B)/dr \n",
       "X_r,r = -A(r)^2 + A(r)*C(r) + 2*C(r)*G(r) - 2*G(r)^2 - d(A)/dr - 2*d(G)/dr \n",
       "X_th,th = (A(r) + C(r))*F(r) + d(F)/dr + 1 \n",
       "X_ph,ph = ((A(r) + C(r))*F(r) + d(F)/dr + 1)*sin(th)^2 "
      ]
     },
     "execution_count": 77,
     "metadata": {},
     "output_type": "execute_result"
    }
   ],
   "source": [
    "Riem= T.riemann()\n",
    "Riem[\"^{a}_{bac}\"].display_comp()"
   ]
  },
  {
   "cell_type": "code",
   "execution_count": 78,
   "id": "867d28d8",
   "metadata": {},
   "outputs": [],
   "source": [
    "#Riem[\"^{a}_{abc}\"].display_comp()"
   ]
  },
  {
   "cell_type": "markdown",
   "id": "6b9d4285",
   "metadata": {},
   "source": [
    "## $\\mathcal{R}_{\\mu\\nu} = 0$"
   ]
  },
  {
   "cell_type": "code",
   "execution_count": 79,
   "id": "e3833a83",
   "metadata": {},
   "outputs": [
    {
     "data": {
      "text/html": [
       "<html>\\(\\displaystyle \\begin{array}{lcl} X_{ \\, t \\, t }^{ \\phantom{\\, t}\\phantom{\\, t} } & = & -A\\left(r\\right) B\\left(r\\right) + B\\left(r\\right) C\\left(r\\right) + 2 \\, B\\left(r\\right) G\\left(r\\right) + \\frac{\\partial\\,B}{\\partial r} \\\\ X_{ \\, r \\, r }^{ \\phantom{\\, r}\\phantom{\\, r} } & = & -A\\left(r\\right)^{2} + A\\left(r\\right) C\\left(r\\right) + 2 \\, C\\left(r\\right) G\\left(r\\right) - 2 \\, G\\left(r\\right)^{2} - \\frac{\\partial\\,A}{\\partial r} - 2 \\, \\frac{\\partial\\,G}{\\partial r} \\\\ X_{ \\, {\\theta} \\, {\\theta} }^{ \\phantom{\\, {\\theta}}\\phantom{\\, {\\theta}} } & = & {\\left(A\\left(r\\right) + C\\left(r\\right)\\right)} F\\left(r\\right) + \\frac{\\partial\\,F}{\\partial r} + 1 \\\\ X_{ \\, {\\phi} \\, {\\phi} }^{ \\phantom{\\, {\\phi}}\\phantom{\\, {\\phi}} } & = & {\\left({\\left(A\\left(r\\right) + C\\left(r\\right)\\right)} F\\left(r\\right) + \\frac{\\partial\\,F}{\\partial r} + 1\\right)} \\sin\\left({\\theta}\\right)^{2} \\end{array}\\)</html>"
      ],
      "text/latex": [
       "$\\displaystyle \\begin{array}{lcl} X_{ \\, t \\, t }^{ \\phantom{\\, t}\\phantom{\\, t} } & = & -A\\left(r\\right) B\\left(r\\right) + B\\left(r\\right) C\\left(r\\right) + 2 \\, B\\left(r\\right) G\\left(r\\right) + \\frac{\\partial\\,B}{\\partial r} \\\\ X_{ \\, r \\, r }^{ \\phantom{\\, r}\\phantom{\\, r} } & = & -A\\left(r\\right)^{2} + A\\left(r\\right) C\\left(r\\right) + 2 \\, C\\left(r\\right) G\\left(r\\right) - 2 \\, G\\left(r\\right)^{2} - \\frac{\\partial\\,A}{\\partial r} - 2 \\, \\frac{\\partial\\,G}{\\partial r} \\\\ X_{ \\, {\\theta} \\, {\\theta} }^{ \\phantom{\\, {\\theta}}\\phantom{\\, {\\theta}} } & = & {\\left(A\\left(r\\right) + C\\left(r\\right)\\right)} F\\left(r\\right) + \\frac{\\partial\\,F}{\\partial r} + 1 \\\\ X_{ \\, {\\phi} \\, {\\phi} }^{ \\phantom{\\, {\\phi}}\\phantom{\\, {\\phi}} } & = & {\\left({\\left(A\\left(r\\right) + C\\left(r\\right)\\right)} F\\left(r\\right) + \\frac{\\partial\\,F}{\\partial r} + 1\\right)} \\sin\\left({\\theta}\\right)^{2} \\end{array}$"
      ],
      "text/plain": [
       "X_t,t = -A(r)*B(r) + B(r)*C(r) + 2*B(r)*G(r) + d(B)/dr \n",
       "X_r,r = -A(r)^2 + A(r)*C(r) + 2*C(r)*G(r) - 2*G(r)^2 - d(A)/dr - 2*d(G)/dr \n",
       "X_th,th = (A(r) + C(r))*F(r) + d(F)/dr + 1 \n",
       "X_ph,ph = ((A(r) + C(r))*F(r) + d(F)/dr + 1)*sin(th)^2 "
      ]
     },
     "execution_count": 79,
     "metadata": {},
     "output_type": "execute_result"
    }
   ],
   "source": [
    "Ricci = T.ricci()\n",
    "Ricci.display_comp()"
   ]
  },
  {
   "cell_type": "markdown",
   "id": "f59b3018",
   "metadata": {},
   "source": [
    "## $\\nabla_\\delta \\mathcal{R}_{\\mu\\nu} = 0$"
   ]
  },
  {
   "cell_type": "code",
   "execution_count": 80,
   "id": "370024ca",
   "metadata": {},
   "outputs": [
    {
     "data": {
      "text/html": [
       "<html>\\(\\displaystyle \\begin{array}{lcl} X_{ \\, t \\, t \\, r }^{ \\phantom{\\, t}\\phantom{\\, t}\\phantom{\\, r} } & = & 2 \\, A\\left(r\\right)^{2} B\\left(r\\right) - 2 \\, A\\left(r\\right) B\\left(r\\right) C\\left(r\\right) - 4 \\, A\\left(r\\right) B\\left(r\\right) G\\left(r\\right) - B\\left(r\\right) \\frac{\\partial\\,A}{\\partial r} - {\\left(3 \\, A\\left(r\\right) - C\\left(r\\right) - 2 \\, G\\left(r\\right)\\right)} \\frac{\\partial\\,B}{\\partial r} + B\\left(r\\right) \\frac{\\partial\\,C}{\\partial r} + 2 \\, B\\left(r\\right) \\frac{\\partial\\,G}{\\partial r} + \\frac{\\partial^2\\,B}{\\partial r ^ 2} \\\\ X_{ \\, t \\, r \\, t }^{ \\phantom{\\, t}\\phantom{\\, r}\\phantom{\\, t} } & = & 2 \\, A\\left(r\\right)^{2} B\\left(r\\right) - 2 \\, A\\left(r\\right) B\\left(r\\right) C\\left(r\\right) + 2 \\, B\\left(r\\right) G\\left(r\\right)^{2} - 2 \\, {\\left(A\\left(r\\right) B\\left(r\\right) + B\\left(r\\right) C\\left(r\\right)\\right)} G\\left(r\\right) + B\\left(r\\right) \\frac{\\partial\\,A}{\\partial r} - A\\left(r\\right) \\frac{\\partial\\,B}{\\partial r} + 2 \\, B\\left(r\\right) \\frac{\\partial\\,G}{\\partial r} \\\\ X_{ \\, r \\, t \\, t }^{ \\phantom{\\, r}\\phantom{\\, t}\\phantom{\\, t} } & = & 2 \\, A\\left(r\\right)^{2} B\\left(r\\right) - 2 \\, A\\left(r\\right) B\\left(r\\right) C\\left(r\\right) + 2 \\, B\\left(r\\right) G\\left(r\\right)^{2} - 2 \\, {\\left(A\\left(r\\right) B\\left(r\\right) + B\\left(r\\right) C\\left(r\\right)\\right)} G\\left(r\\right) + B\\left(r\\right) \\frac{\\partial\\,A}{\\partial r} - A\\left(r\\right) \\frac{\\partial\\,B}{\\partial r} + 2 \\, B\\left(r\\right) \\frac{\\partial\\,G}{\\partial r} \\\\ X_{ \\, r \\, r \\, r }^{ \\phantom{\\, r}\\phantom{\\, r}\\phantom{\\, r} } & = & 2 \\, A\\left(r\\right)^{2} C\\left(r\\right) - 2 \\, A\\left(r\\right) C\\left(r\\right)^{2} - 4 \\, C\\left(r\\right)^{2} G\\left(r\\right) + 4 \\, C\\left(r\\right) G\\left(r\\right)^{2} - {\\left(2 \\, A\\left(r\\right) - 3 \\, C\\left(r\\right)\\right)} \\frac{\\partial\\,A}{\\partial r} + {\\left(A\\left(r\\right) + 2 \\, G\\left(r\\right)\\right)} \\frac{\\partial\\,C}{\\partial r} + 2 \\, {\\left(3 \\, C\\left(r\\right) - 2 \\, G\\left(r\\right)\\right)} \\frac{\\partial\\,G}{\\partial r} - \\frac{\\partial^2\\,A}{\\partial r ^ 2} - 2 \\, \\frac{\\partial^2\\,G}{\\partial r ^ 2} \\\\ X_{ \\, r \\, {\\theta} \\, {\\theta} }^{ \\phantom{\\, r}\\phantom{\\, {\\theta}}\\phantom{\\, {\\theta}} } & = & 2 \\, F\\left(r\\right) G\\left(r\\right)^{2} + {\\left(A\\left(r\\right)^{2} - A\\left(r\\right) C\\left(r\\right)\\right)} F\\left(r\\right) - {\\left({\\left(A\\left(r\\right) + 3 \\, C\\left(r\\right)\\right)} F\\left(r\\right) + 1\\right)} G\\left(r\\right) + F\\left(r\\right) \\frac{\\partial\\,A}{\\partial r} - G\\left(r\\right) \\frac{\\partial\\,F}{\\partial r} + 2 \\, F\\left(r\\right) \\frac{\\partial\\,G}{\\partial r} \\\\ X_{ \\, r \\, {\\phi} \\, {\\phi} }^{ \\phantom{\\, r}\\phantom{\\, {\\phi}}\\phantom{\\, {\\phi}} } & = & {\\left(2 \\, F\\left(r\\right) G\\left(r\\right)^{2} + {\\left(A\\left(r\\right)^{2} - A\\left(r\\right) C\\left(r\\right)\\right)} F\\left(r\\right) - {\\left({\\left(A\\left(r\\right) + 3 \\, C\\left(r\\right)\\right)} F\\left(r\\right) + 1\\right)} G\\left(r\\right) + F\\left(r\\right) \\frac{\\partial\\,A}{\\partial r} - G\\left(r\\right) \\frac{\\partial\\,F}{\\partial r} + 2 \\, F\\left(r\\right) \\frac{\\partial\\,G}{\\partial r}\\right)} \\sin\\left({\\theta}\\right)^{2} \\\\ X_{ \\, {\\theta} \\, r \\, {\\theta} }^{ \\phantom{\\, {\\theta}}\\phantom{\\, r}\\phantom{\\, {\\theta}} } & = & 2 \\, F\\left(r\\right) G\\left(r\\right)^{2} + {\\left(A\\left(r\\right)^{2} - A\\left(r\\right) C\\left(r\\right)\\right)} F\\left(r\\right) - {\\left({\\left(A\\left(r\\right) + 3 \\, C\\left(r\\right)\\right)} F\\left(r\\right) + 1\\right)} G\\left(r\\right) + F\\left(r\\right) \\frac{\\partial\\,A}{\\partial r} - G\\left(r\\right) \\frac{\\partial\\,F}{\\partial r} + 2 \\, F\\left(r\\right) \\frac{\\partial\\,G}{\\partial r} \\\\ X_{ \\, {\\theta} \\, {\\theta} \\, r }^{ \\phantom{\\, {\\theta}}\\phantom{\\, {\\theta}}\\phantom{\\, r} } & = & -2 \\, {\\left({\\left(A\\left(r\\right) + C\\left(r\\right)\\right)} F\\left(r\\right) + 1\\right)} G\\left(r\\right) + F\\left(r\\right) \\frac{\\partial\\,A}{\\partial r} + F\\left(r\\right) \\frac{\\partial\\,C}{\\partial r} + {\\left(A\\left(r\\right) + C\\left(r\\right) - 2 \\, G\\left(r\\right)\\right)} \\frac{\\partial\\,F}{\\partial r} + \\frac{\\partial^2\\,F}{\\partial r ^ 2} \\\\ X_{ \\, {\\phi} \\, r \\, {\\phi} }^{ \\phantom{\\, {\\phi}}\\phantom{\\, r}\\phantom{\\, {\\phi}} } & = & {\\left(2 \\, F\\left(r\\right) G\\left(r\\right)^{2} + {\\left(A\\left(r\\right)^{2} - A\\left(r\\right) C\\left(r\\right)\\right)} F\\left(r\\right) - {\\left({\\left(A\\left(r\\right) + 3 \\, C\\left(r\\right)\\right)} F\\left(r\\right) + 1\\right)} G\\left(r\\right) + F\\left(r\\right) \\frac{\\partial\\,A}{\\partial r} - G\\left(r\\right) \\frac{\\partial\\,F}{\\partial r} + 2 \\, F\\left(r\\right) \\frac{\\partial\\,G}{\\partial r}\\right)} \\sin\\left({\\theta}\\right)^{2} \\\\ X_{ \\, {\\phi} \\, {\\phi} \\, r }^{ \\phantom{\\, {\\phi}}\\phantom{\\, {\\phi}}\\phantom{\\, r} } & = & -{\\left(2 \\, {\\left({\\left(A\\left(r\\right) + C\\left(r\\right)\\right)} F\\left(r\\right) + 1\\right)} G\\left(r\\right) - F\\left(r\\right) \\frac{\\partial\\,A}{\\partial r} - F\\left(r\\right) \\frac{\\partial\\,C}{\\partial r} - {\\left(A\\left(r\\right) + C\\left(r\\right) - 2 \\, G\\left(r\\right)\\right)} \\frac{\\partial\\,F}{\\partial r} - \\frac{\\partial^2\\,F}{\\partial r ^ 2}\\right)} \\sin\\left({\\theta}\\right)^{2} \\end{array}\\)</html>"
      ],
      "text/latex": [
       "$\\displaystyle \\begin{array}{lcl} X_{ \\, t \\, t \\, r }^{ \\phantom{\\, t}\\phantom{\\, t}\\phantom{\\, r} } & = & 2 \\, A\\left(r\\right)^{2} B\\left(r\\right) - 2 \\, A\\left(r\\right) B\\left(r\\right) C\\left(r\\right) - 4 \\, A\\left(r\\right) B\\left(r\\right) G\\left(r\\right) - B\\left(r\\right) \\frac{\\partial\\,A}{\\partial r} - {\\left(3 \\, A\\left(r\\right) - C\\left(r\\right) - 2 \\, G\\left(r\\right)\\right)} \\frac{\\partial\\,B}{\\partial r} + B\\left(r\\right) \\frac{\\partial\\,C}{\\partial r} + 2 \\, B\\left(r\\right) \\frac{\\partial\\,G}{\\partial r} + \\frac{\\partial^2\\,B}{\\partial r ^ 2} \\\\ X_{ \\, t \\, r \\, t }^{ \\phantom{\\, t}\\phantom{\\, r}\\phantom{\\, t} } & = & 2 \\, A\\left(r\\right)^{2} B\\left(r\\right) - 2 \\, A\\left(r\\right) B\\left(r\\right) C\\left(r\\right) + 2 \\, B\\left(r\\right) G\\left(r\\right)^{2} - 2 \\, {\\left(A\\left(r\\right) B\\left(r\\right) + B\\left(r\\right) C\\left(r\\right)\\right)} G\\left(r\\right) + B\\left(r\\right) \\frac{\\partial\\,A}{\\partial r} - A\\left(r\\right) \\frac{\\partial\\,B}{\\partial r} + 2 \\, B\\left(r\\right) \\frac{\\partial\\,G}{\\partial r} \\\\ X_{ \\, r \\, t \\, t }^{ \\phantom{\\, r}\\phantom{\\, t}\\phantom{\\, t} } & = & 2 \\, A\\left(r\\right)^{2} B\\left(r\\right) - 2 \\, A\\left(r\\right) B\\left(r\\right) C\\left(r\\right) + 2 \\, B\\left(r\\right) G\\left(r\\right)^{2} - 2 \\, {\\left(A\\left(r\\right) B\\left(r\\right) + B\\left(r\\right) C\\left(r\\right)\\right)} G\\left(r\\right) + B\\left(r\\right) \\frac{\\partial\\,A}{\\partial r} - A\\left(r\\right) \\frac{\\partial\\,B}{\\partial r} + 2 \\, B\\left(r\\right) \\frac{\\partial\\,G}{\\partial r} \\\\ X_{ \\, r \\, r \\, r }^{ \\phantom{\\, r}\\phantom{\\, r}\\phantom{\\, r} } & = & 2 \\, A\\left(r\\right)^{2} C\\left(r\\right) - 2 \\, A\\left(r\\right) C\\left(r\\right)^{2} - 4 \\, C\\left(r\\right)^{2} G\\left(r\\right) + 4 \\, C\\left(r\\right) G\\left(r\\right)^{2} - {\\left(2 \\, A\\left(r\\right) - 3 \\, C\\left(r\\right)\\right)} \\frac{\\partial\\,A}{\\partial r} + {\\left(A\\left(r\\right) + 2 \\, G\\left(r\\right)\\right)} \\frac{\\partial\\,C}{\\partial r} + 2 \\, {\\left(3 \\, C\\left(r\\right) - 2 \\, G\\left(r\\right)\\right)} \\frac{\\partial\\,G}{\\partial r} - \\frac{\\partial^2\\,A}{\\partial r ^ 2} - 2 \\, \\frac{\\partial^2\\,G}{\\partial r ^ 2} \\\\ X_{ \\, r \\, {\\theta} \\, {\\theta} }^{ \\phantom{\\, r}\\phantom{\\, {\\theta}}\\phantom{\\, {\\theta}} } & = & 2 \\, F\\left(r\\right) G\\left(r\\right)^{2} + {\\left(A\\left(r\\right)^{2} - A\\left(r\\right) C\\left(r\\right)\\right)} F\\left(r\\right) - {\\left({\\left(A\\left(r\\right) + 3 \\, C\\left(r\\right)\\right)} F\\left(r\\right) + 1\\right)} G\\left(r\\right) + F\\left(r\\right) \\frac{\\partial\\,A}{\\partial r} - G\\left(r\\right) \\frac{\\partial\\,F}{\\partial r} + 2 \\, F\\left(r\\right) \\frac{\\partial\\,G}{\\partial r} \\\\ X_{ \\, r \\, {\\phi} \\, {\\phi} }^{ \\phantom{\\, r}\\phantom{\\, {\\phi}}\\phantom{\\, {\\phi}} } & = & {\\left(2 \\, F\\left(r\\right) G\\left(r\\right)^{2} + {\\left(A\\left(r\\right)^{2} - A\\left(r\\right) C\\left(r\\right)\\right)} F\\left(r\\right) - {\\left({\\left(A\\left(r\\right) + 3 \\, C\\left(r\\right)\\right)} F\\left(r\\right) + 1\\right)} G\\left(r\\right) + F\\left(r\\right) \\frac{\\partial\\,A}{\\partial r} - G\\left(r\\right) \\frac{\\partial\\,F}{\\partial r} + 2 \\, F\\left(r\\right) \\frac{\\partial\\,G}{\\partial r}\\right)} \\sin\\left({\\theta}\\right)^{2} \\\\ X_{ \\, {\\theta} \\, r \\, {\\theta} }^{ \\phantom{\\, {\\theta}}\\phantom{\\, r}\\phantom{\\, {\\theta}} } & = & 2 \\, F\\left(r\\right) G\\left(r\\right)^{2} + {\\left(A\\left(r\\right)^{2} - A\\left(r\\right) C\\left(r\\right)\\right)} F\\left(r\\right) - {\\left({\\left(A\\left(r\\right) + 3 \\, C\\left(r\\right)\\right)} F\\left(r\\right) + 1\\right)} G\\left(r\\right) + F\\left(r\\right) \\frac{\\partial\\,A}{\\partial r} - G\\left(r\\right) \\frac{\\partial\\,F}{\\partial r} + 2 \\, F\\left(r\\right) \\frac{\\partial\\,G}{\\partial r} \\\\ X_{ \\, {\\theta} \\, {\\theta} \\, r }^{ \\phantom{\\, {\\theta}}\\phantom{\\, {\\theta}}\\phantom{\\, r} } & = & -2 \\, {\\left({\\left(A\\left(r\\right) + C\\left(r\\right)\\right)} F\\left(r\\right) + 1\\right)} G\\left(r\\right) + F\\left(r\\right) \\frac{\\partial\\,A}{\\partial r} + F\\left(r\\right) \\frac{\\partial\\,C}{\\partial r} + {\\left(A\\left(r\\right) + C\\left(r\\right) - 2 \\, G\\left(r\\right)\\right)} \\frac{\\partial\\,F}{\\partial r} + \\frac{\\partial^2\\,F}{\\partial r ^ 2} \\\\ X_{ \\, {\\phi} \\, r \\, {\\phi} }^{ \\phantom{\\, {\\phi}}\\phantom{\\, r}\\phantom{\\, {\\phi}} } & = & {\\left(2 \\, F\\left(r\\right) G\\left(r\\right)^{2} + {\\left(A\\left(r\\right)^{2} - A\\left(r\\right) C\\left(r\\right)\\right)} F\\left(r\\right) - {\\left({\\left(A\\left(r\\right) + 3 \\, C\\left(r\\right)\\right)} F\\left(r\\right) + 1\\right)} G\\left(r\\right) + F\\left(r\\right) \\frac{\\partial\\,A}{\\partial r} - G\\left(r\\right) \\frac{\\partial\\,F}{\\partial r} + 2 \\, F\\left(r\\right) \\frac{\\partial\\,G}{\\partial r}\\right)} \\sin\\left({\\theta}\\right)^{2} \\\\ X_{ \\, {\\phi} \\, {\\phi} \\, r }^{ \\phantom{\\, {\\phi}}\\phantom{\\, {\\phi}}\\phantom{\\, r} } & = & -{\\left(2 \\, {\\left({\\left(A\\left(r\\right) + C\\left(r\\right)\\right)} F\\left(r\\right) + 1\\right)} G\\left(r\\right) - F\\left(r\\right) \\frac{\\partial\\,A}{\\partial r} - F\\left(r\\right) \\frac{\\partial\\,C}{\\partial r} - {\\left(A\\left(r\\right) + C\\left(r\\right) - 2 \\, G\\left(r\\right)\\right)} \\frac{\\partial\\,F}{\\partial r} - \\frac{\\partial^2\\,F}{\\partial r ^ 2}\\right)} \\sin\\left({\\theta}\\right)^{2} \\end{array}$"
      ],
      "text/plain": [
       "X_t,t,r = 2*A(r)^2*B(r) - 2*A(r)*B(r)*C(r) - 4*A(r)*B(r)*G(r) - B(r)*d(A)/dr - (3*A(r) - C(r) - 2*G(r))*d(B)/dr + B(r)*d(C)/dr + 2*B(r)*d(G)/dr + d^2(B)/dr^2 \n",
       "X_t,r,t = 2*A(r)^2*B(r) - 2*A(r)*B(r)*C(r) + 2*B(r)*G(r)^2 - 2*(A(r)*B(r) + B(r)*C(r))*G(r) + B(r)*d(A)/dr - A(r)*d(B)/dr + 2*B(r)*d(G)/dr \n",
       "X_r,t,t = 2*A(r)^2*B(r) - 2*A(r)*B(r)*C(r) + 2*B(r)*G(r)^2 - 2*(A(r)*B(r) + B(r)*C(r))*G(r) + B(r)*d(A)/dr - A(r)*d(B)/dr + 2*B(r)*d(G)/dr \n",
       "X_r,r,r = 2*A(r)^2*C(r) - 2*A(r)*C(r)^2 - 4*C(r)^2*G(r) + 4*C(r)*G(r)^2 - (2*A(r) - 3*C(r))*d(A)/dr + (A(r) + 2*G(r))*d(C)/dr + 2*(3*C(r) - 2*G(r))*d(G)/dr - d^2(A)/dr^2 - 2*d^2(G)/dr^2 \n",
       "X_r,th,th = 2*F(r)*G(r)^2 + (A(r)^2 - A(r)*C(r))*F(r) - ((A(r) + 3*C(r))*F(r) + 1)*G(r) + F(r)*d(A)/dr - G(r)*d(F)/dr + 2*F(r)*d(G)/dr \n",
       "X_r,ph,ph = (2*F(r)*G(r)^2 + (A(r)^2 - A(r)*C(r))*F(r) - ((A(r) + 3*C(r))*F(r) + 1)*G(r) + F(r)*d(A)/dr - G(r)*d(F)/dr + 2*F(r)*d(G)/dr)*sin(th)^2 \n",
       "X_th,r,th = 2*F(r)*G(r)^2 + (A(r)^2 - A(r)*C(r))*F(r) - ((A(r) + 3*C(r))*F(r) + 1)*G(r) + F(r)*d(A)/dr - G(r)*d(F)/dr + 2*F(r)*d(G)/dr \n",
       "X_th,th,r = -2*((A(r) + C(r))*F(r) + 1)*G(r) + F(r)*d(A)/dr + F(r)*d(C)/dr + (A(r) + C(r) - 2*G(r))*d(F)/dr + d^2(F)/dr^2 \n",
       "X_ph,r,ph = (2*F(r)*G(r)^2 + (A(r)^2 - A(r)*C(r))*F(r) - ((A(r) + 3*C(r))*F(r) + 1)*G(r) + F(r)*d(A)/dr - G(r)*d(F)/dr + 2*F(r)*d(G)/dr)*sin(th)^2 \n",
       "X_ph,ph,r = -(2*((A(r) + C(r))*F(r) + 1)*G(r) - F(r)*d(A)/dr - F(r)*d(C)/dr - (A(r) + C(r) - 2*G(r))*d(F)/dr - d^2(F)/dr^2)*sin(th)^2 "
      ]
     },
     "execution_count": 80,
     "metadata": {},
     "output_type": "execute_result"
    }
   ],
   "source": [
    "NRicci = T(Ricci)\n",
    "NRicci.display_comp()"
   ]
  },
  {
   "cell_type": "markdown",
   "id": "6b56a7e7",
   "metadata": {},
   "source": [
    "## $\\nabla_{[\\delta} \\mathcal{R}_{\\mu]\\nu} = 0$"
   ]
  },
  {
   "cell_type": "code",
   "execution_count": 81,
   "id": "bf8f9cc8",
   "metadata": {},
   "outputs": [
    {
     "data": {
      "text/html": [
       "<html>\\(\\displaystyle \\begin{array}{lcl} X_{ \\, t \\, t \\, r }^{ \\phantom{\\, t}\\phantom{\\, t}\\phantom{\\, r} } & = & -B\\left(r\\right) G\\left(r\\right)^{2} - {\\left(A\\left(r\\right) B\\left(r\\right) - B\\left(r\\right) C\\left(r\\right)\\right)} G\\left(r\\right) - B\\left(r\\right) \\frac{\\partial\\,A}{\\partial r} - \\frac{1}{2} \\, {\\left(2 \\, A\\left(r\\right) - C\\left(r\\right) - 2 \\, G\\left(r\\right)\\right)} \\frac{\\partial\\,B}{\\partial r} + \\frac{1}{2} \\, B\\left(r\\right) \\frac{\\partial\\,C}{\\partial r} + \\frac{1}{2} \\, \\frac{\\partial^2\\,B}{\\partial r ^ 2} \\\\ X_{ \\, r \\, {\\theta} \\, {\\theta} }^{ \\phantom{\\, r}\\phantom{\\, {\\theta}}\\phantom{\\, {\\theta}} } & = & F\\left(r\\right) G\\left(r\\right)^{2} + \\frac{1}{2} \\, {\\left(A\\left(r\\right)^{2} - A\\left(r\\right) C\\left(r\\right)\\right)} F\\left(r\\right) + \\frac{1}{2} \\, {\\left({\\left(A\\left(r\\right) - C\\left(r\\right)\\right)} F\\left(r\\right) + 1\\right)} G\\left(r\\right) - \\frac{1}{2} \\, F\\left(r\\right) \\frac{\\partial\\,C}{\\partial r} - \\frac{1}{2} \\, {\\left(A\\left(r\\right) + C\\left(r\\right) - G\\left(r\\right)\\right)} \\frac{\\partial\\,F}{\\partial r} + F\\left(r\\right) \\frac{\\partial\\,G}{\\partial r} - \\frac{1}{2} \\, \\frac{\\partial^2\\,F}{\\partial r ^ 2} \\\\ X_{ \\, r \\, {\\phi} \\, {\\phi} }^{ \\phantom{\\, r}\\phantom{\\, {\\phi}}\\phantom{\\, {\\phi}} } & = & \\frac{1}{2} \\, {\\left(2 \\, F\\left(r\\right) G\\left(r\\right)^{2} + {\\left(A\\left(r\\right)^{2} - A\\left(r\\right) C\\left(r\\right)\\right)} F\\left(r\\right) + {\\left({\\left(A\\left(r\\right) - C\\left(r\\right)\\right)} F\\left(r\\right) + 1\\right)} G\\left(r\\right) - F\\left(r\\right) \\frac{\\partial\\,C}{\\partial r} - {\\left(A\\left(r\\right) + C\\left(r\\right) - G\\left(r\\right)\\right)} \\frac{\\partial\\,F}{\\partial r} + 2 \\, F\\left(r\\right) \\frac{\\partial\\,G}{\\partial r} - \\frac{\\partial^2\\,F}{\\partial r ^ 2}\\right)} \\sin\\left({\\theta}\\right)^{2} \\end{array}\\)</html>"
      ],
      "text/latex": [
       "$\\displaystyle \\begin{array}{lcl} X_{ \\, t \\, t \\, r }^{ \\phantom{\\, t}\\phantom{\\, t}\\phantom{\\, r} } & = & -B\\left(r\\right) G\\left(r\\right)^{2} - {\\left(A\\left(r\\right) B\\left(r\\right) - B\\left(r\\right) C\\left(r\\right)\\right)} G\\left(r\\right) - B\\left(r\\right) \\frac{\\partial\\,A}{\\partial r} - \\frac{1}{2} \\, {\\left(2 \\, A\\left(r\\right) - C\\left(r\\right) - 2 \\, G\\left(r\\right)\\right)} \\frac{\\partial\\,B}{\\partial r} + \\frac{1}{2} \\, B\\left(r\\right) \\frac{\\partial\\,C}{\\partial r} + \\frac{1}{2} \\, \\frac{\\partial^2\\,B}{\\partial r ^ 2} \\\\ X_{ \\, r \\, {\\theta} \\, {\\theta} }^{ \\phantom{\\, r}\\phantom{\\, {\\theta}}\\phantom{\\, {\\theta}} } & = & F\\left(r\\right) G\\left(r\\right)^{2} + \\frac{1}{2} \\, {\\left(A\\left(r\\right)^{2} - A\\left(r\\right) C\\left(r\\right)\\right)} F\\left(r\\right) + \\frac{1}{2} \\, {\\left({\\left(A\\left(r\\right) - C\\left(r\\right)\\right)} F\\left(r\\right) + 1\\right)} G\\left(r\\right) - \\frac{1}{2} \\, F\\left(r\\right) \\frac{\\partial\\,C}{\\partial r} - \\frac{1}{2} \\, {\\left(A\\left(r\\right) + C\\left(r\\right) - G\\left(r\\right)\\right)} \\frac{\\partial\\,F}{\\partial r} + F\\left(r\\right) \\frac{\\partial\\,G}{\\partial r} - \\frac{1}{2} \\, \\frac{\\partial^2\\,F}{\\partial r ^ 2} \\\\ X_{ \\, r \\, {\\phi} \\, {\\phi} }^{ \\phantom{\\, r}\\phantom{\\, {\\phi}}\\phantom{\\, {\\phi}} } & = & \\frac{1}{2} \\, {\\left(2 \\, F\\left(r\\right) G\\left(r\\right)^{2} + {\\left(A\\left(r\\right)^{2} - A\\left(r\\right) C\\left(r\\right)\\right)} F\\left(r\\right) + {\\left({\\left(A\\left(r\\right) - C\\left(r\\right)\\right)} F\\left(r\\right) + 1\\right)} G\\left(r\\right) - F\\left(r\\right) \\frac{\\partial\\,C}{\\partial r} - {\\left(A\\left(r\\right) + C\\left(r\\right) - G\\left(r\\right)\\right)} \\frac{\\partial\\,F}{\\partial r} + 2 \\, F\\left(r\\right) \\frac{\\partial\\,G}{\\partial r} - \\frac{\\partial^2\\,F}{\\partial r ^ 2}\\right)} \\sin\\left({\\theta}\\right)^{2} \\end{array}$"
      ],
      "text/plain": [
       "X_t,t,r = -B(r)*G(r)^2 - (A(r)*B(r) - B(r)*C(r))*G(r) - B(r)*d(A)/dr - 1/2*(2*A(r) - C(r) - 2*G(r))*d(B)/dr + 1/2*B(r)*d(C)/dr + 1/2*d^2(B)/dr^2 \n",
       "X_r,th,th = F(r)*G(r)^2 + 1/2*(A(r)^2 - A(r)*C(r))*F(r) + 1/2*((A(r) - C(r))*F(r) + 1)*G(r) - 1/2*F(r)*d(C)/dr - 1/2*(A(r) + C(r) - G(r))*d(F)/dr + F(r)*d(G)/dr - 1/2*d^2(F)/dr^2 \n",
       "X_r,ph,ph = 1/2*(2*F(r)*G(r)^2 + (A(r)^2 - A(r)*C(r))*F(r) + ((A(r) - C(r))*F(r) + 1)*G(r) - F(r)*d(C)/dr - (A(r) + C(r) - G(r))*d(F)/dr + 2*F(r)*d(G)/dr - d^2(F)/dr^2)*sin(th)^2 "
      ]
     },
     "execution_count": 81,
     "metadata": {},
     "output_type": "execute_result"
    }
   ],
   "source": [
    "NRicci.antisymmetrize(0,2).display_comp(only_nonredundant=True)"
   ]
  },
  {
   "cell_type": "markdown",
   "id": "1629134b",
   "metadata": {},
   "source": [
    "# Solving $\\nabla_{[\\delta} \\mathcal{R}_{\\mu]\\nu} = 0 \\to \\nabla_{[\\delta} k_{\\mu]\\nu} = 0$"
   ]
  },
  {
   "cell_type": "code",
   "execution_count": 82,
   "id": "49201045",
   "metadata": {},
   "outputs": [
    {
     "data": {
      "text/html": [
       "<html>\\(\\displaystyle \\begin{array}{lcl} X_{ \\, t \\, t }^{ \\phantom{\\, t}\\phantom{\\, t} } & = & a\\left(r\\right) \\\\ X_{ \\, r \\, r }^{ \\phantom{\\, r}\\phantom{\\, r} } & = & b\\left(r\\right) \\\\ X_{ \\, {\\theta} \\, {\\theta} }^{ \\phantom{\\, {\\theta}}\\phantom{\\, {\\theta}} } & = & r^{2} \\\\ X_{ \\, {\\phi} \\, {\\phi} }^{ \\phantom{\\, {\\phi}}\\phantom{\\, {\\phi}} } & = & r^{2} \\sin\\left({\\theta}\\right)^{2} \\end{array}\\)</html>"
      ],
      "text/latex": [
       "$\\displaystyle \\begin{array}{lcl} X_{ \\, t \\, t }^{ \\phantom{\\, t}\\phantom{\\, t} } & = & a\\left(r\\right) \\\\ X_{ \\, r \\, r }^{ \\phantom{\\, r}\\phantom{\\, r} } & = & b\\left(r\\right) \\\\ X_{ \\, {\\theta} \\, {\\theta} }^{ \\phantom{\\, {\\theta}}\\phantom{\\, {\\theta}} } & = & r^{2} \\\\ X_{ \\, {\\phi} \\, {\\phi} }^{ \\phantom{\\, {\\phi}}\\phantom{\\, {\\phi}} } & = & r^{2} \\sin\\left({\\theta}\\right)^{2} \\end{array}$"
      ],
      "text/plain": [
       "X_t,t = a(r) \n",
       "X_r,r = b(r) \n",
       "X_th,th = r^2 \n",
       "X_ph,ph = r^2*sin(th)^2 "
      ]
     },
     "execution_count": 82,
     "metadata": {},
     "output_type": "execute_result"
    }
   ],
   "source": [
    "k = M.tensor_field(0,2)\n",
    "a = function('a')(r)\n",
    "b = function('b')(r)\n",
    "\n",
    "k[0,0] = a\n",
    "k[1,1] = b\n",
    "k[2,2] = r**2\n",
    "k[3,3] = r**2*(sin(th))**2\n",
    "k.display_comp()"
   ]
  },
  {
   "cell_type": "code",
   "execution_count": 83,
   "id": "c632350e",
   "metadata": {},
   "outputs": [
    {
     "data": {
      "text/html": [
       "<html>\\(\\displaystyle \\begin{array}{lcl} X_{ \\, t \\, t \\, r }^{ \\phantom{\\, t}\\phantom{\\, t}\\phantom{\\, r} } & = & -2 \\, A\\left(r\\right) a\\left(r\\right) + \\frac{\\partial\\,a}{\\partial r} \\\\ X_{ \\, t \\, r \\, t }^{ \\phantom{\\, t}\\phantom{\\, r}\\phantom{\\, t} } & = & -A\\left(r\\right) a\\left(r\\right) - B\\left(r\\right) b\\left(r\\right) \\\\ X_{ \\, r \\, t \\, t }^{ \\phantom{\\, r}\\phantom{\\, t}\\phantom{\\, t} } & = & -A\\left(r\\right) a\\left(r\\right) - B\\left(r\\right) b\\left(r\\right) \\\\ X_{ \\, r \\, r \\, r }^{ \\phantom{\\, r}\\phantom{\\, r}\\phantom{\\, r} } & = & -2 \\, C\\left(r\\right) b\\left(r\\right) + \\frac{\\partial\\,b}{\\partial r} \\\\ X_{ \\, r \\, {\\theta} \\, {\\theta} }^{ \\phantom{\\, r}\\phantom{\\, {\\theta}}\\phantom{\\, {\\theta}} } & = & -r^{2} G\\left(r\\right) - F\\left(r\\right) b\\left(r\\right) \\\\ X_{ \\, r \\, {\\phi} \\, {\\phi} }^{ \\phantom{\\, r}\\phantom{\\, {\\phi}}\\phantom{\\, {\\phi}} } & = & -{\\left(r^{2} G\\left(r\\right) + F\\left(r\\right) b\\left(r\\right)\\right)} \\sin\\left({\\theta}\\right)^{2} \\\\ X_{ \\, {\\theta} \\, r \\, {\\theta} }^{ \\phantom{\\, {\\theta}}\\phantom{\\, r}\\phantom{\\, {\\theta}} } & = & -r^{2} G\\left(r\\right) - F\\left(r\\right) b\\left(r\\right) \\\\ X_{ \\, {\\theta} \\, {\\theta} \\, r }^{ \\phantom{\\, {\\theta}}\\phantom{\\, {\\theta}}\\phantom{\\, r} } & = & -2 \\, r^{2} G\\left(r\\right) + 2 \\, r \\\\ X_{ \\, {\\phi} \\, r \\, {\\phi} }^{ \\phantom{\\, {\\phi}}\\phantom{\\, r}\\phantom{\\, {\\phi}} } & = & -{\\left(r^{2} G\\left(r\\right) + F\\left(r\\right) b\\left(r\\right)\\right)} \\sin\\left({\\theta}\\right)^{2} \\\\ X_{ \\, {\\phi} \\, {\\phi} \\, r }^{ \\phantom{\\, {\\phi}}\\phantom{\\, {\\phi}}\\phantom{\\, r} } & = & -2 \\, {\\left(r^{2} G\\left(r\\right) - r\\right)} \\sin\\left({\\theta}\\right)^{2} \\end{array}\\)</html>"
      ],
      "text/latex": [
       "$\\displaystyle \\begin{array}{lcl} X_{ \\, t \\, t \\, r }^{ \\phantom{\\, t}\\phantom{\\, t}\\phantom{\\, r} } & = & -2 \\, A\\left(r\\right) a\\left(r\\right) + \\frac{\\partial\\,a}{\\partial r} \\\\ X_{ \\, t \\, r \\, t }^{ \\phantom{\\, t}\\phantom{\\, r}\\phantom{\\, t} } & = & -A\\left(r\\right) a\\left(r\\right) - B\\left(r\\right) b\\left(r\\right) \\\\ X_{ \\, r \\, t \\, t }^{ \\phantom{\\, r}\\phantom{\\, t}\\phantom{\\, t} } & = & -A\\left(r\\right) a\\left(r\\right) - B\\left(r\\right) b\\left(r\\right) \\\\ X_{ \\, r \\, r \\, r }^{ \\phantom{\\, r}\\phantom{\\, r}\\phantom{\\, r} } & = & -2 \\, C\\left(r\\right) b\\left(r\\right) + \\frac{\\partial\\,b}{\\partial r} \\\\ X_{ \\, r \\, {\\theta} \\, {\\theta} }^{ \\phantom{\\, r}\\phantom{\\, {\\theta}}\\phantom{\\, {\\theta}} } & = & -r^{2} G\\left(r\\right) - F\\left(r\\right) b\\left(r\\right) \\\\ X_{ \\, r \\, {\\phi} \\, {\\phi} }^{ \\phantom{\\, r}\\phantom{\\, {\\phi}}\\phantom{\\, {\\phi}} } & = & -{\\left(r^{2} G\\left(r\\right) + F\\left(r\\right) b\\left(r\\right)\\right)} \\sin\\left({\\theta}\\right)^{2} \\\\ X_{ \\, {\\theta} \\, r \\, {\\theta} }^{ \\phantom{\\, {\\theta}}\\phantom{\\, r}\\phantom{\\, {\\theta}} } & = & -r^{2} G\\left(r\\right) - F\\left(r\\right) b\\left(r\\right) \\\\ X_{ \\, {\\theta} \\, {\\theta} \\, r }^{ \\phantom{\\, {\\theta}}\\phantom{\\, {\\theta}}\\phantom{\\, r} } & = & -2 \\, r^{2} G\\left(r\\right) + 2 \\, r \\\\ X_{ \\, {\\phi} \\, r \\, {\\phi} }^{ \\phantom{\\, {\\phi}}\\phantom{\\, r}\\phantom{\\, {\\phi}} } & = & -{\\left(r^{2} G\\left(r\\right) + F\\left(r\\right) b\\left(r\\right)\\right)} \\sin\\left({\\theta}\\right)^{2} \\\\ X_{ \\, {\\phi} \\, {\\phi} \\, r }^{ \\phantom{\\, {\\phi}}\\phantom{\\, {\\phi}}\\phantom{\\, r} } & = & -2 \\, {\\left(r^{2} G\\left(r\\right) - r\\right)} \\sin\\left({\\theta}\\right)^{2} \\end{array}$"
      ],
      "text/plain": [
       "X_t,t,r = -2*A(r)*a(r) + d(a)/dr \n",
       "X_t,r,t = -A(r)*a(r) - B(r)*b(r) \n",
       "X_r,t,t = -A(r)*a(r) - B(r)*b(r) \n",
       "X_r,r,r = -2*C(r)*b(r) + d(b)/dr \n",
       "X_r,th,th = -r^2*G(r) - F(r)*b(r) \n",
       "X_r,ph,ph = -(r^2*G(r) + F(r)*b(r))*sin(th)^2 \n",
       "X_th,r,th = -r^2*G(r) - F(r)*b(r) \n",
       "X_th,th,r = -2*r^2*G(r) + 2*r \n",
       "X_ph,r,ph = -(r^2*G(r) + F(r)*b(r))*sin(th)^2 \n",
       "X_ph,ph,r = -2*(r^2*G(r) - r)*sin(th)^2 "
      ]
     },
     "execution_count": 83,
     "metadata": {},
     "output_type": "execute_result"
    }
   ],
   "source": [
    "NK = T(k)\n",
    "NK.display_comp()"
   ]
  },
  {
   "cell_type": "code",
   "execution_count": 84,
   "id": "86a5d057",
   "metadata": {},
   "outputs": [
    {
     "data": {
      "text/html": [
       "<html>\\(\\displaystyle \\begin{array}{lcl} X_{ \\, t \\, t \\, r }^{ \\phantom{\\, t}\\phantom{\\, t}\\phantom{\\, r} } & = & -\\frac{1}{2} \\, A\\left(r\\right) a\\left(r\\right) + \\frac{1}{2} \\, B\\left(r\\right) b\\left(r\\right) + \\frac{1}{2} \\, \\frac{\\partial\\,a}{\\partial r} \\\\ X_{ \\, r \\, {\\theta} \\, {\\theta} }^{ \\phantom{\\, r}\\phantom{\\, {\\theta}}\\phantom{\\, {\\theta}} } & = & \\frac{1}{2} \\, r^{2} G\\left(r\\right) - \\frac{1}{2} \\, F\\left(r\\right) b\\left(r\\right) - r \\\\ X_{ \\, r \\, {\\phi} \\, {\\phi} }^{ \\phantom{\\, r}\\phantom{\\, {\\phi}}\\phantom{\\, {\\phi}} } & = & \\frac{1}{2} \\, {\\left(r^{2} G\\left(r\\right) - F\\left(r\\right) b\\left(r\\right) - 2 \\, r\\right)} \\sin\\left({\\theta}\\right)^{2} \\end{array}\\)</html>"
      ],
      "text/latex": [
       "$\\displaystyle \\begin{array}{lcl} X_{ \\, t \\, t \\, r }^{ \\phantom{\\, t}\\phantom{\\, t}\\phantom{\\, r} } & = & -\\frac{1}{2} \\, A\\left(r\\right) a\\left(r\\right) + \\frac{1}{2} \\, B\\left(r\\right) b\\left(r\\right) + \\frac{1}{2} \\, \\frac{\\partial\\,a}{\\partial r} \\\\ X_{ \\, r \\, {\\theta} \\, {\\theta} }^{ \\phantom{\\, r}\\phantom{\\, {\\theta}}\\phantom{\\, {\\theta}} } & = & \\frac{1}{2} \\, r^{2} G\\left(r\\right) - \\frac{1}{2} \\, F\\left(r\\right) b\\left(r\\right) - r \\\\ X_{ \\, r \\, {\\phi} \\, {\\phi} }^{ \\phantom{\\, r}\\phantom{\\, {\\phi}}\\phantom{\\, {\\phi}} } & = & \\frac{1}{2} \\, {\\left(r^{2} G\\left(r\\right) - F\\left(r\\right) b\\left(r\\right) - 2 \\, r\\right)} \\sin\\left({\\theta}\\right)^{2} \\end{array}$"
      ],
      "text/plain": [
       "X_t,t,r = -1/2*A(r)*a(r) + 1/2*B(r)*b(r) + 1/2*d(a)/dr \n",
       "X_r,th,th = 1/2*r^2*G(r) - 1/2*F(r)*b(r) - r \n",
       "X_r,ph,ph = 1/2*(r^2*G(r) - F(r)*b(r) - 2*r)*sin(th)^2 "
      ]
     },
     "execution_count": 84,
     "metadata": {},
     "output_type": "execute_result"
    }
   ],
   "source": [
    "NK.antisymmetrize(0,2).display_comp(only_nonredundant=True)"
   ]
  },
  {
   "cell_type": "code",
   "execution_count": 65,
   "id": "e50c5084",
   "metadata": {},
   "outputs": [
    {
     "data": {
      "text/html": [
       "<html>\\(\\displaystyle \\begin{array}{lcl} \\Gamma_{ \\phantom{\\, t} \\, t \\, r }^{ \\, t \\phantom{\\, t} \\phantom{\\, r} } & = & \\frac{B\\left(r\\right) b\\left(r\\right)}{a\\left(r\\right)} + \\frac{\\frac{\\partial\\,a}{\\partial r}}{a\\left(r\\right)} \\\\ \\Gamma_{ \\phantom{\\, t} \\, r \\, t }^{ \\, t \\phantom{\\, r} \\phantom{\\, t} } & = & \\frac{B\\left(r\\right) b\\left(r\\right)}{a\\left(r\\right)} + \\frac{\\frac{\\partial\\,a}{\\partial r}}{a\\left(r\\right)} \\\\ \\Gamma_{ \\phantom{\\, r} \\, t \\, t }^{ \\, r \\phantom{\\, t} \\phantom{\\, t} } & = & B\\left(r\\right) \\\\ \\Gamma_{ \\phantom{\\, r} \\, r \\, r }^{ \\, r \\phantom{\\, r} \\phantom{\\, r} } & = & C\\left(r\\right) \\\\ \\Gamma_{ \\phantom{\\, r} \\, {\\theta} \\, {\\theta} }^{ \\, r \\phantom{\\, {\\theta}} \\phantom{\\, {\\theta}} } & = & \\frac{r^{2} G\\left(r\\right)}{b\\left(r\\right)} - \\frac{2 \\, r}{b\\left(r\\right)} \\\\ \\Gamma_{ \\phantom{\\, r} \\, {\\phi} \\, {\\phi} }^{ \\, r \\phantom{\\, {\\phi}} \\phantom{\\, {\\phi}} } & = & {\\left(\\frac{r^{2} G\\left(r\\right)}{b\\left(r\\right)} - \\frac{2 \\, r}{b\\left(r\\right)}\\right)} \\sin\\left({\\theta}\\right)^{2} \\\\ \\Gamma_{ \\phantom{\\, {\\theta}} \\, r \\, {\\theta} }^{ \\, {\\theta} \\phantom{\\, r} \\phantom{\\, {\\theta}} } & = & G\\left(r\\right) \\\\ \\Gamma_{ \\phantom{\\, {\\theta}} \\, {\\theta} \\, r }^{ \\, {\\theta} \\phantom{\\, {\\theta}} \\phantom{\\, r} } & = & G\\left(r\\right) \\\\ \\Gamma_{ \\phantom{\\, {\\theta}} \\, {\\phi} \\, {\\phi} }^{ \\, {\\theta} \\phantom{\\, {\\phi}} \\phantom{\\, {\\phi}} } & = & -\\cos\\left({\\theta}\\right) \\sin\\left({\\theta}\\right) \\\\ \\Gamma_{ \\phantom{\\, {\\phi}} \\, r \\, {\\phi} }^{ \\, {\\phi} \\phantom{\\, r} \\phantom{\\, {\\phi}} } & = & G\\left(r\\right) \\\\ \\Gamma_{ \\phantom{\\, {\\phi}} \\, {\\theta} \\, {\\phi} }^{ \\, {\\phi} \\phantom{\\, {\\theta}} \\phantom{\\, {\\phi}} } & = & \\frac{\\cos\\left({\\theta}\\right)}{\\sin\\left({\\theta}\\right)} \\\\ \\Gamma_{ \\phantom{\\, {\\phi}} \\, {\\phi} \\, r }^{ \\, {\\phi} \\phantom{\\, {\\phi}} \\phantom{\\, r} } & = & G\\left(r\\right) \\\\ \\Gamma_{ \\phantom{\\, {\\phi}} \\, {\\phi} \\, {\\theta} }^{ \\, {\\phi} \\phantom{\\, {\\phi}} \\phantom{\\, {\\theta}} } & = & \\frac{\\cos\\left({\\theta}\\right)}{\\sin\\left({\\theta}\\right)} \\end{array}\\)</html>"
      ],
      "text/latex": [
       "$\\displaystyle \\begin{array}{lcl} \\Gamma_{ \\phantom{\\, t} \\, t \\, r }^{ \\, t \\phantom{\\, t} \\phantom{\\, r} } & = & \\frac{B\\left(r\\right) b\\left(r\\right)}{a\\left(r\\right)} + \\frac{\\frac{\\partial\\,a}{\\partial r}}{a\\left(r\\right)} \\\\ \\Gamma_{ \\phantom{\\, t} \\, r \\, t }^{ \\, t \\phantom{\\, r} \\phantom{\\, t} } & = & \\frac{B\\left(r\\right) b\\left(r\\right)}{a\\left(r\\right)} + \\frac{\\frac{\\partial\\,a}{\\partial r}}{a\\left(r\\right)} \\\\ \\Gamma_{ \\phantom{\\, r} \\, t \\, t }^{ \\, r \\phantom{\\, t} \\phantom{\\, t} } & = & B\\left(r\\right) \\\\ \\Gamma_{ \\phantom{\\, r} \\, r \\, r }^{ \\, r \\phantom{\\, r} \\phantom{\\, r} } & = & C\\left(r\\right) \\\\ \\Gamma_{ \\phantom{\\, r} \\, {\\theta} \\, {\\theta} }^{ \\, r \\phantom{\\, {\\theta}} \\phantom{\\, {\\theta}} } & = & \\frac{r^{2} G\\left(r\\right)}{b\\left(r\\right)} - \\frac{2 \\, r}{b\\left(r\\right)} \\\\ \\Gamma_{ \\phantom{\\, r} \\, {\\phi} \\, {\\phi} }^{ \\, r \\phantom{\\, {\\phi}} \\phantom{\\, {\\phi}} } & = & {\\left(\\frac{r^{2} G\\left(r\\right)}{b\\left(r\\right)} - \\frac{2 \\, r}{b\\left(r\\right)}\\right)} \\sin\\left({\\theta}\\right)^{2} \\\\ \\Gamma_{ \\phantom{\\, {\\theta}} \\, r \\, {\\theta} }^{ \\, {\\theta} \\phantom{\\, r} \\phantom{\\, {\\theta}} } & = & G\\left(r\\right) \\\\ \\Gamma_{ \\phantom{\\, {\\theta}} \\, {\\theta} \\, r }^{ \\, {\\theta} \\phantom{\\, {\\theta}} \\phantom{\\, r} } & = & G\\left(r\\right) \\\\ \\Gamma_{ \\phantom{\\, {\\theta}} \\, {\\phi} \\, {\\phi} }^{ \\, {\\theta} \\phantom{\\, {\\phi}} \\phantom{\\, {\\phi}} } & = & -\\cos\\left({\\theta}\\right) \\sin\\left({\\theta}\\right) \\\\ \\Gamma_{ \\phantom{\\, {\\phi}} \\, r \\, {\\phi} }^{ \\, {\\phi} \\phantom{\\, r} \\phantom{\\, {\\phi}} } & = & G\\left(r\\right) \\\\ \\Gamma_{ \\phantom{\\, {\\phi}} \\, {\\theta} \\, {\\phi} }^{ \\, {\\phi} \\phantom{\\, {\\theta}} \\phantom{\\, {\\phi}} } & = & \\frac{\\cos\\left({\\theta}\\right)}{\\sin\\left({\\theta}\\right)} \\\\ \\Gamma_{ \\phantom{\\, {\\phi}} \\, {\\phi} \\, r }^{ \\, {\\phi} \\phantom{\\, {\\phi}} \\phantom{\\, r} } & = & G\\left(r\\right) \\\\ \\Gamma_{ \\phantom{\\, {\\phi}} \\, {\\phi} \\, {\\theta} }^{ \\, {\\phi} \\phantom{\\, {\\phi}} \\phantom{\\, {\\theta}} } & = & \\frac{\\cos\\left({\\theta}\\right)}{\\sin\\left({\\theta}\\right)} \\end{array}$"
      ],
      "text/plain": [
       "Gam^t_t,r = B(r)*b(r)/a(r) + d(a)/dr/a(r) \n",
       "Gam^t_r,t = B(r)*b(r)/a(r) + d(a)/dr/a(r) \n",
       "Gam^r_t,t = B(r) \n",
       "Gam^r_r,r = C(r) \n",
       "Gam^r_th,th = r^2*G(r)/b(r) - 2*r/b(r) \n",
       "Gam^r_ph,ph = (r^2*G(r)/b(r) - 2*r/b(r))*sin(th)^2 \n",
       "Gam^th_r,th = G(r) \n",
       "Gam^th_th,r = G(r) \n",
       "Gam^th_ph,ph = -cos(th)*sin(th) \n",
       "Gam^ph_r,ph = G(r) \n",
       "Gam^ph_th,ph = cos(th)/sin(th) \n",
       "Gam^ph_ph,r = G(r) \n",
       "Gam^ph_ph,th = cos(th)/sin(th) "
      ]
     },
     "execution_count": 65,
     "metadata": {},
     "output_type": "execute_result"
    }
   ],
   "source": [
    "A = function(\"A\")(r)\n",
    "B = function(\"B\")(r)\n",
    "C = function(\"C\")(r)\n",
    "F = function(\"F\")(r)\n",
    "G = function(\"G\")(r)\n",
    "\n",
    "\n",
    "A = B*b/a + derivative(a,r)/a\n",
    "F = G*j/b - derivative(j,r)/b\n",
    "\n",
    "T[0,0,0] = 0\n",
    "T[0,0,1] = A\n",
    "T[0,1,0] = T[0,0,1]\n",
    "T[0,1,1] = 0\n",
    "T[0,2,2] = 0\n",
    "T[0,3,3] = 0\n",
    "\n",
    "\n",
    "T[1,0,0] = B\n",
    "T[1,0,1] = 0\n",
    "T[1,1,0] = T[1,0,1]\n",
    "T[1,1,1] = C\n",
    "T[1,2,2] = F\n",
    "T[1,3,3] = F*(sin(th))^2\n",
    "\n",
    "\n",
    "T[2,0,2] = 0\n",
    "T[2,2,0] = T[2,0,2]\n",
    "T[2,0,3] = 0\n",
    "T[2,3,0] = T[2,0,3]\n",
    "T[2,1,2] = G\n",
    "T[2,2,1] = T[2,1,2]\n",
    "T[2,1,3] = 0\n",
    "T[2,3,1] = T[2,1,3]\n",
    "T[2,3,3] = -cos(th)*sin(th)\n",
    "\n",
    "\n",
    "T[3,0,2] = 0\n",
    "T[3,2,0] = T[3,0,2]\n",
    "T[3,0,3] = 0\n",
    "T[3,3,0] = T[3,0,3]\n",
    "T[3,1,2] = 0\n",
    "T[3,2,1] = T[3,1,2]\n",
    "T[3,1,3] = G\n",
    "T[3,3,1] = T[3,1,3]\n",
    "T[3,2,3] = cos(th)/sin(th)\n",
    "T[3,3,2] = T[3,2,3]\n",
    "\n",
    "T.display(only_nonredundant=True)"
   ]
  },
  {
   "cell_type": "code",
   "execution_count": 66,
   "id": "b0de9437",
   "metadata": {},
   "outputs": [
    {
     "data": {
      "text/html": [
       "<html>\\(\\displaystyle \\begin{array}{lcl} X_{ \\, t \\, t \\, r }^{ \\phantom{\\, t}\\phantom{\\, t}\\phantom{\\, r} } & = & -2 \\, B\\left(r\\right) b\\left(r\\right) - \\frac{\\partial\\,a}{\\partial r} \\\\ X_{ \\, t \\, r \\, t }^{ \\phantom{\\, t}\\phantom{\\, r}\\phantom{\\, t} } & = & -2 \\, B\\left(r\\right) b\\left(r\\right) - \\frac{\\partial\\,a}{\\partial r} \\\\ X_{ \\, r \\, t \\, t }^{ \\phantom{\\, r}\\phantom{\\, t}\\phantom{\\, t} } & = & -2 \\, B\\left(r\\right) b\\left(r\\right) - \\frac{\\partial\\,a}{\\partial r} \\\\ X_{ \\, r \\, r \\, r }^{ \\phantom{\\, r}\\phantom{\\, r}\\phantom{\\, r} } & = & -2 \\, C\\left(r\\right) b\\left(r\\right) + \\frac{\\partial\\,b}{\\partial r} \\\\ X_{ \\, r \\, {\\theta} \\, {\\theta} }^{ \\phantom{\\, r}\\phantom{\\, {\\theta}}\\phantom{\\, {\\theta}} } & = & -r^{2} G\\left(r\\right) - G\\left(r\\right) j\\left(r\\right) + 2 \\, r \\\\ X_{ \\, r \\, {\\phi} \\, {\\phi} }^{ \\phantom{\\, r}\\phantom{\\, {\\phi}}\\phantom{\\, {\\phi}} } & = & -{\\left(r^{2} G\\left(r\\right) + G\\left(r\\right) j\\left(r\\right) - 2 \\, r\\right)} \\sin\\left({\\theta}\\right)^{2} \\\\ X_{ \\, {\\theta} \\, r \\, {\\theta} }^{ \\phantom{\\, {\\theta}}\\phantom{\\, r}\\phantom{\\, {\\theta}} } & = & -r^{2} G\\left(r\\right) - G\\left(r\\right) j\\left(r\\right) + 2 \\, r \\\\ X_{ \\, {\\theta} \\, {\\theta} \\, r }^{ \\phantom{\\, {\\theta}}\\phantom{\\, {\\theta}}\\phantom{\\, r} } & = & -2 \\, G\\left(r\\right) j\\left(r\\right) + \\frac{\\partial\\,j}{\\partial r} \\\\ X_{ \\, {\\phi} \\, r \\, {\\phi} }^{ \\phantom{\\, {\\phi}}\\phantom{\\, r}\\phantom{\\, {\\phi}} } & = & -{\\left(r^{2} G\\left(r\\right) + G\\left(r\\right) j\\left(r\\right) - 2 \\, r\\right)} \\sin\\left({\\theta}\\right)^{2} \\\\ X_{ \\, {\\phi} \\, {\\phi} \\, r }^{ \\phantom{\\, {\\phi}}\\phantom{\\, {\\phi}}\\phantom{\\, r} } & = & -{\\left(2 \\, G\\left(r\\right) j\\left(r\\right) - \\frac{\\partial\\,j}{\\partial r}\\right)} \\sin\\left({\\theta}\\right)^{2} \\end{array}\\)</html>"
      ],
      "text/latex": [
       "$\\displaystyle \\begin{array}{lcl} X_{ \\, t \\, t \\, r }^{ \\phantom{\\, t}\\phantom{\\, t}\\phantom{\\, r} } & = & -2 \\, B\\left(r\\right) b\\left(r\\right) - \\frac{\\partial\\,a}{\\partial r} \\\\ X_{ \\, t \\, r \\, t }^{ \\phantom{\\, t}\\phantom{\\, r}\\phantom{\\, t} } & = & -2 \\, B\\left(r\\right) b\\left(r\\right) - \\frac{\\partial\\,a}{\\partial r} \\\\ X_{ \\, r \\, t \\, t }^{ \\phantom{\\, r}\\phantom{\\, t}\\phantom{\\, t} } & = & -2 \\, B\\left(r\\right) b\\left(r\\right) - \\frac{\\partial\\,a}{\\partial r} \\\\ X_{ \\, r \\, r \\, r }^{ \\phantom{\\, r}\\phantom{\\, r}\\phantom{\\, r} } & = & -2 \\, C\\left(r\\right) b\\left(r\\right) + \\frac{\\partial\\,b}{\\partial r} \\\\ X_{ \\, r \\, {\\theta} \\, {\\theta} }^{ \\phantom{\\, r}\\phantom{\\, {\\theta}}\\phantom{\\, {\\theta}} } & = & -r^{2} G\\left(r\\right) - G\\left(r\\right) j\\left(r\\right) + 2 \\, r \\\\ X_{ \\, r \\, {\\phi} \\, {\\phi} }^{ \\phantom{\\, r}\\phantom{\\, {\\phi}}\\phantom{\\, {\\phi}} } & = & -{\\left(r^{2} G\\left(r\\right) + G\\left(r\\right) j\\left(r\\right) - 2 \\, r\\right)} \\sin\\left({\\theta}\\right)^{2} \\\\ X_{ \\, {\\theta} \\, r \\, {\\theta} }^{ \\phantom{\\, {\\theta}}\\phantom{\\, r}\\phantom{\\, {\\theta}} } & = & -r^{2} G\\left(r\\right) - G\\left(r\\right) j\\left(r\\right) + 2 \\, r \\\\ X_{ \\, {\\theta} \\, {\\theta} \\, r }^{ \\phantom{\\, {\\theta}}\\phantom{\\, {\\theta}}\\phantom{\\, r} } & = & -2 \\, G\\left(r\\right) j\\left(r\\right) + \\frac{\\partial\\,j}{\\partial r} \\\\ X_{ \\, {\\phi} \\, r \\, {\\phi} }^{ \\phantom{\\, {\\phi}}\\phantom{\\, r}\\phantom{\\, {\\phi}} } & = & -{\\left(r^{2} G\\left(r\\right) + G\\left(r\\right) j\\left(r\\right) - 2 \\, r\\right)} \\sin\\left({\\theta}\\right)^{2} \\\\ X_{ \\, {\\phi} \\, {\\phi} \\, r }^{ \\phantom{\\, {\\phi}}\\phantom{\\, {\\phi}}\\phantom{\\, r} } & = & -{\\left(2 \\, G\\left(r\\right) j\\left(r\\right) - \\frac{\\partial\\,j}{\\partial r}\\right)} \\sin\\left({\\theta}\\right)^{2} \\end{array}$"
      ],
      "text/plain": [
       "X_t,t,r = -2*B(r)*b(r) - d(a)/dr \n",
       "X_t,r,t = -2*B(r)*b(r) - d(a)/dr \n",
       "X_r,t,t = -2*B(r)*b(r) - d(a)/dr \n",
       "X_r,r,r = -2*C(r)*b(r) + d(b)/dr \n",
       "X_r,th,th = -r^2*G(r) - G(r)*j(r) + 2*r \n",
       "X_r,ph,ph = -(r^2*G(r) + G(r)*j(r) - 2*r)*sin(th)^2 \n",
       "X_th,r,th = -r^2*G(r) - G(r)*j(r) + 2*r \n",
       "X_th,th,r = -2*G(r)*j(r) + d(j)/dr \n",
       "X_ph,r,ph = -(r^2*G(r) + G(r)*j(r) - 2*r)*sin(th)^2 \n",
       "X_ph,ph,r = -(2*G(r)*j(r) - d(j)/dr)*sin(th)^2 "
      ]
     },
     "execution_count": 66,
     "metadata": {},
     "output_type": "execute_result"
    }
   ],
   "source": [
    "NK = T(k)\n",
    "NK.display_comp()"
   ]
  },
  {
   "cell_type": "code",
   "execution_count": 67,
   "id": "22e150f2",
   "metadata": {},
   "outputs": [
    {
     "data": {
      "text/html": [
       "<html>\\(\\displaystyle \\left( -\\frac{1}{2} \\, r^{2} G\\left(r\\right) + \\frac{1}{2} \\, G\\left(r\\right) j\\left(r\\right) + r - \\frac{1}{2} \\, \\frac{\\partial\\,j}{\\partial r} \\right) \\mathrm{d} r\\otimes \\mathrm{d} {\\theta}\\otimes \\mathrm{d} {\\theta} -\\frac{1}{2} \\, {\\left(r^{2} G\\left(r\\right) - G\\left(r\\right) j\\left(r\\right) - 2 \\, r + \\frac{\\partial\\,j}{\\partial r}\\right)} \\sin\\left({\\theta}\\right)^{2} \\mathrm{d} r\\otimes \\mathrm{d} {\\phi}\\otimes \\mathrm{d} {\\phi} + \\left( \\frac{1}{2} \\, r^{2} G\\left(r\\right) - \\frac{1}{2} \\, G\\left(r\\right) j\\left(r\\right) - r + \\frac{1}{2} \\, \\frac{\\partial\\,j}{\\partial r} \\right) \\mathrm{d} {\\theta}\\otimes \\mathrm{d} {\\theta}\\otimes \\mathrm{d} r + \\frac{1}{2} \\, {\\left(r^{2} G\\left(r\\right) - G\\left(r\\right) j\\left(r\\right) - 2 \\, r + \\frac{\\partial\\,j}{\\partial r}\\right)} \\sin\\left({\\theta}\\right)^{2} \\mathrm{d} {\\phi}\\otimes \\mathrm{d} {\\phi}\\otimes \\mathrm{d} r\\)</html>"
      ],
      "text/latex": [
       "$\\displaystyle \\left( -\\frac{1}{2} \\, r^{2} G\\left(r\\right) + \\frac{1}{2} \\, G\\left(r\\right) j\\left(r\\right) + r - \\frac{1}{2} \\, \\frac{\\partial\\,j}{\\partial r} \\right) \\mathrm{d} r\\otimes \\mathrm{d} {\\theta}\\otimes \\mathrm{d} {\\theta} -\\frac{1}{2} \\, {\\left(r^{2} G\\left(r\\right) - G\\left(r\\right) j\\left(r\\right) - 2 \\, r + \\frac{\\partial\\,j}{\\partial r}\\right)} \\sin\\left({\\theta}\\right)^{2} \\mathrm{d} r\\otimes \\mathrm{d} {\\phi}\\otimes \\mathrm{d} {\\phi} + \\left( \\frac{1}{2} \\, r^{2} G\\left(r\\right) - \\frac{1}{2} \\, G\\left(r\\right) j\\left(r\\right) - r + \\frac{1}{2} \\, \\frac{\\partial\\,j}{\\partial r} \\right) \\mathrm{d} {\\theta}\\otimes \\mathrm{d} {\\theta}\\otimes \\mathrm{d} r + \\frac{1}{2} \\, {\\left(r^{2} G\\left(r\\right) - G\\left(r\\right) j\\left(r\\right) - 2 \\, r + \\frac{\\partial\\,j}{\\partial r}\\right)} \\sin\\left({\\theta}\\right)^{2} \\mathrm{d} {\\phi}\\otimes \\mathrm{d} {\\phi}\\otimes \\mathrm{d} r$"
      ],
      "text/plain": [
       "(-1/2*r^2*G(r) + 1/2*G(r)*j(r) + r - 1/2*d(j)/dr) dr⊗dth⊗dth - 1/2*(r^2*G(r) - G(r)*j(r) - 2*r + d(j)/dr)*sin(th)^2 dr⊗dph⊗dph + (1/2*r^2*G(r) - 1/2*G(r)*j(r) - r + 1/2*d(j)/dr) dth⊗dth⊗dr + 1/2*(r^2*G(r) - G(r)*j(r) - 2*r + d(j)/dr)*sin(th)^2 dph⊗dph⊗dr"
      ]
     },
     "execution_count": 67,
     "metadata": {},
     "output_type": "execute_result"
    }
   ],
   "source": [
    "NK.antisymmetrize(0,2).display()"
   ]
  },
  {
   "cell_type": "code",
   "execution_count": 63,
   "id": "125f67ac",
   "metadata": {},
   "outputs": [
    {
     "data": {
      "text/html": [
       "<html>\\(\\displaystyle \\begin{array}{lcl} X_{ \\, t \\, t \\, r }^{ \\phantom{\\, t}\\phantom{\\, t}\\phantom{\\, r} } & = & -\\frac{B\\left(r\\right) a\\left(r\\right) \\frac{\\partial\\,A}{\\partial r} - B\\left(r\\right) a\\left(r\\right) \\frac{\\partial\\,C}{\\partial r} - 2 \\, B\\left(r\\right) a\\left(r\\right) \\frac{\\partial\\,G}{\\partial r} - 2 \\, {\\left(A\\left(r\\right) B\\left(r\\right)^{2} - B\\left(r\\right)^{2} C\\left(r\\right) - 2 \\, B\\left(r\\right)^{2} G\\left(r\\right)\\right)} b\\left(r\\right) + {\\left({\\left(A\\left(r\\right) - C\\left(r\\right) - 2 \\, G\\left(r\\right)\\right)} a\\left(r\\right) + 2 \\, B\\left(r\\right) b\\left(r\\right)\\right)} \\frac{\\partial\\,B}{\\partial r} - a\\left(r\\right) \\frac{\\partial^2\\,B}{\\partial r ^ 2} - 2 \\, {\\left(A\\left(r\\right) B\\left(r\\right) - B\\left(r\\right) C\\left(r\\right) - 2 \\, B\\left(r\\right) G\\left(r\\right) - \\frac{\\partial\\,B}{\\partial r}\\right)} \\frac{\\partial\\,a}{\\partial r}}{a\\left(r\\right)} \\\\ X_{ \\, t \\, r \\, t }^{ \\phantom{\\, t}\\phantom{\\, r}\\phantom{\\, t} } & = & \\frac{B\\left(r\\right) a\\left(r\\right) \\frac{\\partial\\,A}{\\partial r} - B\\left(r\\right) b\\left(r\\right) \\frac{\\partial\\,B}{\\partial r} + 2 \\, B\\left(r\\right) a\\left(r\\right) \\frac{\\partial\\,G}{\\partial r} + {\\left(A\\left(r\\right)^{2} B\\left(r\\right) - A\\left(r\\right) B\\left(r\\right) C\\left(r\\right) - 2 \\, B\\left(r\\right) C\\left(r\\right) G\\left(r\\right) + 2 \\, B\\left(r\\right) G\\left(r\\right)^{2}\\right)} a\\left(r\\right) + {\\left(A\\left(r\\right) B\\left(r\\right)^{2} - B\\left(r\\right)^{2} C\\left(r\\right) - 2 \\, B\\left(r\\right)^{2} G\\left(r\\right)\\right)} b\\left(r\\right) + {\\left(A\\left(r\\right) B\\left(r\\right) - B\\left(r\\right) C\\left(r\\right) - 2 \\, B\\left(r\\right) G\\left(r\\right) - \\frac{\\partial\\,B}{\\partial r}\\right)} \\frac{\\partial\\,a}{\\partial r}}{a\\left(r\\right)} \\\\ X_{ \\, r \\, t \\, t }^{ \\phantom{\\, r}\\phantom{\\, t}\\phantom{\\, t} } & = & \\frac{B\\left(r\\right) a\\left(r\\right) \\frac{\\partial\\,A}{\\partial r} - B\\left(r\\right) b\\left(r\\right) \\frac{\\partial\\,B}{\\partial r} + 2 \\, B\\left(r\\right) a\\left(r\\right) \\frac{\\partial\\,G}{\\partial r} + {\\left(A\\left(r\\right)^{2} B\\left(r\\right) - A\\left(r\\right) B\\left(r\\right) C\\left(r\\right) - 2 \\, B\\left(r\\right) C\\left(r\\right) G\\left(r\\right) + 2 \\, B\\left(r\\right) G\\left(r\\right)^{2}\\right)} a\\left(r\\right) + {\\left(A\\left(r\\right) B\\left(r\\right)^{2} - B\\left(r\\right)^{2} C\\left(r\\right) - 2 \\, B\\left(r\\right)^{2} G\\left(r\\right)\\right)} b\\left(r\\right) + {\\left(A\\left(r\\right) B\\left(r\\right) - B\\left(r\\right) C\\left(r\\right) - 2 \\, B\\left(r\\right) G\\left(r\\right) - \\frac{\\partial\\,B}{\\partial r}\\right)} \\frac{\\partial\\,a}{\\partial r}}{a\\left(r\\right)} \\\\ X_{ \\, r \\, r \\, r }^{ \\phantom{\\, r}\\phantom{\\, r}\\phantom{\\, r} } & = & 2 \\, A\\left(r\\right)^{2} C\\left(r\\right) - 2 \\, A\\left(r\\right) C\\left(r\\right)^{2} - 4 \\, C\\left(r\\right)^{2} G\\left(r\\right) + 4 \\, C\\left(r\\right) G\\left(r\\right)^{2} - {\\left(2 \\, A\\left(r\\right) - 3 \\, C\\left(r\\right)\\right)} \\frac{\\partial\\,A}{\\partial r} + {\\left(A\\left(r\\right) + 2 \\, G\\left(r\\right)\\right)} \\frac{\\partial\\,C}{\\partial r} + 2 \\, {\\left(3 \\, C\\left(r\\right) - 2 \\, G\\left(r\\right)\\right)} \\frac{\\partial\\,G}{\\partial r} - \\frac{\\partial^2\\,A}{\\partial r ^ 2} - 2 \\, \\frac{\\partial^2\\,G}{\\partial r ^ 2} \\\\ X_{ \\, r \\, {\\theta} \\, {\\theta} }^{ \\phantom{\\, r}\\phantom{\\, {\\theta}}\\phantom{\\, {\\theta}} } & = & -\\frac{{\\left({\\left(A\\left(r\\right) + C\\left(r\\right)\\right)} F\\left(r\\right) + 1\\right)} G\\left(r\\right) b\\left(r\\right) - G\\left(r\\right) j\\left(r\\right) \\frac{\\partial\\,A}{\\partial r} + G\\left(r\\right) b\\left(r\\right) \\frac{\\partial\\,F}{\\partial r} - 2 \\, G\\left(r\\right) j\\left(r\\right) \\frac{\\partial\\,G}{\\partial r} + {\\left(2 \\, C\\left(r\\right) G\\left(r\\right)^{2} - 2 \\, G\\left(r\\right)^{3} - {\\left(A\\left(r\\right)^{2} - A\\left(r\\right) C\\left(r\\right)\\right)} G\\left(r\\right)\\right)} j\\left(r\\right) + {\\left(A\\left(r\\right)^{2} - A\\left(r\\right) C\\left(r\\right) - 2 \\, C\\left(r\\right) G\\left(r\\right) + 2 \\, G\\left(r\\right)^{2} + \\frac{\\partial\\,A}{\\partial r} + 2 \\, \\frac{\\partial\\,G}{\\partial r}\\right)} \\frac{\\partial\\,j}{\\partial r}}{b\\left(r\\right)} \\\\ X_{ \\, r \\, {\\phi} \\, {\\phi} }^{ \\phantom{\\, r}\\phantom{\\, {\\phi}}\\phantom{\\, {\\phi}} } & = & -\\frac{{\\left({\\left({\\left(A\\left(r\\right) + C\\left(r\\right)\\right)} F\\left(r\\right) + 1\\right)} G\\left(r\\right) b\\left(r\\right) - G\\left(r\\right) j\\left(r\\right) \\frac{\\partial\\,A}{\\partial r} + G\\left(r\\right) b\\left(r\\right) \\frac{\\partial\\,F}{\\partial r} - 2 \\, G\\left(r\\right) j\\left(r\\right) \\frac{\\partial\\,G}{\\partial r} + {\\left(2 \\, C\\left(r\\right) G\\left(r\\right)^{2} - 2 \\, G\\left(r\\right)^{3} - {\\left(A\\left(r\\right)^{2} - A\\left(r\\right) C\\left(r\\right)\\right)} G\\left(r\\right)\\right)} j\\left(r\\right) + {\\left(A\\left(r\\right)^{2} - A\\left(r\\right) C\\left(r\\right) - 2 \\, C\\left(r\\right) G\\left(r\\right) + 2 \\, G\\left(r\\right)^{2} + \\frac{\\partial\\,A}{\\partial r} + 2 \\, \\frac{\\partial\\,G}{\\partial r}\\right)} \\frac{\\partial\\,j}{\\partial r}\\right)} \\sin\\left({\\theta}\\right)^{2}}{b\\left(r\\right)} \\\\ X_{ \\, {\\theta} \\, r \\, {\\theta} }^{ \\phantom{\\, {\\theta}}\\phantom{\\, r}\\phantom{\\, {\\theta}} } & = & -\\frac{{\\left({\\left(A\\left(r\\right) + C\\left(r\\right)\\right)} F\\left(r\\right) + 1\\right)} G\\left(r\\right) b\\left(r\\right) - G\\left(r\\right) j\\left(r\\right) \\frac{\\partial\\,A}{\\partial r} + G\\left(r\\right) b\\left(r\\right) \\frac{\\partial\\,F}{\\partial r} - 2 \\, G\\left(r\\right) j\\left(r\\right) \\frac{\\partial\\,G}{\\partial r} + {\\left(2 \\, C\\left(r\\right) G\\left(r\\right)^{2} - 2 \\, G\\left(r\\right)^{3} - {\\left(A\\left(r\\right)^{2} - A\\left(r\\right) C\\left(r\\right)\\right)} G\\left(r\\right)\\right)} j\\left(r\\right) + {\\left(A\\left(r\\right)^{2} - A\\left(r\\right) C\\left(r\\right) - 2 \\, C\\left(r\\right) G\\left(r\\right) + 2 \\, G\\left(r\\right)^{2} + \\frac{\\partial\\,A}{\\partial r} + 2 \\, \\frac{\\partial\\,G}{\\partial r}\\right)} \\frac{\\partial\\,j}{\\partial r}}{b\\left(r\\right)} \\\\ X_{ \\, {\\theta} \\, {\\theta} \\, r }^{ \\phantom{\\, {\\theta}}\\phantom{\\, {\\theta}}\\phantom{\\, r} } & = & -2 \\, {\\left({\\left(A\\left(r\\right) + C\\left(r\\right)\\right)} F\\left(r\\right) + 1\\right)} G\\left(r\\right) + F\\left(r\\right) \\frac{\\partial\\,A}{\\partial r} + F\\left(r\\right) \\frac{\\partial\\,C}{\\partial r} + {\\left(A\\left(r\\right) + C\\left(r\\right) - 2 \\, G\\left(r\\right)\\right)} \\frac{\\partial\\,F}{\\partial r} + \\frac{\\partial^2\\,F}{\\partial r ^ 2} \\\\ X_{ \\, {\\phi} \\, r \\, {\\phi} }^{ \\phantom{\\, {\\phi}}\\phantom{\\, r}\\phantom{\\, {\\phi}} } & = & -\\frac{{\\left({\\left({\\left(A\\left(r\\right) + C\\left(r\\right)\\right)} F\\left(r\\right) + 1\\right)} G\\left(r\\right) b\\left(r\\right) - G\\left(r\\right) j\\left(r\\right) \\frac{\\partial\\,A}{\\partial r} + G\\left(r\\right) b\\left(r\\right) \\frac{\\partial\\,F}{\\partial r} - 2 \\, G\\left(r\\right) j\\left(r\\right) \\frac{\\partial\\,G}{\\partial r} + {\\left(2 \\, C\\left(r\\right) G\\left(r\\right)^{2} - 2 \\, G\\left(r\\right)^{3} - {\\left(A\\left(r\\right)^{2} - A\\left(r\\right) C\\left(r\\right)\\right)} G\\left(r\\right)\\right)} j\\left(r\\right) + {\\left(A\\left(r\\right)^{2} - A\\left(r\\right) C\\left(r\\right) - 2 \\, C\\left(r\\right) G\\left(r\\right) + 2 \\, G\\left(r\\right)^{2} + \\frac{\\partial\\,A}{\\partial r} + 2 \\, \\frac{\\partial\\,G}{\\partial r}\\right)} \\frac{\\partial\\,j}{\\partial r}\\right)} \\sin\\left({\\theta}\\right)^{2}}{b\\left(r\\right)} \\\\ X_{ \\, {\\phi} \\, {\\phi} \\, r }^{ \\phantom{\\, {\\phi}}\\phantom{\\, {\\phi}}\\phantom{\\, r} } & = & -{\\left(2 \\, {\\left({\\left(A\\left(r\\right) + C\\left(r\\right)\\right)} F\\left(r\\right) + 1\\right)} G\\left(r\\right) - F\\left(r\\right) \\frac{\\partial\\,A}{\\partial r} - F\\left(r\\right) \\frac{\\partial\\,C}{\\partial r} - {\\left(A\\left(r\\right) + C\\left(r\\right) - 2 \\, G\\left(r\\right)\\right)} \\frac{\\partial\\,F}{\\partial r} - \\frac{\\partial^2\\,F}{\\partial r ^ 2}\\right)} \\sin\\left({\\theta}\\right)^{2} \\end{array}\\)</html>"
      ],
      "text/latex": [
       "$\\displaystyle \\begin{array}{lcl} X_{ \\, t \\, t \\, r }^{ \\phantom{\\, t}\\phantom{\\, t}\\phantom{\\, r} } & = & -\\frac{B\\left(r\\right) a\\left(r\\right) \\frac{\\partial\\,A}{\\partial r} - B\\left(r\\right) a\\left(r\\right) \\frac{\\partial\\,C}{\\partial r} - 2 \\, B\\left(r\\right) a\\left(r\\right) \\frac{\\partial\\,G}{\\partial r} - 2 \\, {\\left(A\\left(r\\right) B\\left(r\\right)^{2} - B\\left(r\\right)^{2} C\\left(r\\right) - 2 \\, B\\left(r\\right)^{2} G\\left(r\\right)\\right)} b\\left(r\\right) + {\\left({\\left(A\\left(r\\right) - C\\left(r\\right) - 2 \\, G\\left(r\\right)\\right)} a\\left(r\\right) + 2 \\, B\\left(r\\right) b\\left(r\\right)\\right)} \\frac{\\partial\\,B}{\\partial r} - a\\left(r\\right) \\frac{\\partial^2\\,B}{\\partial r ^ 2} - 2 \\, {\\left(A\\left(r\\right) B\\left(r\\right) - B\\left(r\\right) C\\left(r\\right) - 2 \\, B\\left(r\\right) G\\left(r\\right) - \\frac{\\partial\\,B}{\\partial r}\\right)} \\frac{\\partial\\,a}{\\partial r}}{a\\left(r\\right)} \\\\ X_{ \\, t \\, r \\, t }^{ \\phantom{\\, t}\\phantom{\\, r}\\phantom{\\, t} } & = & \\frac{B\\left(r\\right) a\\left(r\\right) \\frac{\\partial\\,A}{\\partial r} - B\\left(r\\right) b\\left(r\\right) \\frac{\\partial\\,B}{\\partial r} + 2 \\, B\\left(r\\right) a\\left(r\\right) \\frac{\\partial\\,G}{\\partial r} + {\\left(A\\left(r\\right)^{2} B\\left(r\\right) - A\\left(r\\right) B\\left(r\\right) C\\left(r\\right) - 2 \\, B\\left(r\\right) C\\left(r\\right) G\\left(r\\right) + 2 \\, B\\left(r\\right) G\\left(r\\right)^{2}\\right)} a\\left(r\\right) + {\\left(A\\left(r\\right) B\\left(r\\right)^{2} - B\\left(r\\right)^{2} C\\left(r\\right) - 2 \\, B\\left(r\\right)^{2} G\\left(r\\right)\\right)} b\\left(r\\right) + {\\left(A\\left(r\\right) B\\left(r\\right) - B\\left(r\\right) C\\left(r\\right) - 2 \\, B\\left(r\\right) G\\left(r\\right) - \\frac{\\partial\\,B}{\\partial r}\\right)} \\frac{\\partial\\,a}{\\partial r}}{a\\left(r\\right)} \\\\ X_{ \\, r \\, t \\, t }^{ \\phantom{\\, r}\\phantom{\\, t}\\phantom{\\, t} } & = & \\frac{B\\left(r\\right) a\\left(r\\right) \\frac{\\partial\\,A}{\\partial r} - B\\left(r\\right) b\\left(r\\right) \\frac{\\partial\\,B}{\\partial r} + 2 \\, B\\left(r\\right) a\\left(r\\right) \\frac{\\partial\\,G}{\\partial r} + {\\left(A\\left(r\\right)^{2} B\\left(r\\right) - A\\left(r\\right) B\\left(r\\right) C\\left(r\\right) - 2 \\, B\\left(r\\right) C\\left(r\\right) G\\left(r\\right) + 2 \\, B\\left(r\\right) G\\left(r\\right)^{2}\\right)} a\\left(r\\right) + {\\left(A\\left(r\\right) B\\left(r\\right)^{2} - B\\left(r\\right)^{2} C\\left(r\\right) - 2 \\, B\\left(r\\right)^{2} G\\left(r\\right)\\right)} b\\left(r\\right) + {\\left(A\\left(r\\right) B\\left(r\\right) - B\\left(r\\right) C\\left(r\\right) - 2 \\, B\\left(r\\right) G\\left(r\\right) - \\frac{\\partial\\,B}{\\partial r}\\right)} \\frac{\\partial\\,a}{\\partial r}}{a\\left(r\\right)} \\\\ X_{ \\, r \\, r \\, r }^{ \\phantom{\\, r}\\phantom{\\, r}\\phantom{\\, r} } & = & 2 \\, A\\left(r\\right)^{2} C\\left(r\\right) - 2 \\, A\\left(r\\right) C\\left(r\\right)^{2} - 4 \\, C\\left(r\\right)^{2} G\\left(r\\right) + 4 \\, C\\left(r\\right) G\\left(r\\right)^{2} - {\\left(2 \\, A\\left(r\\right) - 3 \\, C\\left(r\\right)\\right)} \\frac{\\partial\\,A}{\\partial r} + {\\left(A\\left(r\\right) + 2 \\, G\\left(r\\right)\\right)} \\frac{\\partial\\,C}{\\partial r} + 2 \\, {\\left(3 \\, C\\left(r\\right) - 2 \\, G\\left(r\\right)\\right)} \\frac{\\partial\\,G}{\\partial r} - \\frac{\\partial^2\\,A}{\\partial r ^ 2} - 2 \\, \\frac{\\partial^2\\,G}{\\partial r ^ 2} \\\\ X_{ \\, r \\, {\\theta} \\, {\\theta} }^{ \\phantom{\\, r}\\phantom{\\, {\\theta}}\\phantom{\\, {\\theta}} } & = & -\\frac{{\\left({\\left(A\\left(r\\right) + C\\left(r\\right)\\right)} F\\left(r\\right) + 1\\right)} G\\left(r\\right) b\\left(r\\right) - G\\left(r\\right) j\\left(r\\right) \\frac{\\partial\\,A}{\\partial r} + G\\left(r\\right) b\\left(r\\right) \\frac{\\partial\\,F}{\\partial r} - 2 \\, G\\left(r\\right) j\\left(r\\right) \\frac{\\partial\\,G}{\\partial r} + {\\left(2 \\, C\\left(r\\right) G\\left(r\\right)^{2} - 2 \\, G\\left(r\\right)^{3} - {\\left(A\\left(r\\right)^{2} - A\\left(r\\right) C\\left(r\\right)\\right)} G\\left(r\\right)\\right)} j\\left(r\\right) + {\\left(A\\left(r\\right)^{2} - A\\left(r\\right) C\\left(r\\right) - 2 \\, C\\left(r\\right) G\\left(r\\right) + 2 \\, G\\left(r\\right)^{2} + \\frac{\\partial\\,A}{\\partial r} + 2 \\, \\frac{\\partial\\,G}{\\partial r}\\right)} \\frac{\\partial\\,j}{\\partial r}}{b\\left(r\\right)} \\\\ X_{ \\, r \\, {\\phi} \\, {\\phi} }^{ \\phantom{\\, r}\\phantom{\\, {\\phi}}\\phantom{\\, {\\phi}} } & = & -\\frac{{\\left({\\left({\\left(A\\left(r\\right) + C\\left(r\\right)\\right)} F\\left(r\\right) + 1\\right)} G\\left(r\\right) b\\left(r\\right) - G\\left(r\\right) j\\left(r\\right) \\frac{\\partial\\,A}{\\partial r} + G\\left(r\\right) b\\left(r\\right) \\frac{\\partial\\,F}{\\partial r} - 2 \\, G\\left(r\\right) j\\left(r\\right) \\frac{\\partial\\,G}{\\partial r} + {\\left(2 \\, C\\left(r\\right) G\\left(r\\right)^{2} - 2 \\, G\\left(r\\right)^{3} - {\\left(A\\left(r\\right)^{2} - A\\left(r\\right) C\\left(r\\right)\\right)} G\\left(r\\right)\\right)} j\\left(r\\right) + {\\left(A\\left(r\\right)^{2} - A\\left(r\\right) C\\left(r\\right) - 2 \\, C\\left(r\\right) G\\left(r\\right) + 2 \\, G\\left(r\\right)^{2} + \\frac{\\partial\\,A}{\\partial r} + 2 \\, \\frac{\\partial\\,G}{\\partial r}\\right)} \\frac{\\partial\\,j}{\\partial r}\\right)} \\sin\\left({\\theta}\\right)^{2}}{b\\left(r\\right)} \\\\ X_{ \\, {\\theta} \\, r \\, {\\theta} }^{ \\phantom{\\, {\\theta}}\\phantom{\\, r}\\phantom{\\, {\\theta}} } & = & -\\frac{{\\left({\\left(A\\left(r\\right) + C\\left(r\\right)\\right)} F\\left(r\\right) + 1\\right)} G\\left(r\\right) b\\left(r\\right) - G\\left(r\\right) j\\left(r\\right) \\frac{\\partial\\,A}{\\partial r} + G\\left(r\\right) b\\left(r\\right) \\frac{\\partial\\,F}{\\partial r} - 2 \\, G\\left(r\\right) j\\left(r\\right) \\frac{\\partial\\,G}{\\partial r} + {\\left(2 \\, C\\left(r\\right) G\\left(r\\right)^{2} - 2 \\, G\\left(r\\right)^{3} - {\\left(A\\left(r\\right)^{2} - A\\left(r\\right) C\\left(r\\right)\\right)} G\\left(r\\right)\\right)} j\\left(r\\right) + {\\left(A\\left(r\\right)^{2} - A\\left(r\\right) C\\left(r\\right) - 2 \\, C\\left(r\\right) G\\left(r\\right) + 2 \\, G\\left(r\\right)^{2} + \\frac{\\partial\\,A}{\\partial r} + 2 \\, \\frac{\\partial\\,G}{\\partial r}\\right)} \\frac{\\partial\\,j}{\\partial r}}{b\\left(r\\right)} \\\\ X_{ \\, {\\theta} \\, {\\theta} \\, r }^{ \\phantom{\\, {\\theta}}\\phantom{\\, {\\theta}}\\phantom{\\, r} } & = & -2 \\, {\\left({\\left(A\\left(r\\right) + C\\left(r\\right)\\right)} F\\left(r\\right) + 1\\right)} G\\left(r\\right) + F\\left(r\\right) \\frac{\\partial\\,A}{\\partial r} + F\\left(r\\right) \\frac{\\partial\\,C}{\\partial r} + {\\left(A\\left(r\\right) + C\\left(r\\right) - 2 \\, G\\left(r\\right)\\right)} \\frac{\\partial\\,F}{\\partial r} + \\frac{\\partial^2\\,F}{\\partial r ^ 2} \\\\ X_{ \\, {\\phi} \\, r \\, {\\phi} }^{ \\phantom{\\, {\\phi}}\\phantom{\\, r}\\phantom{\\, {\\phi}} } & = & -\\frac{{\\left({\\left({\\left(A\\left(r\\right) + C\\left(r\\right)\\right)} F\\left(r\\right) + 1\\right)} G\\left(r\\right) b\\left(r\\right) - G\\left(r\\right) j\\left(r\\right) \\frac{\\partial\\,A}{\\partial r} + G\\left(r\\right) b\\left(r\\right) \\frac{\\partial\\,F}{\\partial r} - 2 \\, G\\left(r\\right) j\\left(r\\right) \\frac{\\partial\\,G}{\\partial r} + {\\left(2 \\, C\\left(r\\right) G\\left(r\\right)^{2} - 2 \\, G\\left(r\\right)^{3} - {\\left(A\\left(r\\right)^{2} - A\\left(r\\right) C\\left(r\\right)\\right)} G\\left(r\\right)\\right)} j\\left(r\\right) + {\\left(A\\left(r\\right)^{2} - A\\left(r\\right) C\\left(r\\right) - 2 \\, C\\left(r\\right) G\\left(r\\right) + 2 \\, G\\left(r\\right)^{2} + \\frac{\\partial\\,A}{\\partial r} + 2 \\, \\frac{\\partial\\,G}{\\partial r}\\right)} \\frac{\\partial\\,j}{\\partial r}\\right)} \\sin\\left({\\theta}\\right)^{2}}{b\\left(r\\right)} \\\\ X_{ \\, {\\phi} \\, {\\phi} \\, r }^{ \\phantom{\\, {\\phi}}\\phantom{\\, {\\phi}}\\phantom{\\, r} } & = & -{\\left(2 \\, {\\left({\\left(A\\left(r\\right) + C\\left(r\\right)\\right)} F\\left(r\\right) + 1\\right)} G\\left(r\\right) - F\\left(r\\right) \\frac{\\partial\\,A}{\\partial r} - F\\left(r\\right) \\frac{\\partial\\,C}{\\partial r} - {\\left(A\\left(r\\right) + C\\left(r\\right) - 2 \\, G\\left(r\\right)\\right)} \\frac{\\partial\\,F}{\\partial r} - \\frac{\\partial^2\\,F}{\\partial r ^ 2}\\right)} \\sin\\left({\\theta}\\right)^{2} \\end{array}$"
      ],
      "text/plain": [
       "X_t,t,r = -(B(r)*a(r)*d(A)/dr - B(r)*a(r)*d(C)/dr - 2*B(r)*a(r)*d(G)/dr - 2*(A(r)*B(r)^2 - B(r)^2*C(r) - 2*B(r)^2*G(r))*b(r) + ((A(r) - C(r) - 2*G(r))*a(r) + 2*B(r)*b(r))*d(B)/dr - a(r)*d^2(B)/dr^2 - 2*(A(r)*B(r) - B(r)*C(r) - 2*B(r)*G(r) - d(B)/dr)*d(a)/dr)/a(r) \n",
       "X_t,r,t = (B(r)*a(r)*d(A)/dr - B(r)*b(r)*d(B)/dr + 2*B(r)*a(r)*d(G)/dr + (A(r)^2*B(r) - A(r)*B(r)*C(r) - 2*B(r)*C(r)*G(r) + 2*B(r)*G(r)^2)*a(r) + (A(r)*B(r)^2 - B(r)^2*C(r) - 2*B(r)^2*G(r))*b(r) + (A(r)*B(r) - B(r)*C(r) - 2*B(r)*G(r) - d(B)/dr)*d(a)/dr)/a(r) \n",
       "X_r,t,t = (B(r)*a(r)*d(A)/dr - B(r)*b(r)*d(B)/dr + 2*B(r)*a(r)*d(G)/dr + (A(r)^2*B(r) - A(r)*B(r)*C(r) - 2*B(r)*C(r)*G(r) + 2*B(r)*G(r)^2)*a(r) + (A(r)*B(r)^2 - B(r)^2*C(r) - 2*B(r)^2*G(r))*b(r) + (A(r)*B(r) - B(r)*C(r) - 2*B(r)*G(r) - d(B)/dr)*d(a)/dr)/a(r) \n",
       "X_r,r,r = 2*A(r)^2*C(r) - 2*A(r)*C(r)^2 - 4*C(r)^2*G(r) + 4*C(r)*G(r)^2 - (2*A(r) - 3*C(r))*d(A)/dr + (A(r) + 2*G(r))*d(C)/dr + 2*(3*C(r) - 2*G(r))*d(G)/dr - d^2(A)/dr^2 - 2*d^2(G)/dr^2 \n",
       "X_r,th,th = -(((A(r) + C(r))*F(r) + 1)*G(r)*b(r) - G(r)*j(r)*d(A)/dr + G(r)*b(r)*d(F)/dr - 2*G(r)*j(r)*d(G)/dr + (2*C(r)*G(r)^2 - 2*G(r)^3 - (A(r)^2 - A(r)*C(r))*G(r))*j(r) + (A(r)^2 - A(r)*C(r) - 2*C(r)*G(r) + 2*G(r)^2 + d(A)/dr + 2*d(G)/dr)*d(j)/dr)/b(r) \n",
       "X_r,ph,ph = -(((A(r) + C(r))*F(r) + 1)*G(r)*b(r) - G(r)*j(r)*d(A)/dr + G(r)*b(r)*d(F)/dr - 2*G(r)*j(r)*d(G)/dr + (2*C(r)*G(r)^2 - 2*G(r)^3 - (A(r)^2 - A(r)*C(r))*G(r))*j(r) + (A(r)^2 - A(r)*C(r) - 2*C(r)*G(r) + 2*G(r)^2 + d(A)/dr + 2*d(G)/dr)*d(j)/dr)*sin(th)^2/b(r) \n",
       "X_th,r,th = -(((A(r) + C(r))*F(r) + 1)*G(r)*b(r) - G(r)*j(r)*d(A)/dr + G(r)*b(r)*d(F)/dr - 2*G(r)*j(r)*d(G)/dr + (2*C(r)*G(r)^2 - 2*G(r)^3 - (A(r)^2 - A(r)*C(r))*G(r))*j(r) + (A(r)^2 - A(r)*C(r) - 2*C(r)*G(r) + 2*G(r)^2 + d(A)/dr + 2*d(G)/dr)*d(j)/dr)/b(r) \n",
       "X_th,th,r = -2*((A(r) + C(r))*F(r) + 1)*G(r) + F(r)*d(A)/dr + F(r)*d(C)/dr + (A(r) + C(r) - 2*G(r))*d(F)/dr + d^2(F)/dr^2 \n",
       "X_ph,r,ph = -(((A(r) + C(r))*F(r) + 1)*G(r)*b(r) - G(r)*j(r)*d(A)/dr + G(r)*b(r)*d(F)/dr - 2*G(r)*j(r)*d(G)/dr + (2*C(r)*G(r)^2 - 2*G(r)^3 - (A(r)^2 - A(r)*C(r))*G(r))*j(r) + (A(r)^2 - A(r)*C(r) - 2*C(r)*G(r) + 2*G(r)^2 + d(A)/dr + 2*d(G)/dr)*d(j)/dr)*sin(th)^2/b(r) \n",
       "X_ph,ph,r = -(2*((A(r) + C(r))*F(r) + 1)*G(r) - F(r)*d(A)/dr - F(r)*d(C)/dr - (A(r) + C(r) - 2*G(r))*d(F)/dr - d^2(F)/dr^2)*sin(th)^2 "
      ]
     },
     "execution_count": 63,
     "metadata": {},
     "output_type": "execute_result"
    }
   ],
   "source": [
    "NRicci = T(Ricci)\n",
    "NRicci.display_comp()"
   ]
  },
  {
   "cell_type": "code",
   "execution_count": 64,
   "id": "112e547a",
   "metadata": {},
   "outputs": [
    {
     "data": {
      "text/html": [
       "<html>\\(\\displaystyle \\begin{array}{lcl} X_{ \\, t \\, t \\, r }^{ \\phantom{\\, t}\\phantom{\\, t}\\phantom{\\, r} } & = & -\\frac{2 \\, B\\left(r\\right) a\\left(r\\right) \\frac{\\partial\\,A}{\\partial r} - B\\left(r\\right) a\\left(r\\right) \\frac{\\partial\\,C}{\\partial r} + {\\left(A\\left(r\\right)^{2} B\\left(r\\right) - A\\left(r\\right) B\\left(r\\right) C\\left(r\\right) - 2 \\, B\\left(r\\right) C\\left(r\\right) G\\left(r\\right) + 2 \\, B\\left(r\\right) G\\left(r\\right)^{2}\\right)} a\\left(r\\right) - {\\left(A\\left(r\\right) B\\left(r\\right)^{2} - B\\left(r\\right)^{2} C\\left(r\\right) - 2 \\, B\\left(r\\right)^{2} G\\left(r\\right)\\right)} b\\left(r\\right) + {\\left({\\left(A\\left(r\\right) - C\\left(r\\right) - 2 \\, G\\left(r\\right)\\right)} a\\left(r\\right) + B\\left(r\\right) b\\left(r\\right)\\right)} \\frac{\\partial\\,B}{\\partial r} - a\\left(r\\right) \\frac{\\partial^2\\,B}{\\partial r ^ 2} - {\\left(A\\left(r\\right) B\\left(r\\right) - B\\left(r\\right) C\\left(r\\right) - 2 \\, B\\left(r\\right) G\\left(r\\right) - \\frac{\\partial\\,B}{\\partial r}\\right)} \\frac{\\partial\\,a}{\\partial r}}{2 \\, a\\left(r\\right)} \\\\ X_{ \\, r \\, {\\theta} \\, {\\theta} }^{ \\phantom{\\, r}\\phantom{\\, {\\theta}}\\phantom{\\, {\\theta}} } & = & \\frac{{\\left({\\left(A\\left(r\\right) + C\\left(r\\right)\\right)} F\\left(r\\right) + 1\\right)} G\\left(r\\right) b\\left(r\\right) - F\\left(r\\right) b\\left(r\\right) \\frac{\\partial\\,C}{\\partial r} - {\\left(A\\left(r\\right) + C\\left(r\\right) - G\\left(r\\right)\\right)} b\\left(r\\right) \\frac{\\partial\\,F}{\\partial r} + 2 \\, G\\left(r\\right) j\\left(r\\right) \\frac{\\partial\\,G}{\\partial r} - {\\left(2 \\, C\\left(r\\right) G\\left(r\\right)^{2} - 2 \\, G\\left(r\\right)^{3} - {\\left(A\\left(r\\right)^{2} - A\\left(r\\right) C\\left(r\\right)\\right)} G\\left(r\\right)\\right)} j\\left(r\\right) - {\\left(F\\left(r\\right) b\\left(r\\right) - G\\left(r\\right) j\\left(r\\right)\\right)} \\frac{\\partial\\,A}{\\partial r} - b\\left(r\\right) \\frac{\\partial^2\\,F}{\\partial r ^ 2} - {\\left(A\\left(r\\right)^{2} - A\\left(r\\right) C\\left(r\\right) - 2 \\, C\\left(r\\right) G\\left(r\\right) + 2 \\, G\\left(r\\right)^{2} + \\frac{\\partial\\,A}{\\partial r} + 2 \\, \\frac{\\partial\\,G}{\\partial r}\\right)} \\frac{\\partial\\,j}{\\partial r}}{2 \\, b\\left(r\\right)} \\\\ X_{ \\, r \\, {\\phi} \\, {\\phi} }^{ \\phantom{\\, r}\\phantom{\\, {\\phi}}\\phantom{\\, {\\phi}} } & = & \\frac{{\\left({\\left({\\left(A\\left(r\\right) + C\\left(r\\right)\\right)} F\\left(r\\right) + 1\\right)} G\\left(r\\right) b\\left(r\\right) - F\\left(r\\right) b\\left(r\\right) \\frac{\\partial\\,C}{\\partial r} - {\\left(A\\left(r\\right) + C\\left(r\\right) - G\\left(r\\right)\\right)} b\\left(r\\right) \\frac{\\partial\\,F}{\\partial r} + 2 \\, G\\left(r\\right) j\\left(r\\right) \\frac{\\partial\\,G}{\\partial r} - {\\left(2 \\, C\\left(r\\right) G\\left(r\\right)^{2} - 2 \\, G\\left(r\\right)^{3} - {\\left(A\\left(r\\right)^{2} - A\\left(r\\right) C\\left(r\\right)\\right)} G\\left(r\\right)\\right)} j\\left(r\\right) - {\\left(F\\left(r\\right) b\\left(r\\right) - G\\left(r\\right) j\\left(r\\right)\\right)} \\frac{\\partial\\,A}{\\partial r} - b\\left(r\\right) \\frac{\\partial^2\\,F}{\\partial r ^ 2} - {\\left(A\\left(r\\right)^{2} - A\\left(r\\right) C\\left(r\\right) - 2 \\, C\\left(r\\right) G\\left(r\\right) + 2 \\, G\\left(r\\right)^{2} + \\frac{\\partial\\,A}{\\partial r} + 2 \\, \\frac{\\partial\\,G}{\\partial r}\\right)} \\frac{\\partial\\,j}{\\partial r}\\right)} \\sin\\left({\\theta}\\right)^{2}}{2 \\, b\\left(r\\right)} \\end{array}\\)</html>"
      ],
      "text/latex": [
       "$\\displaystyle \\begin{array}{lcl} X_{ \\, t \\, t \\, r }^{ \\phantom{\\, t}\\phantom{\\, t}\\phantom{\\, r} } & = & -\\frac{2 \\, B\\left(r\\right) a\\left(r\\right) \\frac{\\partial\\,A}{\\partial r} - B\\left(r\\right) a\\left(r\\right) \\frac{\\partial\\,C}{\\partial r} + {\\left(A\\left(r\\right)^{2} B\\left(r\\right) - A\\left(r\\right) B\\left(r\\right) C\\left(r\\right) - 2 \\, B\\left(r\\right) C\\left(r\\right) G\\left(r\\right) + 2 \\, B\\left(r\\right) G\\left(r\\right)^{2}\\right)} a\\left(r\\right) - {\\left(A\\left(r\\right) B\\left(r\\right)^{2} - B\\left(r\\right)^{2} C\\left(r\\right) - 2 \\, B\\left(r\\right)^{2} G\\left(r\\right)\\right)} b\\left(r\\right) + {\\left({\\left(A\\left(r\\right) - C\\left(r\\right) - 2 \\, G\\left(r\\right)\\right)} a\\left(r\\right) + B\\left(r\\right) b\\left(r\\right)\\right)} \\frac{\\partial\\,B}{\\partial r} - a\\left(r\\right) \\frac{\\partial^2\\,B}{\\partial r ^ 2} - {\\left(A\\left(r\\right) B\\left(r\\right) - B\\left(r\\right) C\\left(r\\right) - 2 \\, B\\left(r\\right) G\\left(r\\right) - \\frac{\\partial\\,B}{\\partial r}\\right)} \\frac{\\partial\\,a}{\\partial r}}{2 \\, a\\left(r\\right)} \\\\ X_{ \\, r \\, {\\theta} \\, {\\theta} }^{ \\phantom{\\, r}\\phantom{\\, {\\theta}}\\phantom{\\, {\\theta}} } & = & \\frac{{\\left({\\left(A\\left(r\\right) + C\\left(r\\right)\\right)} F\\left(r\\right) + 1\\right)} G\\left(r\\right) b\\left(r\\right) - F\\left(r\\right) b\\left(r\\right) \\frac{\\partial\\,C}{\\partial r} - {\\left(A\\left(r\\right) + C\\left(r\\right) - G\\left(r\\right)\\right)} b\\left(r\\right) \\frac{\\partial\\,F}{\\partial r} + 2 \\, G\\left(r\\right) j\\left(r\\right) \\frac{\\partial\\,G}{\\partial r} - {\\left(2 \\, C\\left(r\\right) G\\left(r\\right)^{2} - 2 \\, G\\left(r\\right)^{3} - {\\left(A\\left(r\\right)^{2} - A\\left(r\\right) C\\left(r\\right)\\right)} G\\left(r\\right)\\right)} j\\left(r\\right) - {\\left(F\\left(r\\right) b\\left(r\\right) - G\\left(r\\right) j\\left(r\\right)\\right)} \\frac{\\partial\\,A}{\\partial r} - b\\left(r\\right) \\frac{\\partial^2\\,F}{\\partial r ^ 2} - {\\left(A\\left(r\\right)^{2} - A\\left(r\\right) C\\left(r\\right) - 2 \\, C\\left(r\\right) G\\left(r\\right) + 2 \\, G\\left(r\\right)^{2} + \\frac{\\partial\\,A}{\\partial r} + 2 \\, \\frac{\\partial\\,G}{\\partial r}\\right)} \\frac{\\partial\\,j}{\\partial r}}{2 \\, b\\left(r\\right)} \\\\ X_{ \\, r \\, {\\phi} \\, {\\phi} }^{ \\phantom{\\, r}\\phantom{\\, {\\phi}}\\phantom{\\, {\\phi}} } & = & \\frac{{\\left({\\left({\\left(A\\left(r\\right) + C\\left(r\\right)\\right)} F\\left(r\\right) + 1\\right)} G\\left(r\\right) b\\left(r\\right) - F\\left(r\\right) b\\left(r\\right) \\frac{\\partial\\,C}{\\partial r} - {\\left(A\\left(r\\right) + C\\left(r\\right) - G\\left(r\\right)\\right)} b\\left(r\\right) \\frac{\\partial\\,F}{\\partial r} + 2 \\, G\\left(r\\right) j\\left(r\\right) \\frac{\\partial\\,G}{\\partial r} - {\\left(2 \\, C\\left(r\\right) G\\left(r\\right)^{2} - 2 \\, G\\left(r\\right)^{3} - {\\left(A\\left(r\\right)^{2} - A\\left(r\\right) C\\left(r\\right)\\right)} G\\left(r\\right)\\right)} j\\left(r\\right) - {\\left(F\\left(r\\right) b\\left(r\\right) - G\\left(r\\right) j\\left(r\\right)\\right)} \\frac{\\partial\\,A}{\\partial r} - b\\left(r\\right) \\frac{\\partial^2\\,F}{\\partial r ^ 2} - {\\left(A\\left(r\\right)^{2} - A\\left(r\\right) C\\left(r\\right) - 2 \\, C\\left(r\\right) G\\left(r\\right) + 2 \\, G\\left(r\\right)^{2} + \\frac{\\partial\\,A}{\\partial r} + 2 \\, \\frac{\\partial\\,G}{\\partial r}\\right)} \\frac{\\partial\\,j}{\\partial r}\\right)} \\sin\\left({\\theta}\\right)^{2}}{2 \\, b\\left(r\\right)} \\end{array}$"
      ],
      "text/plain": [
       "X_t,t,r = -1/2*(2*B(r)*a(r)*d(A)/dr - B(r)*a(r)*d(C)/dr + (A(r)^2*B(r) - A(r)*B(r)*C(r) - 2*B(r)*C(r)*G(r) + 2*B(r)*G(r)^2)*a(r) - (A(r)*B(r)^2 - B(r)^2*C(r) - 2*B(r)^2*G(r))*b(r) + ((A(r) - C(r) - 2*G(r))*a(r) + B(r)*b(r))*d(B)/dr - a(r)*d^2(B)/dr^2 - (A(r)*B(r) - B(r)*C(r) - 2*B(r)*G(r) - d(B)/dr)*d(a)/dr)/a(r) \n",
       "X_r,th,th = 1/2*(((A(r) + C(r))*F(r) + 1)*G(r)*b(r) - F(r)*b(r)*d(C)/dr - (A(r) + C(r) - G(r))*b(r)*d(F)/dr + 2*G(r)*j(r)*d(G)/dr - (2*C(r)*G(r)^2 - 2*G(r)^3 - (A(r)^2 - A(r)*C(r))*G(r))*j(r) - (F(r)*b(r) - G(r)*j(r))*d(A)/dr - b(r)*d^2(F)/dr^2 - (A(r)^2 - A(r)*C(r) - 2*C(r)*G(r) + 2*G(r)^2 + d(A)/dr + 2*d(G)/dr)*d(j)/dr)/b(r) \n",
       "X_r,ph,ph = 1/2*(((A(r) + C(r))*F(r) + 1)*G(r)*b(r) - F(r)*b(r)*d(C)/dr - (A(r) + C(r) - G(r))*b(r)*d(F)/dr + 2*G(r)*j(r)*d(G)/dr - (2*C(r)*G(r)^2 - 2*G(r)^3 - (A(r)^2 - A(r)*C(r))*G(r))*j(r) - (F(r)*b(r) - G(r)*j(r))*d(A)/dr - b(r)*d^2(F)/dr^2 - (A(r)^2 - A(r)*C(r) - 2*C(r)*G(r) + 2*G(r)^2 + d(A)/dr + 2*d(G)/dr)*d(j)/dr)*sin(th)^2/b(r) "
      ]
     },
     "execution_count": 64,
     "metadata": {},
     "output_type": "execute_result"
    }
   ],
   "source": [
    "NRicci.antisymmetrize(0,2).display_comp(only_nonredundant=True)"
   ]
  },
  {
   "cell_type": "code",
   "execution_count": null,
   "id": "af9961dd",
   "metadata": {},
   "outputs": [],
   "source": []
  }
 ],
 "metadata": {
  "kernelspec": {
   "display_name": "SageMath 9.7",
   "language": "sage",
   "name": "sagemath-9.7"
  },
  "language_info": {
   "codemirror_mode": {
    "name": "ipython",
    "version": 3
   },
   "file_extension": ".py",
   "mimetype": "text/x-python",
   "name": "python",
   "nbconvert_exporter": "python",
   "pygments_lexer": "ipython3",
   "version": "3.10.5"
  }
 },
 "nbformat": 4,
 "nbformat_minor": 5
}
