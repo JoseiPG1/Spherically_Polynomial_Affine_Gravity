{
 "cells": [
  {
   "cell_type": "code",
   "execution_count": 52,
   "id": "ee4aa0df",
   "metadata": {},
   "outputs": [
    {
     "data": {
      "text/html": [
       "<html>\\(\\displaystyle \\verb|SageMath|\\verb| |\\verb|version|\\verb| |\\verb|9.7,|\\verb| |\\verb|Release|\\verb| |\\verb|Date:|\\verb| |\\verb|2022-09-19|\\)</html>"
      ],
      "text/latex": [
       "$\\displaystyle \\verb|SageMath|\\verb| |\\verb|version|\\verb| |\\verb|9.7,|\\verb| |\\verb|Release|\\verb| |\\verb|Date:|\\verb| |\\verb|2022-09-19|$"
      ],
      "text/plain": [
       "'SageMath version 9.7, Release Date: 2022-09-19'"
      ]
     },
     "execution_count": 52,
     "metadata": {},
     "output_type": "execute_result"
    }
   ],
   "source": [
    "reset()\n",
    "%display latex\n",
    "version()"
   ]
  },
  {
   "cell_type": "markdown",
   "id": "637891fa",
   "metadata": {},
   "source": [
    "# Definition of the manifold and the most general connection"
   ]
  },
  {
   "cell_type": "code",
   "execution_count": 53,
   "id": "6c8a69b1",
   "metadata": {},
   "outputs": [],
   "source": [
    "M=Manifold(4,\"M\")\n",
    "XS.<t,r,th,ph> = M.chart(r't r:(0,+oo) th:(0,pi):\\theta ph:(0,2*pi):\\phi')"
   ]
  },
  {
   "cell_type": "code",
   "execution_count": 54,
   "id": "a60bdd7c",
   "metadata": {},
   "outputs": [],
   "source": [
    "T = M.affine_connection('T',\"T\")\n",
    "\n",
    "\n",
    "T[0,0,0] = function(\"V\")(t,r)\n",
    "T[0,0,1] = function(\"A\")(t,r)\n",
    "T[0,1,0] = T[0,0,1]\n",
    "T[0,1,1] = function(\"W\")(t,r)\n",
    "T[0,2,2] = function(\"X\")(t,r)\n",
    "T[0,3,3] = function(\"X\")(t,r)*(sin(th))^2\n",
    "T[1,0,0] = function(\"B\")(t,r)\n",
    "T[1,0,1] = function(\"Y\")(t,r)\n",
    "T[1,1,0] = T[1,0,1]\n",
    "T[1,1,1] = function(\"C\")(t,r)\n",
    "T[1,2,2] = function(\"F\")(t,r)\n",
    "T[1,3,3] = function(\"F\")(t,r)*(sin(th))^2\n",
    "T[2,0,2] = function(\"Z\")(t,r)\n",
    "T[2,2,0] = T[2,0,2]\n",
    "T[2,0,3] = - function(\"D\")(t,r)*sin(th)\n",
    "T[2,3,0] = T[2,0,3]\n",
    "T[2,1,2] = function(\"G\")(t,r)\n",
    "T[2,2,1] = T[2,1,2]\n",
    "T[2,1,3] = - function(\"H\")(t,r)*sin(th)\n",
    "T[2,3,1] = T[2,1,3]\n",
    "T[2,3,3] = -cos(th)*sin(th)\n",
    "T[3,0,2] = function(\"D\")(t,r)/sin(th)\n",
    "T[3,2,0] = T[3,0,2]\n",
    "T[3,0,3] = function(\"Z\")(t,r)\n",
    "T[3,3,0] = T[3,0,3]\n",
    "T[3,1,2] = function(\"H\")(t,r)/sin(th)\n",
    "T[3,2,1] = T[3,1,2]\n",
    "T[3,1,3] = function(\"G\")(t,r)\n",
    "T[3,3,1] = T[3,1,3]\n",
    "T[3,2,3] = cos(th)/sin(th)\n",
    "T[3,3,2] = T[3,2,3]\n",
    "\n",
    "#T.display(only_nonredundant=True)"
   ]
  },
  {
   "cell_type": "code",
   "execution_count": 55,
   "id": "30985c5e",
   "metadata": {},
   "outputs": [
    {
     "data": {
      "text/html": [
       "<html>\\(\\displaystyle \\begin{array}{lcl} X_{ \\, t \\, t }^{ \\phantom{\\, t}\\phantom{\\, t} } & = & -A\\left(t, r\\right) B\\left(t, r\\right) + B\\left(t, r\\right) C\\left(t, r\\right) + 2 \\, D\\left(t, r\\right)^{2} + 2 \\, B\\left(t, r\\right) G\\left(t, r\\right) + V\\left(t, r\\right) Y\\left(t, r\\right) - Y\\left(t, r\\right)^{2} + 2 \\, V\\left(t, r\\right) Z\\left(t, r\\right) - 2 \\, Z\\left(t, r\\right)^{2} + \\frac{\\partial\\,B}{\\partial r} - \\frac{\\partial\\,Y}{\\partial t} - 2 \\, \\frac{\\partial\\,Z}{\\partial t} \\\\ X_{ \\, t \\, r }^{ \\phantom{\\, t}\\phantom{\\, r} } & = & 2 \\, D\\left(t, r\\right) H\\left(t, r\\right) - B\\left(t, r\\right) W\\left(t, r\\right) + {\\left(A\\left(t, r\\right) + 2 \\, G\\left(t, r\\right)\\right)} Y\\left(t, r\\right) + 2 \\, {\\left(A\\left(t, r\\right) - G\\left(t, r\\right)\\right)} Z\\left(t, r\\right) + \\frac{\\partial\\,A}{\\partial t} - \\frac{\\partial\\,V}{\\partial r} - 2 \\, \\frac{\\partial\\,Z}{\\partial r} \\\\ X_{ \\, r \\, t }^{ \\phantom{\\, r}\\phantom{\\, t} } & = & 2 \\, D\\left(t, r\\right) H\\left(t, r\\right) - B\\left(t, r\\right) W\\left(t, r\\right) + {\\left(A\\left(t, r\\right) + 2 \\, G\\left(t, r\\right)\\right)} Y\\left(t, r\\right) + 2 \\, {\\left(A\\left(t, r\\right) - G\\left(t, r\\right)\\right)} Z\\left(t, r\\right) - \\frac{\\partial\\,C}{\\partial t} - 2 \\, \\frac{\\partial\\,G}{\\partial t} + \\frac{\\partial\\,Y}{\\partial r} \\\\ X_{ \\, r \\, r }^{ \\phantom{\\, r}\\phantom{\\, r} } & = & -A\\left(t, r\\right)^{2} + A\\left(t, r\\right) C\\left(t, r\\right) + 2 \\, C\\left(t, r\\right) G\\left(t, r\\right) - 2 \\, G\\left(t, r\\right)^{2} + 2 \\, H\\left(t, r\\right)^{2} + V\\left(t, r\\right) W\\left(t, r\\right) - W\\left(t, r\\right) Y\\left(t, r\\right) + 2 \\, W\\left(t, r\\right) Z\\left(t, r\\right) - \\frac{\\partial\\,A}{\\partial r} - 2 \\, \\frac{\\partial\\,G}{\\partial r} + \\frac{\\partial\\,W}{\\partial t} \\\\ X_{ \\, {\\theta} \\, {\\theta} }^{ \\phantom{\\, {\\theta}}\\phantom{\\, {\\theta}} } & = & {\\left(A\\left(t, r\\right) + C\\left(t, r\\right)\\right)} F\\left(t, r\\right) + V\\left(t, r\\right) X\\left(t, r\\right) + X\\left(t, r\\right) Y\\left(t, r\\right) + \\frac{\\partial\\,F}{\\partial r} + \\frac{\\partial\\,X}{\\partial t} + 1 \\\\ X_{ \\, {\\phi} \\, {\\phi} }^{ \\phantom{\\, {\\phi}}\\phantom{\\, {\\phi}} } & = & {\\left({\\left(A\\left(t, r\\right) + C\\left(t, r\\right)\\right)} F\\left(t, r\\right) + V\\left(t, r\\right) X\\left(t, r\\right) + X\\left(t, r\\right) Y\\left(t, r\\right) + \\frac{\\partial\\,F}{\\partial r} + \\frac{\\partial\\,X}{\\partial t} + 1\\right)} \\sin\\left({\\theta}\\right)^{2} \\end{array}\\)</html>"
      ],
      "text/latex": [
       "$\\displaystyle \\begin{array}{lcl} X_{ \\, t \\, t }^{ \\phantom{\\, t}\\phantom{\\, t} } & = & -A\\left(t, r\\right) B\\left(t, r\\right) + B\\left(t, r\\right) C\\left(t, r\\right) + 2 \\, D\\left(t, r\\right)^{2} + 2 \\, B\\left(t, r\\right) G\\left(t, r\\right) + V\\left(t, r\\right) Y\\left(t, r\\right) - Y\\left(t, r\\right)^{2} + 2 \\, V\\left(t, r\\right) Z\\left(t, r\\right) - 2 \\, Z\\left(t, r\\right)^{2} + \\frac{\\partial\\,B}{\\partial r} - \\frac{\\partial\\,Y}{\\partial t} - 2 \\, \\frac{\\partial\\,Z}{\\partial t} \\\\ X_{ \\, t \\, r }^{ \\phantom{\\, t}\\phantom{\\, r} } & = & 2 \\, D\\left(t, r\\right) H\\left(t, r\\right) - B\\left(t, r\\right) W\\left(t, r\\right) + {\\left(A\\left(t, r\\right) + 2 \\, G\\left(t, r\\right)\\right)} Y\\left(t, r\\right) + 2 \\, {\\left(A\\left(t, r\\right) - G\\left(t, r\\right)\\right)} Z\\left(t, r\\right) + \\frac{\\partial\\,A}{\\partial t} - \\frac{\\partial\\,V}{\\partial r} - 2 \\, \\frac{\\partial\\,Z}{\\partial r} \\\\ X_{ \\, r \\, t }^{ \\phantom{\\, r}\\phantom{\\, t} } & = & 2 \\, D\\left(t, r\\right) H\\left(t, r\\right) - B\\left(t, r\\right) W\\left(t, r\\right) + {\\left(A\\left(t, r\\right) + 2 \\, G\\left(t, r\\right)\\right)} Y\\left(t, r\\right) + 2 \\, {\\left(A\\left(t, r\\right) - G\\left(t, r\\right)\\right)} Z\\left(t, r\\right) - \\frac{\\partial\\,C}{\\partial t} - 2 \\, \\frac{\\partial\\,G}{\\partial t} + \\frac{\\partial\\,Y}{\\partial r} \\\\ X_{ \\, r \\, r }^{ \\phantom{\\, r}\\phantom{\\, r} } & = & -A\\left(t, r\\right)^{2} + A\\left(t, r\\right) C\\left(t, r\\right) + 2 \\, C\\left(t, r\\right) G\\left(t, r\\right) - 2 \\, G\\left(t, r\\right)^{2} + 2 \\, H\\left(t, r\\right)^{2} + V\\left(t, r\\right) W\\left(t, r\\right) - W\\left(t, r\\right) Y\\left(t, r\\right) + 2 \\, W\\left(t, r\\right) Z\\left(t, r\\right) - \\frac{\\partial\\,A}{\\partial r} - 2 \\, \\frac{\\partial\\,G}{\\partial r} + \\frac{\\partial\\,W}{\\partial t} \\\\ X_{ \\, {\\theta} \\, {\\theta} }^{ \\phantom{\\, {\\theta}}\\phantom{\\, {\\theta}} } & = & {\\left(A\\left(t, r\\right) + C\\left(t, r\\right)\\right)} F\\left(t, r\\right) + V\\left(t, r\\right) X\\left(t, r\\right) + X\\left(t, r\\right) Y\\left(t, r\\right) + \\frac{\\partial\\,F}{\\partial r} + \\frac{\\partial\\,X}{\\partial t} + 1 \\\\ X_{ \\, {\\phi} \\, {\\phi} }^{ \\phantom{\\, {\\phi}}\\phantom{\\, {\\phi}} } & = & {\\left({\\left(A\\left(t, r\\right) + C\\left(t, r\\right)\\right)} F\\left(t, r\\right) + V\\left(t, r\\right) X\\left(t, r\\right) + X\\left(t, r\\right) Y\\left(t, r\\right) + \\frac{\\partial\\,F}{\\partial r} + \\frac{\\partial\\,X}{\\partial t} + 1\\right)} \\sin\\left({\\theta}\\right)^{2} \\end{array}$"
      ],
      "text/plain": [
       "X_t,t = -A(t, r)*B(t, r) + B(t, r)*C(t, r) + 2*D(t, r)^2 + 2*B(t, r)*G(t, r) + V(t, r)*Y(t, r) - Y(t, r)^2 + 2*V(t, r)*Z(t, r) - 2*Z(t, r)^2 + d(B)/dr - d(Y)/dt - 2*d(Z)/dt \n",
       "X_t,r = 2*D(t, r)*H(t, r) - B(t, r)*W(t, r) + (A(t, r) + 2*G(t, r))*Y(t, r) + 2*(A(t, r) - G(t, r))*Z(t, r) + d(A)/dt - d(V)/dr - 2*d(Z)/dr \n",
       "X_r,t = 2*D(t, r)*H(t, r) - B(t, r)*W(t, r) + (A(t, r) + 2*G(t, r))*Y(t, r) + 2*(A(t, r) - G(t, r))*Z(t, r) - d(C)/dt - 2*d(G)/dt + d(Y)/dr \n",
       "X_r,r = -A(t, r)^2 + A(t, r)*C(t, r) + 2*C(t, r)*G(t, r) - 2*G(t, r)^2 + 2*H(t, r)^2 + V(t, r)*W(t, r) - W(t, r)*Y(t, r) + 2*W(t, r)*Z(t, r) - d(A)/dr - 2*d(G)/dr + d(W)/dt \n",
       "X_th,th = (A(t, r) + C(t, r))*F(t, r) + V(t, r)*X(t, r) + X(t, r)*Y(t, r) + d(F)/dr + d(X)/dt + 1 \n",
       "X_ph,ph = ((A(t, r) + C(t, r))*F(t, r) + V(t, r)*X(t, r) + X(t, r)*Y(t, r) + d(F)/dr + d(X)/dt + 1)*sin(th)^2 "
      ]
     },
     "execution_count": 55,
     "metadata": {},
     "output_type": "execute_result"
    }
   ],
   "source": [
    "Riem= T.riemann()\n",
    "Riem[\"^{a}_{bac}\"].display_comp()"
   ]
  },
  {
   "cell_type": "code",
   "execution_count": 56,
   "id": "4be86053",
   "metadata": {},
   "outputs": [
    {
     "data": {
      "text/html": [
       "<html>\\(\\displaystyle \\begin{array}{lcl} X_{ \\, t \\, r }^{ \\phantom{\\, t}\\phantom{\\, r} } & = & \\frac{\\partial\\,A}{\\partial t} + \\frac{\\partial\\,C}{\\partial t} + 2 \\, \\frac{\\partial\\,G}{\\partial t} - \\frac{\\partial\\,V}{\\partial r} - \\frac{\\partial\\,Y}{\\partial r} - 2 \\, \\frac{\\partial\\,Z}{\\partial r} \\\\ X_{ \\, r \\, t }^{ \\phantom{\\, r}\\phantom{\\, t} } & = & -\\frac{\\partial\\,A}{\\partial t} - \\frac{\\partial\\,C}{\\partial t} - 2 \\, \\frac{\\partial\\,G}{\\partial t} + \\frac{\\partial\\,V}{\\partial r} + \\frac{\\partial\\,Y}{\\partial r} + 2 \\, \\frac{\\partial\\,Z}{\\partial r} \\end{array}\\)</html>"
      ],
      "text/latex": [
       "$\\displaystyle \\begin{array}{lcl} X_{ \\, t \\, r }^{ \\phantom{\\, t}\\phantom{\\, r} } & = & \\frac{\\partial\\,A}{\\partial t} + \\frac{\\partial\\,C}{\\partial t} + 2 \\, \\frac{\\partial\\,G}{\\partial t} - \\frac{\\partial\\,V}{\\partial r} - \\frac{\\partial\\,Y}{\\partial r} - 2 \\, \\frac{\\partial\\,Z}{\\partial r} \\\\ X_{ \\, r \\, t }^{ \\phantom{\\, r}\\phantom{\\, t} } & = & -\\frac{\\partial\\,A}{\\partial t} - \\frac{\\partial\\,C}{\\partial t} - 2 \\, \\frac{\\partial\\,G}{\\partial t} + \\frac{\\partial\\,V}{\\partial r} + \\frac{\\partial\\,Y}{\\partial r} + 2 \\, \\frac{\\partial\\,Z}{\\partial r} \\end{array}$"
      ],
      "text/plain": [
       "X_t,r = d(A)/dt + d(C)/dt + 2*d(G)/dt - d(V)/dr - d(Y)/dr - 2*d(Z)/dr \n",
       "X_r,t = -d(A)/dt - d(C)/dt - 2*d(G)/dt + d(V)/dr + d(Y)/dr + 2*d(Z)/dr "
      ]
     },
     "execution_count": 56,
     "metadata": {},
     "output_type": "execute_result"
    }
   ],
   "source": [
    "Riem[\"^{a}_{abc}\"].display_comp()"
   ]
  },
  {
   "cell_type": "markdown",
   "id": "f2811bea",
   "metadata": {},
   "source": [
    "## Time reversal + azimuthal symmetry  (circularity conditions) + static"
   ]
  },
  {
   "cell_type": "code",
   "execution_count": 57,
   "id": "c3735abd",
   "metadata": {},
   "outputs": [],
   "source": [
    "T[0,0,0] = 0\n",
    "T[0,0,1] = function(\"A\")(r)\n",
    "T[0,1,0] = T[0,0,1]\n",
    "T[0,1,1] = 0\n",
    "T[0,2,2] = 0\n",
    "T[0,3,3] = 0\n",
    "\n",
    "\n",
    "T[1,0,0] = function(\"B\")(r)\n",
    "T[1,0,1] = 0\n",
    "T[1,1,0] = T[1,0,1]\n",
    "T[1,1,1] = function(\"C\")(r)\n",
    "T[1,2,2] = function(\"F\")(r)\n",
    "T[1,3,3] = function(\"F\")(r)*(sin(th))^2\n",
    "\n",
    "\n",
    "T[2,0,2] = 0\n",
    "T[2,2,0] = T[2,0,2]\n",
    "T[2,0,3] = 0\n",
    "T[2,3,0] = T[2,0,3]\n",
    "T[2,1,2] = function(\"G\")(r)\n",
    "T[2,2,1] = T[2,1,2]\n",
    "T[2,1,3] = 0\n",
    "T[2,3,1] = T[2,1,3]\n",
    "T[2,3,3] = -cos(th)*sin(th)\n",
    "\n",
    "\n",
    "T[3,0,2] = 0\n",
    "T[3,2,0] = T[3,0,2]\n",
    "T[3,0,3] = 0\n",
    "T[3,3,0] = T[3,0,3]\n",
    "T[3,1,2] = 0\n",
    "T[3,2,1] = T[3,1,2]\n",
    "T[3,1,3] = function(\"G\")(r)\n",
    "T[3,3,1] = T[3,1,3]\n",
    "T[3,2,3] = cos(th)/sin(th)\n",
    "T[3,3,2] = T[3,2,3]\n",
    "\n",
    "#T.display(only_nonredundant=True)"
   ]
  },
  {
   "cell_type": "code",
   "execution_count": 58,
   "id": "7c1ebdcd",
   "metadata": {},
   "outputs": [
    {
     "data": {
      "text/html": [
       "<html>\\(\\displaystyle \\begin{array}{lcl} X_{ \\, t \\, t }^{ \\phantom{\\, t}\\phantom{\\, t} } & = & -A\\left(r\\right) B\\left(r\\right) + B\\left(r\\right) C\\left(r\\right) + 2 \\, B\\left(r\\right) G\\left(r\\right) + \\frac{\\partial\\,B}{\\partial r} \\\\ X_{ \\, r \\, r }^{ \\phantom{\\, r}\\phantom{\\, r} } & = & -A\\left(r\\right)^{2} + A\\left(r\\right) C\\left(r\\right) + 2 \\, C\\left(r\\right) G\\left(r\\right) - 2 \\, G\\left(r\\right)^{2} - \\frac{\\partial\\,A}{\\partial r} - 2 \\, \\frac{\\partial\\,G}{\\partial r} \\\\ X_{ \\, {\\theta} \\, {\\theta} }^{ \\phantom{\\, {\\theta}}\\phantom{\\, {\\theta}} } & = & {\\left(A\\left(r\\right) + C\\left(r\\right)\\right)} F\\left(r\\right) + \\frac{\\partial\\,F}{\\partial r} + 1 \\\\ X_{ \\, {\\phi} \\, {\\phi} }^{ \\phantom{\\, {\\phi}}\\phantom{\\, {\\phi}} } & = & {\\left({\\left(A\\left(r\\right) + C\\left(r\\right)\\right)} F\\left(r\\right) + \\frac{\\partial\\,F}{\\partial r} + 1\\right)} \\sin\\left({\\theta}\\right)^{2} \\end{array}\\)</html>"
      ],
      "text/latex": [
       "$\\displaystyle \\begin{array}{lcl} X_{ \\, t \\, t }^{ \\phantom{\\, t}\\phantom{\\, t} } & = & -A\\left(r\\right) B\\left(r\\right) + B\\left(r\\right) C\\left(r\\right) + 2 \\, B\\left(r\\right) G\\left(r\\right) + \\frac{\\partial\\,B}{\\partial r} \\\\ X_{ \\, r \\, r }^{ \\phantom{\\, r}\\phantom{\\, r} } & = & -A\\left(r\\right)^{2} + A\\left(r\\right) C\\left(r\\right) + 2 \\, C\\left(r\\right) G\\left(r\\right) - 2 \\, G\\left(r\\right)^{2} - \\frac{\\partial\\,A}{\\partial r} - 2 \\, \\frac{\\partial\\,G}{\\partial r} \\\\ X_{ \\, {\\theta} \\, {\\theta} }^{ \\phantom{\\, {\\theta}}\\phantom{\\, {\\theta}} } & = & {\\left(A\\left(r\\right) + C\\left(r\\right)\\right)} F\\left(r\\right) + \\frac{\\partial\\,F}{\\partial r} + 1 \\\\ X_{ \\, {\\phi} \\, {\\phi} }^{ \\phantom{\\, {\\phi}}\\phantom{\\, {\\phi}} } & = & {\\left({\\left(A\\left(r\\right) + C\\left(r\\right)\\right)} F\\left(r\\right) + \\frac{\\partial\\,F}{\\partial r} + 1\\right)} \\sin\\left({\\theta}\\right)^{2} \\end{array}$"
      ],
      "text/plain": [
       "X_t,t = -A(r)*B(r) + B(r)*C(r) + 2*B(r)*G(r) + d(B)/dr \n",
       "X_r,r = -A(r)^2 + A(r)*C(r) + 2*C(r)*G(r) - 2*G(r)^2 - d(A)/dr - 2*d(G)/dr \n",
       "X_th,th = (A(r) + C(r))*F(r) + d(F)/dr + 1 \n",
       "X_ph,ph = ((A(r) + C(r))*F(r) + d(F)/dr + 1)*sin(th)^2 "
      ]
     },
     "execution_count": 58,
     "metadata": {},
     "output_type": "execute_result"
    }
   ],
   "source": [
    "Riem= T.riemann()\n",
    "Riem[\"^{a}_{bac}\"].display_comp()"
   ]
  },
  {
   "cell_type": "code",
   "execution_count": 59,
   "id": "867d28d8",
   "metadata": {},
   "outputs": [],
   "source": [
    "#Riem[\"^{a}_{abc}\"].display_comp()"
   ]
  },
  {
   "cell_type": "markdown",
   "id": "6b9d4285",
   "metadata": {},
   "source": [
    "## $\\mathcal{R}_{\\mu\\nu} = 0$"
   ]
  },
  {
   "cell_type": "code",
   "execution_count": 60,
   "id": "e3833a83",
   "metadata": {},
   "outputs": [
    {
     "data": {
      "text/html": [
       "<html>\\(\\displaystyle \\begin{array}{lcl} X_{ \\, t \\, t }^{ \\phantom{\\, t}\\phantom{\\, t} } & = & -A\\left(r\\right) B\\left(r\\right) + B\\left(r\\right) C\\left(r\\right) + 2 \\, B\\left(r\\right) G\\left(r\\right) + \\frac{\\partial\\,B}{\\partial r} \\\\ X_{ \\, r \\, r }^{ \\phantom{\\, r}\\phantom{\\, r} } & = & -A\\left(r\\right)^{2} + A\\left(r\\right) C\\left(r\\right) + 2 \\, C\\left(r\\right) G\\left(r\\right) - 2 \\, G\\left(r\\right)^{2} - \\frac{\\partial\\,A}{\\partial r} - 2 \\, \\frac{\\partial\\,G}{\\partial r} \\\\ X_{ \\, {\\theta} \\, {\\theta} }^{ \\phantom{\\, {\\theta}}\\phantom{\\, {\\theta}} } & = & {\\left(A\\left(r\\right) + C\\left(r\\right)\\right)} F\\left(r\\right) + \\frac{\\partial\\,F}{\\partial r} + 1 \\\\ X_{ \\, {\\phi} \\, {\\phi} }^{ \\phantom{\\, {\\phi}}\\phantom{\\, {\\phi}} } & = & {\\left({\\left(A\\left(r\\right) + C\\left(r\\right)\\right)} F\\left(r\\right) + \\frac{\\partial\\,F}{\\partial r} + 1\\right)} \\sin\\left({\\theta}\\right)^{2} \\end{array}\\)</html>"
      ],
      "text/latex": [
       "$\\displaystyle \\begin{array}{lcl} X_{ \\, t \\, t }^{ \\phantom{\\, t}\\phantom{\\, t} } & = & -A\\left(r\\right) B\\left(r\\right) + B\\left(r\\right) C\\left(r\\right) + 2 \\, B\\left(r\\right) G\\left(r\\right) + \\frac{\\partial\\,B}{\\partial r} \\\\ X_{ \\, r \\, r }^{ \\phantom{\\, r}\\phantom{\\, r} } & = & -A\\left(r\\right)^{2} + A\\left(r\\right) C\\left(r\\right) + 2 \\, C\\left(r\\right) G\\left(r\\right) - 2 \\, G\\left(r\\right)^{2} - \\frac{\\partial\\,A}{\\partial r} - 2 \\, \\frac{\\partial\\,G}{\\partial r} \\\\ X_{ \\, {\\theta} \\, {\\theta} }^{ \\phantom{\\, {\\theta}}\\phantom{\\, {\\theta}} } & = & {\\left(A\\left(r\\right) + C\\left(r\\right)\\right)} F\\left(r\\right) + \\frac{\\partial\\,F}{\\partial r} + 1 \\\\ X_{ \\, {\\phi} \\, {\\phi} }^{ \\phantom{\\, {\\phi}}\\phantom{\\, {\\phi}} } & = & {\\left({\\left(A\\left(r\\right) + C\\left(r\\right)\\right)} F\\left(r\\right) + \\frac{\\partial\\,F}{\\partial r} + 1\\right)} \\sin\\left({\\theta}\\right)^{2} \\end{array}$"
      ],
      "text/plain": [
       "X_t,t = -A(r)*B(r) + B(r)*C(r) + 2*B(r)*G(r) + d(B)/dr \n",
       "X_r,r = -A(r)^2 + A(r)*C(r) + 2*C(r)*G(r) - 2*G(r)^2 - d(A)/dr - 2*d(G)/dr \n",
       "X_th,th = (A(r) + C(r))*F(r) + d(F)/dr + 1 \n",
       "X_ph,ph = ((A(r) + C(r))*F(r) + d(F)/dr + 1)*sin(th)^2 "
      ]
     },
     "execution_count": 60,
     "metadata": {},
     "output_type": "execute_result"
    }
   ],
   "source": [
    "Ricci = T.ricci()\n",
    "Ricci.display_comp()"
   ]
  },
  {
   "cell_type": "markdown",
   "id": "f59b3018",
   "metadata": {},
   "source": [
    "## $\\nabla_\\delta \\mathcal{R}_{\\mu\\nu} = 0$"
   ]
  },
  {
   "cell_type": "code",
   "execution_count": 61,
   "id": "370024ca",
   "metadata": {},
   "outputs": [
    {
     "data": {
      "text/html": [
       "<html>\\(\\displaystyle \\begin{array}{lcl} X_{ \\, t \\, t \\, r }^{ \\phantom{\\, t}\\phantom{\\, t}\\phantom{\\, r} } & = & 2 \\, A\\left(r\\right)^{2} B\\left(r\\right) - 2 \\, A\\left(r\\right) B\\left(r\\right) C\\left(r\\right) - 4 \\, A\\left(r\\right) B\\left(r\\right) G\\left(r\\right) - B\\left(r\\right) \\frac{\\partial\\,A}{\\partial r} - {\\left(3 \\, A\\left(r\\right) - C\\left(r\\right) - 2 \\, G\\left(r\\right)\\right)} \\frac{\\partial\\,B}{\\partial r} + B\\left(r\\right) \\frac{\\partial\\,C}{\\partial r} + 2 \\, B\\left(r\\right) \\frac{\\partial\\,G}{\\partial r} + \\frac{\\partial^2\\,B}{\\partial r ^ 2} \\\\ X_{ \\, t \\, r \\, t }^{ \\phantom{\\, t}\\phantom{\\, r}\\phantom{\\, t} } & = & 2 \\, A\\left(r\\right)^{2} B\\left(r\\right) - 2 \\, A\\left(r\\right) B\\left(r\\right) C\\left(r\\right) + 2 \\, B\\left(r\\right) G\\left(r\\right)^{2} - 2 \\, {\\left(A\\left(r\\right) B\\left(r\\right) + B\\left(r\\right) C\\left(r\\right)\\right)} G\\left(r\\right) + B\\left(r\\right) \\frac{\\partial\\,A}{\\partial r} - A\\left(r\\right) \\frac{\\partial\\,B}{\\partial r} + 2 \\, B\\left(r\\right) \\frac{\\partial\\,G}{\\partial r} \\\\ X_{ \\, r \\, t \\, t }^{ \\phantom{\\, r}\\phantom{\\, t}\\phantom{\\, t} } & = & 2 \\, A\\left(r\\right)^{2} B\\left(r\\right) - 2 \\, A\\left(r\\right) B\\left(r\\right) C\\left(r\\right) + 2 \\, B\\left(r\\right) G\\left(r\\right)^{2} - 2 \\, {\\left(A\\left(r\\right) B\\left(r\\right) + B\\left(r\\right) C\\left(r\\right)\\right)} G\\left(r\\right) + B\\left(r\\right) \\frac{\\partial\\,A}{\\partial r} - A\\left(r\\right) \\frac{\\partial\\,B}{\\partial r} + 2 \\, B\\left(r\\right) \\frac{\\partial\\,G}{\\partial r} \\\\ X_{ \\, r \\, r \\, r }^{ \\phantom{\\, r}\\phantom{\\, r}\\phantom{\\, r} } & = & 2 \\, A\\left(r\\right)^{2} C\\left(r\\right) - 2 \\, A\\left(r\\right) C\\left(r\\right)^{2} - 4 \\, C\\left(r\\right)^{2} G\\left(r\\right) + 4 \\, C\\left(r\\right) G\\left(r\\right)^{2} - {\\left(2 \\, A\\left(r\\right) - 3 \\, C\\left(r\\right)\\right)} \\frac{\\partial\\,A}{\\partial r} + {\\left(A\\left(r\\right) + 2 \\, G\\left(r\\right)\\right)} \\frac{\\partial\\,C}{\\partial r} + 2 \\, {\\left(3 \\, C\\left(r\\right) - 2 \\, G\\left(r\\right)\\right)} \\frac{\\partial\\,G}{\\partial r} - \\frac{\\partial^2\\,A}{\\partial r ^ 2} - 2 \\, \\frac{\\partial^2\\,G}{\\partial r ^ 2} \\\\ X_{ \\, r \\, {\\theta} \\, {\\theta} }^{ \\phantom{\\, r}\\phantom{\\, {\\theta}}\\phantom{\\, {\\theta}} } & = & 2 \\, F\\left(r\\right) G\\left(r\\right)^{2} + {\\left(A\\left(r\\right)^{2} - A\\left(r\\right) C\\left(r\\right)\\right)} F\\left(r\\right) - {\\left({\\left(A\\left(r\\right) + 3 \\, C\\left(r\\right)\\right)} F\\left(r\\right) + 1\\right)} G\\left(r\\right) + F\\left(r\\right) \\frac{\\partial\\,A}{\\partial r} - G\\left(r\\right) \\frac{\\partial\\,F}{\\partial r} + 2 \\, F\\left(r\\right) \\frac{\\partial\\,G}{\\partial r} \\\\ X_{ \\, r \\, {\\phi} \\, {\\phi} }^{ \\phantom{\\, r}\\phantom{\\, {\\phi}}\\phantom{\\, {\\phi}} } & = & {\\left(2 \\, F\\left(r\\right) G\\left(r\\right)^{2} + {\\left(A\\left(r\\right)^{2} - A\\left(r\\right) C\\left(r\\right)\\right)} F\\left(r\\right) - {\\left({\\left(A\\left(r\\right) + 3 \\, C\\left(r\\right)\\right)} F\\left(r\\right) + 1\\right)} G\\left(r\\right) + F\\left(r\\right) \\frac{\\partial\\,A}{\\partial r} - G\\left(r\\right) \\frac{\\partial\\,F}{\\partial r} + 2 \\, F\\left(r\\right) \\frac{\\partial\\,G}{\\partial r}\\right)} \\sin\\left({\\theta}\\right)^{2} \\\\ X_{ \\, {\\theta} \\, r \\, {\\theta} }^{ \\phantom{\\, {\\theta}}\\phantom{\\, r}\\phantom{\\, {\\theta}} } & = & 2 \\, F\\left(r\\right) G\\left(r\\right)^{2} + {\\left(A\\left(r\\right)^{2} - A\\left(r\\right) C\\left(r\\right)\\right)} F\\left(r\\right) - {\\left({\\left(A\\left(r\\right) + 3 \\, C\\left(r\\right)\\right)} F\\left(r\\right) + 1\\right)} G\\left(r\\right) + F\\left(r\\right) \\frac{\\partial\\,A}{\\partial r} - G\\left(r\\right) \\frac{\\partial\\,F}{\\partial r} + 2 \\, F\\left(r\\right) \\frac{\\partial\\,G}{\\partial r} \\\\ X_{ \\, {\\theta} \\, {\\theta} \\, r }^{ \\phantom{\\, {\\theta}}\\phantom{\\, {\\theta}}\\phantom{\\, r} } & = & -2 \\, {\\left({\\left(A\\left(r\\right) + C\\left(r\\right)\\right)} F\\left(r\\right) + 1\\right)} G\\left(r\\right) + F\\left(r\\right) \\frac{\\partial\\,A}{\\partial r} + F\\left(r\\right) \\frac{\\partial\\,C}{\\partial r} + {\\left(A\\left(r\\right) + C\\left(r\\right) - 2 \\, G\\left(r\\right)\\right)} \\frac{\\partial\\,F}{\\partial r} + \\frac{\\partial^2\\,F}{\\partial r ^ 2} \\\\ X_{ \\, {\\phi} \\, r \\, {\\phi} }^{ \\phantom{\\, {\\phi}}\\phantom{\\, r}\\phantom{\\, {\\phi}} } & = & {\\left(2 \\, F\\left(r\\right) G\\left(r\\right)^{2} + {\\left(A\\left(r\\right)^{2} - A\\left(r\\right) C\\left(r\\right)\\right)} F\\left(r\\right) - {\\left({\\left(A\\left(r\\right) + 3 \\, C\\left(r\\right)\\right)} F\\left(r\\right) + 1\\right)} G\\left(r\\right) + F\\left(r\\right) \\frac{\\partial\\,A}{\\partial r} - G\\left(r\\right) \\frac{\\partial\\,F}{\\partial r} + 2 \\, F\\left(r\\right) \\frac{\\partial\\,G}{\\partial r}\\right)} \\sin\\left({\\theta}\\right)^{2} \\\\ X_{ \\, {\\phi} \\, {\\phi} \\, r }^{ \\phantom{\\, {\\phi}}\\phantom{\\, {\\phi}}\\phantom{\\, r} } & = & -{\\left(2 \\, {\\left({\\left(A\\left(r\\right) + C\\left(r\\right)\\right)} F\\left(r\\right) + 1\\right)} G\\left(r\\right) - F\\left(r\\right) \\frac{\\partial\\,A}{\\partial r} - F\\left(r\\right) \\frac{\\partial\\,C}{\\partial r} - {\\left(A\\left(r\\right) + C\\left(r\\right) - 2 \\, G\\left(r\\right)\\right)} \\frac{\\partial\\,F}{\\partial r} - \\frac{\\partial^2\\,F}{\\partial r ^ 2}\\right)} \\sin\\left({\\theta}\\right)^{2} \\end{array}\\)</html>"
      ],
      "text/latex": [
       "$\\displaystyle \\begin{array}{lcl} X_{ \\, t \\, t \\, r }^{ \\phantom{\\, t}\\phantom{\\, t}\\phantom{\\, r} } & = & 2 \\, A\\left(r\\right)^{2} B\\left(r\\right) - 2 \\, A\\left(r\\right) B\\left(r\\right) C\\left(r\\right) - 4 \\, A\\left(r\\right) B\\left(r\\right) G\\left(r\\right) - B\\left(r\\right) \\frac{\\partial\\,A}{\\partial r} - {\\left(3 \\, A\\left(r\\right) - C\\left(r\\right) - 2 \\, G\\left(r\\right)\\right)} \\frac{\\partial\\,B}{\\partial r} + B\\left(r\\right) \\frac{\\partial\\,C}{\\partial r} + 2 \\, B\\left(r\\right) \\frac{\\partial\\,G}{\\partial r} + \\frac{\\partial^2\\,B}{\\partial r ^ 2} \\\\ X_{ \\, t \\, r \\, t }^{ \\phantom{\\, t}\\phantom{\\, r}\\phantom{\\, t} } & = & 2 \\, A\\left(r\\right)^{2} B\\left(r\\right) - 2 \\, A\\left(r\\right) B\\left(r\\right) C\\left(r\\right) + 2 \\, B\\left(r\\right) G\\left(r\\right)^{2} - 2 \\, {\\left(A\\left(r\\right) B\\left(r\\right) + B\\left(r\\right) C\\left(r\\right)\\right)} G\\left(r\\right) + B\\left(r\\right) \\frac{\\partial\\,A}{\\partial r} - A\\left(r\\right) \\frac{\\partial\\,B}{\\partial r} + 2 \\, B\\left(r\\right) \\frac{\\partial\\,G}{\\partial r} \\\\ X_{ \\, r \\, t \\, t }^{ \\phantom{\\, r}\\phantom{\\, t}\\phantom{\\, t} } & = & 2 \\, A\\left(r\\right)^{2} B\\left(r\\right) - 2 \\, A\\left(r\\right) B\\left(r\\right) C\\left(r\\right) + 2 \\, B\\left(r\\right) G\\left(r\\right)^{2} - 2 \\, {\\left(A\\left(r\\right) B\\left(r\\right) + B\\left(r\\right) C\\left(r\\right)\\right)} G\\left(r\\right) + B\\left(r\\right) \\frac{\\partial\\,A}{\\partial r} - A\\left(r\\right) \\frac{\\partial\\,B}{\\partial r} + 2 \\, B\\left(r\\right) \\frac{\\partial\\,G}{\\partial r} \\\\ X_{ \\, r \\, r \\, r }^{ \\phantom{\\, r}\\phantom{\\, r}\\phantom{\\, r} } & = & 2 \\, A\\left(r\\right)^{2} C\\left(r\\right) - 2 \\, A\\left(r\\right) C\\left(r\\right)^{2} - 4 \\, C\\left(r\\right)^{2} G\\left(r\\right) + 4 \\, C\\left(r\\right) G\\left(r\\right)^{2} - {\\left(2 \\, A\\left(r\\right) - 3 \\, C\\left(r\\right)\\right)} \\frac{\\partial\\,A}{\\partial r} + {\\left(A\\left(r\\right) + 2 \\, G\\left(r\\right)\\right)} \\frac{\\partial\\,C}{\\partial r} + 2 \\, {\\left(3 \\, C\\left(r\\right) - 2 \\, G\\left(r\\right)\\right)} \\frac{\\partial\\,G}{\\partial r} - \\frac{\\partial^2\\,A}{\\partial r ^ 2} - 2 \\, \\frac{\\partial^2\\,G}{\\partial r ^ 2} \\\\ X_{ \\, r \\, {\\theta} \\, {\\theta} }^{ \\phantom{\\, r}\\phantom{\\, {\\theta}}\\phantom{\\, {\\theta}} } & = & 2 \\, F\\left(r\\right) G\\left(r\\right)^{2} + {\\left(A\\left(r\\right)^{2} - A\\left(r\\right) C\\left(r\\right)\\right)} F\\left(r\\right) - {\\left({\\left(A\\left(r\\right) + 3 \\, C\\left(r\\right)\\right)} F\\left(r\\right) + 1\\right)} G\\left(r\\right) + F\\left(r\\right) \\frac{\\partial\\,A}{\\partial r} - G\\left(r\\right) \\frac{\\partial\\,F}{\\partial r} + 2 \\, F\\left(r\\right) \\frac{\\partial\\,G}{\\partial r} \\\\ X_{ \\, r \\, {\\phi} \\, {\\phi} }^{ \\phantom{\\, r}\\phantom{\\, {\\phi}}\\phantom{\\, {\\phi}} } & = & {\\left(2 \\, F\\left(r\\right) G\\left(r\\right)^{2} + {\\left(A\\left(r\\right)^{2} - A\\left(r\\right) C\\left(r\\right)\\right)} F\\left(r\\right) - {\\left({\\left(A\\left(r\\right) + 3 \\, C\\left(r\\right)\\right)} F\\left(r\\right) + 1\\right)} G\\left(r\\right) + F\\left(r\\right) \\frac{\\partial\\,A}{\\partial r} - G\\left(r\\right) \\frac{\\partial\\,F}{\\partial r} + 2 \\, F\\left(r\\right) \\frac{\\partial\\,G}{\\partial r}\\right)} \\sin\\left({\\theta}\\right)^{2} \\\\ X_{ \\, {\\theta} \\, r \\, {\\theta} }^{ \\phantom{\\, {\\theta}}\\phantom{\\, r}\\phantom{\\, {\\theta}} } & = & 2 \\, F\\left(r\\right) G\\left(r\\right)^{2} + {\\left(A\\left(r\\right)^{2} - A\\left(r\\right) C\\left(r\\right)\\right)} F\\left(r\\right) - {\\left({\\left(A\\left(r\\right) + 3 \\, C\\left(r\\right)\\right)} F\\left(r\\right) + 1\\right)} G\\left(r\\right) + F\\left(r\\right) \\frac{\\partial\\,A}{\\partial r} - G\\left(r\\right) \\frac{\\partial\\,F}{\\partial r} + 2 \\, F\\left(r\\right) \\frac{\\partial\\,G}{\\partial r} \\\\ X_{ \\, {\\theta} \\, {\\theta} \\, r }^{ \\phantom{\\, {\\theta}}\\phantom{\\, {\\theta}}\\phantom{\\, r} } & = & -2 \\, {\\left({\\left(A\\left(r\\right) + C\\left(r\\right)\\right)} F\\left(r\\right) + 1\\right)} G\\left(r\\right) + F\\left(r\\right) \\frac{\\partial\\,A}{\\partial r} + F\\left(r\\right) \\frac{\\partial\\,C}{\\partial r} + {\\left(A\\left(r\\right) + C\\left(r\\right) - 2 \\, G\\left(r\\right)\\right)} \\frac{\\partial\\,F}{\\partial r} + \\frac{\\partial^2\\,F}{\\partial r ^ 2} \\\\ X_{ \\, {\\phi} \\, r \\, {\\phi} }^{ \\phantom{\\, {\\phi}}\\phantom{\\, r}\\phantom{\\, {\\phi}} } & = & {\\left(2 \\, F\\left(r\\right) G\\left(r\\right)^{2} + {\\left(A\\left(r\\right)^{2} - A\\left(r\\right) C\\left(r\\right)\\right)} F\\left(r\\right) - {\\left({\\left(A\\left(r\\right) + 3 \\, C\\left(r\\right)\\right)} F\\left(r\\right) + 1\\right)} G\\left(r\\right) + F\\left(r\\right) \\frac{\\partial\\,A}{\\partial r} - G\\left(r\\right) \\frac{\\partial\\,F}{\\partial r} + 2 \\, F\\left(r\\right) \\frac{\\partial\\,G}{\\partial r}\\right)} \\sin\\left({\\theta}\\right)^{2} \\\\ X_{ \\, {\\phi} \\, {\\phi} \\, r }^{ \\phantom{\\, {\\phi}}\\phantom{\\, {\\phi}}\\phantom{\\, r} } & = & -{\\left(2 \\, {\\left({\\left(A\\left(r\\right) + C\\left(r\\right)\\right)} F\\left(r\\right) + 1\\right)} G\\left(r\\right) - F\\left(r\\right) \\frac{\\partial\\,A}{\\partial r} - F\\left(r\\right) \\frac{\\partial\\,C}{\\partial r} - {\\left(A\\left(r\\right) + C\\left(r\\right) - 2 \\, G\\left(r\\right)\\right)} \\frac{\\partial\\,F}{\\partial r} - \\frac{\\partial^2\\,F}{\\partial r ^ 2}\\right)} \\sin\\left({\\theta}\\right)^{2} \\end{array}$"
      ],
      "text/plain": [
       "X_t,t,r = 2*A(r)^2*B(r) - 2*A(r)*B(r)*C(r) - 4*A(r)*B(r)*G(r) - B(r)*d(A)/dr - (3*A(r) - C(r) - 2*G(r))*d(B)/dr + B(r)*d(C)/dr + 2*B(r)*d(G)/dr + d^2(B)/dr^2 \n",
       "X_t,r,t = 2*A(r)^2*B(r) - 2*A(r)*B(r)*C(r) + 2*B(r)*G(r)^2 - 2*(A(r)*B(r) + B(r)*C(r))*G(r) + B(r)*d(A)/dr - A(r)*d(B)/dr + 2*B(r)*d(G)/dr \n",
       "X_r,t,t = 2*A(r)^2*B(r) - 2*A(r)*B(r)*C(r) + 2*B(r)*G(r)^2 - 2*(A(r)*B(r) + B(r)*C(r))*G(r) + B(r)*d(A)/dr - A(r)*d(B)/dr + 2*B(r)*d(G)/dr \n",
       "X_r,r,r = 2*A(r)^2*C(r) - 2*A(r)*C(r)^2 - 4*C(r)^2*G(r) + 4*C(r)*G(r)^2 - (2*A(r) - 3*C(r))*d(A)/dr + (A(r) + 2*G(r))*d(C)/dr + 2*(3*C(r) - 2*G(r))*d(G)/dr - d^2(A)/dr^2 - 2*d^2(G)/dr^2 \n",
       "X_r,th,th = 2*F(r)*G(r)^2 + (A(r)^2 - A(r)*C(r))*F(r) - ((A(r) + 3*C(r))*F(r) + 1)*G(r) + F(r)*d(A)/dr - G(r)*d(F)/dr + 2*F(r)*d(G)/dr \n",
       "X_r,ph,ph = (2*F(r)*G(r)^2 + (A(r)^2 - A(r)*C(r))*F(r) - ((A(r) + 3*C(r))*F(r) + 1)*G(r) + F(r)*d(A)/dr - G(r)*d(F)/dr + 2*F(r)*d(G)/dr)*sin(th)^2 \n",
       "X_th,r,th = 2*F(r)*G(r)^2 + (A(r)^2 - A(r)*C(r))*F(r) - ((A(r) + 3*C(r))*F(r) + 1)*G(r) + F(r)*d(A)/dr - G(r)*d(F)/dr + 2*F(r)*d(G)/dr \n",
       "X_th,th,r = -2*((A(r) + C(r))*F(r) + 1)*G(r) + F(r)*d(A)/dr + F(r)*d(C)/dr + (A(r) + C(r) - 2*G(r))*d(F)/dr + d^2(F)/dr^2 \n",
       "X_ph,r,ph = (2*F(r)*G(r)^2 + (A(r)^2 - A(r)*C(r))*F(r) - ((A(r) + 3*C(r))*F(r) + 1)*G(r) + F(r)*d(A)/dr - G(r)*d(F)/dr + 2*F(r)*d(G)/dr)*sin(th)^2 \n",
       "X_ph,ph,r = -(2*((A(r) + C(r))*F(r) + 1)*G(r) - F(r)*d(A)/dr - F(r)*d(C)/dr - (A(r) + C(r) - 2*G(r))*d(F)/dr - d^2(F)/dr^2)*sin(th)^2 "
      ]
     },
     "execution_count": 61,
     "metadata": {},
     "output_type": "execute_result"
    }
   ],
   "source": [
    "NRicci = T(Ricci)\n",
    "NRicci.display_comp()"
   ]
  },
  {
   "cell_type": "markdown",
   "id": "6b56a7e7",
   "metadata": {},
   "source": [
    "## $\\nabla_{[\\delta} \\mathcal{R}_{\\mu]\\nu} = 0$"
   ]
  },
  {
   "cell_type": "code",
   "execution_count": 62,
   "id": "bf8f9cc8",
   "metadata": {},
   "outputs": [
    {
     "data": {
      "text/html": [
       "<html>\\(\\displaystyle \\begin{array}{lcl} X_{ \\, t \\, t \\, r }^{ \\phantom{\\, t}\\phantom{\\, t}\\phantom{\\, r} } & = & -B\\left(r\\right) G\\left(r\\right)^{2} - {\\left(A\\left(r\\right) B\\left(r\\right) - B\\left(r\\right) C\\left(r\\right)\\right)} G\\left(r\\right) - B\\left(r\\right) \\frac{\\partial\\,A}{\\partial r} - \\frac{1}{2} \\, {\\left(2 \\, A\\left(r\\right) - C\\left(r\\right) - 2 \\, G\\left(r\\right)\\right)} \\frac{\\partial\\,B}{\\partial r} + \\frac{1}{2} \\, B\\left(r\\right) \\frac{\\partial\\,C}{\\partial r} + \\frac{1}{2} \\, \\frac{\\partial^2\\,B}{\\partial r ^ 2} \\\\ X_{ \\, r \\, {\\theta} \\, {\\theta} }^{ \\phantom{\\, r}\\phantom{\\, {\\theta}}\\phantom{\\, {\\theta}} } & = & F\\left(r\\right) G\\left(r\\right)^{2} + \\frac{1}{2} \\, {\\left(A\\left(r\\right)^{2} - A\\left(r\\right) C\\left(r\\right)\\right)} F\\left(r\\right) + \\frac{1}{2} \\, {\\left({\\left(A\\left(r\\right) - C\\left(r\\right)\\right)} F\\left(r\\right) + 1\\right)} G\\left(r\\right) - \\frac{1}{2} \\, F\\left(r\\right) \\frac{\\partial\\,C}{\\partial r} - \\frac{1}{2} \\, {\\left(A\\left(r\\right) + C\\left(r\\right) - G\\left(r\\right)\\right)} \\frac{\\partial\\,F}{\\partial r} + F\\left(r\\right) \\frac{\\partial\\,G}{\\partial r} - \\frac{1}{2} \\, \\frac{\\partial^2\\,F}{\\partial r ^ 2} \\\\ X_{ \\, r \\, {\\phi} \\, {\\phi} }^{ \\phantom{\\, r}\\phantom{\\, {\\phi}}\\phantom{\\, {\\phi}} } & = & \\frac{1}{2} \\, {\\left(2 \\, F\\left(r\\right) G\\left(r\\right)^{2} + {\\left(A\\left(r\\right)^{2} - A\\left(r\\right) C\\left(r\\right)\\right)} F\\left(r\\right) + {\\left({\\left(A\\left(r\\right) - C\\left(r\\right)\\right)} F\\left(r\\right) + 1\\right)} G\\left(r\\right) - F\\left(r\\right) \\frac{\\partial\\,C}{\\partial r} - {\\left(A\\left(r\\right) + C\\left(r\\right) - G\\left(r\\right)\\right)} \\frac{\\partial\\,F}{\\partial r} + 2 \\, F\\left(r\\right) \\frac{\\partial\\,G}{\\partial r} - \\frac{\\partial^2\\,F}{\\partial r ^ 2}\\right)} \\sin\\left({\\theta}\\right)^{2} \\end{array}\\)</html>"
      ],
      "text/latex": [
       "$\\displaystyle \\begin{array}{lcl} X_{ \\, t \\, t \\, r }^{ \\phantom{\\, t}\\phantom{\\, t}\\phantom{\\, r} } & = & -B\\left(r\\right) G\\left(r\\right)^{2} - {\\left(A\\left(r\\right) B\\left(r\\right) - B\\left(r\\right) C\\left(r\\right)\\right)} G\\left(r\\right) - B\\left(r\\right) \\frac{\\partial\\,A}{\\partial r} - \\frac{1}{2} \\, {\\left(2 \\, A\\left(r\\right) - C\\left(r\\right) - 2 \\, G\\left(r\\right)\\right)} \\frac{\\partial\\,B}{\\partial r} + \\frac{1}{2} \\, B\\left(r\\right) \\frac{\\partial\\,C}{\\partial r} + \\frac{1}{2} \\, \\frac{\\partial^2\\,B}{\\partial r ^ 2} \\\\ X_{ \\, r \\, {\\theta} \\, {\\theta} }^{ \\phantom{\\, r}\\phantom{\\, {\\theta}}\\phantom{\\, {\\theta}} } & = & F\\left(r\\right) G\\left(r\\right)^{2} + \\frac{1}{2} \\, {\\left(A\\left(r\\right)^{2} - A\\left(r\\right) C\\left(r\\right)\\right)} F\\left(r\\right) + \\frac{1}{2} \\, {\\left({\\left(A\\left(r\\right) - C\\left(r\\right)\\right)} F\\left(r\\right) + 1\\right)} G\\left(r\\right) - \\frac{1}{2} \\, F\\left(r\\right) \\frac{\\partial\\,C}{\\partial r} - \\frac{1}{2} \\, {\\left(A\\left(r\\right) + C\\left(r\\right) - G\\left(r\\right)\\right)} \\frac{\\partial\\,F}{\\partial r} + F\\left(r\\right) \\frac{\\partial\\,G}{\\partial r} - \\frac{1}{2} \\, \\frac{\\partial^2\\,F}{\\partial r ^ 2} \\\\ X_{ \\, r \\, {\\phi} \\, {\\phi} }^{ \\phantom{\\, r}\\phantom{\\, {\\phi}}\\phantom{\\, {\\phi}} } & = & \\frac{1}{2} \\, {\\left(2 \\, F\\left(r\\right) G\\left(r\\right)^{2} + {\\left(A\\left(r\\right)^{2} - A\\left(r\\right) C\\left(r\\right)\\right)} F\\left(r\\right) + {\\left({\\left(A\\left(r\\right) - C\\left(r\\right)\\right)} F\\left(r\\right) + 1\\right)} G\\left(r\\right) - F\\left(r\\right) \\frac{\\partial\\,C}{\\partial r} - {\\left(A\\left(r\\right) + C\\left(r\\right) - G\\left(r\\right)\\right)} \\frac{\\partial\\,F}{\\partial r} + 2 \\, F\\left(r\\right) \\frac{\\partial\\,G}{\\partial r} - \\frac{\\partial^2\\,F}{\\partial r ^ 2}\\right)} \\sin\\left({\\theta}\\right)^{2} \\end{array}$"
      ],
      "text/plain": [
       "X_t,t,r = -B(r)*G(r)^2 - (A(r)*B(r) - B(r)*C(r))*G(r) - B(r)*d(A)/dr - 1/2*(2*A(r) - C(r) - 2*G(r))*d(B)/dr + 1/2*B(r)*d(C)/dr + 1/2*d^2(B)/dr^2 \n",
       "X_r,th,th = F(r)*G(r)^2 + 1/2*(A(r)^2 - A(r)*C(r))*F(r) + 1/2*((A(r) - C(r))*F(r) + 1)*G(r) - 1/2*F(r)*d(C)/dr - 1/2*(A(r) + C(r) - G(r))*d(F)/dr + F(r)*d(G)/dr - 1/2*d^2(F)/dr^2 \n",
       "X_r,ph,ph = 1/2*(2*F(r)*G(r)^2 + (A(r)^2 - A(r)*C(r))*F(r) + ((A(r) - C(r))*F(r) + 1)*G(r) - F(r)*d(C)/dr - (A(r) + C(r) - G(r))*d(F)/dr + 2*F(r)*d(G)/dr - d^2(F)/dr^2)*sin(th)^2 "
      ]
     },
     "execution_count": 62,
     "metadata": {},
     "output_type": "execute_result"
    }
   ],
   "source": [
    "NRicci.antisymmetrize(0,2).display_comp(only_nonredundant=True)"
   ]
  },
  {
   "cell_type": "markdown",
   "id": "1629134b",
   "metadata": {},
   "source": [
    "# Solving $\\nabla_{[\\delta} \\mathcal{R}_{\\mu]\\nu} = 0 \\to \\nabla_{[\\delta} k_{\\mu]\\nu} = 0$"
   ]
  },
  {
   "cell_type": "markdown",
   "id": "de1f3e57",
   "metadata": {},
   "source": [
    "## Case a(r) and b(r)"
   ]
  },
  {
   "cell_type": "code",
   "execution_count": 40,
   "id": "49201045",
   "metadata": {},
   "outputs": [
    {
     "data": {
      "text/html": [
       "<html>\\(\\displaystyle \\begin{array}{lcl} X_{ \\, t \\, t }^{ \\phantom{\\, t}\\phantom{\\, t} } & = & a\\left(r\\right) \\\\ X_{ \\, r \\, r }^{ \\phantom{\\, r}\\phantom{\\, r} } & = & b\\left(r\\right) \\\\ X_{ \\, {\\theta} \\, {\\theta} }^{ \\phantom{\\, {\\theta}}\\phantom{\\, {\\theta}} } & = & r^{2} \\\\ X_{ \\, {\\phi} \\, {\\phi} }^{ \\phantom{\\, {\\phi}}\\phantom{\\, {\\phi}} } & = & r^{2} \\sin\\left({\\theta}\\right)^{2} \\end{array}\\)</html>"
      ],
      "text/latex": [
       "$\\displaystyle \\begin{array}{lcl} X_{ \\, t \\, t }^{ \\phantom{\\, t}\\phantom{\\, t} } & = & a\\left(r\\right) \\\\ X_{ \\, r \\, r }^{ \\phantom{\\, r}\\phantom{\\, r} } & = & b\\left(r\\right) \\\\ X_{ \\, {\\theta} \\, {\\theta} }^{ \\phantom{\\, {\\theta}}\\phantom{\\, {\\theta}} } & = & r^{2} \\\\ X_{ \\, {\\phi} \\, {\\phi} }^{ \\phantom{\\, {\\phi}}\\phantom{\\, {\\phi}} } & = & r^{2} \\sin\\left({\\theta}\\right)^{2} \\end{array}$"
      ],
      "text/plain": [
       "X_t,t = a(r) \n",
       "X_r,r = b(r) \n",
       "X_th,th = r^2 \n",
       "X_ph,ph = r^2*sin(th)^2 "
      ]
     },
     "execution_count": 40,
     "metadata": {},
     "output_type": "execute_result"
    }
   ],
   "source": [
    "k = M.tensor_field(0,2)\n",
    "a = function('a')(r)\n",
    "b = function('b')(r)\n",
    "\n",
    "k[0,0] = a\n",
    "k[1,1] = b\n",
    "k[2,2] = r**2\n",
    "k[3,3] = r**2*(sin(th))**2\n",
    "k.display_comp()"
   ]
  },
  {
   "cell_type": "code",
   "execution_count": 41,
   "id": "c632350e",
   "metadata": {},
   "outputs": [
    {
     "data": {
      "text/html": [
       "<html>\\(\\displaystyle \\begin{array}{lcl} X_{ \\, t \\, t \\, r }^{ \\phantom{\\, t}\\phantom{\\, t}\\phantom{\\, r} } & = & -2 \\, A\\left(r\\right) a\\left(r\\right) + \\frac{\\partial\\,a}{\\partial r} \\\\ X_{ \\, t \\, r \\, t }^{ \\phantom{\\, t}\\phantom{\\, r}\\phantom{\\, t} } & = & -A\\left(r\\right) a\\left(r\\right) - B\\left(r\\right) b\\left(r\\right) \\\\ X_{ \\, r \\, t \\, t }^{ \\phantom{\\, r}\\phantom{\\, t}\\phantom{\\, t} } & = & -A\\left(r\\right) a\\left(r\\right) - B\\left(r\\right) b\\left(r\\right) \\\\ X_{ \\, r \\, r \\, r }^{ \\phantom{\\, r}\\phantom{\\, r}\\phantom{\\, r} } & = & -2 \\, C\\left(r\\right) b\\left(r\\right) + \\frac{\\partial\\,b}{\\partial r} \\\\ X_{ \\, r \\, {\\theta} \\, {\\theta} }^{ \\phantom{\\, r}\\phantom{\\, {\\theta}}\\phantom{\\, {\\theta}} } & = & -r^{2} G\\left(r\\right) - F\\left(r\\right) b\\left(r\\right) \\\\ X_{ \\, r \\, {\\phi} \\, {\\phi} }^{ \\phantom{\\, r}\\phantom{\\, {\\phi}}\\phantom{\\, {\\phi}} } & = & -{\\left(r^{2} G\\left(r\\right) + F\\left(r\\right) b\\left(r\\right)\\right)} \\sin\\left({\\theta}\\right)^{2} \\\\ X_{ \\, {\\theta} \\, r \\, {\\theta} }^{ \\phantom{\\, {\\theta}}\\phantom{\\, r}\\phantom{\\, {\\theta}} } & = & -r^{2} G\\left(r\\right) - F\\left(r\\right) b\\left(r\\right) \\\\ X_{ \\, {\\theta} \\, {\\theta} \\, r }^{ \\phantom{\\, {\\theta}}\\phantom{\\, {\\theta}}\\phantom{\\, r} } & = & -2 \\, r^{2} G\\left(r\\right) + 2 \\, r \\\\ X_{ \\, {\\phi} \\, r \\, {\\phi} }^{ \\phantom{\\, {\\phi}}\\phantom{\\, r}\\phantom{\\, {\\phi}} } & = & -{\\left(r^{2} G\\left(r\\right) + F\\left(r\\right) b\\left(r\\right)\\right)} \\sin\\left({\\theta}\\right)^{2} \\\\ X_{ \\, {\\phi} \\, {\\phi} \\, r }^{ \\phantom{\\, {\\phi}}\\phantom{\\, {\\phi}}\\phantom{\\, r} } & = & -2 \\, {\\left(r^{2} G\\left(r\\right) - r\\right)} \\sin\\left({\\theta}\\right)^{2} \\end{array}\\)</html>"
      ],
      "text/latex": [
       "$\\displaystyle \\begin{array}{lcl} X_{ \\, t \\, t \\, r }^{ \\phantom{\\, t}\\phantom{\\, t}\\phantom{\\, r} } & = & -2 \\, A\\left(r\\right) a\\left(r\\right) + \\frac{\\partial\\,a}{\\partial r} \\\\ X_{ \\, t \\, r \\, t }^{ \\phantom{\\, t}\\phantom{\\, r}\\phantom{\\, t} } & = & -A\\left(r\\right) a\\left(r\\right) - B\\left(r\\right) b\\left(r\\right) \\\\ X_{ \\, r \\, t \\, t }^{ \\phantom{\\, r}\\phantom{\\, t}\\phantom{\\, t} } & = & -A\\left(r\\right) a\\left(r\\right) - B\\left(r\\right) b\\left(r\\right) \\\\ X_{ \\, r \\, r \\, r }^{ \\phantom{\\, r}\\phantom{\\, r}\\phantom{\\, r} } & = & -2 \\, C\\left(r\\right) b\\left(r\\right) + \\frac{\\partial\\,b}{\\partial r} \\\\ X_{ \\, r \\, {\\theta} \\, {\\theta} }^{ \\phantom{\\, r}\\phantom{\\, {\\theta}}\\phantom{\\, {\\theta}} } & = & -r^{2} G\\left(r\\right) - F\\left(r\\right) b\\left(r\\right) \\\\ X_{ \\, r \\, {\\phi} \\, {\\phi} }^{ \\phantom{\\, r}\\phantom{\\, {\\phi}}\\phantom{\\, {\\phi}} } & = & -{\\left(r^{2} G\\left(r\\right) + F\\left(r\\right) b\\left(r\\right)\\right)} \\sin\\left({\\theta}\\right)^{2} \\\\ X_{ \\, {\\theta} \\, r \\, {\\theta} }^{ \\phantom{\\, {\\theta}}\\phantom{\\, r}\\phantom{\\, {\\theta}} } & = & -r^{2} G\\left(r\\right) - F\\left(r\\right) b\\left(r\\right) \\\\ X_{ \\, {\\theta} \\, {\\theta} \\, r }^{ \\phantom{\\, {\\theta}}\\phantom{\\, {\\theta}}\\phantom{\\, r} } & = & -2 \\, r^{2} G\\left(r\\right) + 2 \\, r \\\\ X_{ \\, {\\phi} \\, r \\, {\\phi} }^{ \\phantom{\\, {\\phi}}\\phantom{\\, r}\\phantom{\\, {\\phi}} } & = & -{\\left(r^{2} G\\left(r\\right) + F\\left(r\\right) b\\left(r\\right)\\right)} \\sin\\left({\\theta}\\right)^{2} \\\\ X_{ \\, {\\phi} \\, {\\phi} \\, r }^{ \\phantom{\\, {\\phi}}\\phantom{\\, {\\phi}}\\phantom{\\, r} } & = & -2 \\, {\\left(r^{2} G\\left(r\\right) - r\\right)} \\sin\\left({\\theta}\\right)^{2} \\end{array}$"
      ],
      "text/plain": [
       "X_t,t,r = -2*A(r)*a(r) + d(a)/dr \n",
       "X_t,r,t = -A(r)*a(r) - B(r)*b(r) \n",
       "X_r,t,t = -A(r)*a(r) - B(r)*b(r) \n",
       "X_r,r,r = -2*C(r)*b(r) + d(b)/dr \n",
       "X_r,th,th = -r^2*G(r) - F(r)*b(r) \n",
       "X_r,ph,ph = -(r^2*G(r) + F(r)*b(r))*sin(th)^2 \n",
       "X_th,r,th = -r^2*G(r) - F(r)*b(r) \n",
       "X_th,th,r = -2*r^2*G(r) + 2*r \n",
       "X_ph,r,ph = -(r^2*G(r) + F(r)*b(r))*sin(th)^2 \n",
       "X_ph,ph,r = -2*(r^2*G(r) - r)*sin(th)^2 "
      ]
     },
     "execution_count": 41,
     "metadata": {},
     "output_type": "execute_result"
    }
   ],
   "source": [
    "NK = T(k)\n",
    "NK.display_comp()"
   ]
  },
  {
   "cell_type": "code",
   "execution_count": 42,
   "id": "86a5d057",
   "metadata": {},
   "outputs": [
    {
     "data": {
      "text/html": [
       "<html>\\(\\displaystyle \\begin{array}{lcl} X_{ \\, t \\, t \\, r }^{ \\phantom{\\, t}\\phantom{\\, t}\\phantom{\\, r} } & = & -\\frac{1}{2} \\, A\\left(r\\right) a\\left(r\\right) + \\frac{1}{2} \\, B\\left(r\\right) b\\left(r\\right) + \\frac{1}{2} \\, \\frac{\\partial\\,a}{\\partial r} \\\\ X_{ \\, r \\, {\\theta} \\, {\\theta} }^{ \\phantom{\\, r}\\phantom{\\, {\\theta}}\\phantom{\\, {\\theta}} } & = & \\frac{1}{2} \\, r^{2} G\\left(r\\right) - \\frac{1}{2} \\, F\\left(r\\right) b\\left(r\\right) - r \\\\ X_{ \\, r \\, {\\phi} \\, {\\phi} }^{ \\phantom{\\, r}\\phantom{\\, {\\phi}}\\phantom{\\, {\\phi}} } & = & \\frac{1}{2} \\, {\\left(r^{2} G\\left(r\\right) - F\\left(r\\right) b\\left(r\\right) - 2 \\, r\\right)} \\sin\\left({\\theta}\\right)^{2} \\end{array}\\)</html>"
      ],
      "text/latex": [
       "$\\displaystyle \\begin{array}{lcl} X_{ \\, t \\, t \\, r }^{ \\phantom{\\, t}\\phantom{\\, t}\\phantom{\\, r} } & = & -\\frac{1}{2} \\, A\\left(r\\right) a\\left(r\\right) + \\frac{1}{2} \\, B\\left(r\\right) b\\left(r\\right) + \\frac{1}{2} \\, \\frac{\\partial\\,a}{\\partial r} \\\\ X_{ \\, r \\, {\\theta} \\, {\\theta} }^{ \\phantom{\\, r}\\phantom{\\, {\\theta}}\\phantom{\\, {\\theta}} } & = & \\frac{1}{2} \\, r^{2} G\\left(r\\right) - \\frac{1}{2} \\, F\\left(r\\right) b\\left(r\\right) - r \\\\ X_{ \\, r \\, {\\phi} \\, {\\phi} }^{ \\phantom{\\, r}\\phantom{\\, {\\phi}}\\phantom{\\, {\\phi}} } & = & \\frac{1}{2} \\, {\\left(r^{2} G\\left(r\\right) - F\\left(r\\right) b\\left(r\\right) - 2 \\, r\\right)} \\sin\\left({\\theta}\\right)^{2} \\end{array}$"
      ],
      "text/plain": [
       "X_t,t,r = -1/2*A(r)*a(r) + 1/2*B(r)*b(r) + 1/2*d(a)/dr \n",
       "X_r,th,th = 1/2*r^2*G(r) - 1/2*F(r)*b(r) - r \n",
       "X_r,ph,ph = 1/2*(r^2*G(r) - F(r)*b(r) - 2*r)*sin(th)^2 "
      ]
     },
     "execution_count": 42,
     "metadata": {},
     "output_type": "execute_result"
    }
   ],
   "source": [
    "NK.antisymmetrize(0,2).display_comp(only_nonredundant=True)"
   ]
  },
  {
   "cell_type": "code",
   "execution_count": 43,
   "id": "e50c5084",
   "metadata": {},
   "outputs": [
    {
     "data": {
      "text/html": [
       "<html>\\(\\displaystyle \\begin{array}{lcl} \\Gamma_{ \\phantom{\\, t} \\, t \\, r }^{ \\, t \\phantom{\\, t} \\phantom{\\, r} } & = & \\frac{B\\left(r\\right) b\\left(r\\right)}{a\\left(r\\right)} + \\frac{\\frac{\\partial\\,a}{\\partial r}}{a\\left(r\\right)} \\\\ \\Gamma_{ \\phantom{\\, t} \\, r \\, t }^{ \\, t \\phantom{\\, r} \\phantom{\\, t} } & = & \\frac{B\\left(r\\right) b\\left(r\\right)}{a\\left(r\\right)} + \\frac{\\frac{\\partial\\,a}{\\partial r}}{a\\left(r\\right)} \\\\ \\Gamma_{ \\phantom{\\, r} \\, t \\, t }^{ \\, r \\phantom{\\, t} \\phantom{\\, t} } & = & B\\left(r\\right) \\\\ \\Gamma_{ \\phantom{\\, r} \\, r \\, r }^{ \\, r \\phantom{\\, r} \\phantom{\\, r} } & = & C\\left(r\\right) \\\\ \\Gamma_{ \\phantom{\\, r} \\, {\\theta} \\, {\\theta} }^{ \\, r \\phantom{\\, {\\theta}} \\phantom{\\, {\\theta}} } & = & \\frac{r^{2} G\\left(r\\right)}{b\\left(r\\right)} - \\frac{2 \\, r}{b\\left(r\\right)} \\\\ \\Gamma_{ \\phantom{\\, r} \\, {\\phi} \\, {\\phi} }^{ \\, r \\phantom{\\, {\\phi}} \\phantom{\\, {\\phi}} } & = & {\\left(\\frac{r^{2} G\\left(r\\right)}{b\\left(r\\right)} - \\frac{2 \\, r}{b\\left(r\\right)}\\right)} \\sin\\left({\\theta}\\right)^{2} \\\\ \\Gamma_{ \\phantom{\\, {\\theta}} \\, r \\, {\\theta} }^{ \\, {\\theta} \\phantom{\\, r} \\phantom{\\, {\\theta}} } & = & G\\left(r\\right) \\\\ \\Gamma_{ \\phantom{\\, {\\theta}} \\, {\\theta} \\, r }^{ \\, {\\theta} \\phantom{\\, {\\theta}} \\phantom{\\, r} } & = & G\\left(r\\right) \\\\ \\Gamma_{ \\phantom{\\, {\\theta}} \\, {\\phi} \\, {\\phi} }^{ \\, {\\theta} \\phantom{\\, {\\phi}} \\phantom{\\, {\\phi}} } & = & -\\cos\\left({\\theta}\\right) \\sin\\left({\\theta}\\right) \\\\ \\Gamma_{ \\phantom{\\, {\\phi}} \\, r \\, {\\phi} }^{ \\, {\\phi} \\phantom{\\, r} \\phantom{\\, {\\phi}} } & = & G\\left(r\\right) \\\\ \\Gamma_{ \\phantom{\\, {\\phi}} \\, {\\theta} \\, {\\phi} }^{ \\, {\\phi} \\phantom{\\, {\\theta}} \\phantom{\\, {\\phi}} } & = & \\frac{\\cos\\left({\\theta}\\right)}{\\sin\\left({\\theta}\\right)} \\\\ \\Gamma_{ \\phantom{\\, {\\phi}} \\, {\\phi} \\, r }^{ \\, {\\phi} \\phantom{\\, {\\phi}} \\phantom{\\, r} } & = & G\\left(r\\right) \\\\ \\Gamma_{ \\phantom{\\, {\\phi}} \\, {\\phi} \\, {\\theta} }^{ \\, {\\phi} \\phantom{\\, {\\phi}} \\phantom{\\, {\\theta}} } & = & \\frac{\\cos\\left({\\theta}\\right)}{\\sin\\left({\\theta}\\right)} \\end{array}\\)</html>"
      ],
      "text/latex": [
       "$\\displaystyle \\begin{array}{lcl} \\Gamma_{ \\phantom{\\, t} \\, t \\, r }^{ \\, t \\phantom{\\, t} \\phantom{\\, r} } & = & \\frac{B\\left(r\\right) b\\left(r\\right)}{a\\left(r\\right)} + \\frac{\\frac{\\partial\\,a}{\\partial r}}{a\\left(r\\right)} \\\\ \\Gamma_{ \\phantom{\\, t} \\, r \\, t }^{ \\, t \\phantom{\\, r} \\phantom{\\, t} } & = & \\frac{B\\left(r\\right) b\\left(r\\right)}{a\\left(r\\right)} + \\frac{\\frac{\\partial\\,a}{\\partial r}}{a\\left(r\\right)} \\\\ \\Gamma_{ \\phantom{\\, r} \\, t \\, t }^{ \\, r \\phantom{\\, t} \\phantom{\\, t} } & = & B\\left(r\\right) \\\\ \\Gamma_{ \\phantom{\\, r} \\, r \\, r }^{ \\, r \\phantom{\\, r} \\phantom{\\, r} } & = & C\\left(r\\right) \\\\ \\Gamma_{ \\phantom{\\, r} \\, {\\theta} \\, {\\theta} }^{ \\, r \\phantom{\\, {\\theta}} \\phantom{\\, {\\theta}} } & = & \\frac{r^{2} G\\left(r\\right)}{b\\left(r\\right)} - \\frac{2 \\, r}{b\\left(r\\right)} \\\\ \\Gamma_{ \\phantom{\\, r} \\, {\\phi} \\, {\\phi} }^{ \\, r \\phantom{\\, {\\phi}} \\phantom{\\, {\\phi}} } & = & {\\left(\\frac{r^{2} G\\left(r\\right)}{b\\left(r\\right)} - \\frac{2 \\, r}{b\\left(r\\right)}\\right)} \\sin\\left({\\theta}\\right)^{2} \\\\ \\Gamma_{ \\phantom{\\, {\\theta}} \\, r \\, {\\theta} }^{ \\, {\\theta} \\phantom{\\, r} \\phantom{\\, {\\theta}} } & = & G\\left(r\\right) \\\\ \\Gamma_{ \\phantom{\\, {\\theta}} \\, {\\theta} \\, r }^{ \\, {\\theta} \\phantom{\\, {\\theta}} \\phantom{\\, r} } & = & G\\left(r\\right) \\\\ \\Gamma_{ \\phantom{\\, {\\theta}} \\, {\\phi} \\, {\\phi} }^{ \\, {\\theta} \\phantom{\\, {\\phi}} \\phantom{\\, {\\phi}} } & = & -\\cos\\left({\\theta}\\right) \\sin\\left({\\theta}\\right) \\\\ \\Gamma_{ \\phantom{\\, {\\phi}} \\, r \\, {\\phi} }^{ \\, {\\phi} \\phantom{\\, r} \\phantom{\\, {\\phi}} } & = & G\\left(r\\right) \\\\ \\Gamma_{ \\phantom{\\, {\\phi}} \\, {\\theta} \\, {\\phi} }^{ \\, {\\phi} \\phantom{\\, {\\theta}} \\phantom{\\, {\\phi}} } & = & \\frac{\\cos\\left({\\theta}\\right)}{\\sin\\left({\\theta}\\right)} \\\\ \\Gamma_{ \\phantom{\\, {\\phi}} \\, {\\phi} \\, r }^{ \\, {\\phi} \\phantom{\\, {\\phi}} \\phantom{\\, r} } & = & G\\left(r\\right) \\\\ \\Gamma_{ \\phantom{\\, {\\phi}} \\, {\\phi} \\, {\\theta} }^{ \\, {\\phi} \\phantom{\\, {\\phi}} \\phantom{\\, {\\theta}} } & = & \\frac{\\cos\\left({\\theta}\\right)}{\\sin\\left({\\theta}\\right)} \\end{array}$"
      ],
      "text/plain": [
       "Gam^t_t,r = B(r)*b(r)/a(r) + d(a)/dr/a(r) \n",
       "Gam^t_r,t = B(r)*b(r)/a(r) + d(a)/dr/a(r) \n",
       "Gam^r_t,t = B(r) \n",
       "Gam^r_r,r = C(r) \n",
       "Gam^r_th,th = r^2*G(r)/b(r) - 2*r/b(r) \n",
       "Gam^r_ph,ph = (r^2*G(r)/b(r) - 2*r/b(r))*sin(th)^2 \n",
       "Gam^th_r,th = G(r) \n",
       "Gam^th_th,r = G(r) \n",
       "Gam^th_ph,ph = -cos(th)*sin(th) \n",
       "Gam^ph_r,ph = G(r) \n",
       "Gam^ph_th,ph = cos(th)/sin(th) \n",
       "Gam^ph_ph,r = G(r) \n",
       "Gam^ph_ph,th = cos(th)/sin(th) "
      ]
     },
     "execution_count": 43,
     "metadata": {},
     "output_type": "execute_result"
    }
   ],
   "source": [
    "A = function(\"A\")(r)\n",
    "B = function(\"B\")(r)\n",
    "C = function(\"C\")(r)\n",
    "F = function(\"F\")(r)\n",
    "G = function(\"G\")(r)\n",
    "\n",
    "\n",
    "A = B*b/a + derivative(a,r)/a\n",
    "F = G*r**2/b - 2*r/b\n",
    "\n",
    "T[0,0,0] = 0\n",
    "T[0,0,1] = A\n",
    "T[0,1,0] = T[0,0,1]\n",
    "T[0,1,1] = 0\n",
    "T[0,2,2] = 0\n",
    "T[0,3,3] = 0\n",
    "\n",
    "\n",
    "T[1,0,0] = B\n",
    "T[1,0,1] = 0\n",
    "T[1,1,0] = T[1,0,1]\n",
    "T[1,1,1] = C\n",
    "T[1,2,2] = F\n",
    "T[1,3,3] = F*(sin(th))^2\n",
    "\n",
    "\n",
    "T[2,0,2] = 0\n",
    "T[2,2,0] = T[2,0,2]\n",
    "T[2,0,3] = 0\n",
    "T[2,3,0] = T[2,0,3]\n",
    "T[2,1,2] = G\n",
    "T[2,2,1] = T[2,1,2]\n",
    "T[2,1,3] = 0\n",
    "T[2,3,1] = T[2,1,3]\n",
    "T[2,3,3] = -cos(th)*sin(th)\n",
    "\n",
    "\n",
    "T[3,0,2] = 0\n",
    "T[3,2,0] = T[3,0,2]\n",
    "T[3,0,3] = 0\n",
    "T[3,3,0] = T[3,0,3]\n",
    "T[3,1,2] = 0\n",
    "T[3,2,1] = T[3,1,2]\n",
    "T[3,1,3] = G\n",
    "T[3,3,1] = T[3,1,3]\n",
    "T[3,2,3] = cos(th)/sin(th)\n",
    "T[3,3,2] = T[3,2,3]\n",
    "\n",
    "T.display(only_nonredundant=True)"
   ]
  },
  {
   "cell_type": "code",
   "execution_count": 44,
   "id": "b0de9437",
   "metadata": {},
   "outputs": [
    {
     "data": {
      "text/html": [
       "<html>\\(\\displaystyle \\begin{array}{lcl} X_{ \\, t \\, t \\, r }^{ \\phantom{\\, t}\\phantom{\\, t}\\phantom{\\, r} } & = & -2 \\, B\\left(r\\right) b\\left(r\\right) - \\frac{\\partial\\,a}{\\partial r} \\\\ X_{ \\, t \\, r \\, t }^{ \\phantom{\\, t}\\phantom{\\, r}\\phantom{\\, t} } & = & -2 \\, B\\left(r\\right) b\\left(r\\right) - \\frac{\\partial\\,a}{\\partial r} \\\\ X_{ \\, r \\, t \\, t }^{ \\phantom{\\, r}\\phantom{\\, t}\\phantom{\\, t} } & = & -2 \\, B\\left(r\\right) b\\left(r\\right) - \\frac{\\partial\\,a}{\\partial r} \\\\ X_{ \\, r \\, r \\, r }^{ \\phantom{\\, r}\\phantom{\\, r}\\phantom{\\, r} } & = & -2 \\, C\\left(r\\right) b\\left(r\\right) + \\frac{\\partial\\,b}{\\partial r} \\\\ X_{ \\, r \\, {\\theta} \\, {\\theta} }^{ \\phantom{\\, r}\\phantom{\\, {\\theta}}\\phantom{\\, {\\theta}} } & = & -2 \\, r^{2} G\\left(r\\right) + 2 \\, r \\\\ X_{ \\, r \\, {\\phi} \\, {\\phi} }^{ \\phantom{\\, r}\\phantom{\\, {\\phi}}\\phantom{\\, {\\phi}} } & = & -2 \\, {\\left(r^{2} G\\left(r\\right) - r\\right)} \\sin\\left({\\theta}\\right)^{2} \\\\ X_{ \\, {\\theta} \\, r \\, {\\theta} }^{ \\phantom{\\, {\\theta}}\\phantom{\\, r}\\phantom{\\, {\\theta}} } & = & -2 \\, r^{2} G\\left(r\\right) + 2 \\, r \\\\ X_{ \\, {\\theta} \\, {\\theta} \\, r }^{ \\phantom{\\, {\\theta}}\\phantom{\\, {\\theta}}\\phantom{\\, r} } & = & -2 \\, r^{2} G\\left(r\\right) + 2 \\, r \\\\ X_{ \\, {\\phi} \\, r \\, {\\phi} }^{ \\phantom{\\, {\\phi}}\\phantom{\\, r}\\phantom{\\, {\\phi}} } & = & -2 \\, {\\left(r^{2} G\\left(r\\right) - r\\right)} \\sin\\left({\\theta}\\right)^{2} \\\\ X_{ \\, {\\phi} \\, {\\phi} \\, r }^{ \\phantom{\\, {\\phi}}\\phantom{\\, {\\phi}}\\phantom{\\, r} } & = & -2 \\, {\\left(r^{2} G\\left(r\\right) - r\\right)} \\sin\\left({\\theta}\\right)^{2} \\end{array}\\)</html>"
      ],
      "text/latex": [
       "$\\displaystyle \\begin{array}{lcl} X_{ \\, t \\, t \\, r }^{ \\phantom{\\, t}\\phantom{\\, t}\\phantom{\\, r} } & = & -2 \\, B\\left(r\\right) b\\left(r\\right) - \\frac{\\partial\\,a}{\\partial r} \\\\ X_{ \\, t \\, r \\, t }^{ \\phantom{\\, t}\\phantom{\\, r}\\phantom{\\, t} } & = & -2 \\, B\\left(r\\right) b\\left(r\\right) - \\frac{\\partial\\,a}{\\partial r} \\\\ X_{ \\, r \\, t \\, t }^{ \\phantom{\\, r}\\phantom{\\, t}\\phantom{\\, t} } & = & -2 \\, B\\left(r\\right) b\\left(r\\right) - \\frac{\\partial\\,a}{\\partial r} \\\\ X_{ \\, r \\, r \\, r }^{ \\phantom{\\, r}\\phantom{\\, r}\\phantom{\\, r} } & = & -2 \\, C\\left(r\\right) b\\left(r\\right) + \\frac{\\partial\\,b}{\\partial r} \\\\ X_{ \\, r \\, {\\theta} \\, {\\theta} }^{ \\phantom{\\, r}\\phantom{\\, {\\theta}}\\phantom{\\, {\\theta}} } & = & -2 \\, r^{2} G\\left(r\\right) + 2 \\, r \\\\ X_{ \\, r \\, {\\phi} \\, {\\phi} }^{ \\phantom{\\, r}\\phantom{\\, {\\phi}}\\phantom{\\, {\\phi}} } & = & -2 \\, {\\left(r^{2} G\\left(r\\right) - r\\right)} \\sin\\left({\\theta}\\right)^{2} \\\\ X_{ \\, {\\theta} \\, r \\, {\\theta} }^{ \\phantom{\\, {\\theta}}\\phantom{\\, r}\\phantom{\\, {\\theta}} } & = & -2 \\, r^{2} G\\left(r\\right) + 2 \\, r \\\\ X_{ \\, {\\theta} \\, {\\theta} \\, r }^{ \\phantom{\\, {\\theta}}\\phantom{\\, {\\theta}}\\phantom{\\, r} } & = & -2 \\, r^{2} G\\left(r\\right) + 2 \\, r \\\\ X_{ \\, {\\phi} \\, r \\, {\\phi} }^{ \\phantom{\\, {\\phi}}\\phantom{\\, r}\\phantom{\\, {\\phi}} } & = & -2 \\, {\\left(r^{2} G\\left(r\\right) - r\\right)} \\sin\\left({\\theta}\\right)^{2} \\\\ X_{ \\, {\\phi} \\, {\\phi} \\, r }^{ \\phantom{\\, {\\phi}}\\phantom{\\, {\\phi}}\\phantom{\\, r} } & = & -2 \\, {\\left(r^{2} G\\left(r\\right) - r\\right)} \\sin\\left({\\theta}\\right)^{2} \\end{array}$"
      ],
      "text/plain": [
       "X_t,t,r = -2*B(r)*b(r) - d(a)/dr \n",
       "X_t,r,t = -2*B(r)*b(r) - d(a)/dr \n",
       "X_r,t,t = -2*B(r)*b(r) - d(a)/dr \n",
       "X_r,r,r = -2*C(r)*b(r) + d(b)/dr \n",
       "X_r,th,th = -2*r^2*G(r) + 2*r \n",
       "X_r,ph,ph = -2*(r^2*G(r) - r)*sin(th)^2 \n",
       "X_th,r,th = -2*r^2*G(r) + 2*r \n",
       "X_th,th,r = -2*r^2*G(r) + 2*r \n",
       "X_ph,r,ph = -2*(r^2*G(r) - r)*sin(th)^2 \n",
       "X_ph,ph,r = -2*(r^2*G(r) - r)*sin(th)^2 "
      ]
     },
     "execution_count": 44,
     "metadata": {},
     "output_type": "execute_result"
    }
   ],
   "source": [
    "NK = T(k)\n",
    "NK.display_comp()"
   ]
  },
  {
   "cell_type": "code",
   "execution_count": 45,
   "id": "22e150f2",
   "metadata": {},
   "outputs": [
    {
     "data": {
      "text/html": [
       "<html>\\(\\displaystyle 0\\)</html>"
      ],
      "text/latex": [
       "$\\displaystyle 0$"
      ],
      "text/plain": [
       "0"
      ]
     },
     "execution_count": 45,
     "metadata": {},
     "output_type": "execute_result"
    }
   ],
   "source": [
    "NK.antisymmetrize(0,2).display()"
   ]
  },
  {
   "cell_type": "code",
   "execution_count": 46,
   "id": "f5ec4f1d",
   "metadata": {},
   "outputs": [
    {
     "data": {
      "text/html": [
       "<html>\\(\\displaystyle \\begin{array}{lcl} X_{ \\, t \\, t }^{ \\phantom{\\, t}\\phantom{\\, t} } & = & -\\frac{B\\left(r\\right)^{2} b\\left(r\\right) - {\\left(B\\left(r\\right) C\\left(r\\right) + 2 \\, B\\left(r\\right) G\\left(r\\right)\\right)} a\\left(r\\right) - a\\left(r\\right) \\frac{\\partial\\,B}{\\partial r} + B\\left(r\\right) \\frac{\\partial\\,a}{\\partial r}}{a\\left(r\\right)} \\\\ X_{ \\, r \\, r }^{ \\phantom{\\, r}\\phantom{\\, r} } & = & \\frac{B\\left(r\\right) C\\left(r\\right) a\\left(r\\right) b\\left(r\\right) - B\\left(r\\right)^{2} b\\left(r\\right)^{2} + 2 \\, {\\left(C\\left(r\\right) G\\left(r\\right) - G\\left(r\\right)^{2}\\right)} a\\left(r\\right)^{2} - a\\left(r\\right) b\\left(r\\right) \\frac{\\partial\\,B}{\\partial r} - 2 \\, a\\left(r\\right)^{2} \\frac{\\partial\\,G}{\\partial r} - B\\left(r\\right) a\\left(r\\right) \\frac{\\partial\\,b}{\\partial r} + {\\left(C\\left(r\\right) a\\left(r\\right) - B\\left(r\\right) b\\left(r\\right)\\right)} \\frac{\\partial\\,a}{\\partial r} - a\\left(r\\right) \\frac{\\partial^2\\,a}{\\partial r ^ 2}}{a\\left(r\\right)^{2}} \\\\ X_{ \\, {\\theta} \\, {\\theta} }^{ \\phantom{\\, {\\theta}}\\phantom{\\, {\\theta}} } & = & \\frac{r^{2} a\\left(r\\right) b\\left(r\\right) \\frac{\\partial\\,G}{\\partial r} - {\\left(2 \\, r C\\left(r\\right) - {\\left(r^{2} C\\left(r\\right) + 2 \\, r\\right)} G\\left(r\\right) + 2\\right)} a\\left(r\\right) b\\left(r\\right) + {\\left(r^{2} B\\left(r\\right) G\\left(r\\right) - 2 \\, r B\\left(r\\right) + a\\left(r\\right)\\right)} b\\left(r\\right)^{2} + {\\left(r^{2} G\\left(r\\right) - 2 \\, r\\right)} b\\left(r\\right) \\frac{\\partial\\,a}{\\partial r} - {\\left(r^{2} G\\left(r\\right) - 2 \\, r\\right)} a\\left(r\\right) \\frac{\\partial\\,b}{\\partial r}}{a\\left(r\\right) b\\left(r\\right)^{2}} \\\\ X_{ \\, {\\phi} \\, {\\phi} }^{ \\phantom{\\, {\\phi}}\\phantom{\\, {\\phi}} } & = & \\frac{{\\left(r^{2} a\\left(r\\right) b\\left(r\\right) \\frac{\\partial\\,G}{\\partial r} - {\\left(2 \\, r C\\left(r\\right) - {\\left(r^{2} C\\left(r\\right) + 2 \\, r\\right)} G\\left(r\\right) + 2\\right)} a\\left(r\\right) b\\left(r\\right) + {\\left(r^{2} B\\left(r\\right) G\\left(r\\right) - 2 \\, r B\\left(r\\right) + a\\left(r\\right)\\right)} b\\left(r\\right)^{2} + {\\left(r^{2} G\\left(r\\right) - 2 \\, r\\right)} b\\left(r\\right) \\frac{\\partial\\,a}{\\partial r} - {\\left(r^{2} G\\left(r\\right) - 2 \\, r\\right)} a\\left(r\\right) \\frac{\\partial\\,b}{\\partial r}\\right)} \\sin\\left({\\theta}\\right)^{2}}{a\\left(r\\right) b\\left(r\\right)^{2}} \\end{array}\\)</html>"
      ],
      "text/latex": [
       "$\\displaystyle \\begin{array}{lcl} X_{ \\, t \\, t }^{ \\phantom{\\, t}\\phantom{\\, t} } & = & -\\frac{B\\left(r\\right)^{2} b\\left(r\\right) - {\\left(B\\left(r\\right) C\\left(r\\right) + 2 \\, B\\left(r\\right) G\\left(r\\right)\\right)} a\\left(r\\right) - a\\left(r\\right) \\frac{\\partial\\,B}{\\partial r} + B\\left(r\\right) \\frac{\\partial\\,a}{\\partial r}}{a\\left(r\\right)} \\\\ X_{ \\, r \\, r }^{ \\phantom{\\, r}\\phantom{\\, r} } & = & \\frac{B\\left(r\\right) C\\left(r\\right) a\\left(r\\right) b\\left(r\\right) - B\\left(r\\right)^{2} b\\left(r\\right)^{2} + 2 \\, {\\left(C\\left(r\\right) G\\left(r\\right) - G\\left(r\\right)^{2}\\right)} a\\left(r\\right)^{2} - a\\left(r\\right) b\\left(r\\right) \\frac{\\partial\\,B}{\\partial r} - 2 \\, a\\left(r\\right)^{2} \\frac{\\partial\\,G}{\\partial r} - B\\left(r\\right) a\\left(r\\right) \\frac{\\partial\\,b}{\\partial r} + {\\left(C\\left(r\\right) a\\left(r\\right) - B\\left(r\\right) b\\left(r\\right)\\right)} \\frac{\\partial\\,a}{\\partial r} - a\\left(r\\right) \\frac{\\partial^2\\,a}{\\partial r ^ 2}}{a\\left(r\\right)^{2}} \\\\ X_{ \\, {\\theta} \\, {\\theta} }^{ \\phantom{\\, {\\theta}}\\phantom{\\, {\\theta}} } & = & \\frac{r^{2} a\\left(r\\right) b\\left(r\\right) \\frac{\\partial\\,G}{\\partial r} - {\\left(2 \\, r C\\left(r\\right) - {\\left(r^{2} C\\left(r\\right) + 2 \\, r\\right)} G\\left(r\\right) + 2\\right)} a\\left(r\\right) b\\left(r\\right) + {\\left(r^{2} B\\left(r\\right) G\\left(r\\right) - 2 \\, r B\\left(r\\right) + a\\left(r\\right)\\right)} b\\left(r\\right)^{2} + {\\left(r^{2} G\\left(r\\right) - 2 \\, r\\right)} b\\left(r\\right) \\frac{\\partial\\,a}{\\partial r} - {\\left(r^{2} G\\left(r\\right) - 2 \\, r\\right)} a\\left(r\\right) \\frac{\\partial\\,b}{\\partial r}}{a\\left(r\\right) b\\left(r\\right)^{2}} \\\\ X_{ \\, {\\phi} \\, {\\phi} }^{ \\phantom{\\, {\\phi}}\\phantom{\\, {\\phi}} } & = & \\frac{{\\left(r^{2} a\\left(r\\right) b\\left(r\\right) \\frac{\\partial\\,G}{\\partial r} - {\\left(2 \\, r C\\left(r\\right) - {\\left(r^{2} C\\left(r\\right) + 2 \\, r\\right)} G\\left(r\\right) + 2\\right)} a\\left(r\\right) b\\left(r\\right) + {\\left(r^{2} B\\left(r\\right) G\\left(r\\right) - 2 \\, r B\\left(r\\right) + a\\left(r\\right)\\right)} b\\left(r\\right)^{2} + {\\left(r^{2} G\\left(r\\right) - 2 \\, r\\right)} b\\left(r\\right) \\frac{\\partial\\,a}{\\partial r} - {\\left(r^{2} G\\left(r\\right) - 2 \\, r\\right)} a\\left(r\\right) \\frac{\\partial\\,b}{\\partial r}\\right)} \\sin\\left({\\theta}\\right)^{2}}{a\\left(r\\right) b\\left(r\\right)^{2}} \\end{array}$"
      ],
      "text/plain": [
       "X_t,t = -(B(r)^2*b(r) - (B(r)*C(r) + 2*B(r)*G(r))*a(r) - a(r)*d(B)/dr + B(r)*d(a)/dr)/a(r) \n",
       "X_r,r = (B(r)*C(r)*a(r)*b(r) - B(r)^2*b(r)^2 + 2*(C(r)*G(r) - G(r)^2)*a(r)^2 - a(r)*b(r)*d(B)/dr - 2*a(r)^2*d(G)/dr - B(r)*a(r)*d(b)/dr + (C(r)*a(r) - B(r)*b(r))*d(a)/dr - a(r)*d^2(a)/dr^2)/a(r)^2 \n",
       "X_th,th = (r^2*a(r)*b(r)*d(G)/dr - (2*r*C(r) - (r^2*C(r) + 2*r)*G(r) + 2)*a(r)*b(r) + (r^2*B(r)*G(r) - 2*r*B(r) + a(r))*b(r)^2 + (r^2*G(r) - 2*r)*b(r)*d(a)/dr - (r^2*G(r) - 2*r)*a(r)*d(b)/dr)/(a(r)*b(r)^2) \n",
       "X_ph,ph = (r^2*a(r)*b(r)*d(G)/dr - (2*r*C(r) - (r^2*C(r) + 2*r)*G(r) + 2)*a(r)*b(r) + (r^2*B(r)*G(r) - 2*r*B(r) + a(r))*b(r)^2 + (r^2*G(r) - 2*r)*b(r)*d(a)/dr - (r^2*G(r) - 2*r)*a(r)*d(b)/dr)*sin(th)^2/(a(r)*b(r)^2) "
      ]
     },
     "execution_count": 46,
     "metadata": {},
     "output_type": "execute_result"
    }
   ],
   "source": [
    "Ricci = T.ricci()\n",
    "Ricci.display_comp()"
   ]
  },
  {
   "cell_type": "code",
   "execution_count": 47,
   "id": "125f67ac",
   "metadata": {},
   "outputs": [
    {
     "data": {
      "text/html": [
       "<html>\\(\\displaystyle \\begin{array}{lcl} X_{ \\, t \\, t \\, r }^{ \\phantom{\\, t}\\phantom{\\, t}\\phantom{\\, r} } & = & \\frac{2 \\, B\\left(r\\right)^{3} b\\left(r\\right)^{2} + B\\left(r\\right) a\\left(r\\right)^{2} \\frac{\\partial\\,C}{\\partial r} + 2 \\, B\\left(r\\right) a\\left(r\\right)^{2} \\frac{\\partial\\,G}{\\partial r} - B\\left(r\\right)^{2} a\\left(r\\right) \\frac{\\partial\\,b}{\\partial r} - 2 \\, {\\left(B\\left(r\\right)^{2} C\\left(r\\right) + 2 \\, B\\left(r\\right)^{2} G\\left(r\\right)\\right)} a\\left(r\\right) b\\left(r\\right) + a\\left(r\\right)^{2} \\frac{\\partial^2\\,B}{\\partial r ^ 2} + 3 \\, B\\left(r\\right) \\left(\\frac{\\partial\\,a}{\\partial r}\\right)^{2} - B\\left(r\\right) a\\left(r\\right) \\frac{\\partial^2\\,a}{\\partial r ^ 2} + {\\left({\\left(C\\left(r\\right) + 2 \\, G\\left(r\\right)\\right)} a\\left(r\\right)^{2} - 4 \\, B\\left(r\\right) a\\left(r\\right) b\\left(r\\right)\\right)} \\frac{\\partial\\,B}{\\partial r} + {\\left(5 \\, B\\left(r\\right)^{2} b\\left(r\\right) - 2 \\, {\\left(B\\left(r\\right) C\\left(r\\right) + 2 \\, B\\left(r\\right) G\\left(r\\right)\\right)} a\\left(r\\right) - 3 \\, a\\left(r\\right) \\frac{\\partial\\,B}{\\partial r}\\right)} \\frac{\\partial\\,a}{\\partial r}}{a\\left(r\\right)^{2}} \\\\ X_{ \\, t \\, r \\, t }^{ \\phantom{\\, t}\\phantom{\\, r}\\phantom{\\, t} } & = & \\frac{2 \\, B\\left(r\\right)^{3} b\\left(r\\right)^{2} + 2 \\, B\\left(r\\right) a\\left(r\\right)^{2} \\frac{\\partial\\,G}{\\partial r} + B\\left(r\\right)^{2} a\\left(r\\right) \\frac{\\partial\\,b}{\\partial r} - 2 \\, {\\left(B\\left(r\\right) C\\left(r\\right) G\\left(r\\right) - B\\left(r\\right) G\\left(r\\right)^{2}\\right)} a\\left(r\\right)^{2} - 2 \\, {\\left(B\\left(r\\right)^{2} C\\left(r\\right) + B\\left(r\\right)^{2} G\\left(r\\right)\\right)} a\\left(r\\right) b\\left(r\\right) + B\\left(r\\right) \\left(\\frac{\\partial\\,a}{\\partial r}\\right)^{2} + B\\left(r\\right) a\\left(r\\right) \\frac{\\partial^2\\,a}{\\partial r ^ 2} + {\\left(3 \\, B\\left(r\\right)^{2} b\\left(r\\right) - 2 \\, {\\left(B\\left(r\\right) C\\left(r\\right) + B\\left(r\\right) G\\left(r\\right)\\right)} a\\left(r\\right) - a\\left(r\\right) \\frac{\\partial\\,B}{\\partial r}\\right)} \\frac{\\partial\\,a}{\\partial r}}{a\\left(r\\right)^{2}} \\\\ X_{ \\, r \\, t \\, t }^{ \\phantom{\\, r}\\phantom{\\, t}\\phantom{\\, t} } & = & \\frac{2 \\, B\\left(r\\right)^{3} b\\left(r\\right)^{2} + 2 \\, B\\left(r\\right) a\\left(r\\right)^{2} \\frac{\\partial\\,G}{\\partial r} + B\\left(r\\right)^{2} a\\left(r\\right) \\frac{\\partial\\,b}{\\partial r} - 2 \\, {\\left(B\\left(r\\right) C\\left(r\\right) G\\left(r\\right) - B\\left(r\\right) G\\left(r\\right)^{2}\\right)} a\\left(r\\right)^{2} - 2 \\, {\\left(B\\left(r\\right)^{2} C\\left(r\\right) + B\\left(r\\right)^{2} G\\left(r\\right)\\right)} a\\left(r\\right) b\\left(r\\right) + B\\left(r\\right) \\left(\\frac{\\partial\\,a}{\\partial r}\\right)^{2} + B\\left(r\\right) a\\left(r\\right) \\frac{\\partial^2\\,a}{\\partial r ^ 2} + {\\left(3 \\, B\\left(r\\right)^{2} b\\left(r\\right) - 2 \\, {\\left(B\\left(r\\right) C\\left(r\\right) + B\\left(r\\right) G\\left(r\\right)\\right)} a\\left(r\\right) - a\\left(r\\right) \\frac{\\partial\\,B}{\\partial r}\\right)} \\frac{\\partial\\,a}{\\partial r}}{a\\left(r\\right)^{2}} \\\\ X_{ \\, r \\, r \\, r }^{ \\phantom{\\, r}\\phantom{\\, r}\\phantom{\\, r} } & = & -\\frac{2 \\, B\\left(r\\right) C\\left(r\\right)^{2} a\\left(r\\right)^{2} b\\left(r\\right) - 2 \\, B\\left(r\\right)^{2} C\\left(r\\right) a\\left(r\\right) b\\left(r\\right)^{2} - 2 \\, {\\left(3 \\, C\\left(r\\right) - 2 \\, G\\left(r\\right)\\right)} a\\left(r\\right)^{3} \\frac{\\partial\\,G}{\\partial r} + 4 \\, {\\left(C\\left(r\\right)^{2} G\\left(r\\right) - C\\left(r\\right) G\\left(r\\right)^{2}\\right)} a\\left(r\\right)^{3} + a\\left(r\\right)^{2} b\\left(r\\right) \\frac{\\partial^2\\,B}{\\partial r ^ 2} + 2 \\, a\\left(r\\right)^{3} \\frac{\\partial^2\\,G}{\\partial r ^ 2} + B\\left(r\\right) a\\left(r\\right)^{2} \\frac{\\partial^2\\,b}{\\partial r ^ 2} + {\\left(C\\left(r\\right) a\\left(r\\right) - 2 \\, B\\left(r\\right) b\\left(r\\right)\\right)} \\left(\\frac{\\partial\\,a}{\\partial r}\\right)^{2} + a\\left(r\\right)^{2} \\frac{\\partial^3\\,a}{\\partial r ^ 3} - {\\left(3 \\, C\\left(r\\right) a\\left(r\\right)^{2} b\\left(r\\right) - 2 \\, B\\left(r\\right) a\\left(r\\right) b\\left(r\\right)^{2}\\right)} \\frac{\\partial\\,B}{\\partial r} - {\\left(2 \\, G\\left(r\\right) a\\left(r\\right)^{3} + B\\left(r\\right) a\\left(r\\right)^{2} b\\left(r\\right)\\right)} \\frac{\\partial\\,C}{\\partial r} + {\\left(2 \\, C\\left(r\\right)^{2} a\\left(r\\right)^{2} - B\\left(r\\right) C\\left(r\\right) a\\left(r\\right) b\\left(r\\right) - 2 \\, B\\left(r\\right)^{2} b\\left(r\\right)^{2} - a\\left(r\\right)^{2} \\frac{\\partial\\,C}{\\partial r}\\right)} \\frac{\\partial\\,a}{\\partial r} - {\\left(3 \\, C\\left(r\\right) a\\left(r\\right)^{2} - B\\left(r\\right) a\\left(r\\right) b\\left(r\\right) + a\\left(r\\right) \\frac{\\partial\\,a}{\\partial r}\\right)} \\frac{\\partial^2\\,a}{\\partial r ^ 2} - {\\left(3 \\, B\\left(r\\right) C\\left(r\\right) a\\left(r\\right)^{2} - 2 \\, B\\left(r\\right)^{2} a\\left(r\\right) b\\left(r\\right) - 2 \\, a\\left(r\\right)^{2} \\frac{\\partial\\,B}{\\partial r}\\right)} \\frac{\\partial\\,b}{\\partial r}}{a\\left(r\\right)^{3}} \\\\ X_{ \\, r \\, {\\theta} \\, {\\theta} }^{ \\phantom{\\, r}\\phantom{\\, {\\theta}}\\phantom{\\, {\\theta}} } & = & \\frac{{\\left(r^{2} G\\left(r\\right) - 2 \\, r\\right)} a\\left(r\\right) b\\left(r\\right)^{2} \\frac{\\partial\\,B}{\\partial r} + {\\left(r^{2} G\\left(r\\right) - 4 \\, r\\right)} a\\left(r\\right)^{2} b\\left(r\\right) \\frac{\\partial\\,G}{\\partial r} + {\\left(2 \\, r^{2} G\\left(r\\right)^{3} - 3 \\, {\\left(r^{2} C\\left(r\\right) + 2 \\, r\\right)} G\\left(r\\right)^{2} + 2 \\, {\\left(3 \\, r C\\left(r\\right) + 1\\right)} G\\left(r\\right)\\right)} a\\left(r\\right)^{2} b\\left(r\\right) + {\\left(r^{2} B\\left(r\\right)^{2} G\\left(r\\right) - 2 \\, r B\\left(r\\right)^{2}\\right)} b\\left(r\\right)^{3} + {\\left(r^{2} G\\left(r\\right) - 2 \\, r\\right)} a\\left(r\\right) b\\left(r\\right) \\frac{\\partial^2\\,a}{\\partial r ^ 2} - {\\left(G\\left(r\\right) a\\left(r\\right)^{2} + {\\left(r^{2} B\\left(r\\right) G\\left(r\\right)^{2} - 2 \\, r B\\left(r\\right) C\\left(r\\right) + {\\left(r^{2} B\\left(r\\right) C\\left(r\\right) - 2 \\, r B\\left(r\\right)\\right)} G\\left(r\\right)\\right)} a\\left(r\\right)\\right)} b\\left(r\\right)^{2} - {\\left({\\left(r^{2} G\\left(r\\right)^{2} - 2 \\, r C\\left(r\\right) + {\\left(r^{2} C\\left(r\\right) - 2 \\, r\\right)} G\\left(r\\right)\\right)} a\\left(r\\right) b\\left(r\\right) - {\\left(r^{2} B\\left(r\\right) G\\left(r\\right) - 2 \\, r B\\left(r\\right)\\right)} b\\left(r\\right)^{2}\\right)} \\frac{\\partial\\,a}{\\partial r} + {\\left({\\left(r^{2} G\\left(r\\right)^{2} - 2 \\, r G\\left(r\\right)\\right)} a\\left(r\\right)^{2} + {\\left(r^{2} B\\left(r\\right) G\\left(r\\right) - 2 \\, r B\\left(r\\right)\\right)} a\\left(r\\right) b\\left(r\\right)\\right)} \\frac{\\partial\\,b}{\\partial r}}{a\\left(r\\right)^{2} b\\left(r\\right)^{2}} \\\\ X_{ \\, r \\, {\\phi} \\, {\\phi} }^{ \\phantom{\\, r}\\phantom{\\, {\\phi}}\\phantom{\\, {\\phi}} } & = & \\frac{{\\left({\\left(r^{2} G\\left(r\\right) - 2 \\, r\\right)} a\\left(r\\right) b\\left(r\\right)^{2} \\frac{\\partial\\,B}{\\partial r} + {\\left(r^{2} G\\left(r\\right) - 4 \\, r\\right)} a\\left(r\\right)^{2} b\\left(r\\right) \\frac{\\partial\\,G}{\\partial r} + {\\left(2 \\, r^{2} G\\left(r\\right)^{3} - 3 \\, {\\left(r^{2} C\\left(r\\right) + 2 \\, r\\right)} G\\left(r\\right)^{2} + 2 \\, {\\left(3 \\, r C\\left(r\\right) + 1\\right)} G\\left(r\\right)\\right)} a\\left(r\\right)^{2} b\\left(r\\right) + {\\left(r^{2} B\\left(r\\right)^{2} G\\left(r\\right) - 2 \\, r B\\left(r\\right)^{2}\\right)} b\\left(r\\right)^{3} + {\\left(r^{2} G\\left(r\\right) - 2 \\, r\\right)} a\\left(r\\right) b\\left(r\\right) \\frac{\\partial^2\\,a}{\\partial r ^ 2} - {\\left(G\\left(r\\right) a\\left(r\\right)^{2} + {\\left(r^{2} B\\left(r\\right) G\\left(r\\right)^{2} - 2 \\, r B\\left(r\\right) C\\left(r\\right) + {\\left(r^{2} B\\left(r\\right) C\\left(r\\right) - 2 \\, r B\\left(r\\right)\\right)} G\\left(r\\right)\\right)} a\\left(r\\right)\\right)} b\\left(r\\right)^{2} - {\\left({\\left(r^{2} G\\left(r\\right)^{2} - 2 \\, r C\\left(r\\right) + {\\left(r^{2} C\\left(r\\right) - 2 \\, r\\right)} G\\left(r\\right)\\right)} a\\left(r\\right) b\\left(r\\right) - {\\left(r^{2} B\\left(r\\right) G\\left(r\\right) - 2 \\, r B\\left(r\\right)\\right)} b\\left(r\\right)^{2}\\right)} \\frac{\\partial\\,a}{\\partial r} + {\\left({\\left(r^{2} G\\left(r\\right)^{2} - 2 \\, r G\\left(r\\right)\\right)} a\\left(r\\right)^{2} + {\\left(r^{2} B\\left(r\\right) G\\left(r\\right) - 2 \\, r B\\left(r\\right)\\right)} a\\left(r\\right) b\\left(r\\right)\\right)} \\frac{\\partial\\,b}{\\partial r}\\right)} \\sin\\left({\\theta}\\right)^{2}}{a\\left(r\\right)^{2} b\\left(r\\right)^{2}} \\\\ X_{ \\, {\\theta} \\, r \\, {\\theta} }^{ \\phantom{\\, {\\theta}}\\phantom{\\, r}\\phantom{\\, {\\theta}} } & = & \\frac{{\\left(r^{2} G\\left(r\\right) - 2 \\, r\\right)} a\\left(r\\right) b\\left(r\\right)^{2} \\frac{\\partial\\,B}{\\partial r} + {\\left(r^{2} G\\left(r\\right) - 4 \\, r\\right)} a\\left(r\\right)^{2} b\\left(r\\right) \\frac{\\partial\\,G}{\\partial r} + {\\left(2 \\, r^{2} G\\left(r\\right)^{3} - 3 \\, {\\left(r^{2} C\\left(r\\right) + 2 \\, r\\right)} G\\left(r\\right)^{2} + 2 \\, {\\left(3 \\, r C\\left(r\\right) + 1\\right)} G\\left(r\\right)\\right)} a\\left(r\\right)^{2} b\\left(r\\right) + {\\left(r^{2} B\\left(r\\right)^{2} G\\left(r\\right) - 2 \\, r B\\left(r\\right)^{2}\\right)} b\\left(r\\right)^{3} + {\\left(r^{2} G\\left(r\\right) - 2 \\, r\\right)} a\\left(r\\right) b\\left(r\\right) \\frac{\\partial^2\\,a}{\\partial r ^ 2} - {\\left(G\\left(r\\right) a\\left(r\\right)^{2} + {\\left(r^{2} B\\left(r\\right) G\\left(r\\right)^{2} - 2 \\, r B\\left(r\\right) C\\left(r\\right) + {\\left(r^{2} B\\left(r\\right) C\\left(r\\right) - 2 \\, r B\\left(r\\right)\\right)} G\\left(r\\right)\\right)} a\\left(r\\right)\\right)} b\\left(r\\right)^{2} - {\\left({\\left(r^{2} G\\left(r\\right)^{2} - 2 \\, r C\\left(r\\right) + {\\left(r^{2} C\\left(r\\right) - 2 \\, r\\right)} G\\left(r\\right)\\right)} a\\left(r\\right) b\\left(r\\right) - {\\left(r^{2} B\\left(r\\right) G\\left(r\\right) - 2 \\, r B\\left(r\\right)\\right)} b\\left(r\\right)^{2}\\right)} \\frac{\\partial\\,a}{\\partial r} + {\\left({\\left(r^{2} G\\left(r\\right)^{2} - 2 \\, r G\\left(r\\right)\\right)} a\\left(r\\right)^{2} + {\\left(r^{2} B\\left(r\\right) G\\left(r\\right) - 2 \\, r B\\left(r\\right)\\right)} a\\left(r\\right) b\\left(r\\right)\\right)} \\frac{\\partial\\,b}{\\partial r}}{a\\left(r\\right)^{2} b\\left(r\\right)^{2}} \\\\ X_{ \\, {\\theta} \\, {\\theta} \\, r }^{ \\phantom{\\, {\\theta}}\\phantom{\\, {\\theta}}\\phantom{\\, r} } & = & \\frac{r^{2} a\\left(r\\right)^{2} b\\left(r\\right)^{2} \\frac{\\partial^2\\,G}{\\partial r ^ 2} + {\\left(r^{2} G\\left(r\\right) - 2 \\, r\\right)} a\\left(r\\right) b\\left(r\\right)^{3} \\frac{\\partial\\,B}{\\partial r} + {\\left(r^{2} G\\left(r\\right) - 2 \\, r\\right)} a\\left(r\\right)^{2} b\\left(r\\right)^{2} \\frac{\\partial\\,C}{\\partial r} - 2 \\, {\\left({\\left(r^{2} C\\left(r\\right) + 2 \\, r\\right)} G\\left(r\\right)^{2} - 3 \\, {\\left(r C\\left(r\\right) + 1\\right)} G\\left(r\\right) + C\\left(r\\right)\\right)} a\\left(r\\right)^{2} b\\left(r\\right)^{2} - {\\left(r^{2} G\\left(r\\right) - 2 \\, r\\right)} b\\left(r\\right)^{2} \\left(\\frac{\\partial\\,a}{\\partial r}\\right)^{2} + {\\left(r^{2} G\\left(r\\right) - 2 \\, r\\right)} a\\left(r\\right) b\\left(r\\right)^{2} \\frac{\\partial^2\\,a}{\\partial r ^ 2} + 2 \\, {\\left(r^{2} G\\left(r\\right) - 2 \\, r\\right)} a\\left(r\\right)^{2} \\left(\\frac{\\partial\\,b}{\\partial r}\\right)^{2} - {\\left(r^{2} G\\left(r\\right) - 2 \\, r\\right)} a\\left(r\\right)^{2} b\\left(r\\right) \\frac{\\partial^2\\,b}{\\partial r ^ 2} - 2 \\, {\\left(G\\left(r\\right) a\\left(r\\right)^{2} + {\\left(r^{2} B\\left(r\\right) G\\left(r\\right)^{2} - 3 \\, r B\\left(r\\right) G\\left(r\\right) + B\\left(r\\right)\\right)} a\\left(r\\right)\\right)} b\\left(r\\right)^{3} + {\\left(r^{2} B\\left(r\\right) a\\left(r\\right) b\\left(r\\right)^{3} + {\\left(r^{2} C\\left(r\\right) - 2 \\, r^{2} G\\left(r\\right) + 4 \\, r\\right)} a\\left(r\\right)^{2} b\\left(r\\right)^{2}\\right)} \\frac{\\partial\\,G}{\\partial r} + {\\left(r^{2} a\\left(r\\right) b\\left(r\\right)^{2} \\frac{\\partial\\,G}{\\partial r} - 2 \\, {\\left(r^{2} G\\left(r\\right)^{2} - 3 \\, r G\\left(r\\right) + 1\\right)} a\\left(r\\right) b\\left(r\\right)^{2} - {\\left(r^{2} B\\left(r\\right) G\\left(r\\right) - 2 \\, r B\\left(r\\right)\\right)} b\\left(r\\right)^{3}\\right)} \\frac{\\partial\\,a}{\\partial r} - {\\left(2 \\, r^{2} a\\left(r\\right)^{2} b\\left(r\\right) \\frac{\\partial\\,G}{\\partial r} - {\\left(2 \\, r^{2} G\\left(r\\right)^{2} + 2 \\, r C\\left(r\\right) - {\\left(r^{2} C\\left(r\\right) + 8 \\, r\\right)} G\\left(r\\right) + 4\\right)} a\\left(r\\right)^{2} b\\left(r\\right) + {\\left(r^{2} G\\left(r\\right) - 2 \\, r\\right)} a\\left(r\\right) b\\left(r\\right) \\frac{\\partial\\,a}{\\partial r}\\right)} \\frac{\\partial\\,b}{\\partial r}}{a\\left(r\\right)^{2} b\\left(r\\right)^{3}} \\\\ X_{ \\, {\\phi} \\, r \\, {\\phi} }^{ \\phantom{\\, {\\phi}}\\phantom{\\, r}\\phantom{\\, {\\phi}} } & = & \\frac{{\\left({\\left(r^{2} G\\left(r\\right) - 2 \\, r\\right)} a\\left(r\\right) b\\left(r\\right)^{2} \\frac{\\partial\\,B}{\\partial r} + {\\left(r^{2} G\\left(r\\right) - 4 \\, r\\right)} a\\left(r\\right)^{2} b\\left(r\\right) \\frac{\\partial\\,G}{\\partial r} + {\\left(2 \\, r^{2} G\\left(r\\right)^{3} - 3 \\, {\\left(r^{2} C\\left(r\\right) + 2 \\, r\\right)} G\\left(r\\right)^{2} + 2 \\, {\\left(3 \\, r C\\left(r\\right) + 1\\right)} G\\left(r\\right)\\right)} a\\left(r\\right)^{2} b\\left(r\\right) + {\\left(r^{2} B\\left(r\\right)^{2} G\\left(r\\right) - 2 \\, r B\\left(r\\right)^{2}\\right)} b\\left(r\\right)^{3} + {\\left(r^{2} G\\left(r\\right) - 2 \\, r\\right)} a\\left(r\\right) b\\left(r\\right) \\frac{\\partial^2\\,a}{\\partial r ^ 2} - {\\left(G\\left(r\\right) a\\left(r\\right)^{2} + {\\left(r^{2} B\\left(r\\right) G\\left(r\\right)^{2} - 2 \\, r B\\left(r\\right) C\\left(r\\right) + {\\left(r^{2} B\\left(r\\right) C\\left(r\\right) - 2 \\, r B\\left(r\\right)\\right)} G\\left(r\\right)\\right)} a\\left(r\\right)\\right)} b\\left(r\\right)^{2} - {\\left({\\left(r^{2} G\\left(r\\right)^{2} - 2 \\, r C\\left(r\\right) + {\\left(r^{2} C\\left(r\\right) - 2 \\, r\\right)} G\\left(r\\right)\\right)} a\\left(r\\right) b\\left(r\\right) - {\\left(r^{2} B\\left(r\\right) G\\left(r\\right) - 2 \\, r B\\left(r\\right)\\right)} b\\left(r\\right)^{2}\\right)} \\frac{\\partial\\,a}{\\partial r} + {\\left({\\left(r^{2} G\\left(r\\right)^{2} - 2 \\, r G\\left(r\\right)\\right)} a\\left(r\\right)^{2} + {\\left(r^{2} B\\left(r\\right) G\\left(r\\right) - 2 \\, r B\\left(r\\right)\\right)} a\\left(r\\right) b\\left(r\\right)\\right)} \\frac{\\partial\\,b}{\\partial r}\\right)} \\sin\\left({\\theta}\\right)^{2}}{a\\left(r\\right)^{2} b\\left(r\\right)^{2}} \\\\ X_{ \\, {\\phi} \\, {\\phi} \\, r }^{ \\phantom{\\, {\\phi}}\\phantom{\\, {\\phi}}\\phantom{\\, r} } & = & \\frac{{\\left(r^{2} a\\left(r\\right)^{2} b\\left(r\\right)^{2} \\frac{\\partial^2\\,G}{\\partial r ^ 2} + {\\left(r^{2} G\\left(r\\right) - 2 \\, r\\right)} a\\left(r\\right) b\\left(r\\right)^{3} \\frac{\\partial\\,B}{\\partial r} + {\\left(r^{2} G\\left(r\\right) - 2 \\, r\\right)} a\\left(r\\right)^{2} b\\left(r\\right)^{2} \\frac{\\partial\\,C}{\\partial r} - 2 \\, {\\left({\\left(r^{2} C\\left(r\\right) + 2 \\, r\\right)} G\\left(r\\right)^{2} - 3 \\, {\\left(r C\\left(r\\right) + 1\\right)} G\\left(r\\right) + C\\left(r\\right)\\right)} a\\left(r\\right)^{2} b\\left(r\\right)^{2} - {\\left(r^{2} G\\left(r\\right) - 2 \\, r\\right)} b\\left(r\\right)^{2} \\left(\\frac{\\partial\\,a}{\\partial r}\\right)^{2} + {\\left(r^{2} G\\left(r\\right) - 2 \\, r\\right)} a\\left(r\\right) b\\left(r\\right)^{2} \\frac{\\partial^2\\,a}{\\partial r ^ 2} + 2 \\, {\\left(r^{2} G\\left(r\\right) - 2 \\, r\\right)} a\\left(r\\right)^{2} \\left(\\frac{\\partial\\,b}{\\partial r}\\right)^{2} - {\\left(r^{2} G\\left(r\\right) - 2 \\, r\\right)} a\\left(r\\right)^{2} b\\left(r\\right) \\frac{\\partial^2\\,b}{\\partial r ^ 2} - 2 \\, {\\left(G\\left(r\\right) a\\left(r\\right)^{2} + {\\left(r^{2} B\\left(r\\right) G\\left(r\\right)^{2} - 3 \\, r B\\left(r\\right) G\\left(r\\right) + B\\left(r\\right)\\right)} a\\left(r\\right)\\right)} b\\left(r\\right)^{3} + {\\left(r^{2} B\\left(r\\right) a\\left(r\\right) b\\left(r\\right)^{3} + {\\left(r^{2} C\\left(r\\right) - 2 \\, r^{2} G\\left(r\\right) + 4 \\, r\\right)} a\\left(r\\right)^{2} b\\left(r\\right)^{2}\\right)} \\frac{\\partial\\,G}{\\partial r} + {\\left(r^{2} a\\left(r\\right) b\\left(r\\right)^{2} \\frac{\\partial\\,G}{\\partial r} - 2 \\, {\\left(r^{2} G\\left(r\\right)^{2} - 3 \\, r G\\left(r\\right) + 1\\right)} a\\left(r\\right) b\\left(r\\right)^{2} - {\\left(r^{2} B\\left(r\\right) G\\left(r\\right) - 2 \\, r B\\left(r\\right)\\right)} b\\left(r\\right)^{3}\\right)} \\frac{\\partial\\,a}{\\partial r} - {\\left(2 \\, r^{2} a\\left(r\\right)^{2} b\\left(r\\right) \\frac{\\partial\\,G}{\\partial r} - {\\left(2 \\, r^{2} G\\left(r\\right)^{2} + 2 \\, r C\\left(r\\right) - {\\left(r^{2} C\\left(r\\right) + 8 \\, r\\right)} G\\left(r\\right) + 4\\right)} a\\left(r\\right)^{2} b\\left(r\\right) + {\\left(r^{2} G\\left(r\\right) - 2 \\, r\\right)} a\\left(r\\right) b\\left(r\\right) \\frac{\\partial\\,a}{\\partial r}\\right)} \\frac{\\partial\\,b}{\\partial r}\\right)} \\sin\\left({\\theta}\\right)^{2}}{a\\left(r\\right)^{2} b\\left(r\\right)^{3}} \\end{array}\\)</html>"
      ],
      "text/latex": [
       "$\\displaystyle \\begin{array}{lcl} X_{ \\, t \\, t \\, r }^{ \\phantom{\\, t}\\phantom{\\, t}\\phantom{\\, r} } & = & \\frac{2 \\, B\\left(r\\right)^{3} b\\left(r\\right)^{2} + B\\left(r\\right) a\\left(r\\right)^{2} \\frac{\\partial\\,C}{\\partial r} + 2 \\, B\\left(r\\right) a\\left(r\\right)^{2} \\frac{\\partial\\,G}{\\partial r} - B\\left(r\\right)^{2} a\\left(r\\right) \\frac{\\partial\\,b}{\\partial r} - 2 \\, {\\left(B\\left(r\\right)^{2} C\\left(r\\right) + 2 \\, B\\left(r\\right)^{2} G\\left(r\\right)\\right)} a\\left(r\\right) b\\left(r\\right) + a\\left(r\\right)^{2} \\frac{\\partial^2\\,B}{\\partial r ^ 2} + 3 \\, B\\left(r\\right) \\left(\\frac{\\partial\\,a}{\\partial r}\\right)^{2} - B\\left(r\\right) a\\left(r\\right) \\frac{\\partial^2\\,a}{\\partial r ^ 2} + {\\left({\\left(C\\left(r\\right) + 2 \\, G\\left(r\\right)\\right)} a\\left(r\\right)^{2} - 4 \\, B\\left(r\\right) a\\left(r\\right) b\\left(r\\right)\\right)} \\frac{\\partial\\,B}{\\partial r} + {\\left(5 \\, B\\left(r\\right)^{2} b\\left(r\\right) - 2 \\, {\\left(B\\left(r\\right) C\\left(r\\right) + 2 \\, B\\left(r\\right) G\\left(r\\right)\\right)} a\\left(r\\right) - 3 \\, a\\left(r\\right) \\frac{\\partial\\,B}{\\partial r}\\right)} \\frac{\\partial\\,a}{\\partial r}}{a\\left(r\\right)^{2}} \\\\ X_{ \\, t \\, r \\, t }^{ \\phantom{\\, t}\\phantom{\\, r}\\phantom{\\, t} } & = & \\frac{2 \\, B\\left(r\\right)^{3} b\\left(r\\right)^{2} + 2 \\, B\\left(r\\right) a\\left(r\\right)^{2} \\frac{\\partial\\,G}{\\partial r} + B\\left(r\\right)^{2} a\\left(r\\right) \\frac{\\partial\\,b}{\\partial r} - 2 \\, {\\left(B\\left(r\\right) C\\left(r\\right) G\\left(r\\right) - B\\left(r\\right) G\\left(r\\right)^{2}\\right)} a\\left(r\\right)^{2} - 2 \\, {\\left(B\\left(r\\right)^{2} C\\left(r\\right) + B\\left(r\\right)^{2} G\\left(r\\right)\\right)} a\\left(r\\right) b\\left(r\\right) + B\\left(r\\right) \\left(\\frac{\\partial\\,a}{\\partial r}\\right)^{2} + B\\left(r\\right) a\\left(r\\right) \\frac{\\partial^2\\,a}{\\partial r ^ 2} + {\\left(3 \\, B\\left(r\\right)^{2} b\\left(r\\right) - 2 \\, {\\left(B\\left(r\\right) C\\left(r\\right) + B\\left(r\\right) G\\left(r\\right)\\right)} a\\left(r\\right) - a\\left(r\\right) \\frac{\\partial\\,B}{\\partial r}\\right)} \\frac{\\partial\\,a}{\\partial r}}{a\\left(r\\right)^{2}} \\\\ X_{ \\, r \\, t \\, t }^{ \\phantom{\\, r}\\phantom{\\, t}\\phantom{\\, t} } & = & \\frac{2 \\, B\\left(r\\right)^{3} b\\left(r\\right)^{2} + 2 \\, B\\left(r\\right) a\\left(r\\right)^{2} \\frac{\\partial\\,G}{\\partial r} + B\\left(r\\right)^{2} a\\left(r\\right) \\frac{\\partial\\,b}{\\partial r} - 2 \\, {\\left(B\\left(r\\right) C\\left(r\\right) G\\left(r\\right) - B\\left(r\\right) G\\left(r\\right)^{2}\\right)} a\\left(r\\right)^{2} - 2 \\, {\\left(B\\left(r\\right)^{2} C\\left(r\\right) + B\\left(r\\right)^{2} G\\left(r\\right)\\right)} a\\left(r\\right) b\\left(r\\right) + B\\left(r\\right) \\left(\\frac{\\partial\\,a}{\\partial r}\\right)^{2} + B\\left(r\\right) a\\left(r\\right) \\frac{\\partial^2\\,a}{\\partial r ^ 2} + {\\left(3 \\, B\\left(r\\right)^{2} b\\left(r\\right) - 2 \\, {\\left(B\\left(r\\right) C\\left(r\\right) + B\\left(r\\right) G\\left(r\\right)\\right)} a\\left(r\\right) - a\\left(r\\right) \\frac{\\partial\\,B}{\\partial r}\\right)} \\frac{\\partial\\,a}{\\partial r}}{a\\left(r\\right)^{2}} \\\\ X_{ \\, r \\, r \\, r }^{ \\phantom{\\, r}\\phantom{\\, r}\\phantom{\\, r} } & = & -\\frac{2 \\, B\\left(r\\right) C\\left(r\\right)^{2} a\\left(r\\right)^{2} b\\left(r\\right) - 2 \\, B\\left(r\\right)^{2} C\\left(r\\right) a\\left(r\\right) b\\left(r\\right)^{2} - 2 \\, {\\left(3 \\, C\\left(r\\right) - 2 \\, G\\left(r\\right)\\right)} a\\left(r\\right)^{3} \\frac{\\partial\\,G}{\\partial r} + 4 \\, {\\left(C\\left(r\\right)^{2} G\\left(r\\right) - C\\left(r\\right) G\\left(r\\right)^{2}\\right)} a\\left(r\\right)^{3} + a\\left(r\\right)^{2} b\\left(r\\right) \\frac{\\partial^2\\,B}{\\partial r ^ 2} + 2 \\, a\\left(r\\right)^{3} \\frac{\\partial^2\\,G}{\\partial r ^ 2} + B\\left(r\\right) a\\left(r\\right)^{2} \\frac{\\partial^2\\,b}{\\partial r ^ 2} + {\\left(C\\left(r\\right) a\\left(r\\right) - 2 \\, B\\left(r\\right) b\\left(r\\right)\\right)} \\left(\\frac{\\partial\\,a}{\\partial r}\\right)^{2} + a\\left(r\\right)^{2} \\frac{\\partial^3\\,a}{\\partial r ^ 3} - {\\left(3 \\, C\\left(r\\right) a\\left(r\\right)^{2} b\\left(r\\right) - 2 \\, B\\left(r\\right) a\\left(r\\right) b\\left(r\\right)^{2}\\right)} \\frac{\\partial\\,B}{\\partial r} - {\\left(2 \\, G\\left(r\\right) a\\left(r\\right)^{3} + B\\left(r\\right) a\\left(r\\right)^{2} b\\left(r\\right)\\right)} \\frac{\\partial\\,C}{\\partial r} + {\\left(2 \\, C\\left(r\\right)^{2} a\\left(r\\right)^{2} - B\\left(r\\right) C\\left(r\\right) a\\left(r\\right) b\\left(r\\right) - 2 \\, B\\left(r\\right)^{2} b\\left(r\\right)^{2} - a\\left(r\\right)^{2} \\frac{\\partial\\,C}{\\partial r}\\right)} \\frac{\\partial\\,a}{\\partial r} - {\\left(3 \\, C\\left(r\\right) a\\left(r\\right)^{2} - B\\left(r\\right) a\\left(r\\right) b\\left(r\\right) + a\\left(r\\right) \\frac{\\partial\\,a}{\\partial r}\\right)} \\frac{\\partial^2\\,a}{\\partial r ^ 2} - {\\left(3 \\, B\\left(r\\right) C\\left(r\\right) a\\left(r\\right)^{2} - 2 \\, B\\left(r\\right)^{2} a\\left(r\\right) b\\left(r\\right) - 2 \\, a\\left(r\\right)^{2} \\frac{\\partial\\,B}{\\partial r}\\right)} \\frac{\\partial\\,b}{\\partial r}}{a\\left(r\\right)^{3}} \\\\ X_{ \\, r \\, {\\theta} \\, {\\theta} }^{ \\phantom{\\, r}\\phantom{\\, {\\theta}}\\phantom{\\, {\\theta}} } & = & \\frac{{\\left(r^{2} G\\left(r\\right) - 2 \\, r\\right)} a\\left(r\\right) b\\left(r\\right)^{2} \\frac{\\partial\\,B}{\\partial r} + {\\left(r^{2} G\\left(r\\right) - 4 \\, r\\right)} a\\left(r\\right)^{2} b\\left(r\\right) \\frac{\\partial\\,G}{\\partial r} + {\\left(2 \\, r^{2} G\\left(r\\right)^{3} - 3 \\, {\\left(r^{2} C\\left(r\\right) + 2 \\, r\\right)} G\\left(r\\right)^{2} + 2 \\, {\\left(3 \\, r C\\left(r\\right) + 1\\right)} G\\left(r\\right)\\right)} a\\left(r\\right)^{2} b\\left(r\\right) + {\\left(r^{2} B\\left(r\\right)^{2} G\\left(r\\right) - 2 \\, r B\\left(r\\right)^{2}\\right)} b\\left(r\\right)^{3} + {\\left(r^{2} G\\left(r\\right) - 2 \\, r\\right)} a\\left(r\\right) b\\left(r\\right) \\frac{\\partial^2\\,a}{\\partial r ^ 2} - {\\left(G\\left(r\\right) a\\left(r\\right)^{2} + {\\left(r^{2} B\\left(r\\right) G\\left(r\\right)^{2} - 2 \\, r B\\left(r\\right) C\\left(r\\right) + {\\left(r^{2} B\\left(r\\right) C\\left(r\\right) - 2 \\, r B\\left(r\\right)\\right)} G\\left(r\\right)\\right)} a\\left(r\\right)\\right)} b\\left(r\\right)^{2} - {\\left({\\left(r^{2} G\\left(r\\right)^{2} - 2 \\, r C\\left(r\\right) + {\\left(r^{2} C\\left(r\\right) - 2 \\, r\\right)} G\\left(r\\right)\\right)} a\\left(r\\right) b\\left(r\\right) - {\\left(r^{2} B\\left(r\\right) G\\left(r\\right) - 2 \\, r B\\left(r\\right)\\right)} b\\left(r\\right)^{2}\\right)} \\frac{\\partial\\,a}{\\partial r} + {\\left({\\left(r^{2} G\\left(r\\right)^{2} - 2 \\, r G\\left(r\\right)\\right)} a\\left(r\\right)^{2} + {\\left(r^{2} B\\left(r\\right) G\\left(r\\right) - 2 \\, r B\\left(r\\right)\\right)} a\\left(r\\right) b\\left(r\\right)\\right)} \\frac{\\partial\\,b}{\\partial r}}{a\\left(r\\right)^{2} b\\left(r\\right)^{2}} \\\\ X_{ \\, r \\, {\\phi} \\, {\\phi} }^{ \\phantom{\\, r}\\phantom{\\, {\\phi}}\\phantom{\\, {\\phi}} } & = & \\frac{{\\left({\\left(r^{2} G\\left(r\\right) - 2 \\, r\\right)} a\\left(r\\right) b\\left(r\\right)^{2} \\frac{\\partial\\,B}{\\partial r} + {\\left(r^{2} G\\left(r\\right) - 4 \\, r\\right)} a\\left(r\\right)^{2} b\\left(r\\right) \\frac{\\partial\\,G}{\\partial r} + {\\left(2 \\, r^{2} G\\left(r\\right)^{3} - 3 \\, {\\left(r^{2} C\\left(r\\right) + 2 \\, r\\right)} G\\left(r\\right)^{2} + 2 \\, {\\left(3 \\, r C\\left(r\\right) + 1\\right)} G\\left(r\\right)\\right)} a\\left(r\\right)^{2} b\\left(r\\right) + {\\left(r^{2} B\\left(r\\right)^{2} G\\left(r\\right) - 2 \\, r B\\left(r\\right)^{2}\\right)} b\\left(r\\right)^{3} + {\\left(r^{2} G\\left(r\\right) - 2 \\, r\\right)} a\\left(r\\right) b\\left(r\\right) \\frac{\\partial^2\\,a}{\\partial r ^ 2} - {\\left(G\\left(r\\right) a\\left(r\\right)^{2} + {\\left(r^{2} B\\left(r\\right) G\\left(r\\right)^{2} - 2 \\, r B\\left(r\\right) C\\left(r\\right) + {\\left(r^{2} B\\left(r\\right) C\\left(r\\right) - 2 \\, r B\\left(r\\right)\\right)} G\\left(r\\right)\\right)} a\\left(r\\right)\\right)} b\\left(r\\right)^{2} - {\\left({\\left(r^{2} G\\left(r\\right)^{2} - 2 \\, r C\\left(r\\right) + {\\left(r^{2} C\\left(r\\right) - 2 \\, r\\right)} G\\left(r\\right)\\right)} a\\left(r\\right) b\\left(r\\right) - {\\left(r^{2} B\\left(r\\right) G\\left(r\\right) - 2 \\, r B\\left(r\\right)\\right)} b\\left(r\\right)^{2}\\right)} \\frac{\\partial\\,a}{\\partial r} + {\\left({\\left(r^{2} G\\left(r\\right)^{2} - 2 \\, r G\\left(r\\right)\\right)} a\\left(r\\right)^{2} + {\\left(r^{2} B\\left(r\\right) G\\left(r\\right) - 2 \\, r B\\left(r\\right)\\right)} a\\left(r\\right) b\\left(r\\right)\\right)} \\frac{\\partial\\,b}{\\partial r}\\right)} \\sin\\left({\\theta}\\right)^{2}}{a\\left(r\\right)^{2} b\\left(r\\right)^{2}} \\\\ X_{ \\, {\\theta} \\, r \\, {\\theta} }^{ \\phantom{\\, {\\theta}}\\phantom{\\, r}\\phantom{\\, {\\theta}} } & = & \\frac{{\\left(r^{2} G\\left(r\\right) - 2 \\, r\\right)} a\\left(r\\right) b\\left(r\\right)^{2} \\frac{\\partial\\,B}{\\partial r} + {\\left(r^{2} G\\left(r\\right) - 4 \\, r\\right)} a\\left(r\\right)^{2} b\\left(r\\right) \\frac{\\partial\\,G}{\\partial r} + {\\left(2 \\, r^{2} G\\left(r\\right)^{3} - 3 \\, {\\left(r^{2} C\\left(r\\right) + 2 \\, r\\right)} G\\left(r\\right)^{2} + 2 \\, {\\left(3 \\, r C\\left(r\\right) + 1\\right)} G\\left(r\\right)\\right)} a\\left(r\\right)^{2} b\\left(r\\right) + {\\left(r^{2} B\\left(r\\right)^{2} G\\left(r\\right) - 2 \\, r B\\left(r\\right)^{2}\\right)} b\\left(r\\right)^{3} + {\\left(r^{2} G\\left(r\\right) - 2 \\, r\\right)} a\\left(r\\right) b\\left(r\\right) \\frac{\\partial^2\\,a}{\\partial r ^ 2} - {\\left(G\\left(r\\right) a\\left(r\\right)^{2} + {\\left(r^{2} B\\left(r\\right) G\\left(r\\right)^{2} - 2 \\, r B\\left(r\\right) C\\left(r\\right) + {\\left(r^{2} B\\left(r\\right) C\\left(r\\right) - 2 \\, r B\\left(r\\right)\\right)} G\\left(r\\right)\\right)} a\\left(r\\right)\\right)} b\\left(r\\right)^{2} - {\\left({\\left(r^{2} G\\left(r\\right)^{2} - 2 \\, r C\\left(r\\right) + {\\left(r^{2} C\\left(r\\right) - 2 \\, r\\right)} G\\left(r\\right)\\right)} a\\left(r\\right) b\\left(r\\right) - {\\left(r^{2} B\\left(r\\right) G\\left(r\\right) - 2 \\, r B\\left(r\\right)\\right)} b\\left(r\\right)^{2}\\right)} \\frac{\\partial\\,a}{\\partial r} + {\\left({\\left(r^{2} G\\left(r\\right)^{2} - 2 \\, r G\\left(r\\right)\\right)} a\\left(r\\right)^{2} + {\\left(r^{2} B\\left(r\\right) G\\left(r\\right) - 2 \\, r B\\left(r\\right)\\right)} a\\left(r\\right) b\\left(r\\right)\\right)} \\frac{\\partial\\,b}{\\partial r}}{a\\left(r\\right)^{2} b\\left(r\\right)^{2}} \\\\ X_{ \\, {\\theta} \\, {\\theta} \\, r }^{ \\phantom{\\, {\\theta}}\\phantom{\\, {\\theta}}\\phantom{\\, r} } & = & \\frac{r^{2} a\\left(r\\right)^{2} b\\left(r\\right)^{2} \\frac{\\partial^2\\,G}{\\partial r ^ 2} + {\\left(r^{2} G\\left(r\\right) - 2 \\, r\\right)} a\\left(r\\right) b\\left(r\\right)^{3} \\frac{\\partial\\,B}{\\partial r} + {\\left(r^{2} G\\left(r\\right) - 2 \\, r\\right)} a\\left(r\\right)^{2} b\\left(r\\right)^{2} \\frac{\\partial\\,C}{\\partial r} - 2 \\, {\\left({\\left(r^{2} C\\left(r\\right) + 2 \\, r\\right)} G\\left(r\\right)^{2} - 3 \\, {\\left(r C\\left(r\\right) + 1\\right)} G\\left(r\\right) + C\\left(r\\right)\\right)} a\\left(r\\right)^{2} b\\left(r\\right)^{2} - {\\left(r^{2} G\\left(r\\right) - 2 \\, r\\right)} b\\left(r\\right)^{2} \\left(\\frac{\\partial\\,a}{\\partial r}\\right)^{2} + {\\left(r^{2} G\\left(r\\right) - 2 \\, r\\right)} a\\left(r\\right) b\\left(r\\right)^{2} \\frac{\\partial^2\\,a}{\\partial r ^ 2} + 2 \\, {\\left(r^{2} G\\left(r\\right) - 2 \\, r\\right)} a\\left(r\\right)^{2} \\left(\\frac{\\partial\\,b}{\\partial r}\\right)^{2} - {\\left(r^{2} G\\left(r\\right) - 2 \\, r\\right)} a\\left(r\\right)^{2} b\\left(r\\right) \\frac{\\partial^2\\,b}{\\partial r ^ 2} - 2 \\, {\\left(G\\left(r\\right) a\\left(r\\right)^{2} + {\\left(r^{2} B\\left(r\\right) G\\left(r\\right)^{2} - 3 \\, r B\\left(r\\right) G\\left(r\\right) + B\\left(r\\right)\\right)} a\\left(r\\right)\\right)} b\\left(r\\right)^{3} + {\\left(r^{2} B\\left(r\\right) a\\left(r\\right) b\\left(r\\right)^{3} + {\\left(r^{2} C\\left(r\\right) - 2 \\, r^{2} G\\left(r\\right) + 4 \\, r\\right)} a\\left(r\\right)^{2} b\\left(r\\right)^{2}\\right)} \\frac{\\partial\\,G}{\\partial r} + {\\left(r^{2} a\\left(r\\right) b\\left(r\\right)^{2} \\frac{\\partial\\,G}{\\partial r} - 2 \\, {\\left(r^{2} G\\left(r\\right)^{2} - 3 \\, r G\\left(r\\right) + 1\\right)} a\\left(r\\right) b\\left(r\\right)^{2} - {\\left(r^{2} B\\left(r\\right) G\\left(r\\right) - 2 \\, r B\\left(r\\right)\\right)} b\\left(r\\right)^{3}\\right)} \\frac{\\partial\\,a}{\\partial r} - {\\left(2 \\, r^{2} a\\left(r\\right)^{2} b\\left(r\\right) \\frac{\\partial\\,G}{\\partial r} - {\\left(2 \\, r^{2} G\\left(r\\right)^{2} + 2 \\, r C\\left(r\\right) - {\\left(r^{2} C\\left(r\\right) + 8 \\, r\\right)} G\\left(r\\right) + 4\\right)} a\\left(r\\right)^{2} b\\left(r\\right) + {\\left(r^{2} G\\left(r\\right) - 2 \\, r\\right)} a\\left(r\\right) b\\left(r\\right) \\frac{\\partial\\,a}{\\partial r}\\right)} \\frac{\\partial\\,b}{\\partial r}}{a\\left(r\\right)^{2} b\\left(r\\right)^{3}} \\\\ X_{ \\, {\\phi} \\, r \\, {\\phi} }^{ \\phantom{\\, {\\phi}}\\phantom{\\, r}\\phantom{\\, {\\phi}} } & = & \\frac{{\\left({\\left(r^{2} G\\left(r\\right) - 2 \\, r\\right)} a\\left(r\\right) b\\left(r\\right)^{2} \\frac{\\partial\\,B}{\\partial r} + {\\left(r^{2} G\\left(r\\right) - 4 \\, r\\right)} a\\left(r\\right)^{2} b\\left(r\\right) \\frac{\\partial\\,G}{\\partial r} + {\\left(2 \\, r^{2} G\\left(r\\right)^{3} - 3 \\, {\\left(r^{2} C\\left(r\\right) + 2 \\, r\\right)} G\\left(r\\right)^{2} + 2 \\, {\\left(3 \\, r C\\left(r\\right) + 1\\right)} G\\left(r\\right)\\right)} a\\left(r\\right)^{2} b\\left(r\\right) + {\\left(r^{2} B\\left(r\\right)^{2} G\\left(r\\right) - 2 \\, r B\\left(r\\right)^{2}\\right)} b\\left(r\\right)^{3} + {\\left(r^{2} G\\left(r\\right) - 2 \\, r\\right)} a\\left(r\\right) b\\left(r\\right) \\frac{\\partial^2\\,a}{\\partial r ^ 2} - {\\left(G\\left(r\\right) a\\left(r\\right)^{2} + {\\left(r^{2} B\\left(r\\right) G\\left(r\\right)^{2} - 2 \\, r B\\left(r\\right) C\\left(r\\right) + {\\left(r^{2} B\\left(r\\right) C\\left(r\\right) - 2 \\, r B\\left(r\\right)\\right)} G\\left(r\\right)\\right)} a\\left(r\\right)\\right)} b\\left(r\\right)^{2} - {\\left({\\left(r^{2} G\\left(r\\right)^{2} - 2 \\, r C\\left(r\\right) + {\\left(r^{2} C\\left(r\\right) - 2 \\, r\\right)} G\\left(r\\right)\\right)} a\\left(r\\right) b\\left(r\\right) - {\\left(r^{2} B\\left(r\\right) G\\left(r\\right) - 2 \\, r B\\left(r\\right)\\right)} b\\left(r\\right)^{2}\\right)} \\frac{\\partial\\,a}{\\partial r} + {\\left({\\left(r^{2} G\\left(r\\right)^{2} - 2 \\, r G\\left(r\\right)\\right)} a\\left(r\\right)^{2} + {\\left(r^{2} B\\left(r\\right) G\\left(r\\right) - 2 \\, r B\\left(r\\right)\\right)} a\\left(r\\right) b\\left(r\\right)\\right)} \\frac{\\partial\\,b}{\\partial r}\\right)} \\sin\\left({\\theta}\\right)^{2}}{a\\left(r\\right)^{2} b\\left(r\\right)^{2}} \\\\ X_{ \\, {\\phi} \\, {\\phi} \\, r }^{ \\phantom{\\, {\\phi}}\\phantom{\\, {\\phi}}\\phantom{\\, r} } & = & \\frac{{\\left(r^{2} a\\left(r\\right)^{2} b\\left(r\\right)^{2} \\frac{\\partial^2\\,G}{\\partial r ^ 2} + {\\left(r^{2} G\\left(r\\right) - 2 \\, r\\right)} a\\left(r\\right) b\\left(r\\right)^{3} \\frac{\\partial\\,B}{\\partial r} + {\\left(r^{2} G\\left(r\\right) - 2 \\, r\\right)} a\\left(r\\right)^{2} b\\left(r\\right)^{2} \\frac{\\partial\\,C}{\\partial r} - 2 \\, {\\left({\\left(r^{2} C\\left(r\\right) + 2 \\, r\\right)} G\\left(r\\right)^{2} - 3 \\, {\\left(r C\\left(r\\right) + 1\\right)} G\\left(r\\right) + C\\left(r\\right)\\right)} a\\left(r\\right)^{2} b\\left(r\\right)^{2} - {\\left(r^{2} G\\left(r\\right) - 2 \\, r\\right)} b\\left(r\\right)^{2} \\left(\\frac{\\partial\\,a}{\\partial r}\\right)^{2} + {\\left(r^{2} G\\left(r\\right) - 2 \\, r\\right)} a\\left(r\\right) b\\left(r\\right)^{2} \\frac{\\partial^2\\,a}{\\partial r ^ 2} + 2 \\, {\\left(r^{2} G\\left(r\\right) - 2 \\, r\\right)} a\\left(r\\right)^{2} \\left(\\frac{\\partial\\,b}{\\partial r}\\right)^{2} - {\\left(r^{2} G\\left(r\\right) - 2 \\, r\\right)} a\\left(r\\right)^{2} b\\left(r\\right) \\frac{\\partial^2\\,b}{\\partial r ^ 2} - 2 \\, {\\left(G\\left(r\\right) a\\left(r\\right)^{2} + {\\left(r^{2} B\\left(r\\right) G\\left(r\\right)^{2} - 3 \\, r B\\left(r\\right) G\\left(r\\right) + B\\left(r\\right)\\right)} a\\left(r\\right)\\right)} b\\left(r\\right)^{3} + {\\left(r^{2} B\\left(r\\right) a\\left(r\\right) b\\left(r\\right)^{3} + {\\left(r^{2} C\\left(r\\right) - 2 \\, r^{2} G\\left(r\\right) + 4 \\, r\\right)} a\\left(r\\right)^{2} b\\left(r\\right)^{2}\\right)} \\frac{\\partial\\,G}{\\partial r} + {\\left(r^{2} a\\left(r\\right) b\\left(r\\right)^{2} \\frac{\\partial\\,G}{\\partial r} - 2 \\, {\\left(r^{2} G\\left(r\\right)^{2} - 3 \\, r G\\left(r\\right) + 1\\right)} a\\left(r\\right) b\\left(r\\right)^{2} - {\\left(r^{2} B\\left(r\\right) G\\left(r\\right) - 2 \\, r B\\left(r\\right)\\right)} b\\left(r\\right)^{3}\\right)} \\frac{\\partial\\,a}{\\partial r} - {\\left(2 \\, r^{2} a\\left(r\\right)^{2} b\\left(r\\right) \\frac{\\partial\\,G}{\\partial r} - {\\left(2 \\, r^{2} G\\left(r\\right)^{2} + 2 \\, r C\\left(r\\right) - {\\left(r^{2} C\\left(r\\right) + 8 \\, r\\right)} G\\left(r\\right) + 4\\right)} a\\left(r\\right)^{2} b\\left(r\\right) + {\\left(r^{2} G\\left(r\\right) - 2 \\, r\\right)} a\\left(r\\right) b\\left(r\\right) \\frac{\\partial\\,a}{\\partial r}\\right)} \\frac{\\partial\\,b}{\\partial r}\\right)} \\sin\\left({\\theta}\\right)^{2}}{a\\left(r\\right)^{2} b\\left(r\\right)^{3}} \\end{array}$"
      ],
      "text/plain": [
       "X_t,t,r = (2*B(r)^3*b(r)^2 + B(r)*a(r)^2*d(C)/dr + 2*B(r)*a(r)^2*d(G)/dr - B(r)^2*a(r)*d(b)/dr - 2*(B(r)^2*C(r) + 2*B(r)^2*G(r))*a(r)*b(r) + a(r)^2*d^2(B)/dr^2 + 3*B(r)*(d(a)/dr)^2 - B(r)*a(r)*d^2(a)/dr^2 + ((C(r) + 2*G(r))*a(r)^2 - 4*B(r)*a(r)*b(r))*d(B)/dr + (5*B(r)^2*b(r) - 2*(B(r)*C(r) + 2*B(r)*G(r))*a(r) - 3*a(r)*d(B)/dr)*d(a)/dr)/a(r)^2 \n",
       "X_t,r,t = (2*B(r)^3*b(r)^2 + 2*B(r)*a(r)^2*d(G)/dr + B(r)^2*a(r)*d(b)/dr - 2*(B(r)*C(r)*G(r) - B(r)*G(r)^2)*a(r)^2 - 2*(B(r)^2*C(r) + B(r)^2*G(r))*a(r)*b(r) + B(r)*(d(a)/dr)^2 + B(r)*a(r)*d^2(a)/dr^2 + (3*B(r)^2*b(r) - 2*(B(r)*C(r) + B(r)*G(r))*a(r) - a(r)*d(B)/dr)*d(a)/dr)/a(r)^2 \n",
       "X_r,t,t = (2*B(r)^3*b(r)^2 + 2*B(r)*a(r)^2*d(G)/dr + B(r)^2*a(r)*d(b)/dr - 2*(B(r)*C(r)*G(r) - B(r)*G(r)^2)*a(r)^2 - 2*(B(r)^2*C(r) + B(r)^2*G(r))*a(r)*b(r) + B(r)*(d(a)/dr)^2 + B(r)*a(r)*d^2(a)/dr^2 + (3*B(r)^2*b(r) - 2*(B(r)*C(r) + B(r)*G(r))*a(r) - a(r)*d(B)/dr)*d(a)/dr)/a(r)^2 \n",
       "X_r,r,r = -(2*B(r)*C(r)^2*a(r)^2*b(r) - 2*B(r)^2*C(r)*a(r)*b(r)^2 - 2*(3*C(r) - 2*G(r))*a(r)^3*d(G)/dr + 4*(C(r)^2*G(r) - C(r)*G(r)^2)*a(r)^3 + a(r)^2*b(r)*d^2(B)/dr^2 + 2*a(r)^3*d^2(G)/dr^2 + B(r)*a(r)^2*d^2(b)/dr^2 + (C(r)*a(r) - 2*B(r)*b(r))*(d(a)/dr)^2 + a(r)^2*d^3(a)/dr^3 - (3*C(r)*a(r)^2*b(r) - 2*B(r)*a(r)*b(r)^2)*d(B)/dr - (2*G(r)*a(r)^3 + B(r)*a(r)^2*b(r))*d(C)/dr + (2*C(r)^2*a(r)^2 - B(r)*C(r)*a(r)*b(r) - 2*B(r)^2*b(r)^2 - a(r)^2*d(C)/dr)*d(a)/dr - (3*C(r)*a(r)^2 - B(r)*a(r)*b(r) + a(r)*d(a)/dr)*d^2(a)/dr^2 - (3*B(r)*C(r)*a(r)^2 - 2*B(r)^2*a(r)*b(r) - 2*a(r)^2*d(B)/dr)*d(b)/dr)/a(r)^3 \n",
       "X_r,th,th = ((r^2*G(r) - 2*r)*a(r)*b(r)^2*d(B)/dr + (r^2*G(r) - 4*r)*a(r)^2*b(r)*d(G)/dr + (2*r^2*G(r)^3 - 3*(r^2*C(r) + 2*r)*G(r)^2 + 2*(3*r*C(r) + 1)*G(r))*a(r)^2*b(r) + (r^2*B(r)^2*G(r) - 2*r*B(r)^2)*b(r)^3 + (r^2*G(r) - 2*r)*a(r)*b(r)*d^2(a)/dr^2 - (G(r)*a(r)^2 + (r^2*B(r)*G(r)^2 - 2*r*B(r)*C(r) + (r^2*B(r)*C(r) - 2*r*B(r))*G(r))*a(r))*b(r)^2 - ((r^2*G(r)^2 - 2*r*C(r) + (r^2*C(r) - 2*r)*G(r))*a(r)*b(r) - (r^2*B(r)*G(r) - 2*r*B(r))*b(r)^2)*d(a)/dr + ((r^2*G(r)^2 - 2*r*G(r))*a(r)^2 + (r^2*B(r)*G(r) - 2*r*B(r))*a(r)*b(r))*d(b)/dr)/(a(r)^2*b(r)^2) \n",
       "X_r,ph,ph = ((r^2*G(r) - 2*r)*a(r)*b(r)^2*d(B)/dr + (r^2*G(r) - 4*r)*a(r)^2*b(r)*d(G)/dr + (2*r^2*G(r)^3 - 3*(r^2*C(r) + 2*r)*G(r)^2 + 2*(3*r*C(r) + 1)*G(r))*a(r)^2*b(r) + (r^2*B(r)^2*G(r) - 2*r*B(r)^2)*b(r)^3 + (r^2*G(r) - 2*r)*a(r)*b(r)*d^2(a)/dr^2 - (G(r)*a(r)^2 + (r^2*B(r)*G(r)^2 - 2*r*B(r)*C(r) + (r^2*B(r)*C(r) - 2*r*B(r))*G(r))*a(r))*b(r)^2 - ((r^2*G(r)^2 - 2*r*C(r) + (r^2*C(r) - 2*r)*G(r))*a(r)*b(r) - (r^2*B(r)*G(r) - 2*r*B(r))*b(r)^2)*d(a)/dr + ((r^2*G(r)^2 - 2*r*G(r))*a(r)^2 + (r^2*B(r)*G(r) - 2*r*B(r))*a(r)*b(r))*d(b)/dr)*sin(th)^2/(a(r)^2*b(r)^2) \n",
       "X_th,r,th = ((r^2*G(r) - 2*r)*a(r)*b(r)^2*d(B)/dr + (r^2*G(r) - 4*r)*a(r)^2*b(r)*d(G)/dr + (2*r^2*G(r)^3 - 3*(r^2*C(r) + 2*r)*G(r)^2 + 2*(3*r*C(r) + 1)*G(r))*a(r)^2*b(r) + (r^2*B(r)^2*G(r) - 2*r*B(r)^2)*b(r)^3 + (r^2*G(r) - 2*r)*a(r)*b(r)*d^2(a)/dr^2 - (G(r)*a(r)^2 + (r^2*B(r)*G(r)^2 - 2*r*B(r)*C(r) + (r^2*B(r)*C(r) - 2*r*B(r))*G(r))*a(r))*b(r)^2 - ((r^2*G(r)^2 - 2*r*C(r) + (r^2*C(r) - 2*r)*G(r))*a(r)*b(r) - (r^2*B(r)*G(r) - 2*r*B(r))*b(r)^2)*d(a)/dr + ((r^2*G(r)^2 - 2*r*G(r))*a(r)^2 + (r^2*B(r)*G(r) - 2*r*B(r))*a(r)*b(r))*d(b)/dr)/(a(r)^2*b(r)^2) \n",
       "X_th,th,r = (r^2*a(r)^2*b(r)^2*d^2(G)/dr^2 + (r^2*G(r) - 2*r)*a(r)*b(r)^3*d(B)/dr + (r^2*G(r) - 2*r)*a(r)^2*b(r)^2*d(C)/dr - 2*((r^2*C(r) + 2*r)*G(r)^2 - 3*(r*C(r) + 1)*G(r) + C(r))*a(r)^2*b(r)^2 - (r^2*G(r) - 2*r)*b(r)^2*(d(a)/dr)^2 + (r^2*G(r) - 2*r)*a(r)*b(r)^2*d^2(a)/dr^2 + 2*(r^2*G(r) - 2*r)*a(r)^2*(d(b)/dr)^2 - (r^2*G(r) - 2*r)*a(r)^2*b(r)*d^2(b)/dr^2 - 2*(G(r)*a(r)^2 + (r^2*B(r)*G(r)^2 - 3*r*B(r)*G(r) + B(r))*a(r))*b(r)^3 + (r^2*B(r)*a(r)*b(r)^3 + (r^2*C(r) - 2*r^2*G(r) + 4*r)*a(r)^2*b(r)^2)*d(G)/dr + (r^2*a(r)*b(r)^2*d(G)/dr - 2*(r^2*G(r)^2 - 3*r*G(r) + 1)*a(r)*b(r)^2 - (r^2*B(r)*G(r) - 2*r*B(r))*b(r)^3)*d(a)/dr - (2*r^2*a(r)^2*b(r)*d(G)/dr - (2*r^2*G(r)^2 + 2*r*C(r) - (r^2*C(r) + 8*r)*G(r) + 4)*a(r)^2*b(r) + (r^2*G(r) - 2*r)*a(r)*b(r)*d(a)/dr)*d(b)/dr)/(a(r)^2*b(r)^3) \n",
       "X_ph,r,ph = ((r^2*G(r) - 2*r)*a(r)*b(r)^2*d(B)/dr + (r^2*G(r) - 4*r)*a(r)^2*b(r)*d(G)/dr + (2*r^2*G(r)^3 - 3*(r^2*C(r) + 2*r)*G(r)^2 + 2*(3*r*C(r) + 1)*G(r))*a(r)^2*b(r) + (r^2*B(r)^2*G(r) - 2*r*B(r)^2)*b(r)^3 + (r^2*G(r) - 2*r)*a(r)*b(r)*d^2(a)/dr^2 - (G(r)*a(r)^2 + (r^2*B(r)*G(r)^2 - 2*r*B(r)*C(r) + (r^2*B(r)*C(r) - 2*r*B(r))*G(r))*a(r))*b(r)^2 - ((r^2*G(r)^2 - 2*r*C(r) + (r^2*C(r) - 2*r)*G(r))*a(r)*b(r) - (r^2*B(r)*G(r) - 2*r*B(r))*b(r)^2)*d(a)/dr + ((r^2*G(r)^2 - 2*r*G(r))*a(r)^2 + (r^2*B(r)*G(r) - 2*r*B(r))*a(r)*b(r))*d(b)/dr)*sin(th)^2/(a(r)^2*b(r)^2) \n",
       "X_ph,ph,r = (r^2*a(r)^2*b(r)^2*d^2(G)/dr^2 + (r^2*G(r) - 2*r)*a(r)*b(r)^3*d(B)/dr + (r^2*G(r) - 2*r)*a(r)^2*b(r)^2*d(C)/dr - 2*((r^2*C(r) + 2*r)*G(r)^2 - 3*(r*C(r) + 1)*G(r) + C(r))*a(r)^2*b(r)^2 - (r^2*G(r) - 2*r)*b(r)^2*(d(a)/dr)^2 + (r^2*G(r) - 2*r)*a(r)*b(r)^2*d^2(a)/dr^2 + 2*(r^2*G(r) - 2*r)*a(r)^2*(d(b)/dr)^2 - (r^2*G(r) - 2*r)*a(r)^2*b(r)*d^2(b)/dr^2 - 2*(G(r)*a(r)^2 + (r^2*B(r)*G(r)^2 - 3*r*B(r)*G(r) + B(r))*a(r))*b(r)^3 + (r^2*B(r)*a(r)*b(r)^3 + (r^2*C(r) - 2*r^2*G(r) + 4*r)*a(r)^2*b(r)^2)*d(G)/dr + (r^2*a(r)*b(r)^2*d(G)/dr - 2*(r^2*G(r)^2 - 3*r*G(r) + 1)*a(r)*b(r)^2 - (r^2*B(r)*G(r) - 2*r*B(r))*b(r)^3)*d(a)/dr - (2*r^2*a(r)^2*b(r)*d(G)/dr - (2*r^2*G(r)^2 + 2*r*C(r) - (r^2*C(r) + 8*r)*G(r) + 4)*a(r)^2*b(r) + (r^2*G(r) - 2*r)*a(r)*b(r)*d(a)/dr)*d(b)/dr)*sin(th)^2/(a(r)^2*b(r)^3) "
      ]
     },
     "execution_count": 47,
     "metadata": {},
     "output_type": "execute_result"
    }
   ],
   "source": [
    "NRicci = T(Ricci)\n",
    "NRicci.display_comp()"
   ]
  },
  {
   "cell_type": "code",
   "execution_count": 48,
   "id": "112e547a",
   "metadata": {},
   "outputs": [
    {
     "data": {
      "text/html": [
       "<html>\\(\\displaystyle \\begin{array}{lcl} X_{ \\, t \\, t \\, r }^{ \\phantom{\\, t}\\phantom{\\, t}\\phantom{\\, r} } & = & -\\frac{2 \\, B\\left(r\\right)^{2} G\\left(r\\right) a\\left(r\\right) b\\left(r\\right) - B\\left(r\\right) a\\left(r\\right)^{2} \\frac{\\partial\\,C}{\\partial r} + 2 \\, B\\left(r\\right)^{2} a\\left(r\\right) \\frac{\\partial\\,b}{\\partial r} - 2 \\, {\\left(B\\left(r\\right) C\\left(r\\right) G\\left(r\\right) - B\\left(r\\right) G\\left(r\\right)^{2}\\right)} a\\left(r\\right)^{2} - a\\left(r\\right)^{2} \\frac{\\partial^2\\,B}{\\partial r ^ 2} - 2 \\, B\\left(r\\right) \\left(\\frac{\\partial\\,a}{\\partial r}\\right)^{2} + 2 \\, B\\left(r\\right) a\\left(r\\right) \\frac{\\partial^2\\,a}{\\partial r ^ 2} - {\\left({\\left(C\\left(r\\right) + 2 \\, G\\left(r\\right)\\right)} a\\left(r\\right)^{2} - 4 \\, B\\left(r\\right) a\\left(r\\right) b\\left(r\\right)\\right)} \\frac{\\partial\\,B}{\\partial r} + 2 \\, {\\left(B\\left(r\\right) G\\left(r\\right) a\\left(r\\right) - B\\left(r\\right)^{2} b\\left(r\\right) + a\\left(r\\right) \\frac{\\partial\\,B}{\\partial r}\\right)} \\frac{\\partial\\,a}{\\partial r}}{2 \\, a\\left(r\\right)^{2}} \\\\ X_{ \\, r \\, {\\theta} \\, {\\theta} }^{ \\phantom{\\, r}\\phantom{\\, {\\theta}}\\phantom{\\, {\\theta}} } & = & -\\frac{r^{2} a\\left(r\\right)^{2} b\\left(r\\right)^{2} \\frac{\\partial^2\\,G}{\\partial r ^ 2} + {\\left(r^{2} G\\left(r\\right) - 2 \\, r\\right)} a\\left(r\\right)^{2} b\\left(r\\right)^{2} \\frac{\\partial\\,C}{\\partial r} - {\\left(2 \\, r^{2} G\\left(r\\right)^{3} - {\\left(r^{2} C\\left(r\\right) + 2 \\, r\\right)} G\\left(r\\right)^{2} + 2 \\, C\\left(r\\right) - 4 \\, G\\left(r\\right)\\right)} a\\left(r\\right)^{2} b\\left(r\\right)^{2} - {\\left(r^{2} B\\left(r\\right)^{2} G\\left(r\\right) - 2 \\, r B\\left(r\\right)^{2}\\right)} b\\left(r\\right)^{4} - {\\left(r^{2} G\\left(r\\right) - 2 \\, r\\right)} b\\left(r\\right)^{2} \\left(\\frac{\\partial\\,a}{\\partial r}\\right)^{2} + 2 \\, {\\left(r^{2} G\\left(r\\right) - 2 \\, r\\right)} a\\left(r\\right)^{2} \\left(\\frac{\\partial\\,b}{\\partial r}\\right)^{2} - {\\left(r^{2} G\\left(r\\right) - 2 \\, r\\right)} a\\left(r\\right)^{2} b\\left(r\\right) \\frac{\\partial^2\\,b}{\\partial r ^ 2} - {\\left(G\\left(r\\right) a\\left(r\\right)^{2} + {\\left(r^{2} B\\left(r\\right) G\\left(r\\right)^{2} + 2 \\, r B\\left(r\\right) C\\left(r\\right) - {\\left(r^{2} B\\left(r\\right) C\\left(r\\right) + 4 \\, r B\\left(r\\right)\\right)} G\\left(r\\right) + 2 \\, B\\left(r\\right)\\right)} a\\left(r\\right)\\right)} b\\left(r\\right)^{3} + {\\left(r^{2} B\\left(r\\right) a\\left(r\\right) b\\left(r\\right)^{3} + {\\left(r^{2} C\\left(r\\right) - 3 \\, r^{2} G\\left(r\\right) + 8 \\, r\\right)} a\\left(r\\right)^{2} b\\left(r\\right)^{2}\\right)} \\frac{\\partial\\,G}{\\partial r} + {\\left(r^{2} a\\left(r\\right) b\\left(r\\right)^{2} \\frac{\\partial\\,G}{\\partial r} - {\\left(r^{2} G\\left(r\\right)^{2} + 2 \\, r C\\left(r\\right) - {\\left(r^{2} C\\left(r\\right) + 4 \\, r\\right)} G\\left(r\\right) + 2\\right)} a\\left(r\\right) b\\left(r\\right)^{2} - 2 \\, {\\left(r^{2} B\\left(r\\right) G\\left(r\\right) - 2 \\, r B\\left(r\\right)\\right)} b\\left(r\\right)^{3}\\right)} \\frac{\\partial\\,a}{\\partial r} - {\\left(2 \\, r^{2} a\\left(r\\right)^{2} b\\left(r\\right) \\frac{\\partial\\,G}{\\partial r} - {\\left(r^{2} G\\left(r\\right)^{2} + 2 \\, r C\\left(r\\right) - {\\left(r^{2} C\\left(r\\right) + 6 \\, r\\right)} G\\left(r\\right) + 4\\right)} a\\left(r\\right)^{2} b\\left(r\\right) + {\\left(r^{2} B\\left(r\\right) G\\left(r\\right) - 2 \\, r B\\left(r\\right)\\right)} a\\left(r\\right) b\\left(r\\right)^{2} + {\\left(r^{2} G\\left(r\\right) - 2 \\, r\\right)} a\\left(r\\right) b\\left(r\\right) \\frac{\\partial\\,a}{\\partial r}\\right)} \\frac{\\partial\\,b}{\\partial r}}{2 \\, a\\left(r\\right)^{2} b\\left(r\\right)^{3}} \\\\ X_{ \\, r \\, {\\phi} \\, {\\phi} }^{ \\phantom{\\, r}\\phantom{\\, {\\phi}}\\phantom{\\, {\\phi}} } & = & -\\frac{{\\left(r^{2} a\\left(r\\right)^{2} b\\left(r\\right)^{2} \\frac{\\partial^2\\,G}{\\partial r ^ 2} + {\\left(r^{2} G\\left(r\\right) - 2 \\, r\\right)} a\\left(r\\right)^{2} b\\left(r\\right)^{2} \\frac{\\partial\\,C}{\\partial r} - {\\left(2 \\, r^{2} G\\left(r\\right)^{3} - {\\left(r^{2} C\\left(r\\right) + 2 \\, r\\right)} G\\left(r\\right)^{2} + 2 \\, C\\left(r\\right) - 4 \\, G\\left(r\\right)\\right)} a\\left(r\\right)^{2} b\\left(r\\right)^{2} - {\\left(r^{2} B\\left(r\\right)^{2} G\\left(r\\right) - 2 \\, r B\\left(r\\right)^{2}\\right)} b\\left(r\\right)^{4} - {\\left(r^{2} G\\left(r\\right) - 2 \\, r\\right)} b\\left(r\\right)^{2} \\left(\\frac{\\partial\\,a}{\\partial r}\\right)^{2} + 2 \\, {\\left(r^{2} G\\left(r\\right) - 2 \\, r\\right)} a\\left(r\\right)^{2} \\left(\\frac{\\partial\\,b}{\\partial r}\\right)^{2} - {\\left(r^{2} G\\left(r\\right) - 2 \\, r\\right)} a\\left(r\\right)^{2} b\\left(r\\right) \\frac{\\partial^2\\,b}{\\partial r ^ 2} - {\\left(G\\left(r\\right) a\\left(r\\right)^{2} + {\\left(r^{2} B\\left(r\\right) G\\left(r\\right)^{2} + 2 \\, r B\\left(r\\right) C\\left(r\\right) - {\\left(r^{2} B\\left(r\\right) C\\left(r\\right) + 4 \\, r B\\left(r\\right)\\right)} G\\left(r\\right) + 2 \\, B\\left(r\\right)\\right)} a\\left(r\\right)\\right)} b\\left(r\\right)^{3} + {\\left(r^{2} B\\left(r\\right) a\\left(r\\right) b\\left(r\\right)^{3} + {\\left(r^{2} C\\left(r\\right) - 3 \\, r^{2} G\\left(r\\right) + 8 \\, r\\right)} a\\left(r\\right)^{2} b\\left(r\\right)^{2}\\right)} \\frac{\\partial\\,G}{\\partial r} + {\\left(r^{2} a\\left(r\\right) b\\left(r\\right)^{2} \\frac{\\partial\\,G}{\\partial r} - {\\left(r^{2} G\\left(r\\right)^{2} + 2 \\, r C\\left(r\\right) - {\\left(r^{2} C\\left(r\\right) + 4 \\, r\\right)} G\\left(r\\right) + 2\\right)} a\\left(r\\right) b\\left(r\\right)^{2} - 2 \\, {\\left(r^{2} B\\left(r\\right) G\\left(r\\right) - 2 \\, r B\\left(r\\right)\\right)} b\\left(r\\right)^{3}\\right)} \\frac{\\partial\\,a}{\\partial r} - {\\left(2 \\, r^{2} a\\left(r\\right)^{2} b\\left(r\\right) \\frac{\\partial\\,G}{\\partial r} - {\\left(r^{2} G\\left(r\\right)^{2} + 2 \\, r C\\left(r\\right) - {\\left(r^{2} C\\left(r\\right) + 6 \\, r\\right)} G\\left(r\\right) + 4\\right)} a\\left(r\\right)^{2} b\\left(r\\right) + {\\left(r^{2} B\\left(r\\right) G\\left(r\\right) - 2 \\, r B\\left(r\\right)\\right)} a\\left(r\\right) b\\left(r\\right)^{2} + {\\left(r^{2} G\\left(r\\right) - 2 \\, r\\right)} a\\left(r\\right) b\\left(r\\right) \\frac{\\partial\\,a}{\\partial r}\\right)} \\frac{\\partial\\,b}{\\partial r}\\right)} \\sin\\left({\\theta}\\right)^{2}}{2 \\, a\\left(r\\right)^{2} b\\left(r\\right)^{3}} \\end{array}\\)</html>"
      ],
      "text/latex": [
       "$\\displaystyle \\begin{array}{lcl} X_{ \\, t \\, t \\, r }^{ \\phantom{\\, t}\\phantom{\\, t}\\phantom{\\, r} } & = & -\\frac{2 \\, B\\left(r\\right)^{2} G\\left(r\\right) a\\left(r\\right) b\\left(r\\right) - B\\left(r\\right) a\\left(r\\right)^{2} \\frac{\\partial\\,C}{\\partial r} + 2 \\, B\\left(r\\right)^{2} a\\left(r\\right) \\frac{\\partial\\,b}{\\partial r} - 2 \\, {\\left(B\\left(r\\right) C\\left(r\\right) G\\left(r\\right) - B\\left(r\\right) G\\left(r\\right)^{2}\\right)} a\\left(r\\right)^{2} - a\\left(r\\right)^{2} \\frac{\\partial^2\\,B}{\\partial r ^ 2} - 2 \\, B\\left(r\\right) \\left(\\frac{\\partial\\,a}{\\partial r}\\right)^{2} + 2 \\, B\\left(r\\right) a\\left(r\\right) \\frac{\\partial^2\\,a}{\\partial r ^ 2} - {\\left({\\left(C\\left(r\\right) + 2 \\, G\\left(r\\right)\\right)} a\\left(r\\right)^{2} - 4 \\, B\\left(r\\right) a\\left(r\\right) b\\left(r\\right)\\right)} \\frac{\\partial\\,B}{\\partial r} + 2 \\, {\\left(B\\left(r\\right) G\\left(r\\right) a\\left(r\\right) - B\\left(r\\right)^{2} b\\left(r\\right) + a\\left(r\\right) \\frac{\\partial\\,B}{\\partial r}\\right)} \\frac{\\partial\\,a}{\\partial r}}{2 \\, a\\left(r\\right)^{2}} \\\\ X_{ \\, r \\, {\\theta} \\, {\\theta} }^{ \\phantom{\\, r}\\phantom{\\, {\\theta}}\\phantom{\\, {\\theta}} } & = & -\\frac{r^{2} a\\left(r\\right)^{2} b\\left(r\\right)^{2} \\frac{\\partial^2\\,G}{\\partial r ^ 2} + {\\left(r^{2} G\\left(r\\right) - 2 \\, r\\right)} a\\left(r\\right)^{2} b\\left(r\\right)^{2} \\frac{\\partial\\,C}{\\partial r} - {\\left(2 \\, r^{2} G\\left(r\\right)^{3} - {\\left(r^{2} C\\left(r\\right) + 2 \\, r\\right)} G\\left(r\\right)^{2} + 2 \\, C\\left(r\\right) - 4 \\, G\\left(r\\right)\\right)} a\\left(r\\right)^{2} b\\left(r\\right)^{2} - {\\left(r^{2} B\\left(r\\right)^{2} G\\left(r\\right) - 2 \\, r B\\left(r\\right)^{2}\\right)} b\\left(r\\right)^{4} - {\\left(r^{2} G\\left(r\\right) - 2 \\, r\\right)} b\\left(r\\right)^{2} \\left(\\frac{\\partial\\,a}{\\partial r}\\right)^{2} + 2 \\, {\\left(r^{2} G\\left(r\\right) - 2 \\, r\\right)} a\\left(r\\right)^{2} \\left(\\frac{\\partial\\,b}{\\partial r}\\right)^{2} - {\\left(r^{2} G\\left(r\\right) - 2 \\, r\\right)} a\\left(r\\right)^{2} b\\left(r\\right) \\frac{\\partial^2\\,b}{\\partial r ^ 2} - {\\left(G\\left(r\\right) a\\left(r\\right)^{2} + {\\left(r^{2} B\\left(r\\right) G\\left(r\\right)^{2} + 2 \\, r B\\left(r\\right) C\\left(r\\right) - {\\left(r^{2} B\\left(r\\right) C\\left(r\\right) + 4 \\, r B\\left(r\\right)\\right)} G\\left(r\\right) + 2 \\, B\\left(r\\right)\\right)} a\\left(r\\right)\\right)} b\\left(r\\right)^{3} + {\\left(r^{2} B\\left(r\\right) a\\left(r\\right) b\\left(r\\right)^{3} + {\\left(r^{2} C\\left(r\\right) - 3 \\, r^{2} G\\left(r\\right) + 8 \\, r\\right)} a\\left(r\\right)^{2} b\\left(r\\right)^{2}\\right)} \\frac{\\partial\\,G}{\\partial r} + {\\left(r^{2} a\\left(r\\right) b\\left(r\\right)^{2} \\frac{\\partial\\,G}{\\partial r} - {\\left(r^{2} G\\left(r\\right)^{2} + 2 \\, r C\\left(r\\right) - {\\left(r^{2} C\\left(r\\right) + 4 \\, r\\right)} G\\left(r\\right) + 2\\right)} a\\left(r\\right) b\\left(r\\right)^{2} - 2 \\, {\\left(r^{2} B\\left(r\\right) G\\left(r\\right) - 2 \\, r B\\left(r\\right)\\right)} b\\left(r\\right)^{3}\\right)} \\frac{\\partial\\,a}{\\partial r} - {\\left(2 \\, r^{2} a\\left(r\\right)^{2} b\\left(r\\right) \\frac{\\partial\\,G}{\\partial r} - {\\left(r^{2} G\\left(r\\right)^{2} + 2 \\, r C\\left(r\\right) - {\\left(r^{2} C\\left(r\\right) + 6 \\, r\\right)} G\\left(r\\right) + 4\\right)} a\\left(r\\right)^{2} b\\left(r\\right) + {\\left(r^{2} B\\left(r\\right) G\\left(r\\right) - 2 \\, r B\\left(r\\right)\\right)} a\\left(r\\right) b\\left(r\\right)^{2} + {\\left(r^{2} G\\left(r\\right) - 2 \\, r\\right)} a\\left(r\\right) b\\left(r\\right) \\frac{\\partial\\,a}{\\partial r}\\right)} \\frac{\\partial\\,b}{\\partial r}}{2 \\, a\\left(r\\right)^{2} b\\left(r\\right)^{3}} \\\\ X_{ \\, r \\, {\\phi} \\, {\\phi} }^{ \\phantom{\\, r}\\phantom{\\, {\\phi}}\\phantom{\\, {\\phi}} } & = & -\\frac{{\\left(r^{2} a\\left(r\\right)^{2} b\\left(r\\right)^{2} \\frac{\\partial^2\\,G}{\\partial r ^ 2} + {\\left(r^{2} G\\left(r\\right) - 2 \\, r\\right)} a\\left(r\\right)^{2} b\\left(r\\right)^{2} \\frac{\\partial\\,C}{\\partial r} - {\\left(2 \\, r^{2} G\\left(r\\right)^{3} - {\\left(r^{2} C\\left(r\\right) + 2 \\, r\\right)} G\\left(r\\right)^{2} + 2 \\, C\\left(r\\right) - 4 \\, G\\left(r\\right)\\right)} a\\left(r\\right)^{2} b\\left(r\\right)^{2} - {\\left(r^{2} B\\left(r\\right)^{2} G\\left(r\\right) - 2 \\, r B\\left(r\\right)^{2}\\right)} b\\left(r\\right)^{4} - {\\left(r^{2} G\\left(r\\right) - 2 \\, r\\right)} b\\left(r\\right)^{2} \\left(\\frac{\\partial\\,a}{\\partial r}\\right)^{2} + 2 \\, {\\left(r^{2} G\\left(r\\right) - 2 \\, r\\right)} a\\left(r\\right)^{2} \\left(\\frac{\\partial\\,b}{\\partial r}\\right)^{2} - {\\left(r^{2} G\\left(r\\right) - 2 \\, r\\right)} a\\left(r\\right)^{2} b\\left(r\\right) \\frac{\\partial^2\\,b}{\\partial r ^ 2} - {\\left(G\\left(r\\right) a\\left(r\\right)^{2} + {\\left(r^{2} B\\left(r\\right) G\\left(r\\right)^{2} + 2 \\, r B\\left(r\\right) C\\left(r\\right) - {\\left(r^{2} B\\left(r\\right) C\\left(r\\right) + 4 \\, r B\\left(r\\right)\\right)} G\\left(r\\right) + 2 \\, B\\left(r\\right)\\right)} a\\left(r\\right)\\right)} b\\left(r\\right)^{3} + {\\left(r^{2} B\\left(r\\right) a\\left(r\\right) b\\left(r\\right)^{3} + {\\left(r^{2} C\\left(r\\right) - 3 \\, r^{2} G\\left(r\\right) + 8 \\, r\\right)} a\\left(r\\right)^{2} b\\left(r\\right)^{2}\\right)} \\frac{\\partial\\,G}{\\partial r} + {\\left(r^{2} a\\left(r\\right) b\\left(r\\right)^{2} \\frac{\\partial\\,G}{\\partial r} - {\\left(r^{2} G\\left(r\\right)^{2} + 2 \\, r C\\left(r\\right) - {\\left(r^{2} C\\left(r\\right) + 4 \\, r\\right)} G\\left(r\\right) + 2\\right)} a\\left(r\\right) b\\left(r\\right)^{2} - 2 \\, {\\left(r^{2} B\\left(r\\right) G\\left(r\\right) - 2 \\, r B\\left(r\\right)\\right)} b\\left(r\\right)^{3}\\right)} \\frac{\\partial\\,a}{\\partial r} - {\\left(2 \\, r^{2} a\\left(r\\right)^{2} b\\left(r\\right) \\frac{\\partial\\,G}{\\partial r} - {\\left(r^{2} G\\left(r\\right)^{2} + 2 \\, r C\\left(r\\right) - {\\left(r^{2} C\\left(r\\right) + 6 \\, r\\right)} G\\left(r\\right) + 4\\right)} a\\left(r\\right)^{2} b\\left(r\\right) + {\\left(r^{2} B\\left(r\\right) G\\left(r\\right) - 2 \\, r B\\left(r\\right)\\right)} a\\left(r\\right) b\\left(r\\right)^{2} + {\\left(r^{2} G\\left(r\\right) - 2 \\, r\\right)} a\\left(r\\right) b\\left(r\\right) \\frac{\\partial\\,a}{\\partial r}\\right)} \\frac{\\partial\\,b}{\\partial r}\\right)} \\sin\\left({\\theta}\\right)^{2}}{2 \\, a\\left(r\\right)^{2} b\\left(r\\right)^{3}} \\end{array}$"
      ],
      "text/plain": [
       "X_t,t,r = -1/2*(2*B(r)^2*G(r)*a(r)*b(r) - B(r)*a(r)^2*d(C)/dr + 2*B(r)^2*a(r)*d(b)/dr - 2*(B(r)*C(r)*G(r) - B(r)*G(r)^2)*a(r)^2 - a(r)^2*d^2(B)/dr^2 - 2*B(r)*(d(a)/dr)^2 + 2*B(r)*a(r)*d^2(a)/dr^2 - ((C(r) + 2*G(r))*a(r)^2 - 4*B(r)*a(r)*b(r))*d(B)/dr + 2*(B(r)*G(r)*a(r) - B(r)^2*b(r) + a(r)*d(B)/dr)*d(a)/dr)/a(r)^2 \n",
       "X_r,th,th = -1/2*(r^2*a(r)^2*b(r)^2*d^2(G)/dr^2 + (r^2*G(r) - 2*r)*a(r)^2*b(r)^2*d(C)/dr - (2*r^2*G(r)^3 - (r^2*C(r) + 2*r)*G(r)^2 + 2*C(r) - 4*G(r))*a(r)^2*b(r)^2 - (r^2*B(r)^2*G(r) - 2*r*B(r)^2)*b(r)^4 - (r^2*G(r) - 2*r)*b(r)^2*(d(a)/dr)^2 + 2*(r^2*G(r) - 2*r)*a(r)^2*(d(b)/dr)^2 - (r^2*G(r) - 2*r)*a(r)^2*b(r)*d^2(b)/dr^2 - (G(r)*a(r)^2 + (r^2*B(r)*G(r)^2 + 2*r*B(r)*C(r) - (r^2*B(r)*C(r) + 4*r*B(r))*G(r) + 2*B(r))*a(r))*b(r)^3 + (r^2*B(r)*a(r)*b(r)^3 + (r^2*C(r) - 3*r^2*G(r) + 8*r)*a(r)^2*b(r)^2)*d(G)/dr + (r^2*a(r)*b(r)^2*d(G)/dr - (r^2*G(r)^2 + 2*r*C(r) - (r^2*C(r) + 4*r)*G(r) + 2)*a(r)*b(r)^2 - 2*(r^2*B(r)*G(r) - 2*r*B(r))*b(r)^3)*d(a)/dr - (2*r^2*a(r)^2*b(r)*d(G)/dr - (r^2*G(r)^2 + 2*r*C(r) - (r^2*C(r) + 6*r)*G(r) + 4)*a(r)^2*b(r) + (r^2*B(r)*G(r) - 2*r*B(r))*a(r)*b(r)^2 + (r^2*G(r) - 2*r)*a(r)*b(r)*d(a)/dr)*d(b)/dr)/(a(r)^2*b(r)^3) \n",
       "X_r,ph,ph = -1/2*(r^2*a(r)^2*b(r)^2*d^2(G)/dr^2 + (r^2*G(r) - 2*r)*a(r)^2*b(r)^2*d(C)/dr - (2*r^2*G(r)^3 - (r^2*C(r) + 2*r)*G(r)^2 + 2*C(r) - 4*G(r))*a(r)^2*b(r)^2 - (r^2*B(r)^2*G(r) - 2*r*B(r)^2)*b(r)^4 - (r^2*G(r) - 2*r)*b(r)^2*(d(a)/dr)^2 + 2*(r^2*G(r) - 2*r)*a(r)^2*(d(b)/dr)^2 - (r^2*G(r) - 2*r)*a(r)^2*b(r)*d^2(b)/dr^2 - (G(r)*a(r)^2 + (r^2*B(r)*G(r)^2 + 2*r*B(r)*C(r) - (r^2*B(r)*C(r) + 4*r*B(r))*G(r) + 2*B(r))*a(r))*b(r)^3 + (r^2*B(r)*a(r)*b(r)^3 + (r^2*C(r) - 3*r^2*G(r) + 8*r)*a(r)^2*b(r)^2)*d(G)/dr + (r^2*a(r)*b(r)^2*d(G)/dr - (r^2*G(r)^2 + 2*r*C(r) - (r^2*C(r) + 4*r)*G(r) + 2)*a(r)*b(r)^2 - 2*(r^2*B(r)*G(r) - 2*r*B(r))*b(r)^3)*d(a)/dr - (2*r^2*a(r)^2*b(r)*d(G)/dr - (r^2*G(r)^2 + 2*r*C(r) - (r^2*C(r) + 6*r)*G(r) + 4)*a(r)^2*b(r) + (r^2*B(r)*G(r) - 2*r*B(r))*a(r)*b(r)^2 + (r^2*G(r) - 2*r)*a(r)*b(r)*d(a)/dr)*d(b)/dr)*sin(th)^2/(a(r)^2*b(r)^3) "
      ]
     },
     "execution_count": 48,
     "metadata": {},
     "output_type": "execute_result"
    }
   ],
   "source": [
    "NRicci.antisymmetrize(0,2).display_comp(only_nonredundant=True)"
   ]
  },
  {
   "cell_type": "markdown",
   "id": "c78dd58f",
   "metadata": {},
   "source": [
    "## Case a(r)"
   ]
  },
  {
   "cell_type": "code",
   "execution_count": 63,
   "id": "af9961dd",
   "metadata": {},
   "outputs": [
    {
     "data": {
      "text/html": [
       "<html>\\(\\displaystyle \\begin{array}{lcl} X_{ \\, t \\, t }^{ \\phantom{\\, t}\\phantom{\\, t} } & = & -a\\left(r\\right) \\\\ X_{ \\, r \\, r }^{ \\phantom{\\, r}\\phantom{\\, r} } & = & \\frac{1}{a\\left(r\\right)} \\\\ X_{ \\, {\\theta} \\, {\\theta} }^{ \\phantom{\\, {\\theta}}\\phantom{\\, {\\theta}} } & = & r^{2} \\\\ X_{ \\, {\\phi} \\, {\\phi} }^{ \\phantom{\\, {\\phi}}\\phantom{\\, {\\phi}} } & = & r^{2} \\sin\\left({\\theta}\\right)^{2} \\end{array}\\)</html>"
      ],
      "text/latex": [
       "$\\displaystyle \\begin{array}{lcl} X_{ \\, t \\, t }^{ \\phantom{\\, t}\\phantom{\\, t} } & = & -a\\left(r\\right) \\\\ X_{ \\, r \\, r }^{ \\phantom{\\, r}\\phantom{\\, r} } & = & \\frac{1}{a\\left(r\\right)} \\\\ X_{ \\, {\\theta} \\, {\\theta} }^{ \\phantom{\\, {\\theta}}\\phantom{\\, {\\theta}} } & = & r^{2} \\\\ X_{ \\, {\\phi} \\, {\\phi} }^{ \\phantom{\\, {\\phi}}\\phantom{\\, {\\phi}} } & = & r^{2} \\sin\\left({\\theta}\\right)^{2} \\end{array}$"
      ],
      "text/plain": [
       "X_t,t = -a(r) \n",
       "X_r,r = 1/a(r) \n",
       "X_th,th = r^2 \n",
       "X_ph,ph = r^2*sin(th)^2 "
      ]
     },
     "execution_count": 63,
     "metadata": {},
     "output_type": "execute_result"
    }
   ],
   "source": [
    "k = M.tensor_field(0,2)\n",
    "a = function('a')(r)\n",
    "\n",
    "k[0,0] = -a\n",
    "k[1,1] = 1/a\n",
    "k[2,2] = r**2\n",
    "k[3,3] = r**2*(sin(th))**2\n",
    "k.display_comp()"
   ]
  },
  {
   "cell_type": "code",
   "execution_count": 64,
   "id": "c757bd3f",
   "metadata": {},
   "outputs": [
    {
     "data": {
      "text/html": [
       "<html>\\(\\displaystyle \\begin{array}{lcl} X_{ \\, t \\, t \\, r }^{ \\phantom{\\, t}\\phantom{\\, t}\\phantom{\\, r} } & = & 2 \\, A\\left(r\\right) a\\left(r\\right) - \\frac{\\partial\\,a}{\\partial r} \\\\ X_{ \\, t \\, r \\, t }^{ \\phantom{\\, t}\\phantom{\\, r}\\phantom{\\, t} } & = & \\frac{A\\left(r\\right) a\\left(r\\right)^{2} - B\\left(r\\right)}{a\\left(r\\right)} \\\\ X_{ \\, r \\, t \\, t }^{ \\phantom{\\, r}\\phantom{\\, t}\\phantom{\\, t} } & = & \\frac{A\\left(r\\right) a\\left(r\\right)^{2} - B\\left(r\\right)}{a\\left(r\\right)} \\\\ X_{ \\, r \\, r \\, r }^{ \\phantom{\\, r}\\phantom{\\, r}\\phantom{\\, r} } & = & -\\frac{2 \\, C\\left(r\\right) a\\left(r\\right) + \\frac{\\partial\\,a}{\\partial r}}{a\\left(r\\right)^{2}} \\\\ X_{ \\, r \\, {\\theta} \\, {\\theta} }^{ \\phantom{\\, r}\\phantom{\\, {\\theta}}\\phantom{\\, {\\theta}} } & = & -\\frac{r^{2} G\\left(r\\right) a\\left(r\\right) + F\\left(r\\right)}{a\\left(r\\right)} \\\\ X_{ \\, r \\, {\\phi} \\, {\\phi} }^{ \\phantom{\\, r}\\phantom{\\, {\\phi}}\\phantom{\\, {\\phi}} } & = & -\\frac{{\\left(r^{2} G\\left(r\\right) a\\left(r\\right) + F\\left(r\\right)\\right)} \\sin\\left({\\theta}\\right)^{2}}{a\\left(r\\right)} \\\\ X_{ \\, {\\theta} \\, r \\, {\\theta} }^{ \\phantom{\\, {\\theta}}\\phantom{\\, r}\\phantom{\\, {\\theta}} } & = & -\\frac{r^{2} G\\left(r\\right) a\\left(r\\right) + F\\left(r\\right)}{a\\left(r\\right)} \\\\ X_{ \\, {\\theta} \\, {\\theta} \\, r }^{ \\phantom{\\, {\\theta}}\\phantom{\\, {\\theta}}\\phantom{\\, r} } & = & -2 \\, r^{2} G\\left(r\\right) + 2 \\, r \\\\ X_{ \\, {\\phi} \\, r \\, {\\phi} }^{ \\phantom{\\, {\\phi}}\\phantom{\\, r}\\phantom{\\, {\\phi}} } & = & -\\frac{{\\left(r^{2} G\\left(r\\right) a\\left(r\\right) + F\\left(r\\right)\\right)} \\sin\\left({\\theta}\\right)^{2}}{a\\left(r\\right)} \\\\ X_{ \\, {\\phi} \\, {\\phi} \\, r }^{ \\phantom{\\, {\\phi}}\\phantom{\\, {\\phi}}\\phantom{\\, r} } & = & -2 \\, {\\left(r^{2} G\\left(r\\right) - r\\right)} \\sin\\left({\\theta}\\right)^{2} \\end{array}\\)</html>"
      ],
      "text/latex": [
       "$\\displaystyle \\begin{array}{lcl} X_{ \\, t \\, t \\, r }^{ \\phantom{\\, t}\\phantom{\\, t}\\phantom{\\, r} } & = & 2 \\, A\\left(r\\right) a\\left(r\\right) - \\frac{\\partial\\,a}{\\partial r} \\\\ X_{ \\, t \\, r \\, t }^{ \\phantom{\\, t}\\phantom{\\, r}\\phantom{\\, t} } & = & \\frac{A\\left(r\\right) a\\left(r\\right)^{2} - B\\left(r\\right)}{a\\left(r\\right)} \\\\ X_{ \\, r \\, t \\, t }^{ \\phantom{\\, r}\\phantom{\\, t}\\phantom{\\, t} } & = & \\frac{A\\left(r\\right) a\\left(r\\right)^{2} - B\\left(r\\right)}{a\\left(r\\right)} \\\\ X_{ \\, r \\, r \\, r }^{ \\phantom{\\, r}\\phantom{\\, r}\\phantom{\\, r} } & = & -\\frac{2 \\, C\\left(r\\right) a\\left(r\\right) + \\frac{\\partial\\,a}{\\partial r}}{a\\left(r\\right)^{2}} \\\\ X_{ \\, r \\, {\\theta} \\, {\\theta} }^{ \\phantom{\\, r}\\phantom{\\, {\\theta}}\\phantom{\\, {\\theta}} } & = & -\\frac{r^{2} G\\left(r\\right) a\\left(r\\right) + F\\left(r\\right)}{a\\left(r\\right)} \\\\ X_{ \\, r \\, {\\phi} \\, {\\phi} }^{ \\phantom{\\, r}\\phantom{\\, {\\phi}}\\phantom{\\, {\\phi}} } & = & -\\frac{{\\left(r^{2} G\\left(r\\right) a\\left(r\\right) + F\\left(r\\right)\\right)} \\sin\\left({\\theta}\\right)^{2}}{a\\left(r\\right)} \\\\ X_{ \\, {\\theta} \\, r \\, {\\theta} }^{ \\phantom{\\, {\\theta}}\\phantom{\\, r}\\phantom{\\, {\\theta}} } & = & -\\frac{r^{2} G\\left(r\\right) a\\left(r\\right) + F\\left(r\\right)}{a\\left(r\\right)} \\\\ X_{ \\, {\\theta} \\, {\\theta} \\, r }^{ \\phantom{\\, {\\theta}}\\phantom{\\, {\\theta}}\\phantom{\\, r} } & = & -2 \\, r^{2} G\\left(r\\right) + 2 \\, r \\\\ X_{ \\, {\\phi} \\, r \\, {\\phi} }^{ \\phantom{\\, {\\phi}}\\phantom{\\, r}\\phantom{\\, {\\phi}} } & = & -\\frac{{\\left(r^{2} G\\left(r\\right) a\\left(r\\right) + F\\left(r\\right)\\right)} \\sin\\left({\\theta}\\right)^{2}}{a\\left(r\\right)} \\\\ X_{ \\, {\\phi} \\, {\\phi} \\, r }^{ \\phantom{\\, {\\phi}}\\phantom{\\, {\\phi}}\\phantom{\\, r} } & = & -2 \\, {\\left(r^{2} G\\left(r\\right) - r\\right)} \\sin\\left({\\theta}\\right)^{2} \\end{array}$"
      ],
      "text/plain": [
       "X_t,t,r = 2*A(r)*a(r) - d(a)/dr \n",
       "X_t,r,t = (A(r)*a(r)^2 - B(r))/a(r) \n",
       "X_r,t,t = (A(r)*a(r)^2 - B(r))/a(r) \n",
       "X_r,r,r = -(2*C(r)*a(r) + d(a)/dr)/a(r)^2 \n",
       "X_r,th,th = -(r^2*G(r)*a(r) + F(r))/a(r) \n",
       "X_r,ph,ph = -(r^2*G(r)*a(r) + F(r))*sin(th)^2/a(r) \n",
       "X_th,r,th = -(r^2*G(r)*a(r) + F(r))/a(r) \n",
       "X_th,th,r = -2*r^2*G(r) + 2*r \n",
       "X_ph,r,ph = -(r^2*G(r)*a(r) + F(r))*sin(th)^2/a(r) \n",
       "X_ph,ph,r = -2*(r^2*G(r) - r)*sin(th)^2 "
      ]
     },
     "execution_count": 64,
     "metadata": {},
     "output_type": "execute_result"
    }
   ],
   "source": [
    "NK = T(k)\n",
    "NK.display_comp()"
   ]
  },
  {
   "cell_type": "code",
   "execution_count": 65,
   "id": "49e02b89",
   "metadata": {},
   "outputs": [
    {
     "data": {
      "text/html": [
       "<html>\\(\\displaystyle \\begin{array}{lcl} X_{ \\, t \\, t \\, r }^{ \\phantom{\\, t}\\phantom{\\, t}\\phantom{\\, r} } & = & \\frac{A\\left(r\\right) a\\left(r\\right)^{2} - a\\left(r\\right) \\frac{\\partial\\,a}{\\partial r} + B\\left(r\\right)}{2 \\, a\\left(r\\right)} \\\\ X_{ \\, r \\, {\\theta} \\, {\\theta} }^{ \\phantom{\\, r}\\phantom{\\, {\\theta}}\\phantom{\\, {\\theta}} } & = & \\frac{{\\left(r^{2} G\\left(r\\right) - 2 \\, r\\right)} a\\left(r\\right) - F\\left(r\\right)}{2 \\, a\\left(r\\right)} \\\\ X_{ \\, r \\, {\\phi} \\, {\\phi} }^{ \\phantom{\\, r}\\phantom{\\, {\\phi}}\\phantom{\\, {\\phi}} } & = & \\frac{{\\left({\\left(r^{2} G\\left(r\\right) - 2 \\, r\\right)} a\\left(r\\right) - F\\left(r\\right)\\right)} \\sin\\left({\\theta}\\right)^{2}}{2 \\, a\\left(r\\right)} \\end{array}\\)</html>"
      ],
      "text/latex": [
       "$\\displaystyle \\begin{array}{lcl} X_{ \\, t \\, t \\, r }^{ \\phantom{\\, t}\\phantom{\\, t}\\phantom{\\, r} } & = & \\frac{A\\left(r\\right) a\\left(r\\right)^{2} - a\\left(r\\right) \\frac{\\partial\\,a}{\\partial r} + B\\left(r\\right)}{2 \\, a\\left(r\\right)} \\\\ X_{ \\, r \\, {\\theta} \\, {\\theta} }^{ \\phantom{\\, r}\\phantom{\\, {\\theta}}\\phantom{\\, {\\theta}} } & = & \\frac{{\\left(r^{2} G\\left(r\\right) - 2 \\, r\\right)} a\\left(r\\right) - F\\left(r\\right)}{2 \\, a\\left(r\\right)} \\\\ X_{ \\, r \\, {\\phi} \\, {\\phi} }^{ \\phantom{\\, r}\\phantom{\\, {\\phi}}\\phantom{\\, {\\phi}} } & = & \\frac{{\\left({\\left(r^{2} G\\left(r\\right) - 2 \\, r\\right)} a\\left(r\\right) - F\\left(r\\right)\\right)} \\sin\\left({\\theta}\\right)^{2}}{2 \\, a\\left(r\\right)} \\end{array}$"
      ],
      "text/plain": [
       "X_t,t,r = 1/2*(A(r)*a(r)^2 - a(r)*d(a)/dr + B(r))/a(r) \n",
       "X_r,th,th = 1/2*((r^2*G(r) - 2*r)*a(r) - F(r))/a(r) \n",
       "X_r,ph,ph = 1/2*((r^2*G(r) - 2*r)*a(r) - F(r))*sin(th)^2/a(r) "
      ]
     },
     "execution_count": 65,
     "metadata": {},
     "output_type": "execute_result"
    }
   ],
   "source": [
    "NK.antisymmetrize(0,2).display_comp(only_nonredundant=True)"
   ]
  },
  {
   "cell_type": "code",
   "execution_count": 66,
   "id": "152d19fa",
   "metadata": {},
   "outputs": [
    {
     "data": {
      "text/html": [
       "<html>\\(\\displaystyle \\begin{array}{lcl} \\Gamma_{ \\phantom{\\, t} \\, t \\, r }^{ \\, t \\phantom{\\, t} \\phantom{\\, r} } & = & \\frac{\\frac{\\partial\\,a}{\\partial r}}{a\\left(r\\right)} - \\frac{B\\left(r\\right)}{a\\left(r\\right)^{2}} \\\\ \\Gamma_{ \\phantom{\\, t} \\, r \\, t }^{ \\, t \\phantom{\\, r} \\phantom{\\, t} } & = & \\frac{\\frac{\\partial\\,a}{\\partial r}}{a\\left(r\\right)} - \\frac{B\\left(r\\right)}{a\\left(r\\right)^{2}} \\\\ \\Gamma_{ \\phantom{\\, r} \\, t \\, t }^{ \\, r \\phantom{\\, t} \\phantom{\\, t} } & = & B\\left(r\\right) \\\\ \\Gamma_{ \\phantom{\\, r} \\, r \\, r }^{ \\, r \\phantom{\\, r} \\phantom{\\, r} } & = & C\\left(r\\right) \\\\ \\Gamma_{ \\phantom{\\, r} \\, {\\theta} \\, {\\theta} }^{ \\, r \\phantom{\\, {\\theta}} \\phantom{\\, {\\theta}} } & = & {\\left(r G\\left(r\\right) - 2\\right)} r a\\left(r\\right) \\\\ \\Gamma_{ \\phantom{\\, r} \\, {\\phi} \\, {\\phi} }^{ \\, r \\phantom{\\, {\\phi}} \\phantom{\\, {\\phi}} } & = & {\\left(r G\\left(r\\right) - 2\\right)} r a\\left(r\\right) \\sin\\left({\\theta}\\right)^{2} \\\\ \\Gamma_{ \\phantom{\\, {\\theta}} \\, r \\, {\\theta} }^{ \\, {\\theta} \\phantom{\\, r} \\phantom{\\, {\\theta}} } & = & G\\left(r\\right) \\\\ \\Gamma_{ \\phantom{\\, {\\theta}} \\, {\\theta} \\, r }^{ \\, {\\theta} \\phantom{\\, {\\theta}} \\phantom{\\, r} } & = & G\\left(r\\right) \\\\ \\Gamma_{ \\phantom{\\, {\\theta}} \\, {\\phi} \\, {\\phi} }^{ \\, {\\theta} \\phantom{\\, {\\phi}} \\phantom{\\, {\\phi}} } & = & -\\cos\\left({\\theta}\\right) \\sin\\left({\\theta}\\right) \\\\ \\Gamma_{ \\phantom{\\, {\\phi}} \\, r \\, {\\phi} }^{ \\, {\\phi} \\phantom{\\, r} \\phantom{\\, {\\phi}} } & = & G\\left(r\\right) \\\\ \\Gamma_{ \\phantom{\\, {\\phi}} \\, {\\theta} \\, {\\phi} }^{ \\, {\\phi} \\phantom{\\, {\\theta}} \\phantom{\\, {\\phi}} } & = & \\frac{\\cos\\left({\\theta}\\right)}{\\sin\\left({\\theta}\\right)} \\\\ \\Gamma_{ \\phantom{\\, {\\phi}} \\, {\\phi} \\, r }^{ \\, {\\phi} \\phantom{\\, {\\phi}} \\phantom{\\, r} } & = & G\\left(r\\right) \\\\ \\Gamma_{ \\phantom{\\, {\\phi}} \\, {\\phi} \\, {\\theta} }^{ \\, {\\phi} \\phantom{\\, {\\phi}} \\phantom{\\, {\\theta}} } & = & \\frac{\\cos\\left({\\theta}\\right)}{\\sin\\left({\\theta}\\right)} \\end{array}\\)</html>"
      ],
      "text/latex": [
       "$\\displaystyle \\begin{array}{lcl} \\Gamma_{ \\phantom{\\, t} \\, t \\, r }^{ \\, t \\phantom{\\, t} \\phantom{\\, r} } & = & \\frac{\\frac{\\partial\\,a}{\\partial r}}{a\\left(r\\right)} - \\frac{B\\left(r\\right)}{a\\left(r\\right)^{2}} \\\\ \\Gamma_{ \\phantom{\\, t} \\, r \\, t }^{ \\, t \\phantom{\\, r} \\phantom{\\, t} } & = & \\frac{\\frac{\\partial\\,a}{\\partial r}}{a\\left(r\\right)} - \\frac{B\\left(r\\right)}{a\\left(r\\right)^{2}} \\\\ \\Gamma_{ \\phantom{\\, r} \\, t \\, t }^{ \\, r \\phantom{\\, t} \\phantom{\\, t} } & = & B\\left(r\\right) \\\\ \\Gamma_{ \\phantom{\\, r} \\, r \\, r }^{ \\, r \\phantom{\\, r} \\phantom{\\, r} } & = & C\\left(r\\right) \\\\ \\Gamma_{ \\phantom{\\, r} \\, {\\theta} \\, {\\theta} }^{ \\, r \\phantom{\\, {\\theta}} \\phantom{\\, {\\theta}} } & = & {\\left(r G\\left(r\\right) - 2\\right)} r a\\left(r\\right) \\\\ \\Gamma_{ \\phantom{\\, r} \\, {\\phi} \\, {\\phi} }^{ \\, r \\phantom{\\, {\\phi}} \\phantom{\\, {\\phi}} } & = & {\\left(r G\\left(r\\right) - 2\\right)} r a\\left(r\\right) \\sin\\left({\\theta}\\right)^{2} \\\\ \\Gamma_{ \\phantom{\\, {\\theta}} \\, r \\, {\\theta} }^{ \\, {\\theta} \\phantom{\\, r} \\phantom{\\, {\\theta}} } & = & G\\left(r\\right) \\\\ \\Gamma_{ \\phantom{\\, {\\theta}} \\, {\\theta} \\, r }^{ \\, {\\theta} \\phantom{\\, {\\theta}} \\phantom{\\, r} } & = & G\\left(r\\right) \\\\ \\Gamma_{ \\phantom{\\, {\\theta}} \\, {\\phi} \\, {\\phi} }^{ \\, {\\theta} \\phantom{\\, {\\phi}} \\phantom{\\, {\\phi}} } & = & -\\cos\\left({\\theta}\\right) \\sin\\left({\\theta}\\right) \\\\ \\Gamma_{ \\phantom{\\, {\\phi}} \\, r \\, {\\phi} }^{ \\, {\\phi} \\phantom{\\, r} \\phantom{\\, {\\phi}} } & = & G\\left(r\\right) \\\\ \\Gamma_{ \\phantom{\\, {\\phi}} \\, {\\theta} \\, {\\phi} }^{ \\, {\\phi} \\phantom{\\, {\\theta}} \\phantom{\\, {\\phi}} } & = & \\frac{\\cos\\left({\\theta}\\right)}{\\sin\\left({\\theta}\\right)} \\\\ \\Gamma_{ \\phantom{\\, {\\phi}} \\, {\\phi} \\, r }^{ \\, {\\phi} \\phantom{\\, {\\phi}} \\phantom{\\, r} } & = & G\\left(r\\right) \\\\ \\Gamma_{ \\phantom{\\, {\\phi}} \\, {\\phi} \\, {\\theta} }^{ \\, {\\phi} \\phantom{\\, {\\phi}} \\phantom{\\, {\\theta}} } & = & \\frac{\\cos\\left({\\theta}\\right)}{\\sin\\left({\\theta}\\right)} \\end{array}$"
      ],
      "text/plain": [
       "Gam^t_t,r = d(a)/dr/a(r) - B(r)/a(r)^2 \n",
       "Gam^t_r,t = d(a)/dr/a(r) - B(r)/a(r)^2 \n",
       "Gam^r_t,t = B(r) \n",
       "Gam^r_r,r = C(r) \n",
       "Gam^r_th,th = (r*G(r) - 2)*r*a(r) \n",
       "Gam^r_ph,ph = (r*G(r) - 2)*r*a(r)*sin(th)^2 \n",
       "Gam^th_r,th = G(r) \n",
       "Gam^th_th,r = G(r) \n",
       "Gam^th_ph,ph = -cos(th)*sin(th) \n",
       "Gam^ph_r,ph = G(r) \n",
       "Gam^ph_th,ph = cos(th)/sin(th) \n",
       "Gam^ph_ph,r = G(r) \n",
       "Gam^ph_ph,th = cos(th)/sin(th) "
      ]
     },
     "execution_count": 66,
     "metadata": {},
     "output_type": "execute_result"
    }
   ],
   "source": [
    "A = function(\"A\")(r)\n",
    "B = function(\"B\")(r)\n",
    "C = function(\"C\")(r)\n",
    "F = function(\"F\")(r)\n",
    "G = function(\"G\")(r)\n",
    "\n",
    "\n",
    "A = derivative(a,r)/a - B/(a**2)\n",
    "F = a*r*(r*G - 2)\n",
    "\n",
    "T[0,0,0] = 0\n",
    "T[0,0,1] = A\n",
    "T[0,1,0] = T[0,0,1]\n",
    "T[0,1,1] = 0\n",
    "T[0,2,2] = 0\n",
    "T[0,3,3] = 0\n",
    "\n",
    "\n",
    "T[1,0,0] = B\n",
    "T[1,0,1] = 0\n",
    "T[1,1,0] = T[1,0,1]\n",
    "T[1,1,1] = C\n",
    "T[1,2,2] = F\n",
    "T[1,3,3] = F*(sin(th))^2\n",
    "\n",
    "\n",
    "T[2,0,2] = 0\n",
    "T[2,2,0] = T[2,0,2]\n",
    "T[2,0,3] = 0\n",
    "T[2,3,0] = T[2,0,3]\n",
    "T[2,1,2] = G\n",
    "T[2,2,1] = T[2,1,2]\n",
    "T[2,1,3] = 0\n",
    "T[2,3,1] = T[2,1,3]\n",
    "T[2,3,3] = -cos(th)*sin(th)\n",
    "\n",
    "\n",
    "T[3,0,2] = 0\n",
    "T[3,2,0] = T[3,0,2]\n",
    "T[3,0,3] = 0\n",
    "T[3,3,0] = T[3,0,3]\n",
    "T[3,1,2] = 0\n",
    "T[3,2,1] = T[3,1,2]\n",
    "T[3,1,3] = G\n",
    "T[3,3,1] = T[3,1,3]\n",
    "T[3,2,3] = cos(th)/sin(th)\n",
    "T[3,3,2] = T[3,2,3]\n",
    "\n",
    "T.display(only_nonredundant=True)"
   ]
  },
  {
   "cell_type": "code",
   "execution_count": 69,
   "id": "cb2dac9c",
   "metadata": {},
   "outputs": [],
   "source": [
    "NK = T(k)\n",
    "#NK.display_comp()\n",
    "#NK.antisymmetrize(0,2).display_comp(only_nonredundant=True)"
   ]
  },
  {
   "cell_type": "code",
   "execution_count": 70,
   "id": "5d56c356",
   "metadata": {},
   "outputs": [
    {
     "data": {
      "text/html": [
       "<html>\\(\\displaystyle \\begin{array}{lcl} X_{ \\, t \\, t }^{ \\phantom{\\, t}\\phantom{\\, t} } & = & \\frac{{\\left(B\\left(r\\right) C\\left(r\\right) + 2 \\, B\\left(r\\right) G\\left(r\\right)\\right)} a\\left(r\\right)^{2} + a\\left(r\\right)^{2} \\frac{\\partial\\,B}{\\partial r} - B\\left(r\\right) a\\left(r\\right) \\frac{\\partial\\,a}{\\partial r} + B\\left(r\\right)^{2}}{a\\left(r\\right)^{2}} \\\\ X_{ \\, r \\, r }^{ \\phantom{\\, r}\\phantom{\\, r} } & = & \\frac{2 \\, {\\left(C\\left(r\\right) G\\left(r\\right) - G\\left(r\\right)^{2}\\right)} a\\left(r\\right)^{4} - 2 \\, a\\left(r\\right)^{4} \\frac{\\partial\\,G}{\\partial r} + C\\left(r\\right) a\\left(r\\right)^{3} \\frac{\\partial\\,a}{\\partial r} - B\\left(r\\right) C\\left(r\\right) a\\left(r\\right)^{2} - a\\left(r\\right)^{3} \\frac{\\partial^2\\,a}{\\partial r ^ 2} + a\\left(r\\right)^{2} \\frac{\\partial\\,B}{\\partial r} - B\\left(r\\right)^{2}}{a\\left(r\\right)^{4}} \\\\ X_{ \\, {\\theta} \\, {\\theta} }^{ \\phantom{\\, {\\theta}}\\phantom{\\, {\\theta}} } & = & \\frac{r^{2} a\\left(r\\right)^{2} \\frac{\\partial\\,G}{\\partial r} - r^{2} B\\left(r\\right) G\\left(r\\right) - {\\left(2 \\, r C\\left(r\\right) - {\\left(r^{2} C\\left(r\\right) + 2 \\, r\\right)} G\\left(r\\right) + 2\\right)} a\\left(r\\right)^{2} + 2 \\, {\\left(r^{2} G\\left(r\\right) - 2 \\, r\\right)} a\\left(r\\right) \\frac{\\partial\\,a}{\\partial r} + 2 \\, r B\\left(r\\right) + a\\left(r\\right)}{a\\left(r\\right)} \\\\ X_{ \\, {\\phi} \\, {\\phi} }^{ \\phantom{\\, {\\phi}}\\phantom{\\, {\\phi}} } & = & \\frac{{\\left(r^{2} a\\left(r\\right)^{2} \\frac{\\partial\\,G}{\\partial r} - r^{2} B\\left(r\\right) G\\left(r\\right) - {\\left(2 \\, r C\\left(r\\right) - {\\left(r^{2} C\\left(r\\right) + 2 \\, r\\right)} G\\left(r\\right) + 2\\right)} a\\left(r\\right)^{2} + 2 \\, {\\left(r^{2} G\\left(r\\right) - 2 \\, r\\right)} a\\left(r\\right) \\frac{\\partial\\,a}{\\partial r} + 2 \\, r B\\left(r\\right) + a\\left(r\\right)\\right)} \\sin\\left({\\theta}\\right)^{2}}{a\\left(r\\right)} \\end{array}\\)</html>"
      ],
      "text/latex": [
       "$\\displaystyle \\begin{array}{lcl} X_{ \\, t \\, t }^{ \\phantom{\\, t}\\phantom{\\, t} } & = & \\frac{{\\left(B\\left(r\\right) C\\left(r\\right) + 2 \\, B\\left(r\\right) G\\left(r\\right)\\right)} a\\left(r\\right)^{2} + a\\left(r\\right)^{2} \\frac{\\partial\\,B}{\\partial r} - B\\left(r\\right) a\\left(r\\right) \\frac{\\partial\\,a}{\\partial r} + B\\left(r\\right)^{2}}{a\\left(r\\right)^{2}} \\\\ X_{ \\, r \\, r }^{ \\phantom{\\, r}\\phantom{\\, r} } & = & \\frac{2 \\, {\\left(C\\left(r\\right) G\\left(r\\right) - G\\left(r\\right)^{2}\\right)} a\\left(r\\right)^{4} - 2 \\, a\\left(r\\right)^{4} \\frac{\\partial\\,G}{\\partial r} + C\\left(r\\right) a\\left(r\\right)^{3} \\frac{\\partial\\,a}{\\partial r} - B\\left(r\\right) C\\left(r\\right) a\\left(r\\right)^{2} - a\\left(r\\right)^{3} \\frac{\\partial^2\\,a}{\\partial r ^ 2} + a\\left(r\\right)^{2} \\frac{\\partial\\,B}{\\partial r} - B\\left(r\\right)^{2}}{a\\left(r\\right)^{4}} \\\\ X_{ \\, {\\theta} \\, {\\theta} }^{ \\phantom{\\, {\\theta}}\\phantom{\\, {\\theta}} } & = & \\frac{r^{2} a\\left(r\\right)^{2} \\frac{\\partial\\,G}{\\partial r} - r^{2} B\\left(r\\right) G\\left(r\\right) - {\\left(2 \\, r C\\left(r\\right) - {\\left(r^{2} C\\left(r\\right) + 2 \\, r\\right)} G\\left(r\\right) + 2\\right)} a\\left(r\\right)^{2} + 2 \\, {\\left(r^{2} G\\left(r\\right) - 2 \\, r\\right)} a\\left(r\\right) \\frac{\\partial\\,a}{\\partial r} + 2 \\, r B\\left(r\\right) + a\\left(r\\right)}{a\\left(r\\right)} \\\\ X_{ \\, {\\phi} \\, {\\phi} }^{ \\phantom{\\, {\\phi}}\\phantom{\\, {\\phi}} } & = & \\frac{{\\left(r^{2} a\\left(r\\right)^{2} \\frac{\\partial\\,G}{\\partial r} - r^{2} B\\left(r\\right) G\\left(r\\right) - {\\left(2 \\, r C\\left(r\\right) - {\\left(r^{2} C\\left(r\\right) + 2 \\, r\\right)} G\\left(r\\right) + 2\\right)} a\\left(r\\right)^{2} + 2 \\, {\\left(r^{2} G\\left(r\\right) - 2 \\, r\\right)} a\\left(r\\right) \\frac{\\partial\\,a}{\\partial r} + 2 \\, r B\\left(r\\right) + a\\left(r\\right)\\right)} \\sin\\left({\\theta}\\right)^{2}}{a\\left(r\\right)} \\end{array}$"
      ],
      "text/plain": [
       "X_t,t = ((B(r)*C(r) + 2*B(r)*G(r))*a(r)^2 + a(r)^2*d(B)/dr - B(r)*a(r)*d(a)/dr + B(r)^2)/a(r)^2 \n",
       "X_r,r = (2*(C(r)*G(r) - G(r)^2)*a(r)^4 - 2*a(r)^4*d(G)/dr + C(r)*a(r)^3*d(a)/dr - B(r)*C(r)*a(r)^2 - a(r)^3*d^2(a)/dr^2 + a(r)^2*d(B)/dr - B(r)^2)/a(r)^4 \n",
       "X_th,th = (r^2*a(r)^2*d(G)/dr - r^2*B(r)*G(r) - (2*r*C(r) - (r^2*C(r) + 2*r)*G(r) + 2)*a(r)^2 + 2*(r^2*G(r) - 2*r)*a(r)*d(a)/dr + 2*r*B(r) + a(r))/a(r) \n",
       "X_ph,ph = (r^2*a(r)^2*d(G)/dr - r^2*B(r)*G(r) - (2*r*C(r) - (r^2*C(r) + 2*r)*G(r) + 2)*a(r)^2 + 2*(r^2*G(r) - 2*r)*a(r)*d(a)/dr + 2*r*B(r) + a(r))*sin(th)^2/a(r) "
      ]
     },
     "execution_count": 70,
     "metadata": {},
     "output_type": "execute_result"
    }
   ],
   "source": [
    "Ricci = T.ricci()\n",
    "Ricci.display_comp()"
   ]
  },
  {
   "cell_type": "code",
   "execution_count": null,
   "id": "02305825",
   "metadata": {},
   "outputs": [],
   "source": [
    "NRicci = T(Ricci)\n",
    "NRicci.display_comp()"
   ]
  },
  {
   "cell_type": "code",
   "execution_count": null,
   "id": "2be40e5c",
   "metadata": {},
   "outputs": [],
   "source": []
  }
 ],
 "metadata": {
  "kernelspec": {
   "display_name": "SageMath 9.7",
   "language": "sage",
   "name": "sagemath-9.7"
  },
  "language_info": {
   "codemirror_mode": {
    "name": "ipython",
    "version": 3
   },
   "file_extension": ".py",
   "mimetype": "text/x-python",
   "name": "python",
   "nbconvert_exporter": "python",
   "pygments_lexer": "ipython3",
   "version": "3.10.5"
  }
 },
 "nbformat": 4,
 "nbformat_minor": 5
}
