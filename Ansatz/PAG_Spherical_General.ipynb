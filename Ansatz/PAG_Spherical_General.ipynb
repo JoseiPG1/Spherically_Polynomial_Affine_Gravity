{
 "cells": [
  {
   "cell_type": "code",
   "execution_count": 16,
   "id": "ee4aa0df",
   "metadata": {},
   "outputs": [
    {
     "data": {
      "text/html": [
       "<html>\\(\\displaystyle \\verb|SageMath|\\verb| |\\verb|version|\\verb| |\\verb|9.7,|\\verb| |\\verb|Release|\\verb| |\\verb|Date:|\\verb| |\\verb|2022-09-19|\\)</html>"
      ],
      "text/latex": [
       "$\\displaystyle \\verb|SageMath|\\verb| |\\verb|version|\\verb| |\\verb|9.7,|\\verb| |\\verb|Release|\\verb| |\\verb|Date:|\\verb| |\\verb|2022-09-19|$"
      ],
      "text/plain": [
       "'SageMath version 9.7, Release Date: 2022-09-19'"
      ]
     },
     "execution_count": 16,
     "metadata": {},
     "output_type": "execute_result"
    }
   ],
   "source": [
    "reset()\n",
    "%display latex\n",
    "version()"
   ]
  },
  {
   "cell_type": "markdown",
   "id": "637891fa",
   "metadata": {},
   "source": [
    "# Definition of the manifold and the most general connection"
   ]
  },
  {
   "cell_type": "code",
   "execution_count": 17,
   "id": "6c8a69b1",
   "metadata": {},
   "outputs": [],
   "source": [
    "M=Manifold(4,\"M\")\n",
    "XS.<t,r,th,ph> = M.chart(r't r:(0,+oo) th:(0,pi):\\theta ph:(0,2*pi):\\phi')"
   ]
  },
  {
   "cell_type": "code",
   "execution_count": 18,
   "id": "a60bdd7c",
   "metadata": {},
   "outputs": [
    {
     "data": {
      "text/html": [
       "<html>\\(\\displaystyle \\begin{array}{lcl} \\Gamma_{ \\phantom{\\, t} \\, t \\, t }^{ \\, t \\phantom{\\, t} \\phantom{\\, t} } & = & V\\left(t, r\\right) \\\\ \\Gamma_{ \\phantom{\\, t} \\, t \\, r }^{ \\, t \\phantom{\\, t} \\phantom{\\, r} } & = & A\\left(t, r\\right) \\\\ \\Gamma_{ \\phantom{\\, t} \\, r \\, t }^{ \\, t \\phantom{\\, r} \\phantom{\\, t} } & = & A\\left(t, r\\right) \\\\ \\Gamma_{ \\phantom{\\, t} \\, r \\, r }^{ \\, t \\phantom{\\, r} \\phantom{\\, r} } & = & W\\left(t, r\\right) \\\\ \\Gamma_{ \\phantom{\\, t} \\, {\\theta} \\, {\\theta} }^{ \\, t \\phantom{\\, {\\theta}} \\phantom{\\, {\\theta}} } & = & X\\left(t, r\\right) \\\\ \\Gamma_{ \\phantom{\\, t} \\, {\\phi} \\, {\\phi} }^{ \\, t \\phantom{\\, {\\phi}} \\phantom{\\, {\\phi}} } & = & X\\left(t, r\\right) \\sin\\left({\\theta}\\right)^{2} \\\\ \\Gamma_{ \\phantom{\\, r} \\, t \\, t }^{ \\, r \\phantom{\\, t} \\phantom{\\, t} } & = & B\\left(t, r\\right) \\\\ \\Gamma_{ \\phantom{\\, r} \\, t \\, r }^{ \\, r \\phantom{\\, t} \\phantom{\\, r} } & = & Y\\left(t, r\\right) \\\\ \\Gamma_{ \\phantom{\\, r} \\, r \\, t }^{ \\, r \\phantom{\\, r} \\phantom{\\, t} } & = & Y\\left(t, r\\right) \\\\ \\Gamma_{ \\phantom{\\, r} \\, r \\, r }^{ \\, r \\phantom{\\, r} \\phantom{\\, r} } & = & C\\left(t, r\\right) \\\\ \\Gamma_{ \\phantom{\\, r} \\, {\\theta} \\, {\\theta} }^{ \\, r \\phantom{\\, {\\theta}} \\phantom{\\, {\\theta}} } & = & F\\left(t, r\\right) \\\\ \\Gamma_{ \\phantom{\\, r} \\, {\\phi} \\, {\\phi} }^{ \\, r \\phantom{\\, {\\phi}} \\phantom{\\, {\\phi}} } & = & F\\left(t, r\\right) \\sin\\left({\\theta}\\right)^{2} \\\\ \\Gamma_{ \\phantom{\\, {\\theta}} \\, t \\, {\\theta} }^{ \\, {\\theta} \\phantom{\\, t} \\phantom{\\, {\\theta}} } & = & Z\\left(t, r\\right) \\\\ \\Gamma_{ \\phantom{\\, {\\theta}} \\, t \\, {\\phi} }^{ \\, {\\theta} \\phantom{\\, t} \\phantom{\\, {\\phi}} } & = & -D\\left(t, r\\right) \\sin\\left({\\theta}\\right) \\\\ \\Gamma_{ \\phantom{\\, {\\theta}} \\, r \\, {\\theta} }^{ \\, {\\theta} \\phantom{\\, r} \\phantom{\\, {\\theta}} } & = & G\\left(t, r\\right) \\\\ \\Gamma_{ \\phantom{\\, {\\theta}} \\, r \\, {\\phi} }^{ \\, {\\theta} \\phantom{\\, r} \\phantom{\\, {\\phi}} } & = & -H\\left(t, r\\right) \\sin\\left({\\theta}\\right) \\\\ \\Gamma_{ \\phantom{\\, {\\theta}} \\, {\\theta} \\, t }^{ \\, {\\theta} \\phantom{\\, {\\theta}} \\phantom{\\, t} } & = & Z\\left(t, r\\right) \\\\ \\Gamma_{ \\phantom{\\, {\\theta}} \\, {\\theta} \\, r }^{ \\, {\\theta} \\phantom{\\, {\\theta}} \\phantom{\\, r} } & = & G\\left(t, r\\right) \\\\ \\Gamma_{ \\phantom{\\, {\\theta}} \\, {\\phi} \\, t }^{ \\, {\\theta} \\phantom{\\, {\\phi}} \\phantom{\\, t} } & = & -D\\left(t, r\\right) \\sin\\left({\\theta}\\right) \\\\ \\Gamma_{ \\phantom{\\, {\\theta}} \\, {\\phi} \\, r }^{ \\, {\\theta} \\phantom{\\, {\\phi}} \\phantom{\\, r} } & = & -H\\left(t, r\\right) \\sin\\left({\\theta}\\right) \\\\ \\Gamma_{ \\phantom{\\, {\\theta}} \\, {\\phi} \\, {\\phi} }^{ \\, {\\theta} \\phantom{\\, {\\phi}} \\phantom{\\, {\\phi}} } & = & -\\cos\\left({\\theta}\\right) \\sin\\left({\\theta}\\right) \\\\ \\Gamma_{ \\phantom{\\, {\\phi}} \\, t \\, {\\theta} }^{ \\, {\\phi} \\phantom{\\, t} \\phantom{\\, {\\theta}} } & = & \\frac{D\\left(t, r\\right)}{\\sin\\left({\\theta}\\right)} \\\\ \\Gamma_{ \\phantom{\\, {\\phi}} \\, t \\, {\\phi} }^{ \\, {\\phi} \\phantom{\\, t} \\phantom{\\, {\\phi}} } & = & Z\\left(t, r\\right) \\\\ \\Gamma_{ \\phantom{\\, {\\phi}} \\, r \\, {\\theta} }^{ \\, {\\phi} \\phantom{\\, r} \\phantom{\\, {\\theta}} } & = & \\frac{H\\left(t, r\\right)}{\\sin\\left({\\theta}\\right)} \\\\ \\Gamma_{ \\phantom{\\, {\\phi}} \\, r \\, {\\phi} }^{ \\, {\\phi} \\phantom{\\, r} \\phantom{\\, {\\phi}} } & = & G\\left(t, r\\right) \\\\ \\Gamma_{ \\phantom{\\, {\\phi}} \\, {\\theta} \\, t }^{ \\, {\\phi} \\phantom{\\, {\\theta}} \\phantom{\\, t} } & = & \\frac{D\\left(t, r\\right)}{\\sin\\left({\\theta}\\right)} \\\\ \\Gamma_{ \\phantom{\\, {\\phi}} \\, {\\theta} \\, r }^{ \\, {\\phi} \\phantom{\\, {\\theta}} \\phantom{\\, r} } & = & \\frac{H\\left(t, r\\right)}{\\sin\\left({\\theta}\\right)} \\\\ \\Gamma_{ \\phantom{\\, {\\phi}} \\, {\\theta} \\, {\\phi} }^{ \\, {\\phi} \\phantom{\\, {\\theta}} \\phantom{\\, {\\phi}} } & = & \\frac{\\cos\\left({\\theta}\\right)}{\\sin\\left({\\theta}\\right)} \\\\ \\Gamma_{ \\phantom{\\, {\\phi}} \\, {\\phi} \\, t }^{ \\, {\\phi} \\phantom{\\, {\\phi}} \\phantom{\\, t} } & = & Z\\left(t, r\\right) \\\\ \\Gamma_{ \\phantom{\\, {\\phi}} \\, {\\phi} \\, r }^{ \\, {\\phi} \\phantom{\\, {\\phi}} \\phantom{\\, r} } & = & G\\left(t, r\\right) \\\\ \\Gamma_{ \\phantom{\\, {\\phi}} \\, {\\phi} \\, {\\theta} }^{ \\, {\\phi} \\phantom{\\, {\\phi}} \\phantom{\\, {\\theta}} } & = & \\frac{\\cos\\left({\\theta}\\right)}{\\sin\\left({\\theta}\\right)} \\end{array}\\)</html>"
      ],
      "text/latex": [
       "$\\displaystyle \\begin{array}{lcl} \\Gamma_{ \\phantom{\\, t} \\, t \\, t }^{ \\, t \\phantom{\\, t} \\phantom{\\, t} } & = & V\\left(t, r\\right) \\\\ \\Gamma_{ \\phantom{\\, t} \\, t \\, r }^{ \\, t \\phantom{\\, t} \\phantom{\\, r} } & = & A\\left(t, r\\right) \\\\ \\Gamma_{ \\phantom{\\, t} \\, r \\, t }^{ \\, t \\phantom{\\, r} \\phantom{\\, t} } & = & A\\left(t, r\\right) \\\\ \\Gamma_{ \\phantom{\\, t} \\, r \\, r }^{ \\, t \\phantom{\\, r} \\phantom{\\, r} } & = & W\\left(t, r\\right) \\\\ \\Gamma_{ \\phantom{\\, t} \\, {\\theta} \\, {\\theta} }^{ \\, t \\phantom{\\, {\\theta}} \\phantom{\\, {\\theta}} } & = & X\\left(t, r\\right) \\\\ \\Gamma_{ \\phantom{\\, t} \\, {\\phi} \\, {\\phi} }^{ \\, t \\phantom{\\, {\\phi}} \\phantom{\\, {\\phi}} } & = & X\\left(t, r\\right) \\sin\\left({\\theta}\\right)^{2} \\\\ \\Gamma_{ \\phantom{\\, r} \\, t \\, t }^{ \\, r \\phantom{\\, t} \\phantom{\\, t} } & = & B\\left(t, r\\right) \\\\ \\Gamma_{ \\phantom{\\, r} \\, t \\, r }^{ \\, r \\phantom{\\, t} \\phantom{\\, r} } & = & Y\\left(t, r\\right) \\\\ \\Gamma_{ \\phantom{\\, r} \\, r \\, t }^{ \\, r \\phantom{\\, r} \\phantom{\\, t} } & = & Y\\left(t, r\\right) \\\\ \\Gamma_{ \\phantom{\\, r} \\, r \\, r }^{ \\, r \\phantom{\\, r} \\phantom{\\, r} } & = & C\\left(t, r\\right) \\\\ \\Gamma_{ \\phantom{\\, r} \\, {\\theta} \\, {\\theta} }^{ \\, r \\phantom{\\, {\\theta}} \\phantom{\\, {\\theta}} } & = & F\\left(t, r\\right) \\\\ \\Gamma_{ \\phantom{\\, r} \\, {\\phi} \\, {\\phi} }^{ \\, r \\phantom{\\, {\\phi}} \\phantom{\\, {\\phi}} } & = & F\\left(t, r\\right) \\sin\\left({\\theta}\\right)^{2} \\\\ \\Gamma_{ \\phantom{\\, {\\theta}} \\, t \\, {\\theta} }^{ \\, {\\theta} \\phantom{\\, t} \\phantom{\\, {\\theta}} } & = & Z\\left(t, r\\right) \\\\ \\Gamma_{ \\phantom{\\, {\\theta}} \\, t \\, {\\phi} }^{ \\, {\\theta} \\phantom{\\, t} \\phantom{\\, {\\phi}} } & = & -D\\left(t, r\\right) \\sin\\left({\\theta}\\right) \\\\ \\Gamma_{ \\phantom{\\, {\\theta}} \\, r \\, {\\theta} }^{ \\, {\\theta} \\phantom{\\, r} \\phantom{\\, {\\theta}} } & = & G\\left(t, r\\right) \\\\ \\Gamma_{ \\phantom{\\, {\\theta}} \\, r \\, {\\phi} }^{ \\, {\\theta} \\phantom{\\, r} \\phantom{\\, {\\phi}} } & = & -H\\left(t, r\\right) \\sin\\left({\\theta}\\right) \\\\ \\Gamma_{ \\phantom{\\, {\\theta}} \\, {\\theta} \\, t }^{ \\, {\\theta} \\phantom{\\, {\\theta}} \\phantom{\\, t} } & = & Z\\left(t, r\\right) \\\\ \\Gamma_{ \\phantom{\\, {\\theta}} \\, {\\theta} \\, r }^{ \\, {\\theta} \\phantom{\\, {\\theta}} \\phantom{\\, r} } & = & G\\left(t, r\\right) \\\\ \\Gamma_{ \\phantom{\\, {\\theta}} \\, {\\phi} \\, t }^{ \\, {\\theta} \\phantom{\\, {\\phi}} \\phantom{\\, t} } & = & -D\\left(t, r\\right) \\sin\\left({\\theta}\\right) \\\\ \\Gamma_{ \\phantom{\\, {\\theta}} \\, {\\phi} \\, r }^{ \\, {\\theta} \\phantom{\\, {\\phi}} \\phantom{\\, r} } & = & -H\\left(t, r\\right) \\sin\\left({\\theta}\\right) \\\\ \\Gamma_{ \\phantom{\\, {\\theta}} \\, {\\phi} \\, {\\phi} }^{ \\, {\\theta} \\phantom{\\, {\\phi}} \\phantom{\\, {\\phi}} } & = & -\\cos\\left({\\theta}\\right) \\sin\\left({\\theta}\\right) \\\\ \\Gamma_{ \\phantom{\\, {\\phi}} \\, t \\, {\\theta} }^{ \\, {\\phi} \\phantom{\\, t} \\phantom{\\, {\\theta}} } & = & \\frac{D\\left(t, r\\right)}{\\sin\\left({\\theta}\\right)} \\\\ \\Gamma_{ \\phantom{\\, {\\phi}} \\, t \\, {\\phi} }^{ \\, {\\phi} \\phantom{\\, t} \\phantom{\\, {\\phi}} } & = & Z\\left(t, r\\right) \\\\ \\Gamma_{ \\phantom{\\, {\\phi}} \\, r \\, {\\theta} }^{ \\, {\\phi} \\phantom{\\, r} \\phantom{\\, {\\theta}} } & = & \\frac{H\\left(t, r\\right)}{\\sin\\left({\\theta}\\right)} \\\\ \\Gamma_{ \\phantom{\\, {\\phi}} \\, r \\, {\\phi} }^{ \\, {\\phi} \\phantom{\\, r} \\phantom{\\, {\\phi}} } & = & G\\left(t, r\\right) \\\\ \\Gamma_{ \\phantom{\\, {\\phi}} \\, {\\theta} \\, t }^{ \\, {\\phi} \\phantom{\\, {\\theta}} \\phantom{\\, t} } & = & \\frac{D\\left(t, r\\right)}{\\sin\\left({\\theta}\\right)} \\\\ \\Gamma_{ \\phantom{\\, {\\phi}} \\, {\\theta} \\, r }^{ \\, {\\phi} \\phantom{\\, {\\theta}} \\phantom{\\, r} } & = & \\frac{H\\left(t, r\\right)}{\\sin\\left({\\theta}\\right)} \\\\ \\Gamma_{ \\phantom{\\, {\\phi}} \\, {\\theta} \\, {\\phi} }^{ \\, {\\phi} \\phantom{\\, {\\theta}} \\phantom{\\, {\\phi}} } & = & \\frac{\\cos\\left({\\theta}\\right)}{\\sin\\left({\\theta}\\right)} \\\\ \\Gamma_{ \\phantom{\\, {\\phi}} \\, {\\phi} \\, t }^{ \\, {\\phi} \\phantom{\\, {\\phi}} \\phantom{\\, t} } & = & Z\\left(t, r\\right) \\\\ \\Gamma_{ \\phantom{\\, {\\phi}} \\, {\\phi} \\, r }^{ \\, {\\phi} \\phantom{\\, {\\phi}} \\phantom{\\, r} } & = & G\\left(t, r\\right) \\\\ \\Gamma_{ \\phantom{\\, {\\phi}} \\, {\\phi} \\, {\\theta} }^{ \\, {\\phi} \\phantom{\\, {\\phi}} \\phantom{\\, {\\theta}} } & = & \\frac{\\cos\\left({\\theta}\\right)}{\\sin\\left({\\theta}\\right)} \\end{array}$"
      ],
      "text/plain": [
       "Gam^t_t,t = V(t, r) \n",
       "Gam^t_t,r = A(t, r) \n",
       "Gam^t_r,t = A(t, r) \n",
       "Gam^t_r,r = W(t, r) \n",
       "Gam^t_th,th = X(t, r) \n",
       "Gam^t_ph,ph = X(t, r)*sin(th)^2 \n",
       "Gam^r_t,t = B(t, r) \n",
       "Gam^r_t,r = Y(t, r) \n",
       "Gam^r_r,t = Y(t, r) \n",
       "Gam^r_r,r = C(t, r) \n",
       "Gam^r_th,th = F(t, r) \n",
       "Gam^r_ph,ph = F(t, r)*sin(th)^2 \n",
       "Gam^th_t,th = Z(t, r) \n",
       "Gam^th_t,ph = -D(t, r)*sin(th) \n",
       "Gam^th_r,th = G(t, r) \n",
       "Gam^th_r,ph = -H(t, r)*sin(th) \n",
       "Gam^th_th,t = Z(t, r) \n",
       "Gam^th_th,r = G(t, r) \n",
       "Gam^th_ph,t = -D(t, r)*sin(th) \n",
       "Gam^th_ph,r = -H(t, r)*sin(th) \n",
       "Gam^th_ph,ph = -cos(th)*sin(th) \n",
       "Gam^ph_t,th = D(t, r)/sin(th) \n",
       "Gam^ph_t,ph = Z(t, r) \n",
       "Gam^ph_r,th = H(t, r)/sin(th) \n",
       "Gam^ph_r,ph = G(t, r) \n",
       "Gam^ph_th,t = D(t, r)/sin(th) \n",
       "Gam^ph_th,r = H(t, r)/sin(th) \n",
       "Gam^ph_th,ph = cos(th)/sin(th) \n",
       "Gam^ph_ph,t = Z(t, r) \n",
       "Gam^ph_ph,r = G(t, r) \n",
       "Gam^ph_ph,th = cos(th)/sin(th) "
      ]
     },
     "execution_count": 18,
     "metadata": {},
     "output_type": "execute_result"
    }
   ],
   "source": [
    "T = M.affine_connection('T',\"T\")\n",
    "\n",
    "\n",
    "T[0,0,0] = function(\"V\")(t,r)\n",
    "T[0,0,1] = function(\"A\")(t,r)\n",
    "T[0,1,0] = T[0,0,1]\n",
    "T[0,1,1] = function(\"W\")(t,r)\n",
    "T[0,2,2] = function(\"X\")(t,r)\n",
    "T[0,3,3] = function(\"X\")(t,r)*(sin(th))^2\n",
    "T[1,0,0] = function(\"B\")(t,r)\n",
    "T[1,0,1] = function(\"Y\")(t,r)\n",
    "T[1,1,0] = T[1,0,1]\n",
    "T[1,1,1] = function(\"C\")(t,r)\n",
    "T[1,2,2] = function(\"F\")(t,r)\n",
    "T[1,3,3] = function(\"F\")(t,r)*(sin(th))^2\n",
    "T[2,0,2] = function(\"Z\")(t,r)\n",
    "T[2,2,0] = T[2,0,2]\n",
    "T[2,0,3] = - function(\"D\")(t,r)*sin(th)\n",
    "T[2,3,0] = T[2,0,3]\n",
    "T[2,1,2] = function(\"G\")(t,r)\n",
    "T[2,2,1] = T[2,1,2]\n",
    "T[2,1,3] = - function(\"H\")(t,r)*sin(th)\n",
    "T[2,3,1] = T[2,1,3]\n",
    "T[2,3,3] = -cos(th)*sin(th)\n",
    "T[3,0,2] = function(\"D\")(t,r)/sin(th)\n",
    "T[3,2,0] = T[3,0,2]\n",
    "T[3,0,3] = function(\"Z\")(t,r)\n",
    "T[3,3,0] = T[3,0,3]\n",
    "T[3,1,2] = function(\"H\")(t,r)/sin(th)\n",
    "T[3,2,1] = T[3,1,2]\n",
    "T[3,1,3] = function(\"G\")(t,r)\n",
    "T[3,3,1] = T[3,1,3]\n",
    "T[3,2,3] = cos(th)/sin(th)\n",
    "T[3,3,2] = T[3,2,3]\n",
    "\n",
    "T.display(only_nonredundant=True)"
   ]
  },
  {
   "cell_type": "code",
   "execution_count": 19,
   "id": "30985c5e",
   "metadata": {},
   "outputs": [
    {
     "data": {
      "text/html": [
       "<html>\\(\\displaystyle \\begin{array}{lcl} X_{ \\, t \\, t }^{ \\phantom{\\, t}\\phantom{\\, t} } & = & -A\\left(t, r\\right) B\\left(t, r\\right) + B\\left(t, r\\right) C\\left(t, r\\right) + 2 \\, D\\left(t, r\\right)^{2} + 2 \\, B\\left(t, r\\right) G\\left(t, r\\right) + V\\left(t, r\\right) Y\\left(t, r\\right) - Y\\left(t, r\\right)^{2} + 2 \\, V\\left(t, r\\right) Z\\left(t, r\\right) - 2 \\, Z\\left(t, r\\right)^{2} + \\frac{\\partial\\,B}{\\partial r} - \\frac{\\partial\\,Y}{\\partial t} - 2 \\, \\frac{\\partial\\,Z}{\\partial t} \\\\ X_{ \\, t \\, r }^{ \\phantom{\\, t}\\phantom{\\, r} } & = & 2 \\, D\\left(t, r\\right) H\\left(t, r\\right) - B\\left(t, r\\right) W\\left(t, r\\right) + {\\left(A\\left(t, r\\right) + 2 \\, G\\left(t, r\\right)\\right)} Y\\left(t, r\\right) + 2 \\, {\\left(A\\left(t, r\\right) - G\\left(t, r\\right)\\right)} Z\\left(t, r\\right) + \\frac{\\partial\\,A}{\\partial t} - \\frac{\\partial\\,V}{\\partial r} - 2 \\, \\frac{\\partial\\,Z}{\\partial r} \\\\ X_{ \\, r \\, t }^{ \\phantom{\\, r}\\phantom{\\, t} } & = & 2 \\, D\\left(t, r\\right) H\\left(t, r\\right) - B\\left(t, r\\right) W\\left(t, r\\right) + {\\left(A\\left(t, r\\right) + 2 \\, G\\left(t, r\\right)\\right)} Y\\left(t, r\\right) + 2 \\, {\\left(A\\left(t, r\\right) - G\\left(t, r\\right)\\right)} Z\\left(t, r\\right) - \\frac{\\partial\\,C}{\\partial t} - 2 \\, \\frac{\\partial\\,G}{\\partial t} + \\frac{\\partial\\,Y}{\\partial r} \\\\ X_{ \\, r \\, r }^{ \\phantom{\\, r}\\phantom{\\, r} } & = & -A\\left(t, r\\right)^{2} + A\\left(t, r\\right) C\\left(t, r\\right) + 2 \\, C\\left(t, r\\right) G\\left(t, r\\right) - 2 \\, G\\left(t, r\\right)^{2} + 2 \\, H\\left(t, r\\right)^{2} + V\\left(t, r\\right) W\\left(t, r\\right) - W\\left(t, r\\right) Y\\left(t, r\\right) + 2 \\, W\\left(t, r\\right) Z\\left(t, r\\right) - \\frac{\\partial\\,A}{\\partial r} - 2 \\, \\frac{\\partial\\,G}{\\partial r} + \\frac{\\partial\\,W}{\\partial t} \\\\ X_{ \\, {\\theta} \\, {\\theta} }^{ \\phantom{\\, {\\theta}}\\phantom{\\, {\\theta}} } & = & {\\left(A\\left(t, r\\right) + C\\left(t, r\\right)\\right)} F\\left(t, r\\right) + V\\left(t, r\\right) X\\left(t, r\\right) + X\\left(t, r\\right) Y\\left(t, r\\right) + \\frac{\\partial\\,F}{\\partial r} + \\frac{\\partial\\,X}{\\partial t} + 1 \\\\ X_{ \\, {\\phi} \\, {\\phi} }^{ \\phantom{\\, {\\phi}}\\phantom{\\, {\\phi}} } & = & {\\left({\\left(A\\left(t, r\\right) + C\\left(t, r\\right)\\right)} F\\left(t, r\\right) + V\\left(t, r\\right) X\\left(t, r\\right) + X\\left(t, r\\right) Y\\left(t, r\\right) + \\frac{\\partial\\,F}{\\partial r} + \\frac{\\partial\\,X}{\\partial t} + 1\\right)} \\sin\\left({\\theta}\\right)^{2} \\end{array}\\)</html>"
      ],
      "text/latex": [
       "$\\displaystyle \\begin{array}{lcl} X_{ \\, t \\, t }^{ \\phantom{\\, t}\\phantom{\\, t} } & = & -A\\left(t, r\\right) B\\left(t, r\\right) + B\\left(t, r\\right) C\\left(t, r\\right) + 2 \\, D\\left(t, r\\right)^{2} + 2 \\, B\\left(t, r\\right) G\\left(t, r\\right) + V\\left(t, r\\right) Y\\left(t, r\\right) - Y\\left(t, r\\right)^{2} + 2 \\, V\\left(t, r\\right) Z\\left(t, r\\right) - 2 \\, Z\\left(t, r\\right)^{2} + \\frac{\\partial\\,B}{\\partial r} - \\frac{\\partial\\,Y}{\\partial t} - 2 \\, \\frac{\\partial\\,Z}{\\partial t} \\\\ X_{ \\, t \\, r }^{ \\phantom{\\, t}\\phantom{\\, r} } & = & 2 \\, D\\left(t, r\\right) H\\left(t, r\\right) - B\\left(t, r\\right) W\\left(t, r\\right) + {\\left(A\\left(t, r\\right) + 2 \\, G\\left(t, r\\right)\\right)} Y\\left(t, r\\right) + 2 \\, {\\left(A\\left(t, r\\right) - G\\left(t, r\\right)\\right)} Z\\left(t, r\\right) + \\frac{\\partial\\,A}{\\partial t} - \\frac{\\partial\\,V}{\\partial r} - 2 \\, \\frac{\\partial\\,Z}{\\partial r} \\\\ X_{ \\, r \\, t }^{ \\phantom{\\, r}\\phantom{\\, t} } & = & 2 \\, D\\left(t, r\\right) H\\left(t, r\\right) - B\\left(t, r\\right) W\\left(t, r\\right) + {\\left(A\\left(t, r\\right) + 2 \\, G\\left(t, r\\right)\\right)} Y\\left(t, r\\right) + 2 \\, {\\left(A\\left(t, r\\right) - G\\left(t, r\\right)\\right)} Z\\left(t, r\\right) - \\frac{\\partial\\,C}{\\partial t} - 2 \\, \\frac{\\partial\\,G}{\\partial t} + \\frac{\\partial\\,Y}{\\partial r} \\\\ X_{ \\, r \\, r }^{ \\phantom{\\, r}\\phantom{\\, r} } & = & -A\\left(t, r\\right)^{2} + A\\left(t, r\\right) C\\left(t, r\\right) + 2 \\, C\\left(t, r\\right) G\\left(t, r\\right) - 2 \\, G\\left(t, r\\right)^{2} + 2 \\, H\\left(t, r\\right)^{2} + V\\left(t, r\\right) W\\left(t, r\\right) - W\\left(t, r\\right) Y\\left(t, r\\right) + 2 \\, W\\left(t, r\\right) Z\\left(t, r\\right) - \\frac{\\partial\\,A}{\\partial r} - 2 \\, \\frac{\\partial\\,G}{\\partial r} + \\frac{\\partial\\,W}{\\partial t} \\\\ X_{ \\, {\\theta} \\, {\\theta} }^{ \\phantom{\\, {\\theta}}\\phantom{\\, {\\theta}} } & = & {\\left(A\\left(t, r\\right) + C\\left(t, r\\right)\\right)} F\\left(t, r\\right) + V\\left(t, r\\right) X\\left(t, r\\right) + X\\left(t, r\\right) Y\\left(t, r\\right) + \\frac{\\partial\\,F}{\\partial r} + \\frac{\\partial\\,X}{\\partial t} + 1 \\\\ X_{ \\, {\\phi} \\, {\\phi} }^{ \\phantom{\\, {\\phi}}\\phantom{\\, {\\phi}} } & = & {\\left({\\left(A\\left(t, r\\right) + C\\left(t, r\\right)\\right)} F\\left(t, r\\right) + V\\left(t, r\\right) X\\left(t, r\\right) + X\\left(t, r\\right) Y\\left(t, r\\right) + \\frac{\\partial\\,F}{\\partial r} + \\frac{\\partial\\,X}{\\partial t} + 1\\right)} \\sin\\left({\\theta}\\right)^{2} \\end{array}$"
      ],
      "text/plain": [
       "X_t,t = -A(t, r)*B(t, r) + B(t, r)*C(t, r) + 2*D(t, r)^2 + 2*B(t, r)*G(t, r) + V(t, r)*Y(t, r) - Y(t, r)^2 + 2*V(t, r)*Z(t, r) - 2*Z(t, r)^2 + d(B)/dr - d(Y)/dt - 2*d(Z)/dt \n",
       "X_t,r = 2*D(t, r)*H(t, r) - B(t, r)*W(t, r) + (A(t, r) + 2*G(t, r))*Y(t, r) + 2*(A(t, r) - G(t, r))*Z(t, r) + d(A)/dt - d(V)/dr - 2*d(Z)/dr \n",
       "X_r,t = 2*D(t, r)*H(t, r) - B(t, r)*W(t, r) + (A(t, r) + 2*G(t, r))*Y(t, r) + 2*(A(t, r) - G(t, r))*Z(t, r) - d(C)/dt - 2*d(G)/dt + d(Y)/dr \n",
       "X_r,r = -A(t, r)^2 + A(t, r)*C(t, r) + 2*C(t, r)*G(t, r) - 2*G(t, r)^2 + 2*H(t, r)^2 + V(t, r)*W(t, r) - W(t, r)*Y(t, r) + 2*W(t, r)*Z(t, r) - d(A)/dr - 2*d(G)/dr + d(W)/dt \n",
       "X_th,th = (A(t, r) + C(t, r))*F(t, r) + V(t, r)*X(t, r) + X(t, r)*Y(t, r) + d(F)/dr + d(X)/dt + 1 \n",
       "X_ph,ph = ((A(t, r) + C(t, r))*F(t, r) + V(t, r)*X(t, r) + X(t, r)*Y(t, r) + d(F)/dr + d(X)/dt + 1)*sin(th)^2 "
      ]
     },
     "execution_count": 19,
     "metadata": {},
     "output_type": "execute_result"
    }
   ],
   "source": [
    "Riem= T.riemann()\n",
    "Riem[\"^{a}_{bac}\"].display_comp()"
   ]
  },
  {
   "cell_type": "code",
   "execution_count": 20,
   "id": "4be86053",
   "metadata": {},
   "outputs": [
    {
     "data": {
      "text/html": [
       "<html>\\(\\displaystyle \\begin{array}{lcl} X_{ \\, t \\, r }^{ \\phantom{\\, t}\\phantom{\\, r} } & = & \\frac{\\partial\\,A}{\\partial t} + \\frac{\\partial\\,C}{\\partial t} + 2 \\, \\frac{\\partial\\,G}{\\partial t} - \\frac{\\partial\\,V}{\\partial r} - \\frac{\\partial\\,Y}{\\partial r} - 2 \\, \\frac{\\partial\\,Z}{\\partial r} \\\\ X_{ \\, r \\, t }^{ \\phantom{\\, r}\\phantom{\\, t} } & = & -\\frac{\\partial\\,A}{\\partial t} - \\frac{\\partial\\,C}{\\partial t} - 2 \\, \\frac{\\partial\\,G}{\\partial t} + \\frac{\\partial\\,V}{\\partial r} + \\frac{\\partial\\,Y}{\\partial r} + 2 \\, \\frac{\\partial\\,Z}{\\partial r} \\end{array}\\)</html>"
      ],
      "text/latex": [
       "$\\displaystyle \\begin{array}{lcl} X_{ \\, t \\, r }^{ \\phantom{\\, t}\\phantom{\\, r} } & = & \\frac{\\partial\\,A}{\\partial t} + \\frac{\\partial\\,C}{\\partial t} + 2 \\, \\frac{\\partial\\,G}{\\partial t} - \\frac{\\partial\\,V}{\\partial r} - \\frac{\\partial\\,Y}{\\partial r} - 2 \\, \\frac{\\partial\\,Z}{\\partial r} \\\\ X_{ \\, r \\, t }^{ \\phantom{\\, r}\\phantom{\\, t} } & = & -\\frac{\\partial\\,A}{\\partial t} - \\frac{\\partial\\,C}{\\partial t} - 2 \\, \\frac{\\partial\\,G}{\\partial t} + \\frac{\\partial\\,V}{\\partial r} + \\frac{\\partial\\,Y}{\\partial r} + 2 \\, \\frac{\\partial\\,Z}{\\partial r} \\end{array}$"
      ],
      "text/plain": [
       "X_t,r = d(A)/dt + d(C)/dt + 2*d(G)/dt - d(V)/dr - d(Y)/dr - 2*d(Z)/dr \n",
       "X_r,t = -d(A)/dt - d(C)/dt - 2*d(G)/dt + d(V)/dr + d(Y)/dr + 2*d(Z)/dr "
      ]
     },
     "execution_count": 20,
     "metadata": {},
     "output_type": "execute_result"
    }
   ],
   "source": [
    "Riem[\"^{a}_{abc}\"].display_comp()"
   ]
  },
  {
   "cell_type": "markdown",
   "id": "f2811bea",
   "metadata": {},
   "source": [
    "## Time reversal + azimuthal symmetry"
   ]
  },
  {
   "cell_type": "code",
   "execution_count": 21,
   "id": "c3735abd",
   "metadata": {},
   "outputs": [
    {
     "data": {
      "text/html": [
       "<html>\\(\\displaystyle \\begin{array}{lcl} \\Gamma_{ \\phantom{\\, t} \\, t \\, r }^{ \\, t \\phantom{\\, t} \\phantom{\\, r} } & = & A\\left(t, r\\right) \\\\ \\Gamma_{ \\phantom{\\, t} \\, r \\, t }^{ \\, t \\phantom{\\, r} \\phantom{\\, t} } & = & A\\left(t, r\\right) \\\\ \\Gamma_{ \\phantom{\\, r} \\, t \\, t }^{ \\, r \\phantom{\\, t} \\phantom{\\, t} } & = & B\\left(t, r\\right) \\\\ \\Gamma_{ \\phantom{\\, r} \\, r \\, r }^{ \\, r \\phantom{\\, r} \\phantom{\\, r} } & = & C\\left(t, r\\right) \\\\ \\Gamma_{ \\phantom{\\, r} \\, {\\theta} \\, {\\theta} }^{ \\, r \\phantom{\\, {\\theta}} \\phantom{\\, {\\theta}} } & = & F\\left(t, r\\right) \\\\ \\Gamma_{ \\phantom{\\, r} \\, {\\phi} \\, {\\phi} }^{ \\, r \\phantom{\\, {\\phi}} \\phantom{\\, {\\phi}} } & = & F\\left(t, r\\right) \\sin\\left({\\theta}\\right)^{2} \\\\ \\Gamma_{ \\phantom{\\, {\\theta}} \\, r \\, {\\theta} }^{ \\, {\\theta} \\phantom{\\, r} \\phantom{\\, {\\theta}} } & = & G\\left(t, r\\right) \\\\ \\Gamma_{ \\phantom{\\, {\\theta}} \\, {\\theta} \\, r }^{ \\, {\\theta} \\phantom{\\, {\\theta}} \\phantom{\\, r} } & = & G\\left(t, r\\right) \\\\ \\Gamma_{ \\phantom{\\, {\\theta}} \\, {\\phi} \\, {\\phi} }^{ \\, {\\theta} \\phantom{\\, {\\phi}} \\phantom{\\, {\\phi}} } & = & -\\cos\\left({\\theta}\\right) \\sin\\left({\\theta}\\right) \\\\ \\Gamma_{ \\phantom{\\, {\\phi}} \\, r \\, {\\phi} }^{ \\, {\\phi} \\phantom{\\, r} \\phantom{\\, {\\phi}} } & = & G\\left(t, r\\right) \\\\ \\Gamma_{ \\phantom{\\, {\\phi}} \\, {\\theta} \\, {\\phi} }^{ \\, {\\phi} \\phantom{\\, {\\theta}} \\phantom{\\, {\\phi}} } & = & \\frac{\\cos\\left({\\theta}\\right)}{\\sin\\left({\\theta}\\right)} \\\\ \\Gamma_{ \\phantom{\\, {\\phi}} \\, {\\phi} \\, r }^{ \\, {\\phi} \\phantom{\\, {\\phi}} \\phantom{\\, r} } & = & G\\left(t, r\\right) \\\\ \\Gamma_{ \\phantom{\\, {\\phi}} \\, {\\phi} \\, {\\theta} }^{ \\, {\\phi} \\phantom{\\, {\\phi}} \\phantom{\\, {\\theta}} } & = & \\frac{\\cos\\left({\\theta}\\right)}{\\sin\\left({\\theta}\\right)} \\end{array}\\)</html>"
      ],
      "text/latex": [
       "$\\displaystyle \\begin{array}{lcl} \\Gamma_{ \\phantom{\\, t} \\, t \\, r }^{ \\, t \\phantom{\\, t} \\phantom{\\, r} } & = & A\\left(t, r\\right) \\\\ \\Gamma_{ \\phantom{\\, t} \\, r \\, t }^{ \\, t \\phantom{\\, r} \\phantom{\\, t} } & = & A\\left(t, r\\right) \\\\ \\Gamma_{ \\phantom{\\, r} \\, t \\, t }^{ \\, r \\phantom{\\, t} \\phantom{\\, t} } & = & B\\left(t, r\\right) \\\\ \\Gamma_{ \\phantom{\\, r} \\, r \\, r }^{ \\, r \\phantom{\\, r} \\phantom{\\, r} } & = & C\\left(t, r\\right) \\\\ \\Gamma_{ \\phantom{\\, r} \\, {\\theta} \\, {\\theta} }^{ \\, r \\phantom{\\, {\\theta}} \\phantom{\\, {\\theta}} } & = & F\\left(t, r\\right) \\\\ \\Gamma_{ \\phantom{\\, r} \\, {\\phi} \\, {\\phi} }^{ \\, r \\phantom{\\, {\\phi}} \\phantom{\\, {\\phi}} } & = & F\\left(t, r\\right) \\sin\\left({\\theta}\\right)^{2} \\\\ \\Gamma_{ \\phantom{\\, {\\theta}} \\, r \\, {\\theta} }^{ \\, {\\theta} \\phantom{\\, r} \\phantom{\\, {\\theta}} } & = & G\\left(t, r\\right) \\\\ \\Gamma_{ \\phantom{\\, {\\theta}} \\, {\\theta} \\, r }^{ \\, {\\theta} \\phantom{\\, {\\theta}} \\phantom{\\, r} } & = & G\\left(t, r\\right) \\\\ \\Gamma_{ \\phantom{\\, {\\theta}} \\, {\\phi} \\, {\\phi} }^{ \\, {\\theta} \\phantom{\\, {\\phi}} \\phantom{\\, {\\phi}} } & = & -\\cos\\left({\\theta}\\right) \\sin\\left({\\theta}\\right) \\\\ \\Gamma_{ \\phantom{\\, {\\phi}} \\, r \\, {\\phi} }^{ \\, {\\phi} \\phantom{\\, r} \\phantom{\\, {\\phi}} } & = & G\\left(t, r\\right) \\\\ \\Gamma_{ \\phantom{\\, {\\phi}} \\, {\\theta} \\, {\\phi} }^{ \\, {\\phi} \\phantom{\\, {\\theta}} \\phantom{\\, {\\phi}} } & = & \\frac{\\cos\\left({\\theta}\\right)}{\\sin\\left({\\theta}\\right)} \\\\ \\Gamma_{ \\phantom{\\, {\\phi}} \\, {\\phi} \\, r }^{ \\, {\\phi} \\phantom{\\, {\\phi}} \\phantom{\\, r} } & = & G\\left(t, r\\right) \\\\ \\Gamma_{ \\phantom{\\, {\\phi}} \\, {\\phi} \\, {\\theta} }^{ \\, {\\phi} \\phantom{\\, {\\phi}} \\phantom{\\, {\\theta}} } & = & \\frac{\\cos\\left({\\theta}\\right)}{\\sin\\left({\\theta}\\right)} \\end{array}$"
      ],
      "text/plain": [
       "Gam^t_t,r = A(t, r) \n",
       "Gam^t_r,t = A(t, r) \n",
       "Gam^r_t,t = B(t, r) \n",
       "Gam^r_r,r = C(t, r) \n",
       "Gam^r_th,th = F(t, r) \n",
       "Gam^r_ph,ph = F(t, r)*sin(th)^2 \n",
       "Gam^th_r,th = G(t, r) \n",
       "Gam^th_th,r = G(t, r) \n",
       "Gam^th_ph,ph = -cos(th)*sin(th) \n",
       "Gam^ph_r,ph = G(t, r) \n",
       "Gam^ph_th,ph = cos(th)/sin(th) \n",
       "Gam^ph_ph,r = G(t, r) \n",
       "Gam^ph_ph,th = cos(th)/sin(th) "
      ]
     },
     "execution_count": 21,
     "metadata": {},
     "output_type": "execute_result"
    }
   ],
   "source": [
    "T[0,0,0] = 0\n",
    "T[0,0,1] = function(\"A\")(t,r)\n",
    "T[0,1,0] = T[0,0,1]\n",
    "T[0,1,1] = 0\n",
    "T[0,2,2] = 0\n",
    "T[0,3,3] = 0\n",
    "\n",
    "\n",
    "T[1,0,0] = function(\"B\")(t,r)\n",
    "T[1,0,1] = 0\n",
    "T[1,1,0] = T[1,0,1]\n",
    "T[1,1,1] = function(\"C\")(t,r)\n",
    "T[1,2,2] = function(\"F\")(t,r)\n",
    "T[1,3,3] = function(\"F\")(t,r)*(sin(th))^2\n",
    "\n",
    "\n",
    "T[2,0,2] = 0\n",
    "T[2,2,0] = T[2,0,2]\n",
    "T[2,0,3] = 0\n",
    "T[2,3,0] = T[2,0,3]\n",
    "T[2,1,2] = function(\"G\")(t,r)\n",
    "T[2,2,1] = T[2,1,2]\n",
    "T[2,1,3] = 0\n",
    "T[2,3,1] = T[2,1,3]\n",
    "T[2,3,3] = -cos(th)*sin(th)\n",
    "\n",
    "\n",
    "T[3,0,2] = 0\n",
    "T[3,2,0] = T[3,0,2]\n",
    "T[3,0,3] = 0\n",
    "T[3,3,0] = T[3,0,3]\n",
    "T[3,1,2] = 0\n",
    "T[3,2,1] = T[3,1,2]\n",
    "T[3,1,3] = function(\"G\")(t,r)\n",
    "T[3,3,1] = T[3,1,3]\n",
    "T[3,2,3] = cos(th)/sin(th)\n",
    "T[3,3,2] = T[3,2,3]\n",
    "\n",
    "T.display(only_nonredundant=True)"
   ]
  },
  {
   "cell_type": "code",
   "execution_count": 22,
   "id": "7c1ebdcd",
   "metadata": {},
   "outputs": [
    {
     "data": {
      "text/html": [
       "<html>\\(\\displaystyle \\begin{array}{lcl} X_{ \\, t \\, t }^{ \\phantom{\\, t}\\phantom{\\, t} } & = & -A\\left(t, r\\right) B\\left(t, r\\right) + B\\left(t, r\\right) C\\left(t, r\\right) + 2 \\, B\\left(t, r\\right) G\\left(t, r\\right) + \\frac{\\partial\\,B}{\\partial r} \\\\ X_{ \\, t \\, r }^{ \\phantom{\\, t}\\phantom{\\, r} } & = & \\frac{\\partial\\,A}{\\partial t} \\\\ X_{ \\, r \\, t }^{ \\phantom{\\, r}\\phantom{\\, t} } & = & -\\frac{\\partial\\,C}{\\partial t} - 2 \\, \\frac{\\partial\\,G}{\\partial t} \\\\ X_{ \\, r \\, r }^{ \\phantom{\\, r}\\phantom{\\, r} } & = & -A\\left(t, r\\right)^{2} + A\\left(t, r\\right) C\\left(t, r\\right) + 2 \\, C\\left(t, r\\right) G\\left(t, r\\right) - 2 \\, G\\left(t, r\\right)^{2} - \\frac{\\partial\\,A}{\\partial r} - 2 \\, \\frac{\\partial\\,G}{\\partial r} \\\\ X_{ \\, {\\theta} \\, {\\theta} }^{ \\phantom{\\, {\\theta}}\\phantom{\\, {\\theta}} } & = & {\\left(A\\left(t, r\\right) + C\\left(t, r\\right)\\right)} F\\left(t, r\\right) + \\frac{\\partial\\,F}{\\partial r} + 1 \\\\ X_{ \\, {\\phi} \\, {\\phi} }^{ \\phantom{\\, {\\phi}}\\phantom{\\, {\\phi}} } & = & {\\left({\\left(A\\left(t, r\\right) + C\\left(t, r\\right)\\right)} F\\left(t, r\\right) + \\frac{\\partial\\,F}{\\partial r} + 1\\right)} \\sin\\left({\\theta}\\right)^{2} \\end{array}\\)</html>"
      ],
      "text/latex": [
       "$\\displaystyle \\begin{array}{lcl} X_{ \\, t \\, t }^{ \\phantom{\\, t}\\phantom{\\, t} } & = & -A\\left(t, r\\right) B\\left(t, r\\right) + B\\left(t, r\\right) C\\left(t, r\\right) + 2 \\, B\\left(t, r\\right) G\\left(t, r\\right) + \\frac{\\partial\\,B}{\\partial r} \\\\ X_{ \\, t \\, r }^{ \\phantom{\\, t}\\phantom{\\, r} } & = & \\frac{\\partial\\,A}{\\partial t} \\\\ X_{ \\, r \\, t }^{ \\phantom{\\, r}\\phantom{\\, t} } & = & -\\frac{\\partial\\,C}{\\partial t} - 2 \\, \\frac{\\partial\\,G}{\\partial t} \\\\ X_{ \\, r \\, r }^{ \\phantom{\\, r}\\phantom{\\, r} } & = & -A\\left(t, r\\right)^{2} + A\\left(t, r\\right) C\\left(t, r\\right) + 2 \\, C\\left(t, r\\right) G\\left(t, r\\right) - 2 \\, G\\left(t, r\\right)^{2} - \\frac{\\partial\\,A}{\\partial r} - 2 \\, \\frac{\\partial\\,G}{\\partial r} \\\\ X_{ \\, {\\theta} \\, {\\theta} }^{ \\phantom{\\, {\\theta}}\\phantom{\\, {\\theta}} } & = & {\\left(A\\left(t, r\\right) + C\\left(t, r\\right)\\right)} F\\left(t, r\\right) + \\frac{\\partial\\,F}{\\partial r} + 1 \\\\ X_{ \\, {\\phi} \\, {\\phi} }^{ \\phantom{\\, {\\phi}}\\phantom{\\, {\\phi}} } & = & {\\left({\\left(A\\left(t, r\\right) + C\\left(t, r\\right)\\right)} F\\left(t, r\\right) + \\frac{\\partial\\,F}{\\partial r} + 1\\right)} \\sin\\left({\\theta}\\right)^{2} \\end{array}$"
      ],
      "text/plain": [
       "X_t,t = -A(t, r)*B(t, r) + B(t, r)*C(t, r) + 2*B(t, r)*G(t, r) + d(B)/dr \n",
       "X_t,r = d(A)/dt \n",
       "X_r,t = -d(C)/dt - 2*d(G)/dt \n",
       "X_r,r = -A(t, r)^2 + A(t, r)*C(t, r) + 2*C(t, r)*G(t, r) - 2*G(t, r)^2 - d(A)/dr - 2*d(G)/dr \n",
       "X_th,th = (A(t, r) + C(t, r))*F(t, r) + d(F)/dr + 1 \n",
       "X_ph,ph = ((A(t, r) + C(t, r))*F(t, r) + d(F)/dr + 1)*sin(th)^2 "
      ]
     },
     "execution_count": 22,
     "metadata": {},
     "output_type": "execute_result"
    }
   ],
   "source": [
    "Riem= T.riemann()\n",
    "Riem[\"^{a}_{bac}\"].display_comp()"
   ]
  },
  {
   "cell_type": "code",
   "execution_count": 23,
   "id": "867d28d8",
   "metadata": {},
   "outputs": [
    {
     "data": {
      "text/html": [
       "<html>\\(\\displaystyle \\begin{array}{lcl} X_{ \\, t \\, r }^{ \\phantom{\\, t}\\phantom{\\, r} } & = & \\frac{\\partial\\,A}{\\partial t} + \\frac{\\partial\\,C}{\\partial t} + 2 \\, \\frac{\\partial\\,G}{\\partial t} \\\\ X_{ \\, r \\, t }^{ \\phantom{\\, r}\\phantom{\\, t} } & = & -\\frac{\\partial\\,A}{\\partial t} - \\frac{\\partial\\,C}{\\partial t} - 2 \\, \\frac{\\partial\\,G}{\\partial t} \\end{array}\\)</html>"
      ],
      "text/latex": [
       "$\\displaystyle \\begin{array}{lcl} X_{ \\, t \\, r }^{ \\phantom{\\, t}\\phantom{\\, r} } & = & \\frac{\\partial\\,A}{\\partial t} + \\frac{\\partial\\,C}{\\partial t} + 2 \\, \\frac{\\partial\\,G}{\\partial t} \\\\ X_{ \\, r \\, t }^{ \\phantom{\\, r}\\phantom{\\, t} } & = & -\\frac{\\partial\\,A}{\\partial t} - \\frac{\\partial\\,C}{\\partial t} - 2 \\, \\frac{\\partial\\,G}{\\partial t} \\end{array}$"
      ],
      "text/plain": [
       "X_t,r = d(A)/dt + d(C)/dt + 2*d(G)/dt \n",
       "X_r,t = -d(A)/dt - d(C)/dt - 2*d(G)/dt "
      ]
     },
     "execution_count": 23,
     "metadata": {},
     "output_type": "execute_result"
    }
   ],
   "source": [
    "Riem[\"^{a}_{abc}\"].display_comp()"
   ]
  },
  {
   "cell_type": "markdown",
   "id": "0b557655",
   "metadata": {},
   "source": [
    "## Equi-affine connection or projective symmetry?"
   ]
  },
  {
   "cell_type": "code",
   "execution_count": 24,
   "id": "664d62ac",
   "metadata": {},
   "outputs": [
    {
     "data": {
      "text/html": [
       "<html>\\(\\displaystyle \\begin{array}{lcl} \\Gamma_{ \\phantom{\\, t} \\, t \\, r }^{ \\, t \\phantom{\\, t} \\phantom{\\, r} } & = & -a_{0} - C\\left(t, r\\right) - 2 \\, G\\left(t, r\\right) + a\\left(r\\right) \\\\ \\Gamma_{ \\phantom{\\, t} \\, r \\, t }^{ \\, t \\phantom{\\, r} \\phantom{\\, t} } & = & -a_{0} - C\\left(t, r\\right) - 2 \\, G\\left(t, r\\right) + a\\left(r\\right) \\\\ \\Gamma_{ \\phantom{\\, r} \\, t \\, t }^{ \\, r \\phantom{\\, t} \\phantom{\\, t} } & = & B\\left(t, r\\right) \\\\ \\Gamma_{ \\phantom{\\, r} \\, r \\, r }^{ \\, r \\phantom{\\, r} \\phantom{\\, r} } & = & C\\left(t, r\\right) \\\\ \\Gamma_{ \\phantom{\\, r} \\, {\\theta} \\, {\\theta} }^{ \\, r \\phantom{\\, {\\theta}} \\phantom{\\, {\\theta}} } & = & F\\left(t, r\\right) \\\\ \\Gamma_{ \\phantom{\\, r} \\, {\\phi} \\, {\\phi} }^{ \\, r \\phantom{\\, {\\phi}} \\phantom{\\, {\\phi}} } & = & F\\left(t, r\\right) \\sin\\left({\\theta}\\right)^{2} \\\\ \\Gamma_{ \\phantom{\\, {\\theta}} \\, r \\, {\\theta} }^{ \\, {\\theta} \\phantom{\\, r} \\phantom{\\, {\\theta}} } & = & G\\left(t, r\\right) \\\\ \\Gamma_{ \\phantom{\\, {\\theta}} \\, {\\theta} \\, r }^{ \\, {\\theta} \\phantom{\\, {\\theta}} \\phantom{\\, r} } & = & G\\left(t, r\\right) \\\\ \\Gamma_{ \\phantom{\\, {\\theta}} \\, {\\phi} \\, {\\phi} }^{ \\, {\\theta} \\phantom{\\, {\\phi}} \\phantom{\\, {\\phi}} } & = & -\\cos\\left({\\theta}\\right) \\sin\\left({\\theta}\\right) \\\\ \\Gamma_{ \\phantom{\\, {\\phi}} \\, r \\, {\\phi} }^{ \\, {\\phi} \\phantom{\\, r} \\phantom{\\, {\\phi}} } & = & G\\left(t, r\\right) \\\\ \\Gamma_{ \\phantom{\\, {\\phi}} \\, {\\theta} \\, {\\phi} }^{ \\, {\\phi} \\phantom{\\, {\\theta}} \\phantom{\\, {\\phi}} } & = & \\frac{\\cos\\left({\\theta}\\right)}{\\sin\\left({\\theta}\\right)} \\\\ \\Gamma_{ \\phantom{\\, {\\phi}} \\, {\\phi} \\, r }^{ \\, {\\phi} \\phantom{\\, {\\phi}} \\phantom{\\, r} } & = & G\\left(t, r\\right) \\\\ \\Gamma_{ \\phantom{\\, {\\phi}} \\, {\\phi} \\, {\\theta} }^{ \\, {\\phi} \\phantom{\\, {\\phi}} \\phantom{\\, {\\theta}} } & = & \\frac{\\cos\\left({\\theta}\\right)}{\\sin\\left({\\theta}\\right)} \\end{array}\\)</html>"
      ],
      "text/latex": [
       "$\\displaystyle \\begin{array}{lcl} \\Gamma_{ \\phantom{\\, t} \\, t \\, r }^{ \\, t \\phantom{\\, t} \\phantom{\\, r} } & = & -a_{0} - C\\left(t, r\\right) - 2 \\, G\\left(t, r\\right) + a\\left(r\\right) \\\\ \\Gamma_{ \\phantom{\\, t} \\, r \\, t }^{ \\, t \\phantom{\\, r} \\phantom{\\, t} } & = & -a_{0} - C\\left(t, r\\right) - 2 \\, G\\left(t, r\\right) + a\\left(r\\right) \\\\ \\Gamma_{ \\phantom{\\, r} \\, t \\, t }^{ \\, r \\phantom{\\, t} \\phantom{\\, t} } & = & B\\left(t, r\\right) \\\\ \\Gamma_{ \\phantom{\\, r} \\, r \\, r }^{ \\, r \\phantom{\\, r} \\phantom{\\, r} } & = & C\\left(t, r\\right) \\\\ \\Gamma_{ \\phantom{\\, r} \\, {\\theta} \\, {\\theta} }^{ \\, r \\phantom{\\, {\\theta}} \\phantom{\\, {\\theta}} } & = & F\\left(t, r\\right) \\\\ \\Gamma_{ \\phantom{\\, r} \\, {\\phi} \\, {\\phi} }^{ \\, r \\phantom{\\, {\\phi}} \\phantom{\\, {\\phi}} } & = & F\\left(t, r\\right) \\sin\\left({\\theta}\\right)^{2} \\\\ \\Gamma_{ \\phantom{\\, {\\theta}} \\, r \\, {\\theta} }^{ \\, {\\theta} \\phantom{\\, r} \\phantom{\\, {\\theta}} } & = & G\\left(t, r\\right) \\\\ \\Gamma_{ \\phantom{\\, {\\theta}} \\, {\\theta} \\, r }^{ \\, {\\theta} \\phantom{\\, {\\theta}} \\phantom{\\, r} } & = & G\\left(t, r\\right) \\\\ \\Gamma_{ \\phantom{\\, {\\theta}} \\, {\\phi} \\, {\\phi} }^{ \\, {\\theta} \\phantom{\\, {\\phi}} \\phantom{\\, {\\phi}} } & = & -\\cos\\left({\\theta}\\right) \\sin\\left({\\theta}\\right) \\\\ \\Gamma_{ \\phantom{\\, {\\phi}} \\, r \\, {\\phi} }^{ \\, {\\phi} \\phantom{\\, r} \\phantom{\\, {\\phi}} } & = & G\\left(t, r\\right) \\\\ \\Gamma_{ \\phantom{\\, {\\phi}} \\, {\\theta} \\, {\\phi} }^{ \\, {\\phi} \\phantom{\\, {\\theta}} \\phantom{\\, {\\phi}} } & = & \\frac{\\cos\\left({\\theta}\\right)}{\\sin\\left({\\theta}\\right)} \\\\ \\Gamma_{ \\phantom{\\, {\\phi}} \\, {\\phi} \\, r }^{ \\, {\\phi} \\phantom{\\, {\\phi}} \\phantom{\\, r} } & = & G\\left(t, r\\right) \\\\ \\Gamma_{ \\phantom{\\, {\\phi}} \\, {\\phi} \\, {\\theta} }^{ \\, {\\phi} \\phantom{\\, {\\phi}} \\phantom{\\, {\\theta}} } & = & \\frac{\\cos\\left({\\theta}\\right)}{\\sin\\left({\\theta}\\right)} \\end{array}$"
      ],
      "text/plain": [
       "Gam^t_t,r = -a_0 - C(t, r) - 2*G(t, r) + a(r) \n",
       "Gam^t_r,t = -a_0 - C(t, r) - 2*G(t, r) + a(r) \n",
       "Gam^r_t,t = B(t, r) \n",
       "Gam^r_r,r = C(t, r) \n",
       "Gam^r_th,th = F(t, r) \n",
       "Gam^r_ph,ph = F(t, r)*sin(th)^2 \n",
       "Gam^th_r,th = G(t, r) \n",
       "Gam^th_th,r = G(t, r) \n",
       "Gam^th_ph,ph = -cos(th)*sin(th) \n",
       "Gam^ph_r,ph = G(t, r) \n",
       "Gam^ph_th,ph = cos(th)/sin(th) \n",
       "Gam^ph_ph,r = G(t, r) \n",
       "Gam^ph_ph,th = cos(th)/sin(th) "
      ]
     },
     "execution_count": 24,
     "metadata": {},
     "output_type": "execute_result"
    }
   ],
   "source": [
    "a0 = var('a_0', domain='real')\n",
    "\n",
    "T[0,0,0] = 0\n",
    "T[0,0,1] = function('a')(r) - a0 - function(\"C\")(t,r) - 2*function(\"G\")(t,r)\n",
    "T[0,1,0] = T[0,0,1]\n",
    "T[0,1,1] = 0\n",
    "T[0,2,2] = 0\n",
    "T[0,3,3] = 0\n",
    "\n",
    "\n",
    "T[1,0,0] = function(\"B\")(t,r)\n",
    "T[1,0,1] = 0\n",
    "T[1,1,0] = T[1,0,1]\n",
    "T[1,1,1] = function(\"C\")(t,r)\n",
    "T[1,2,2] = function(\"F\")(t,r)\n",
    "T[1,3,3] = function(\"F\")(t,r)*(sin(th))^2\n",
    "\n",
    "\n",
    "T[2,0,2] = 0\n",
    "T[2,2,0] = T[2,0,2]\n",
    "T[2,0,3] = 0\n",
    "T[2,3,0] = T[2,0,3]\n",
    "T[2,1,2] = function(\"G\")(t,r)\n",
    "T[2,2,1] = T[2,1,2]\n",
    "T[2,1,3] = 0\n",
    "T[2,3,1] = T[2,1,3]\n",
    "T[2,3,3] = -cos(th)*sin(th)\n",
    "\n",
    "\n",
    "T[3,0,2] = 0\n",
    "T[3,2,0] = T[3,0,2]\n",
    "T[3,0,3] = 0\n",
    "T[3,3,0] = T[3,0,3]\n",
    "T[3,1,2] = 0\n",
    "T[3,2,1] = T[3,1,2]\n",
    "T[3,1,3] = function(\"G\")(t,r)\n",
    "T[3,3,1] = T[3,1,3]\n",
    "T[3,2,3] = cos(th)/sin(th)\n",
    "T[3,3,2] = T[3,2,3]\n",
    "T.display(only_nonredundant=True)"
   ]
  },
  {
   "cell_type": "code",
   "execution_count": 25,
   "id": "acbbe817",
   "metadata": {},
   "outputs": [
    {
     "data": {
      "text/html": [
       "<html>\\(\\displaystyle \\begin{array}{lcl} X_{ \\, t \\, t }^{ \\phantom{\\, t}\\phantom{\\, t} } & = & {\\left(a_{0} - a\\left(r\\right)\\right)} B\\left(t, r\\right) + 2 \\, B\\left(t, r\\right) C\\left(t, r\\right) + 4 \\, B\\left(t, r\\right) G\\left(t, r\\right) + \\frac{\\partial\\,B}{\\partial r} \\\\ X_{ \\, t \\, r }^{ \\phantom{\\, t}\\phantom{\\, r} } & = & -\\frac{\\partial\\,C}{\\partial t} - 2 \\, \\frac{\\partial\\,G}{\\partial t} \\\\ X_{ \\, r \\, t }^{ \\phantom{\\, r}\\phantom{\\, t} } & = & -\\frac{\\partial\\,C}{\\partial t} - 2 \\, \\frac{\\partial\\,G}{\\partial t} \\\\ X_{ \\, r \\, r }^{ \\phantom{\\, r}\\phantom{\\, r} } & = & -a_{0}^{2} - 3 \\, {\\left(a_{0} - a\\left(r\\right)\\right)} C\\left(t, r\\right) - 2 \\, C\\left(t, r\\right)^{2} - 4 \\, {\\left(a_{0} + C\\left(t, r\\right) - a\\left(r\\right)\\right)} G\\left(t, r\\right) - 6 \\, G\\left(t, r\\right)^{2} + 2 \\, a_{0} a\\left(r\\right) - a\\left(r\\right)^{2} + \\frac{\\partial\\,C}{\\partial r} - \\frac{\\partial\\,a}{\\partial r} \\\\ X_{ \\, {\\theta} \\, {\\theta} }^{ \\phantom{\\, {\\theta}}\\phantom{\\, {\\theta}} } & = & -{\\left(a_{0} - a\\left(r\\right)\\right)} F\\left(t, r\\right) - 2 \\, F\\left(t, r\\right) G\\left(t, r\\right) + \\frac{\\partial\\,F}{\\partial r} + 1 \\\\ X_{ \\, {\\phi} \\, {\\phi} }^{ \\phantom{\\, {\\phi}}\\phantom{\\, {\\phi}} } & = & -{\\left({\\left(a_{0} - a\\left(r\\right)\\right)} F\\left(t, r\\right) + 2 \\, F\\left(t, r\\right) G\\left(t, r\\right) - \\frac{\\partial\\,F}{\\partial r} - 1\\right)} \\sin\\left({\\theta}\\right)^{2} \\end{array}\\)</html>"
      ],
      "text/latex": [
       "$\\displaystyle \\begin{array}{lcl} X_{ \\, t \\, t }^{ \\phantom{\\, t}\\phantom{\\, t} } & = & {\\left(a_{0} - a\\left(r\\right)\\right)} B\\left(t, r\\right) + 2 \\, B\\left(t, r\\right) C\\left(t, r\\right) + 4 \\, B\\left(t, r\\right) G\\left(t, r\\right) + \\frac{\\partial\\,B}{\\partial r} \\\\ X_{ \\, t \\, r }^{ \\phantom{\\, t}\\phantom{\\, r} } & = & -\\frac{\\partial\\,C}{\\partial t} - 2 \\, \\frac{\\partial\\,G}{\\partial t} \\\\ X_{ \\, r \\, t }^{ \\phantom{\\, r}\\phantom{\\, t} } & = & -\\frac{\\partial\\,C}{\\partial t} - 2 \\, \\frac{\\partial\\,G}{\\partial t} \\\\ X_{ \\, r \\, r }^{ \\phantom{\\, r}\\phantom{\\, r} } & = & -a_{0}^{2} - 3 \\, {\\left(a_{0} - a\\left(r\\right)\\right)} C\\left(t, r\\right) - 2 \\, C\\left(t, r\\right)^{2} - 4 \\, {\\left(a_{0} + C\\left(t, r\\right) - a\\left(r\\right)\\right)} G\\left(t, r\\right) - 6 \\, G\\left(t, r\\right)^{2} + 2 \\, a_{0} a\\left(r\\right) - a\\left(r\\right)^{2} + \\frac{\\partial\\,C}{\\partial r} - \\frac{\\partial\\,a}{\\partial r} \\\\ X_{ \\, {\\theta} \\, {\\theta} }^{ \\phantom{\\, {\\theta}}\\phantom{\\, {\\theta}} } & = & -{\\left(a_{0} - a\\left(r\\right)\\right)} F\\left(t, r\\right) - 2 \\, F\\left(t, r\\right) G\\left(t, r\\right) + \\frac{\\partial\\,F}{\\partial r} + 1 \\\\ X_{ \\, {\\phi} \\, {\\phi} }^{ \\phantom{\\, {\\phi}}\\phantom{\\, {\\phi}} } & = & -{\\left({\\left(a_{0} - a\\left(r\\right)\\right)} F\\left(t, r\\right) + 2 \\, F\\left(t, r\\right) G\\left(t, r\\right) - \\frac{\\partial\\,F}{\\partial r} - 1\\right)} \\sin\\left({\\theta}\\right)^{2} \\end{array}$"
      ],
      "text/plain": [
       "X_t,t = (a_0 - a(r))*B(t, r) + 2*B(t, r)*C(t, r) + 4*B(t, r)*G(t, r) + d(B)/dr \n",
       "X_t,r = -d(C)/dt - 2*d(G)/dt \n",
       "X_r,t = -d(C)/dt - 2*d(G)/dt \n",
       "X_r,r = -a_0^2 - 3*(a_0 - a(r))*C(t, r) - 2*C(t, r)^2 - 4*(a_0 + C(t, r) - a(r))*G(t, r) - 6*G(t, r)^2 + 2*a_0*a(r) - a(r)^2 + d(C)/dr - d(a)/dr \n",
       "X_th,th = -(a_0 - a(r))*F(t, r) - 2*F(t, r)*G(t, r) + d(F)/dr + 1 \n",
       "X_ph,ph = -((a_0 - a(r))*F(t, r) + 2*F(t, r)*G(t, r) - d(F)/dr - 1)*sin(th)^2 "
      ]
     },
     "execution_count": 25,
     "metadata": {},
     "output_type": "execute_result"
    }
   ],
   "source": [
    "Riem= T.riemann()\n",
    "Riem[\"^{a}_{bac}\"].display_comp()"
   ]
  },
  {
   "cell_type": "code",
   "execution_count": 26,
   "id": "da709b4a",
   "metadata": {},
   "outputs": [
    {
     "data": {
      "text/html": [
       "<html>\\(\\displaystyle \\)</html>"
      ],
      "text/latex": [
       "$\\displaystyle $"
      ],
      "text/plain": []
     },
     "execution_count": 26,
     "metadata": {},
     "output_type": "execute_result"
    }
   ],
   "source": [
    "Riem[\"^{a}_{abc}\"].display_comp()"
   ]
  },
  {
   "cell_type": "markdown",
   "id": "5c5e1bd8",
   "metadata": {},
   "source": [
    "### First field equation $\\mathcal{R}_{\\mu\\nu} =0$"
   ]
  },
  {
   "cell_type": "code",
   "execution_count": 27,
   "id": "3943dc92",
   "metadata": {},
   "outputs": [
    {
     "data": {
      "text/html": [
       "<html>\\(\\displaystyle \\begin{array}{lcl} X_{ \\, t \\, t }^{ \\phantom{\\, t}\\phantom{\\, t} } & = & {\\left(a_{0} - a\\left(r\\right)\\right)} B\\left(t, r\\right) + 2 \\, B\\left(t, r\\right) C\\left(t, r\\right) + 4 \\, B\\left(t, r\\right) G\\left(t, r\\right) + \\frac{\\partial\\,B}{\\partial r} \\\\ X_{ \\, t \\, r }^{ \\phantom{\\, t}\\phantom{\\, r} } & = & -\\frac{\\partial\\,C}{\\partial t} - 2 \\, \\frac{\\partial\\,G}{\\partial t} \\\\ X_{ \\, r \\, t }^{ \\phantom{\\, r}\\phantom{\\, t} } & = & -\\frac{\\partial\\,C}{\\partial t} - 2 \\, \\frac{\\partial\\,G}{\\partial t} \\\\ X_{ \\, r \\, r }^{ \\phantom{\\, r}\\phantom{\\, r} } & = & -a_{0}^{2} - 3 \\, {\\left(a_{0} - a\\left(r\\right)\\right)} C\\left(t, r\\right) - 2 \\, C\\left(t, r\\right)^{2} - 4 \\, {\\left(a_{0} + C\\left(t, r\\right) - a\\left(r\\right)\\right)} G\\left(t, r\\right) - 6 \\, G\\left(t, r\\right)^{2} + 2 \\, a_{0} a\\left(r\\right) - a\\left(r\\right)^{2} + \\frac{\\partial\\,C}{\\partial r} - \\frac{\\partial\\,a}{\\partial r} \\\\ X_{ \\, {\\theta} \\, {\\theta} }^{ \\phantom{\\, {\\theta}}\\phantom{\\, {\\theta}} } & = & -{\\left(a_{0} - a\\left(r\\right)\\right)} F\\left(t, r\\right) - 2 \\, F\\left(t, r\\right) G\\left(t, r\\right) + \\frac{\\partial\\,F}{\\partial r} + 1 \\\\ X_{ \\, {\\phi} \\, {\\phi} }^{ \\phantom{\\, {\\phi}}\\phantom{\\, {\\phi}} } & = & -{\\left({\\left(a_{0} - a\\left(r\\right)\\right)} F\\left(t, r\\right) + 2 \\, F\\left(t, r\\right) G\\left(t, r\\right) - \\frac{\\partial\\,F}{\\partial r} - 1\\right)} \\sin\\left({\\theta}\\right)^{2} \\end{array}\\)</html>"
      ],
      "text/latex": [
       "$\\displaystyle \\begin{array}{lcl} X_{ \\, t \\, t }^{ \\phantom{\\, t}\\phantom{\\, t} } & = & {\\left(a_{0} - a\\left(r\\right)\\right)} B\\left(t, r\\right) + 2 \\, B\\left(t, r\\right) C\\left(t, r\\right) + 4 \\, B\\left(t, r\\right) G\\left(t, r\\right) + \\frac{\\partial\\,B}{\\partial r} \\\\ X_{ \\, t \\, r }^{ \\phantom{\\, t}\\phantom{\\, r} } & = & -\\frac{\\partial\\,C}{\\partial t} - 2 \\, \\frac{\\partial\\,G}{\\partial t} \\\\ X_{ \\, r \\, t }^{ \\phantom{\\, r}\\phantom{\\, t} } & = & -\\frac{\\partial\\,C}{\\partial t} - 2 \\, \\frac{\\partial\\,G}{\\partial t} \\\\ X_{ \\, r \\, r }^{ \\phantom{\\, r}\\phantom{\\, r} } & = & -a_{0}^{2} - 3 \\, {\\left(a_{0} - a\\left(r\\right)\\right)} C\\left(t, r\\right) - 2 \\, C\\left(t, r\\right)^{2} - 4 \\, {\\left(a_{0} + C\\left(t, r\\right) - a\\left(r\\right)\\right)} G\\left(t, r\\right) - 6 \\, G\\left(t, r\\right)^{2} + 2 \\, a_{0} a\\left(r\\right) - a\\left(r\\right)^{2} + \\frac{\\partial\\,C}{\\partial r} - \\frac{\\partial\\,a}{\\partial r} \\\\ X_{ \\, {\\theta} \\, {\\theta} }^{ \\phantom{\\, {\\theta}}\\phantom{\\, {\\theta}} } & = & -{\\left(a_{0} - a\\left(r\\right)\\right)} F\\left(t, r\\right) - 2 \\, F\\left(t, r\\right) G\\left(t, r\\right) + \\frac{\\partial\\,F}{\\partial r} + 1 \\\\ X_{ \\, {\\phi} \\, {\\phi} }^{ \\phantom{\\, {\\phi}}\\phantom{\\, {\\phi}} } & = & -{\\left({\\left(a_{0} - a\\left(r\\right)\\right)} F\\left(t, r\\right) + 2 \\, F\\left(t, r\\right) G\\left(t, r\\right) - \\frac{\\partial\\,F}{\\partial r} - 1\\right)} \\sin\\left({\\theta}\\right)^{2} \\end{array}$"
      ],
      "text/plain": [
       "X_t,t = (a_0 - a(r))*B(t, r) + 2*B(t, r)*C(t, r) + 4*B(t, r)*G(t, r) + d(B)/dr \n",
       "X_t,r = -d(C)/dt - 2*d(G)/dt \n",
       "X_r,t = -d(C)/dt - 2*d(G)/dt \n",
       "X_r,r = -a_0^2 - 3*(a_0 - a(r))*C(t, r) - 2*C(t, r)^2 - 4*(a_0 + C(t, r) - a(r))*G(t, r) - 6*G(t, r)^2 + 2*a_0*a(r) - a(r)^2 + d(C)/dr - d(a)/dr \n",
       "X_th,th = -(a_0 - a(r))*F(t, r) - 2*F(t, r)*G(t, r) + d(F)/dr + 1 \n",
       "X_ph,ph = -((a_0 - a(r))*F(t, r) + 2*F(t, r)*G(t, r) - d(F)/dr - 1)*sin(th)^2 "
      ]
     },
     "execution_count": 27,
     "metadata": {},
     "output_type": "execute_result"
    }
   ],
   "source": [
    "Ricci = T.ricci()\n",
    "Ricci.display_comp()"
   ]
  },
  {
   "cell_type": "markdown",
   "id": "df2d4766",
   "metadata": {},
   "source": [
    "### Second field equation $\\nabla_\\delta \\mathcal{R}_{\\mu\\nu} = 0$"
   ]
  },
  {
   "cell_type": "code",
   "execution_count": 28,
   "id": "370024ca",
   "metadata": {},
   "outputs": [
    {
     "data": {
      "text/html": [
       "<html>\\(\\displaystyle \\begin{array}{lcl} X_{ \\, t \\, t \\, t }^{ \\phantom{\\, t}\\phantom{\\, t}\\phantom{\\, t} } & = & {\\left(a_{0} + 2 \\, C\\left(t, r\\right) + 4 \\, G\\left(t, r\\right) - a\\left(r\\right)\\right)} \\frac{\\partial\\,B}{\\partial t} + 4 \\, B\\left(t, r\\right) \\frac{\\partial\\,C}{\\partial t} + 8 \\, B\\left(t, r\\right) \\frac{\\partial\\,G}{\\partial t} + \\frac{\\partial^2\\,B}{\\partial t\\partial r} \\\\ X_{ \\, t \\, t \\, r }^{ \\phantom{\\, t}\\phantom{\\, t}\\phantom{\\, r} } & = & 6 \\, {\\left(a_{0} - a\\left(r\\right)\\right)} B\\left(t, r\\right) C\\left(t, r\\right) + 4 \\, B\\left(t, r\\right) C\\left(t, r\\right)^{2} + 16 \\, B\\left(t, r\\right) G\\left(t, r\\right)^{2} + {\\left(2 \\, a_{0}^{2} - 4 \\, a_{0} a\\left(r\\right) + 2 \\, a\\left(r\\right)^{2} - \\frac{\\partial\\,a}{\\partial r}\\right)} B\\left(t, r\\right) + 4 \\, {\\left(3 \\, {\\left(a_{0} - a\\left(r\\right)\\right)} B\\left(t, r\\right) + 4 \\, B\\left(t, r\\right) C\\left(t, r\\right)\\right)} G\\left(t, r\\right) + {\\left(3 \\, a_{0} + 4 \\, C\\left(t, r\\right) + 8 \\, G\\left(t, r\\right) - 3 \\, a\\left(r\\right)\\right)} \\frac{\\partial\\,B}{\\partial r} + 2 \\, B\\left(t, r\\right) \\frac{\\partial\\,C}{\\partial r} + 4 \\, B\\left(t, r\\right) \\frac{\\partial\\,G}{\\partial r} + \\frac{\\partial^2\\,B}{\\partial r ^ 2} \\\\ X_{ \\, t \\, r \\, t }^{ \\phantom{\\, t}\\phantom{\\, r}\\phantom{\\, t} } & = & 6 \\, {\\left(a_{0} - a\\left(r\\right)\\right)} B\\left(t, r\\right) C\\left(t, r\\right) + 4 \\, B\\left(t, r\\right) C\\left(t, r\\right)^{2} + 14 \\, B\\left(t, r\\right) G\\left(t, r\\right)^{2} + {\\left(2 \\, a_{0}^{2} - 4 \\, a_{0} a\\left(r\\right) + 2 \\, a\\left(r\\right)^{2} + \\frac{\\partial\\,a}{\\partial r}\\right)} B\\left(t, r\\right) + 2 \\, {\\left(5 \\, {\\left(a_{0} - a\\left(r\\right)\\right)} B\\left(t, r\\right) + 6 \\, B\\left(t, r\\right) C\\left(t, r\\right)\\right)} G\\left(t, r\\right) + {\\left(a_{0} + C\\left(t, r\\right) + 2 \\, G\\left(t, r\\right) - a\\left(r\\right)\\right)} \\frac{\\partial\\,B}{\\partial r} - B\\left(t, r\\right) \\frac{\\partial\\,C}{\\partial r} - \\frac{\\partial^2\\,C}{\\partial t ^ 2} - 2 \\, \\frac{\\partial^2\\,G}{\\partial t ^ 2} \\\\ X_{ \\, t \\, r \\, r }^{ \\phantom{\\, t}\\phantom{\\, r}\\phantom{\\, r} } & = & -{\\left(a_{0} + 2 \\, G\\left(t, r\\right) - a\\left(r\\right)\\right)} \\frac{\\partial\\,C}{\\partial t} - 2 \\, {\\left(a_{0} + 2 \\, G\\left(t, r\\right) - a\\left(r\\right)\\right)} \\frac{\\partial\\,G}{\\partial t} - \\frac{\\partial^2\\,C}{\\partial t\\partial r} - 2 \\, \\frac{\\partial^2\\,G}{\\partial t\\partial r} \\\\ X_{ \\, t \\, {\\theta} \\, {\\theta} }^{ \\phantom{\\, t}\\phantom{\\, {\\theta}}\\phantom{\\, {\\theta}} } & = & F\\left(t, r\\right) \\frac{\\partial\\,C}{\\partial t} + 2 \\, F\\left(t, r\\right) \\frac{\\partial\\,G}{\\partial t} \\\\ X_{ \\, t \\, {\\phi} \\, {\\phi} }^{ \\phantom{\\, t}\\phantom{\\, {\\phi}}\\phantom{\\, {\\phi}} } & = & {\\left(F\\left(t, r\\right) \\frac{\\partial\\,C}{\\partial t} + 2 \\, F\\left(t, r\\right) \\frac{\\partial\\,G}{\\partial t}\\right)} \\sin\\left({\\theta}\\right)^{2} \\\\ X_{ \\, r \\, t \\, t }^{ \\phantom{\\, r}\\phantom{\\, t}\\phantom{\\, t} } & = & 6 \\, {\\left(a_{0} - a\\left(r\\right)\\right)} B\\left(t, r\\right) C\\left(t, r\\right) + 4 \\, B\\left(t, r\\right) C\\left(t, r\\right)^{2} + 14 \\, B\\left(t, r\\right) G\\left(t, r\\right)^{2} + {\\left(2 \\, a_{0}^{2} - 4 \\, a_{0} a\\left(r\\right) + 2 \\, a\\left(r\\right)^{2} + \\frac{\\partial\\,a}{\\partial r}\\right)} B\\left(t, r\\right) + 2 \\, {\\left(5 \\, {\\left(a_{0} - a\\left(r\\right)\\right)} B\\left(t, r\\right) + 6 \\, B\\left(t, r\\right) C\\left(t, r\\right)\\right)} G\\left(t, r\\right) + {\\left(a_{0} + C\\left(t, r\\right) + 2 \\, G\\left(t, r\\right) - a\\left(r\\right)\\right)} \\frac{\\partial\\,B}{\\partial r} - B\\left(t, r\\right) \\frac{\\partial\\,C}{\\partial r} - \\frac{\\partial^2\\,C}{\\partial t ^ 2} - 2 \\, \\frac{\\partial^2\\,G}{\\partial t ^ 2} \\\\ X_{ \\, r \\, t \\, r }^{ \\phantom{\\, r}\\phantom{\\, t}\\phantom{\\, r} } & = & -{\\left(a_{0} + 2 \\, G\\left(t, r\\right) - a\\left(r\\right)\\right)} \\frac{\\partial\\,C}{\\partial t} - 2 \\, {\\left(a_{0} + 2 \\, G\\left(t, r\\right) - a\\left(r\\right)\\right)} \\frac{\\partial\\,G}{\\partial t} - \\frac{\\partial^2\\,C}{\\partial t\\partial r} - 2 \\, \\frac{\\partial^2\\,G}{\\partial t\\partial r} \\\\ X_{ \\, r \\, r \\, t }^{ \\phantom{\\, r}\\phantom{\\, r}\\phantom{\\, t} } & = & -{\\left(5 \\, a_{0} + 6 \\, C\\left(t, r\\right) + 8 \\, G\\left(t, r\\right) - 5 \\, a\\left(r\\right)\\right)} \\frac{\\partial\\,C}{\\partial t} - 4 \\, {\\left(2 \\, a_{0} + 2 \\, C\\left(t, r\\right) + 5 \\, G\\left(t, r\\right) - 2 \\, a\\left(r\\right)\\right)} \\frac{\\partial\\,G}{\\partial t} + \\frac{\\partial^2\\,C}{\\partial t\\partial r} \\\\ X_{ \\, r \\, r \\, r }^{ \\phantom{\\, r}\\phantom{\\, r}\\phantom{\\, r} } & = & 6 \\, {\\left(a_{0} - a\\left(r\\right)\\right)} C\\left(t, r\\right)^{2} + 4 \\, C\\left(t, r\\right)^{3} + 12 \\, C\\left(t, r\\right) G\\left(t, r\\right)^{2} + {\\left(2 \\, a_{0}^{2} - 4 \\, a_{0} a\\left(r\\right) + 2 \\, a\\left(r\\right)^{2} + 5 \\, \\frac{\\partial\\,a}{\\partial r}\\right)} C\\left(t, r\\right) + 4 \\, {\\left(2 \\, {\\left(a_{0} - a\\left(r\\right)\\right)} C\\left(t, r\\right) + 2 \\, C\\left(t, r\\right)^{2} + \\frac{\\partial\\,a}{\\partial r}\\right)} G\\left(t, r\\right) - {\\left(3 \\, a_{0} + 6 \\, C\\left(t, r\\right) + 4 \\, G\\left(t, r\\right) - 3 \\, a\\left(r\\right)\\right)} \\frac{\\partial\\,C}{\\partial r} - 4 \\, {\\left(a_{0} + C\\left(t, r\\right) + 3 \\, G\\left(t, r\\right) - a\\left(r\\right)\\right)} \\frac{\\partial\\,G}{\\partial r} + 2 \\, {\\left(a_{0} - a\\left(r\\right)\\right)} \\frac{\\partial\\,a}{\\partial r} + \\frac{\\partial^2\\,C}{\\partial r ^ 2} - \\frac{\\partial^2\\,a}{\\partial r ^ 2} \\\\ X_{ \\, r \\, {\\theta} \\, {\\theta} }^{ \\phantom{\\, r}\\phantom{\\, {\\theta}}\\phantom{\\, {\\theta}} } & = & 8 \\, F\\left(t, r\\right) G\\left(t, r\\right)^{2} + {\\left(a_{0}^{2} + 3 \\, {\\left(a_{0} - a\\left(r\\right)\\right)} C\\left(t, r\\right) + 2 \\, C\\left(t, r\\right)^{2} - 2 \\, a_{0} a\\left(r\\right) + a\\left(r\\right)^{2} + \\frac{\\partial\\,a}{\\partial r}\\right)} F\\left(t, r\\right) + {\\left({\\left(5 \\, a_{0} + 4 \\, C\\left(t, r\\right) - 5 \\, a\\left(r\\right)\\right)} F\\left(t, r\\right) - 1\\right)} G\\left(t, r\\right) - F\\left(t, r\\right) \\frac{\\partial\\,C}{\\partial r} - G\\left(t, r\\right) \\frac{\\partial\\,F}{\\partial r} \\\\ X_{ \\, r \\, {\\phi} \\, {\\phi} }^{ \\phantom{\\, r}\\phantom{\\, {\\phi}}\\phantom{\\, {\\phi}} } & = & {\\left(8 \\, F\\left(t, r\\right) G\\left(t, r\\right)^{2} + {\\left(a_{0}^{2} + 3 \\, {\\left(a_{0} - a\\left(r\\right)\\right)} C\\left(t, r\\right) + 2 \\, C\\left(t, r\\right)^{2} - 2 \\, a_{0} a\\left(r\\right) + a\\left(r\\right)^{2} + \\frac{\\partial\\,a}{\\partial r}\\right)} F\\left(t, r\\right) + {\\left({\\left(5 \\, a_{0} + 4 \\, C\\left(t, r\\right) - 5 \\, a\\left(r\\right)\\right)} F\\left(t, r\\right) - 1\\right)} G\\left(t, r\\right) - F\\left(t, r\\right) \\frac{\\partial\\,C}{\\partial r} - G\\left(t, r\\right) \\frac{\\partial\\,F}{\\partial r}\\right)} \\sin\\left({\\theta}\\right)^{2} \\\\ X_{ \\, {\\theta} \\, t \\, {\\theta} }^{ \\phantom{\\, {\\theta}}\\phantom{\\, t}\\phantom{\\, {\\theta}} } & = & F\\left(t, r\\right) \\frac{\\partial\\,C}{\\partial t} + 2 \\, F\\left(t, r\\right) \\frac{\\partial\\,G}{\\partial t} \\\\ X_{ \\, {\\theta} \\, r \\, {\\theta} }^{ \\phantom{\\, {\\theta}}\\phantom{\\, r}\\phantom{\\, {\\theta}} } & = & 8 \\, F\\left(t, r\\right) G\\left(t, r\\right)^{2} + {\\left(a_{0}^{2} + 3 \\, {\\left(a_{0} - a\\left(r\\right)\\right)} C\\left(t, r\\right) + 2 \\, C\\left(t, r\\right)^{2} - 2 \\, a_{0} a\\left(r\\right) + a\\left(r\\right)^{2} + \\frac{\\partial\\,a}{\\partial r}\\right)} F\\left(t, r\\right) + {\\left({\\left(5 \\, a_{0} + 4 \\, C\\left(t, r\\right) - 5 \\, a\\left(r\\right)\\right)} F\\left(t, r\\right) - 1\\right)} G\\left(t, r\\right) - F\\left(t, r\\right) \\frac{\\partial\\,C}{\\partial r} - G\\left(t, r\\right) \\frac{\\partial\\,F}{\\partial r} \\\\ X_{ \\, {\\theta} \\, {\\theta} \\, t }^{ \\phantom{\\, {\\theta}}\\phantom{\\, {\\theta}}\\phantom{\\, t} } & = & -{\\left(a_{0} + 2 \\, G\\left(t, r\\right) - a\\left(r\\right)\\right)} \\frac{\\partial\\,F}{\\partial t} - 2 \\, F\\left(t, r\\right) \\frac{\\partial\\,G}{\\partial t} + \\frac{\\partial^2\\,F}{\\partial t\\partial r} \\\\ X_{ \\, {\\theta} \\, {\\theta} \\, r }^{ \\phantom{\\, {\\theta}}\\phantom{\\, {\\theta}}\\phantom{\\, r} } & = & 4 \\, F\\left(t, r\\right) G\\left(t, r\\right)^{2} + 2 \\, {\\left({\\left(a_{0} - a\\left(r\\right)\\right)} F\\left(t, r\\right) - 1\\right)} G\\left(t, r\\right) - {\\left(a_{0} + 4 \\, G\\left(t, r\\right) - a\\left(r\\right)\\right)} \\frac{\\partial\\,F}{\\partial r} - 2 \\, F\\left(t, r\\right) \\frac{\\partial\\,G}{\\partial r} + F\\left(t, r\\right) \\frac{\\partial\\,a}{\\partial r} + \\frac{\\partial^2\\,F}{\\partial r ^ 2} \\\\ X_{ \\, {\\phi} \\, t \\, {\\phi} }^{ \\phantom{\\, {\\phi}}\\phantom{\\, t}\\phantom{\\, {\\phi}} } & = & {\\left(F\\left(t, r\\right) \\frac{\\partial\\,C}{\\partial t} + 2 \\, F\\left(t, r\\right) \\frac{\\partial\\,G}{\\partial t}\\right)} \\sin\\left({\\theta}\\right)^{2} \\\\ X_{ \\, {\\phi} \\, r \\, {\\phi} }^{ \\phantom{\\, {\\phi}}\\phantom{\\, r}\\phantom{\\, {\\phi}} } & = & {\\left(8 \\, F\\left(t, r\\right) G\\left(t, r\\right)^{2} + {\\left(a_{0}^{2} + 3 \\, {\\left(a_{0} - a\\left(r\\right)\\right)} C\\left(t, r\\right) + 2 \\, C\\left(t, r\\right)^{2} - 2 \\, a_{0} a\\left(r\\right) + a\\left(r\\right)^{2} + \\frac{\\partial\\,a}{\\partial r}\\right)} F\\left(t, r\\right) + {\\left({\\left(5 \\, a_{0} + 4 \\, C\\left(t, r\\right) - 5 \\, a\\left(r\\right)\\right)} F\\left(t, r\\right) - 1\\right)} G\\left(t, r\\right) - F\\left(t, r\\right) \\frac{\\partial\\,C}{\\partial r} - G\\left(t, r\\right) \\frac{\\partial\\,F}{\\partial r}\\right)} \\sin\\left({\\theta}\\right)^{2} \\\\ X_{ \\, {\\phi} \\, {\\phi} \\, t }^{ \\phantom{\\, {\\phi}}\\phantom{\\, {\\phi}}\\phantom{\\, t} } & = & -{\\left({\\left(a_{0} + 2 \\, G\\left(t, r\\right) - a\\left(r\\right)\\right)} \\frac{\\partial\\,F}{\\partial t} + 2 \\, F\\left(t, r\\right) \\frac{\\partial\\,G}{\\partial t} - \\frac{\\partial^2\\,F}{\\partial t\\partial r}\\right)} \\sin\\left({\\theta}\\right)^{2} \\\\ X_{ \\, {\\phi} \\, {\\phi} \\, r }^{ \\phantom{\\, {\\phi}}\\phantom{\\, {\\phi}}\\phantom{\\, r} } & = & {\\left(4 \\, F\\left(t, r\\right) G\\left(t, r\\right)^{2} + 2 \\, {\\left({\\left(a_{0} - a\\left(r\\right)\\right)} F\\left(t, r\\right) - 1\\right)} G\\left(t, r\\right) - {\\left(a_{0} + 4 \\, G\\left(t, r\\right) - a\\left(r\\right)\\right)} \\frac{\\partial\\,F}{\\partial r} - 2 \\, F\\left(t, r\\right) \\frac{\\partial\\,G}{\\partial r} + F\\left(t, r\\right) \\frac{\\partial\\,a}{\\partial r} + \\frac{\\partial^2\\,F}{\\partial r ^ 2}\\right)} \\sin\\left({\\theta}\\right)^{2} \\end{array}\\)</html>"
      ],
      "text/latex": [
       "$\\displaystyle \\begin{array}{lcl} X_{ \\, t \\, t \\, t }^{ \\phantom{\\, t}\\phantom{\\, t}\\phantom{\\, t} } & = & {\\left(a_{0} + 2 \\, C\\left(t, r\\right) + 4 \\, G\\left(t, r\\right) - a\\left(r\\right)\\right)} \\frac{\\partial\\,B}{\\partial t} + 4 \\, B\\left(t, r\\right) \\frac{\\partial\\,C}{\\partial t} + 8 \\, B\\left(t, r\\right) \\frac{\\partial\\,G}{\\partial t} + \\frac{\\partial^2\\,B}{\\partial t\\partial r} \\\\ X_{ \\, t \\, t \\, r }^{ \\phantom{\\, t}\\phantom{\\, t}\\phantom{\\, r} } & = & 6 \\, {\\left(a_{0} - a\\left(r\\right)\\right)} B\\left(t, r\\right) C\\left(t, r\\right) + 4 \\, B\\left(t, r\\right) C\\left(t, r\\right)^{2} + 16 \\, B\\left(t, r\\right) G\\left(t, r\\right)^{2} + {\\left(2 \\, a_{0}^{2} - 4 \\, a_{0} a\\left(r\\right) + 2 \\, a\\left(r\\right)^{2} - \\frac{\\partial\\,a}{\\partial r}\\right)} B\\left(t, r\\right) + 4 \\, {\\left(3 \\, {\\left(a_{0} - a\\left(r\\right)\\right)} B\\left(t, r\\right) + 4 \\, B\\left(t, r\\right) C\\left(t, r\\right)\\right)} G\\left(t, r\\right) + {\\left(3 \\, a_{0} + 4 \\, C\\left(t, r\\right) + 8 \\, G\\left(t, r\\right) - 3 \\, a\\left(r\\right)\\right)} \\frac{\\partial\\,B}{\\partial r} + 2 \\, B\\left(t, r\\right) \\frac{\\partial\\,C}{\\partial r} + 4 \\, B\\left(t, r\\right) \\frac{\\partial\\,G}{\\partial r} + \\frac{\\partial^2\\,B}{\\partial r ^ 2} \\\\ X_{ \\, t \\, r \\, t }^{ \\phantom{\\, t}\\phantom{\\, r}\\phantom{\\, t} } & = & 6 \\, {\\left(a_{0} - a\\left(r\\right)\\right)} B\\left(t, r\\right) C\\left(t, r\\right) + 4 \\, B\\left(t, r\\right) C\\left(t, r\\right)^{2} + 14 \\, B\\left(t, r\\right) G\\left(t, r\\right)^{2} + {\\left(2 \\, a_{0}^{2} - 4 \\, a_{0} a\\left(r\\right) + 2 \\, a\\left(r\\right)^{2} + \\frac{\\partial\\,a}{\\partial r}\\right)} B\\left(t, r\\right) + 2 \\, {\\left(5 \\, {\\left(a_{0} - a\\left(r\\right)\\right)} B\\left(t, r\\right) + 6 \\, B\\left(t, r\\right) C\\left(t, r\\right)\\right)} G\\left(t, r\\right) + {\\left(a_{0} + C\\left(t, r\\right) + 2 \\, G\\left(t, r\\right) - a\\left(r\\right)\\right)} \\frac{\\partial\\,B}{\\partial r} - B\\left(t, r\\right) \\frac{\\partial\\,C}{\\partial r} - \\frac{\\partial^2\\,C}{\\partial t ^ 2} - 2 \\, \\frac{\\partial^2\\,G}{\\partial t ^ 2} \\\\ X_{ \\, t \\, r \\, r }^{ \\phantom{\\, t}\\phantom{\\, r}\\phantom{\\, r} } & = & -{\\left(a_{0} + 2 \\, G\\left(t, r\\right) - a\\left(r\\right)\\right)} \\frac{\\partial\\,C}{\\partial t} - 2 \\, {\\left(a_{0} + 2 \\, G\\left(t, r\\right) - a\\left(r\\right)\\right)} \\frac{\\partial\\,G}{\\partial t} - \\frac{\\partial^2\\,C}{\\partial t\\partial r} - 2 \\, \\frac{\\partial^2\\,G}{\\partial t\\partial r} \\\\ X_{ \\, t \\, {\\theta} \\, {\\theta} }^{ \\phantom{\\, t}\\phantom{\\, {\\theta}}\\phantom{\\, {\\theta}} } & = & F\\left(t, r\\right) \\frac{\\partial\\,C}{\\partial t} + 2 \\, F\\left(t, r\\right) \\frac{\\partial\\,G}{\\partial t} \\\\ X_{ \\, t \\, {\\phi} \\, {\\phi} }^{ \\phantom{\\, t}\\phantom{\\, {\\phi}}\\phantom{\\, {\\phi}} } & = & {\\left(F\\left(t, r\\right) \\frac{\\partial\\,C}{\\partial t} + 2 \\, F\\left(t, r\\right) \\frac{\\partial\\,G}{\\partial t}\\right)} \\sin\\left({\\theta}\\right)^{2} \\\\ X_{ \\, r \\, t \\, t }^{ \\phantom{\\, r}\\phantom{\\, t}\\phantom{\\, t} } & = & 6 \\, {\\left(a_{0} - a\\left(r\\right)\\right)} B\\left(t, r\\right) C\\left(t, r\\right) + 4 \\, B\\left(t, r\\right) C\\left(t, r\\right)^{2} + 14 \\, B\\left(t, r\\right) G\\left(t, r\\right)^{2} + {\\left(2 \\, a_{0}^{2} - 4 \\, a_{0} a\\left(r\\right) + 2 \\, a\\left(r\\right)^{2} + \\frac{\\partial\\,a}{\\partial r}\\right)} B\\left(t, r\\right) + 2 \\, {\\left(5 \\, {\\left(a_{0} - a\\left(r\\right)\\right)} B\\left(t, r\\right) + 6 \\, B\\left(t, r\\right) C\\left(t, r\\right)\\right)} G\\left(t, r\\right) + {\\left(a_{0} + C\\left(t, r\\right) + 2 \\, G\\left(t, r\\right) - a\\left(r\\right)\\right)} \\frac{\\partial\\,B}{\\partial r} - B\\left(t, r\\right) \\frac{\\partial\\,C}{\\partial r} - \\frac{\\partial^2\\,C}{\\partial t ^ 2} - 2 \\, \\frac{\\partial^2\\,G}{\\partial t ^ 2} \\\\ X_{ \\, r \\, t \\, r }^{ \\phantom{\\, r}\\phantom{\\, t}\\phantom{\\, r} } & = & -{\\left(a_{0} + 2 \\, G\\left(t, r\\right) - a\\left(r\\right)\\right)} \\frac{\\partial\\,C}{\\partial t} - 2 \\, {\\left(a_{0} + 2 \\, G\\left(t, r\\right) - a\\left(r\\right)\\right)} \\frac{\\partial\\,G}{\\partial t} - \\frac{\\partial^2\\,C}{\\partial t\\partial r} - 2 \\, \\frac{\\partial^2\\,G}{\\partial t\\partial r} \\\\ X_{ \\, r \\, r \\, t }^{ \\phantom{\\, r}\\phantom{\\, r}\\phantom{\\, t} } & = & -{\\left(5 \\, a_{0} + 6 \\, C\\left(t, r\\right) + 8 \\, G\\left(t, r\\right) - 5 \\, a\\left(r\\right)\\right)} \\frac{\\partial\\,C}{\\partial t} - 4 \\, {\\left(2 \\, a_{0} + 2 \\, C\\left(t, r\\right) + 5 \\, G\\left(t, r\\right) - 2 \\, a\\left(r\\right)\\right)} \\frac{\\partial\\,G}{\\partial t} + \\frac{\\partial^2\\,C}{\\partial t\\partial r} \\\\ X_{ \\, r \\, r \\, r }^{ \\phantom{\\, r}\\phantom{\\, r}\\phantom{\\, r} } & = & 6 \\, {\\left(a_{0} - a\\left(r\\right)\\right)} C\\left(t, r\\right)^{2} + 4 \\, C\\left(t, r\\right)^{3} + 12 \\, C\\left(t, r\\right) G\\left(t, r\\right)^{2} + {\\left(2 \\, a_{0}^{2} - 4 \\, a_{0} a\\left(r\\right) + 2 \\, a\\left(r\\right)^{2} + 5 \\, \\frac{\\partial\\,a}{\\partial r}\\right)} C\\left(t, r\\right) + 4 \\, {\\left(2 \\, {\\left(a_{0} - a\\left(r\\right)\\right)} C\\left(t, r\\right) + 2 \\, C\\left(t, r\\right)^{2} + \\frac{\\partial\\,a}{\\partial r}\\right)} G\\left(t, r\\right) - {\\left(3 \\, a_{0} + 6 \\, C\\left(t, r\\right) + 4 \\, G\\left(t, r\\right) - 3 \\, a\\left(r\\right)\\right)} \\frac{\\partial\\,C}{\\partial r} - 4 \\, {\\left(a_{0} + C\\left(t, r\\right) + 3 \\, G\\left(t, r\\right) - a\\left(r\\right)\\right)} \\frac{\\partial\\,G}{\\partial r} + 2 \\, {\\left(a_{0} - a\\left(r\\right)\\right)} \\frac{\\partial\\,a}{\\partial r} + \\frac{\\partial^2\\,C}{\\partial r ^ 2} - \\frac{\\partial^2\\,a}{\\partial r ^ 2} \\\\ X_{ \\, r \\, {\\theta} \\, {\\theta} }^{ \\phantom{\\, r}\\phantom{\\, {\\theta}}\\phantom{\\, {\\theta}} } & = & 8 \\, F\\left(t, r\\right) G\\left(t, r\\right)^{2} + {\\left(a_{0}^{2} + 3 \\, {\\left(a_{0} - a\\left(r\\right)\\right)} C\\left(t, r\\right) + 2 \\, C\\left(t, r\\right)^{2} - 2 \\, a_{0} a\\left(r\\right) + a\\left(r\\right)^{2} + \\frac{\\partial\\,a}{\\partial r}\\right)} F\\left(t, r\\right) + {\\left({\\left(5 \\, a_{0} + 4 \\, C\\left(t, r\\right) - 5 \\, a\\left(r\\right)\\right)} F\\left(t, r\\right) - 1\\right)} G\\left(t, r\\right) - F\\left(t, r\\right) \\frac{\\partial\\,C}{\\partial r} - G\\left(t, r\\right) \\frac{\\partial\\,F}{\\partial r} \\\\ X_{ \\, r \\, {\\phi} \\, {\\phi} }^{ \\phantom{\\, r}\\phantom{\\, {\\phi}}\\phantom{\\, {\\phi}} } & = & {\\left(8 \\, F\\left(t, r\\right) G\\left(t, r\\right)^{2} + {\\left(a_{0}^{2} + 3 \\, {\\left(a_{0} - a\\left(r\\right)\\right)} C\\left(t, r\\right) + 2 \\, C\\left(t, r\\right)^{2} - 2 \\, a_{0} a\\left(r\\right) + a\\left(r\\right)^{2} + \\frac{\\partial\\,a}{\\partial r}\\right)} F\\left(t, r\\right) + {\\left({\\left(5 \\, a_{0} + 4 \\, C\\left(t, r\\right) - 5 \\, a\\left(r\\right)\\right)} F\\left(t, r\\right) - 1\\right)} G\\left(t, r\\right) - F\\left(t, r\\right) \\frac{\\partial\\,C}{\\partial r} - G\\left(t, r\\right) \\frac{\\partial\\,F}{\\partial r}\\right)} \\sin\\left({\\theta}\\right)^{2} \\\\ X_{ \\, {\\theta} \\, t \\, {\\theta} }^{ \\phantom{\\, {\\theta}}\\phantom{\\, t}\\phantom{\\, {\\theta}} } & = & F\\left(t, r\\right) \\frac{\\partial\\,C}{\\partial t} + 2 \\, F\\left(t, r\\right) \\frac{\\partial\\,G}{\\partial t} \\\\ X_{ \\, {\\theta} \\, r \\, {\\theta} }^{ \\phantom{\\, {\\theta}}\\phantom{\\, r}\\phantom{\\, {\\theta}} } & = & 8 \\, F\\left(t, r\\right) G\\left(t, r\\right)^{2} + {\\left(a_{0}^{2} + 3 \\, {\\left(a_{0} - a\\left(r\\right)\\right)} C\\left(t, r\\right) + 2 \\, C\\left(t, r\\right)^{2} - 2 \\, a_{0} a\\left(r\\right) + a\\left(r\\right)^{2} + \\frac{\\partial\\,a}{\\partial r}\\right)} F\\left(t, r\\right) + {\\left({\\left(5 \\, a_{0} + 4 \\, C\\left(t, r\\right) - 5 \\, a\\left(r\\right)\\right)} F\\left(t, r\\right) - 1\\right)} G\\left(t, r\\right) - F\\left(t, r\\right) \\frac{\\partial\\,C}{\\partial r} - G\\left(t, r\\right) \\frac{\\partial\\,F}{\\partial r} \\\\ X_{ \\, {\\theta} \\, {\\theta} \\, t }^{ \\phantom{\\, {\\theta}}\\phantom{\\, {\\theta}}\\phantom{\\, t} } & = & -{\\left(a_{0} + 2 \\, G\\left(t, r\\right) - a\\left(r\\right)\\right)} \\frac{\\partial\\,F}{\\partial t} - 2 \\, F\\left(t, r\\right) \\frac{\\partial\\,G}{\\partial t} + \\frac{\\partial^2\\,F}{\\partial t\\partial r} \\\\ X_{ \\, {\\theta} \\, {\\theta} \\, r }^{ \\phantom{\\, {\\theta}}\\phantom{\\, {\\theta}}\\phantom{\\, r} } & = & 4 \\, F\\left(t, r\\right) G\\left(t, r\\right)^{2} + 2 \\, {\\left({\\left(a_{0} - a\\left(r\\right)\\right)} F\\left(t, r\\right) - 1\\right)} G\\left(t, r\\right) - {\\left(a_{0} + 4 \\, G\\left(t, r\\right) - a\\left(r\\right)\\right)} \\frac{\\partial\\,F}{\\partial r} - 2 \\, F\\left(t, r\\right) \\frac{\\partial\\,G}{\\partial r} + F\\left(t, r\\right) \\frac{\\partial\\,a}{\\partial r} + \\frac{\\partial^2\\,F}{\\partial r ^ 2} \\\\ X_{ \\, {\\phi} \\, t \\, {\\phi} }^{ \\phantom{\\, {\\phi}}\\phantom{\\, t}\\phantom{\\, {\\phi}} } & = & {\\left(F\\left(t, r\\right) \\frac{\\partial\\,C}{\\partial t} + 2 \\, F\\left(t, r\\right) \\frac{\\partial\\,G}{\\partial t}\\right)} \\sin\\left({\\theta}\\right)^{2} \\\\ X_{ \\, {\\phi} \\, r \\, {\\phi} }^{ \\phantom{\\, {\\phi}}\\phantom{\\, r}\\phantom{\\, {\\phi}} } & = & {\\left(8 \\, F\\left(t, r\\right) G\\left(t, r\\right)^{2} + {\\left(a_{0}^{2} + 3 \\, {\\left(a_{0} - a\\left(r\\right)\\right)} C\\left(t, r\\right) + 2 \\, C\\left(t, r\\right)^{2} - 2 \\, a_{0} a\\left(r\\right) + a\\left(r\\right)^{2} + \\frac{\\partial\\,a}{\\partial r}\\right)} F\\left(t, r\\right) + {\\left({\\left(5 \\, a_{0} + 4 \\, C\\left(t, r\\right) - 5 \\, a\\left(r\\right)\\right)} F\\left(t, r\\right) - 1\\right)} G\\left(t, r\\right) - F\\left(t, r\\right) \\frac{\\partial\\,C}{\\partial r} - G\\left(t, r\\right) \\frac{\\partial\\,F}{\\partial r}\\right)} \\sin\\left({\\theta}\\right)^{2} \\\\ X_{ \\, {\\phi} \\, {\\phi} \\, t }^{ \\phantom{\\, {\\phi}}\\phantom{\\, {\\phi}}\\phantom{\\, t} } & = & -{\\left({\\left(a_{0} + 2 \\, G\\left(t, r\\right) - a\\left(r\\right)\\right)} \\frac{\\partial\\,F}{\\partial t} + 2 \\, F\\left(t, r\\right) \\frac{\\partial\\,G}{\\partial t} - \\frac{\\partial^2\\,F}{\\partial t\\partial r}\\right)} \\sin\\left({\\theta}\\right)^{2} \\\\ X_{ \\, {\\phi} \\, {\\phi} \\, r }^{ \\phantom{\\, {\\phi}}\\phantom{\\, {\\phi}}\\phantom{\\, r} } & = & {\\left(4 \\, F\\left(t, r\\right) G\\left(t, r\\right)^{2} + 2 \\, {\\left({\\left(a_{0} - a\\left(r\\right)\\right)} F\\left(t, r\\right) - 1\\right)} G\\left(t, r\\right) - {\\left(a_{0} + 4 \\, G\\left(t, r\\right) - a\\left(r\\right)\\right)} \\frac{\\partial\\,F}{\\partial r} - 2 \\, F\\left(t, r\\right) \\frac{\\partial\\,G}{\\partial r} + F\\left(t, r\\right) \\frac{\\partial\\,a}{\\partial r} + \\frac{\\partial^2\\,F}{\\partial r ^ 2}\\right)} \\sin\\left({\\theta}\\right)^{2} \\end{array}$"
      ],
      "text/plain": [
       "X_t,t,t = (a_0 + 2*C(t, r) + 4*G(t, r) - a(r))*d(B)/dt + 4*B(t, r)*d(C)/dt + 8*B(t, r)*d(G)/dt + d^2(B)/dtdr \n",
       "X_t,t,r = 6*(a_0 - a(r))*B(t, r)*C(t, r) + 4*B(t, r)*C(t, r)^2 + 16*B(t, r)*G(t, r)^2 + (2*a_0^2 - 4*a_0*a(r) + 2*a(r)^2 - d(a)/dr)*B(t, r) + 4*(3*(a_0 - a(r))*B(t, r) + 4*B(t, r)*C(t, r))*G(t, r) + (3*a_0 + 4*C(t, r) + 8*G(t, r) - 3*a(r))*d(B)/dr + 2*B(t, r)*d(C)/dr + 4*B(t, r)*d(G)/dr + d^2(B)/dr^2 \n",
       "X_t,r,t = 6*(a_0 - a(r))*B(t, r)*C(t, r) + 4*B(t, r)*C(t, r)^2 + 14*B(t, r)*G(t, r)^2 + (2*a_0^2 - 4*a_0*a(r) + 2*a(r)^2 + d(a)/dr)*B(t, r) + 2*(5*(a_0 - a(r))*B(t, r) + 6*B(t, r)*C(t, r))*G(t, r) + (a_0 + C(t, r) + 2*G(t, r) - a(r))*d(B)/dr - B(t, r)*d(C)/dr - d^2(C)/dt^2 - 2*d^2(G)/dt^2 \n",
       "X_t,r,r = -(a_0 + 2*G(t, r) - a(r))*d(C)/dt - 2*(a_0 + 2*G(t, r) - a(r))*d(G)/dt - d^2(C)/dtdr - 2*d^2(G)/dtdr \n",
       "X_t,th,th = F(t, r)*d(C)/dt + 2*F(t, r)*d(G)/dt \n",
       "X_t,ph,ph = (F(t, r)*d(C)/dt + 2*F(t, r)*d(G)/dt)*sin(th)^2 \n",
       "X_r,t,t = 6*(a_0 - a(r))*B(t, r)*C(t, r) + 4*B(t, r)*C(t, r)^2 + 14*B(t, r)*G(t, r)^2 + (2*a_0^2 - 4*a_0*a(r) + 2*a(r)^2 + d(a)/dr)*B(t, r) + 2*(5*(a_0 - a(r))*B(t, r) + 6*B(t, r)*C(t, r))*G(t, r) + (a_0 + C(t, r) + 2*G(t, r) - a(r))*d(B)/dr - B(t, r)*d(C)/dr - d^2(C)/dt^2 - 2*d^2(G)/dt^2 \n",
       "X_r,t,r = -(a_0 + 2*G(t, r) - a(r))*d(C)/dt - 2*(a_0 + 2*G(t, r) - a(r))*d(G)/dt - d^2(C)/dtdr - 2*d^2(G)/dtdr \n",
       "X_r,r,t = -(5*a_0 + 6*C(t, r) + 8*G(t, r) - 5*a(r))*d(C)/dt - 4*(2*a_0 + 2*C(t, r) + 5*G(t, r) - 2*a(r))*d(G)/dt + d^2(C)/dtdr \n",
       "X_r,r,r = 6*(a_0 - a(r))*C(t, r)^2 + 4*C(t, r)^3 + 12*C(t, r)*G(t, r)^2 + (2*a_0^2 - 4*a_0*a(r) + 2*a(r)^2 + 5*d(a)/dr)*C(t, r) + 4*(2*(a_0 - a(r))*C(t, r) + 2*C(t, r)^2 + d(a)/dr)*G(t, r) - (3*a_0 + 6*C(t, r) + 4*G(t, r) - 3*a(r))*d(C)/dr - 4*(a_0 + C(t, r) + 3*G(t, r) - a(r))*d(G)/dr + 2*(a_0 - a(r))*d(a)/dr + d^2(C)/dr^2 - d^2(a)/dr^2 \n",
       "X_r,th,th = 8*F(t, r)*G(t, r)^2 + (a_0^2 + 3*(a_0 - a(r))*C(t, r) + 2*C(t, r)^2 - 2*a_0*a(r) + a(r)^2 + d(a)/dr)*F(t, r) + ((5*a_0 + 4*C(t, r) - 5*a(r))*F(t, r) - 1)*G(t, r) - F(t, r)*d(C)/dr - G(t, r)*d(F)/dr \n",
       "X_r,ph,ph = (8*F(t, r)*G(t, r)^2 + (a_0^2 + 3*(a_0 - a(r))*C(t, r) + 2*C(t, r)^2 - 2*a_0*a(r) + a(r)^2 + d(a)/dr)*F(t, r) + ((5*a_0 + 4*C(t, r) - 5*a(r))*F(t, r) - 1)*G(t, r) - F(t, r)*d(C)/dr - G(t, r)*d(F)/dr)*sin(th)^2 \n",
       "X_th,t,th = F(t, r)*d(C)/dt + 2*F(t, r)*d(G)/dt \n",
       "X_th,r,th = 8*F(t, r)*G(t, r)^2 + (a_0^2 + 3*(a_0 - a(r))*C(t, r) + 2*C(t, r)^2 - 2*a_0*a(r) + a(r)^2 + d(a)/dr)*F(t, r) + ((5*a_0 + 4*C(t, r) - 5*a(r))*F(t, r) - 1)*G(t, r) - F(t, r)*d(C)/dr - G(t, r)*d(F)/dr \n",
       "X_th,th,t = -(a_0 + 2*G(t, r) - a(r))*d(F)/dt - 2*F(t, r)*d(G)/dt + d^2(F)/dtdr \n",
       "X_th,th,r = 4*F(t, r)*G(t, r)^2 + 2*((a_0 - a(r))*F(t, r) - 1)*G(t, r) - (a_0 + 4*G(t, r) - a(r))*d(F)/dr - 2*F(t, r)*d(G)/dr + F(t, r)*d(a)/dr + d^2(F)/dr^2 \n",
       "X_ph,t,ph = (F(t, r)*d(C)/dt + 2*F(t, r)*d(G)/dt)*sin(th)^2 \n",
       "X_ph,r,ph = (8*F(t, r)*G(t, r)^2 + (a_0^2 + 3*(a_0 - a(r))*C(t, r) + 2*C(t, r)^2 - 2*a_0*a(r) + a(r)^2 + d(a)/dr)*F(t, r) + ((5*a_0 + 4*C(t, r) - 5*a(r))*F(t, r) - 1)*G(t, r) - F(t, r)*d(C)/dr - G(t, r)*d(F)/dr)*sin(th)^2 \n",
       "X_ph,ph,t = -((a_0 + 2*G(t, r) - a(r))*d(F)/dt + 2*F(t, r)*d(G)/dt - d^2(F)/dtdr)*sin(th)^2 \n",
       "X_ph,ph,r = (4*F(t, r)*G(t, r)^2 + 2*((a_0 - a(r))*F(t, r) - 1)*G(t, r) - (a_0 + 4*G(t, r) - a(r))*d(F)/dr - 2*F(t, r)*d(G)/dr + F(t, r)*d(a)/dr + d^2(F)/dr^2)*sin(th)^2 "
      ]
     },
     "execution_count": 28,
     "metadata": {},
     "output_type": "execute_result"
    }
   ],
   "source": [
    "#riemann en temrinos de invariantes proyectivos\n",
    "NRicci = T(Ricci)\n",
    "NRicci.display_comp()"
   ]
  },
  {
   "cell_type": "markdown",
   "id": "6b56a7e7",
   "metadata": {},
   "source": [
    "###  Third field equation $\\nabla_{[\\delta} \\mathcal{R}_{\\mu]\\nu} = 0$"
   ]
  },
  {
   "cell_type": "code",
   "execution_count": 29,
   "id": "bf8f9cc8",
   "metadata": {},
   "outputs": [
    {
     "data": {
      "text/html": [
       "<html>\\(\\displaystyle \\begin{array}{lcl} X_{ \\, t \\, t \\, r }^{ \\phantom{\\, t}\\phantom{\\, t}\\phantom{\\, r} } & = & B\\left(t, r\\right) G\\left(t, r\\right)^{2} + {\\left({\\left(a_{0} - a\\left(r\\right)\\right)} B\\left(t, r\\right) + 2 \\, B\\left(t, r\\right) C\\left(t, r\\right)\\right)} G\\left(t, r\\right) + \\frac{1}{2} \\, {\\left(2 \\, a_{0} + 3 \\, C\\left(t, r\\right) + 6 \\, G\\left(t, r\\right) - 2 \\, a\\left(r\\right)\\right)} \\frac{\\partial\\,B}{\\partial r} + \\frac{3}{2} \\, B\\left(t, r\\right) \\frac{\\partial\\,C}{\\partial r} + 2 \\, B\\left(t, r\\right) \\frac{\\partial\\,G}{\\partial r} - B\\left(t, r\\right) \\frac{\\partial\\,a}{\\partial r} + \\frac{1}{2} \\, \\frac{\\partial^2\\,B}{\\partial r ^ 2} + \\frac{1}{2} \\, \\frac{\\partial^2\\,C}{\\partial t ^ 2} + \\frac{\\partial^2\\,G}{\\partial t ^ 2} \\\\ X_{ \\, t \\, r \\, r }^{ \\phantom{\\, t}\\phantom{\\, r}\\phantom{\\, r} } & = & {\\left(2 \\, a_{0} + 3 \\, C\\left(t, r\\right) + 3 \\, G\\left(t, r\\right) - 2 \\, a\\left(r\\right)\\right)} \\frac{\\partial\\,C}{\\partial t} + {\\left(3 \\, a_{0} + 4 \\, C\\left(t, r\\right) + 8 \\, G\\left(t, r\\right) - 3 \\, a\\left(r\\right)\\right)} \\frac{\\partial\\,G}{\\partial t} - \\frac{\\partial^2\\,C}{\\partial t\\partial r} - \\frac{\\partial^2\\,G}{\\partial t\\partial r} \\\\ X_{ \\, t \\, {\\theta} \\, {\\theta} }^{ \\phantom{\\, t}\\phantom{\\, {\\theta}}\\phantom{\\, {\\theta}} } & = & \\frac{1}{2} \\, F\\left(t, r\\right) \\frac{\\partial\\,C}{\\partial t} + \\frac{1}{2} \\, {\\left(a_{0} + 2 \\, G\\left(t, r\\right) - a\\left(r\\right)\\right)} \\frac{\\partial\\,F}{\\partial t} + 2 \\, F\\left(t, r\\right) \\frac{\\partial\\,G}{\\partial t} - \\frac{1}{2} \\, \\frac{\\partial^2\\,F}{\\partial t\\partial r} \\\\ X_{ \\, t \\, {\\phi} \\, {\\phi} }^{ \\phantom{\\, t}\\phantom{\\, {\\phi}}\\phantom{\\, {\\phi}} } & = & \\frac{1}{2} \\, {\\left(F\\left(t, r\\right) \\frac{\\partial\\,C}{\\partial t} + {\\left(a_{0} + 2 \\, G\\left(t, r\\right) - a\\left(r\\right)\\right)} \\frac{\\partial\\,F}{\\partial t} + 4 \\, F\\left(t, r\\right) \\frac{\\partial\\,G}{\\partial t} - \\frac{\\partial^2\\,F}{\\partial t\\partial r}\\right)} \\sin\\left({\\theta}\\right)^{2} \\\\ X_{ \\, r \\, {\\theta} \\, {\\theta} }^{ \\phantom{\\, r}\\phantom{\\, {\\theta}}\\phantom{\\, {\\theta}} } & = & 2 \\, F\\left(t, r\\right) G\\left(t, r\\right)^{2} + \\frac{1}{2} \\, {\\left(a_{0}^{2} + 3 \\, {\\left(a_{0} - a\\left(r\\right)\\right)} C\\left(t, r\\right) + 2 \\, C\\left(t, r\\right)^{2} - 2 \\, a_{0} a\\left(r\\right) + a\\left(r\\right)^{2}\\right)} F\\left(t, r\\right) + \\frac{1}{2} \\, {\\left({\\left(3 \\, a_{0} + 4 \\, C\\left(t, r\\right) - 3 \\, a\\left(r\\right)\\right)} F\\left(t, r\\right) + 1\\right)} G\\left(t, r\\right) - \\frac{1}{2} \\, F\\left(t, r\\right) \\frac{\\partial\\,C}{\\partial r} + \\frac{1}{2} \\, {\\left(a_{0} + 3 \\, G\\left(t, r\\right) - a\\left(r\\right)\\right)} \\frac{\\partial\\,F}{\\partial r} + F\\left(t, r\\right) \\frac{\\partial\\,G}{\\partial r} - \\frac{1}{2} \\, \\frac{\\partial^2\\,F}{\\partial r ^ 2} \\\\ X_{ \\, r \\, {\\phi} \\, {\\phi} }^{ \\phantom{\\, r}\\phantom{\\, {\\phi}}\\phantom{\\, {\\phi}} } & = & \\frac{1}{2} \\, {\\left(4 \\, F\\left(t, r\\right) G\\left(t, r\\right)^{2} + {\\left(a_{0}^{2} + 3 \\, {\\left(a_{0} - a\\left(r\\right)\\right)} C\\left(t, r\\right) + 2 \\, C\\left(t, r\\right)^{2} - 2 \\, a_{0} a\\left(r\\right) + a\\left(r\\right)^{2}\\right)} F\\left(t, r\\right) + {\\left({\\left(3 \\, a_{0} + 4 \\, C\\left(t, r\\right) - 3 \\, a\\left(r\\right)\\right)} F\\left(t, r\\right) + 1\\right)} G\\left(t, r\\right) - F\\left(t, r\\right) \\frac{\\partial\\,C}{\\partial r} + {\\left(a_{0} + 3 \\, G\\left(t, r\\right) - a\\left(r\\right)\\right)} \\frac{\\partial\\,F}{\\partial r} + 2 \\, F\\left(t, r\\right) \\frac{\\partial\\,G}{\\partial r} - \\frac{\\partial^2\\,F}{\\partial r ^ 2}\\right)} \\sin\\left({\\theta}\\right)^{2} \\end{array}\\)</html>"
      ],
      "text/latex": [
       "$\\displaystyle \\begin{array}{lcl} X_{ \\, t \\, t \\, r }^{ \\phantom{\\, t}\\phantom{\\, t}\\phantom{\\, r} } & = & B\\left(t, r\\right) G\\left(t, r\\right)^{2} + {\\left({\\left(a_{0} - a\\left(r\\right)\\right)} B\\left(t, r\\right) + 2 \\, B\\left(t, r\\right) C\\left(t, r\\right)\\right)} G\\left(t, r\\right) + \\frac{1}{2} \\, {\\left(2 \\, a_{0} + 3 \\, C\\left(t, r\\right) + 6 \\, G\\left(t, r\\right) - 2 \\, a\\left(r\\right)\\right)} \\frac{\\partial\\,B}{\\partial r} + \\frac{3}{2} \\, B\\left(t, r\\right) \\frac{\\partial\\,C}{\\partial r} + 2 \\, B\\left(t, r\\right) \\frac{\\partial\\,G}{\\partial r} - B\\left(t, r\\right) \\frac{\\partial\\,a}{\\partial r} + \\frac{1}{2} \\, \\frac{\\partial^2\\,B}{\\partial r ^ 2} + \\frac{1}{2} \\, \\frac{\\partial^2\\,C}{\\partial t ^ 2} + \\frac{\\partial^2\\,G}{\\partial t ^ 2} \\\\ X_{ \\, t \\, r \\, r }^{ \\phantom{\\, t}\\phantom{\\, r}\\phantom{\\, r} } & = & {\\left(2 \\, a_{0} + 3 \\, C\\left(t, r\\right) + 3 \\, G\\left(t, r\\right) - 2 \\, a\\left(r\\right)\\right)} \\frac{\\partial\\,C}{\\partial t} + {\\left(3 \\, a_{0} + 4 \\, C\\left(t, r\\right) + 8 \\, G\\left(t, r\\right) - 3 \\, a\\left(r\\right)\\right)} \\frac{\\partial\\,G}{\\partial t} - \\frac{\\partial^2\\,C}{\\partial t\\partial r} - \\frac{\\partial^2\\,G}{\\partial t\\partial r} \\\\ X_{ \\, t \\, {\\theta} \\, {\\theta} }^{ \\phantom{\\, t}\\phantom{\\, {\\theta}}\\phantom{\\, {\\theta}} } & = & \\frac{1}{2} \\, F\\left(t, r\\right) \\frac{\\partial\\,C}{\\partial t} + \\frac{1}{2} \\, {\\left(a_{0} + 2 \\, G\\left(t, r\\right) - a\\left(r\\right)\\right)} \\frac{\\partial\\,F}{\\partial t} + 2 \\, F\\left(t, r\\right) \\frac{\\partial\\,G}{\\partial t} - \\frac{1}{2} \\, \\frac{\\partial^2\\,F}{\\partial t\\partial r} \\\\ X_{ \\, t \\, {\\phi} \\, {\\phi} }^{ \\phantom{\\, t}\\phantom{\\, {\\phi}}\\phantom{\\, {\\phi}} } & = & \\frac{1}{2} \\, {\\left(F\\left(t, r\\right) \\frac{\\partial\\,C}{\\partial t} + {\\left(a_{0} + 2 \\, G\\left(t, r\\right) - a\\left(r\\right)\\right)} \\frac{\\partial\\,F}{\\partial t} + 4 \\, F\\left(t, r\\right) \\frac{\\partial\\,G}{\\partial t} - \\frac{\\partial^2\\,F}{\\partial t\\partial r}\\right)} \\sin\\left({\\theta}\\right)^{2} \\\\ X_{ \\, r \\, {\\theta} \\, {\\theta} }^{ \\phantom{\\, r}\\phantom{\\, {\\theta}}\\phantom{\\, {\\theta}} } & = & 2 \\, F\\left(t, r\\right) G\\left(t, r\\right)^{2} + \\frac{1}{2} \\, {\\left(a_{0}^{2} + 3 \\, {\\left(a_{0} - a\\left(r\\right)\\right)} C\\left(t, r\\right) + 2 \\, C\\left(t, r\\right)^{2} - 2 \\, a_{0} a\\left(r\\right) + a\\left(r\\right)^{2}\\right)} F\\left(t, r\\right) + \\frac{1}{2} \\, {\\left({\\left(3 \\, a_{0} + 4 \\, C\\left(t, r\\right) - 3 \\, a\\left(r\\right)\\right)} F\\left(t, r\\right) + 1\\right)} G\\left(t, r\\right) - \\frac{1}{2} \\, F\\left(t, r\\right) \\frac{\\partial\\,C}{\\partial r} + \\frac{1}{2} \\, {\\left(a_{0} + 3 \\, G\\left(t, r\\right) - a\\left(r\\right)\\right)} \\frac{\\partial\\,F}{\\partial r} + F\\left(t, r\\right) \\frac{\\partial\\,G}{\\partial r} - \\frac{1}{2} \\, \\frac{\\partial^2\\,F}{\\partial r ^ 2} \\\\ X_{ \\, r \\, {\\phi} \\, {\\phi} }^{ \\phantom{\\, r}\\phantom{\\, {\\phi}}\\phantom{\\, {\\phi}} } & = & \\frac{1}{2} \\, {\\left(4 \\, F\\left(t, r\\right) G\\left(t, r\\right)^{2} + {\\left(a_{0}^{2} + 3 \\, {\\left(a_{0} - a\\left(r\\right)\\right)} C\\left(t, r\\right) + 2 \\, C\\left(t, r\\right)^{2} - 2 \\, a_{0} a\\left(r\\right) + a\\left(r\\right)^{2}\\right)} F\\left(t, r\\right) + {\\left({\\left(3 \\, a_{0} + 4 \\, C\\left(t, r\\right) - 3 \\, a\\left(r\\right)\\right)} F\\left(t, r\\right) + 1\\right)} G\\left(t, r\\right) - F\\left(t, r\\right) \\frac{\\partial\\,C}{\\partial r} + {\\left(a_{0} + 3 \\, G\\left(t, r\\right) - a\\left(r\\right)\\right)} \\frac{\\partial\\,F}{\\partial r} + 2 \\, F\\left(t, r\\right) \\frac{\\partial\\,G}{\\partial r} - \\frac{\\partial^2\\,F}{\\partial r ^ 2}\\right)} \\sin\\left({\\theta}\\right)^{2} \\end{array}$"
      ],
      "text/plain": [
       "X_t,t,r = B(t, r)*G(t, r)^2 + ((a_0 - a(r))*B(t, r) + 2*B(t, r)*C(t, r))*G(t, r) + 1/2*(2*a_0 + 3*C(t, r) + 6*G(t, r) - 2*a(r))*d(B)/dr + 3/2*B(t, r)*d(C)/dr + 2*B(t, r)*d(G)/dr - B(t, r)*d(a)/dr + 1/2*d^2(B)/dr^2 + 1/2*d^2(C)/dt^2 + d^2(G)/dt^2 \n",
       "X_t,r,r = (2*a_0 + 3*C(t, r) + 3*G(t, r) - 2*a(r))*d(C)/dt + (3*a_0 + 4*C(t, r) + 8*G(t, r) - 3*a(r))*d(G)/dt - d^2(C)/dtdr - d^2(G)/dtdr \n",
       "X_t,th,th = 1/2*F(t, r)*d(C)/dt + 1/2*(a_0 + 2*G(t, r) - a(r))*d(F)/dt + 2*F(t, r)*d(G)/dt - 1/2*d^2(F)/dtdr \n",
       "X_t,ph,ph = 1/2*(F(t, r)*d(C)/dt + (a_0 + 2*G(t, r) - a(r))*d(F)/dt + 4*F(t, r)*d(G)/dt - d^2(F)/dtdr)*sin(th)^2 \n",
       "X_r,th,th = 2*F(t, r)*G(t, r)^2 + 1/2*(a_0^2 + 3*(a_0 - a(r))*C(t, r) + 2*C(t, r)^2 - 2*a_0*a(r) + a(r)^2)*F(t, r) + 1/2*((3*a_0 + 4*C(t, r) - 3*a(r))*F(t, r) + 1)*G(t, r) - 1/2*F(t, r)*d(C)/dr + 1/2*(a_0 + 3*G(t, r) - a(r))*d(F)/dr + F(t, r)*d(G)/dr - 1/2*d^2(F)/dr^2 \n",
       "X_r,ph,ph = 1/2*(4*F(t, r)*G(t, r)^2 + (a_0^2 + 3*(a_0 - a(r))*C(t, r) + 2*C(t, r)^2 - 2*a_0*a(r) + a(r)^2)*F(t, r) + ((3*a_0 + 4*C(t, r) - 3*a(r))*F(t, r) + 1)*G(t, r) - F(t, r)*d(C)/dr + (a_0 + 3*G(t, r) - a(r))*d(F)/dr + 2*F(t, r)*d(G)/dr - d^2(F)/dr^2)*sin(th)^2 "
      ]
     },
     "execution_count": 29,
     "metadata": {},
     "output_type": "execute_result"
    }
   ],
   "source": [
    "NRicci.antisymmetrize(0,2).display_comp(only_nonredundant=True)"
   ]
  },
  {
   "cell_type": "markdown",
   "id": "2f966748",
   "metadata": {},
   "source": [
    "#### Parallel Ricci: First branch, $F(t,r) = 0$ and $G(t,r) = 0$"
   ]
  },
  {
   "cell_type": "code",
   "execution_count": 32,
   "id": "8b26fbb3",
   "metadata": {},
   "outputs": [],
   "source": [
    "a0 = var('a_0', domain='real')\n",
    "\n",
    "T[0,0,0] = 0\n",
    "T[0,0,1] = function('a')(r) - a0 - function(\"C\")(t,r) - 0\n",
    "T[0,1,0] = T[0,0,1]\n",
    "T[0,1,1] = 0\n",
    "T[0,2,2] = 0\n",
    "T[0,3,3] = 0\n",
    "\n",
    "\n",
    "T[1,0,0] = function(\"B\")(t,r)\n",
    "T[1,0,1] = 0\n",
    "T[1,1,0] = T[1,0,1]\n",
    "T[1,1,1] = function(\"C\")(t,r)\n",
    "T[1,2,2] = 0\n",
    "T[1,3,3] = 0\n",
    "\n",
    "\n",
    "T[2,0,2] = 0\n",
    "T[2,2,0] = T[2,0,2]\n",
    "T[2,0,3] = 0\n",
    "T[2,3,0] = T[2,0,3]\n",
    "T[2,1,2] = 0\n",
    "T[2,2,1] = T[2,1,2]\n",
    "T[2,1,3] = 0\n",
    "T[2,3,1] = T[2,1,3]\n",
    "T[2,3,3] = -cos(th)*sin(th)\n",
    "\n",
    "\n",
    "T[3,0,2] = 0\n",
    "T[3,2,0] = T[3,0,2]\n",
    "T[3,0,3] = 0\n",
    "T[3,3,0] = T[3,0,3]\n",
    "T[3,1,2] = 0\n",
    "T[3,2,1] = T[3,1,2]\n",
    "T[3,1,3] = 0\n",
    "T[3,3,1] = T[3,1,3]\n",
    "T[3,2,3] = cos(th)/sin(th)\n",
    "T[3,3,2] = T[3,2,3]\n",
    "#T.display(only_nonredundant=True)"
   ]
  },
  {
   "cell_type": "code",
   "execution_count": 33,
   "id": "51d0b67a",
   "metadata": {},
   "outputs": [],
   "source": [
    "Ricci = T.ricci()\n",
    "#Ricci.display_comp()"
   ]
  },
  {
   "cell_type": "code",
   "execution_count": 34,
   "id": "8be9787d",
   "metadata": {},
   "outputs": [
    {
     "data": {
      "text/html": [
       "<html>\\(\\displaystyle \\begin{array}{lcl} X_{ \\, t \\, t \\, t }^{ \\phantom{\\, t}\\phantom{\\, t}\\phantom{\\, t} } & = & {\\left(a_{0} + 2 \\, C\\left(t, r\\right) - a\\left(r\\right)\\right)} \\frac{\\partial\\,B}{\\partial t} + 4 \\, B\\left(t, r\\right) \\frac{\\partial\\,C}{\\partial t} + \\frac{\\partial^2\\,B}{\\partial t\\partial r} \\\\ X_{ \\, t \\, t \\, r }^{ \\phantom{\\, t}\\phantom{\\, t}\\phantom{\\, r} } & = & 6 \\, {\\left(a_{0} - a\\left(r\\right)\\right)} B\\left(t, r\\right) C\\left(t, r\\right) + 4 \\, B\\left(t, r\\right) C\\left(t, r\\right)^{2} + {\\left(2 \\, a_{0}^{2} - 4 \\, a_{0} a\\left(r\\right) + 2 \\, a\\left(r\\right)^{2} - \\frac{\\partial\\,a}{\\partial r}\\right)} B\\left(t, r\\right) + {\\left(3 \\, a_{0} + 4 \\, C\\left(t, r\\right) - 3 \\, a\\left(r\\right)\\right)} \\frac{\\partial\\,B}{\\partial r} + 2 \\, B\\left(t, r\\right) \\frac{\\partial\\,C}{\\partial r} + \\frac{\\partial^2\\,B}{\\partial r ^ 2} \\\\ X_{ \\, t \\, r \\, t }^{ \\phantom{\\, t}\\phantom{\\, r}\\phantom{\\, t} } & = & 6 \\, {\\left(a_{0} - a\\left(r\\right)\\right)} B\\left(t, r\\right) C\\left(t, r\\right) + 4 \\, B\\left(t, r\\right) C\\left(t, r\\right)^{2} + {\\left(2 \\, a_{0}^{2} - 4 \\, a_{0} a\\left(r\\right) + 2 \\, a\\left(r\\right)^{2} + \\frac{\\partial\\,a}{\\partial r}\\right)} B\\left(t, r\\right) + {\\left(a_{0} + C\\left(t, r\\right) - a\\left(r\\right)\\right)} \\frac{\\partial\\,B}{\\partial r} - B\\left(t, r\\right) \\frac{\\partial\\,C}{\\partial r} - \\frac{\\partial^2\\,C}{\\partial t ^ 2} \\\\ X_{ \\, t \\, r \\, r }^{ \\phantom{\\, t}\\phantom{\\, r}\\phantom{\\, r} } & = & -{\\left(a_{0} - a\\left(r\\right)\\right)} \\frac{\\partial\\,C}{\\partial t} - \\frac{\\partial^2\\,C}{\\partial t\\partial r} \\\\ X_{ \\, r \\, t \\, t }^{ \\phantom{\\, r}\\phantom{\\, t}\\phantom{\\, t} } & = & 6 \\, {\\left(a_{0} - a\\left(r\\right)\\right)} B\\left(t, r\\right) C\\left(t, r\\right) + 4 \\, B\\left(t, r\\right) C\\left(t, r\\right)^{2} + {\\left(2 \\, a_{0}^{2} - 4 \\, a_{0} a\\left(r\\right) + 2 \\, a\\left(r\\right)^{2} + \\frac{\\partial\\,a}{\\partial r}\\right)} B\\left(t, r\\right) + {\\left(a_{0} + C\\left(t, r\\right) - a\\left(r\\right)\\right)} \\frac{\\partial\\,B}{\\partial r} - B\\left(t, r\\right) \\frac{\\partial\\,C}{\\partial r} - \\frac{\\partial^2\\,C}{\\partial t ^ 2} \\\\ X_{ \\, r \\, t \\, r }^{ \\phantom{\\, r}\\phantom{\\, t}\\phantom{\\, r} } & = & -{\\left(a_{0} - a\\left(r\\right)\\right)} \\frac{\\partial\\,C}{\\partial t} - \\frac{\\partial^2\\,C}{\\partial t\\partial r} \\\\ X_{ \\, r \\, r \\, t }^{ \\phantom{\\, r}\\phantom{\\, r}\\phantom{\\, t} } & = & -{\\left(5 \\, a_{0} + 6 \\, C\\left(t, r\\right) - 5 \\, a\\left(r\\right)\\right)} \\frac{\\partial\\,C}{\\partial t} + \\frac{\\partial^2\\,C}{\\partial t\\partial r} \\\\ X_{ \\, r \\, r \\, r }^{ \\phantom{\\, r}\\phantom{\\, r}\\phantom{\\, r} } & = & 6 \\, {\\left(a_{0} - a\\left(r\\right)\\right)} C\\left(t, r\\right)^{2} + 4 \\, C\\left(t, r\\right)^{3} + {\\left(2 \\, a_{0}^{2} - 4 \\, a_{0} a\\left(r\\right) + 2 \\, a\\left(r\\right)^{2} + 5 \\, \\frac{\\partial\\,a}{\\partial r}\\right)} C\\left(t, r\\right) - 3 \\, {\\left(a_{0} + 2 \\, C\\left(t, r\\right) - a\\left(r\\right)\\right)} \\frac{\\partial\\,C}{\\partial r} + 2 \\, {\\left(a_{0} - a\\left(r\\right)\\right)} \\frac{\\partial\\,a}{\\partial r} + \\frac{\\partial^2\\,C}{\\partial r ^ 2} - \\frac{\\partial^2\\,a}{\\partial r ^ 2} \\end{array}\\)</html>"
      ],
      "text/latex": [
       "$\\displaystyle \\begin{array}{lcl} X_{ \\, t \\, t \\, t }^{ \\phantom{\\, t}\\phantom{\\, t}\\phantom{\\, t} } & = & {\\left(a_{0} + 2 \\, C\\left(t, r\\right) - a\\left(r\\right)\\right)} \\frac{\\partial\\,B}{\\partial t} + 4 \\, B\\left(t, r\\right) \\frac{\\partial\\,C}{\\partial t} + \\frac{\\partial^2\\,B}{\\partial t\\partial r} \\\\ X_{ \\, t \\, t \\, r }^{ \\phantom{\\, t}\\phantom{\\, t}\\phantom{\\, r} } & = & 6 \\, {\\left(a_{0} - a\\left(r\\right)\\right)} B\\left(t, r\\right) C\\left(t, r\\right) + 4 \\, B\\left(t, r\\right) C\\left(t, r\\right)^{2} + {\\left(2 \\, a_{0}^{2} - 4 \\, a_{0} a\\left(r\\right) + 2 \\, a\\left(r\\right)^{2} - \\frac{\\partial\\,a}{\\partial r}\\right)} B\\left(t, r\\right) + {\\left(3 \\, a_{0} + 4 \\, C\\left(t, r\\right) - 3 \\, a\\left(r\\right)\\right)} \\frac{\\partial\\,B}{\\partial r} + 2 \\, B\\left(t, r\\right) \\frac{\\partial\\,C}{\\partial r} + \\frac{\\partial^2\\,B}{\\partial r ^ 2} \\\\ X_{ \\, t \\, r \\, t }^{ \\phantom{\\, t}\\phantom{\\, r}\\phantom{\\, t} } & = & 6 \\, {\\left(a_{0} - a\\left(r\\right)\\right)} B\\left(t, r\\right) C\\left(t, r\\right) + 4 \\, B\\left(t, r\\right) C\\left(t, r\\right)^{2} + {\\left(2 \\, a_{0}^{2} - 4 \\, a_{0} a\\left(r\\right) + 2 \\, a\\left(r\\right)^{2} + \\frac{\\partial\\,a}{\\partial r}\\right)} B\\left(t, r\\right) + {\\left(a_{0} + C\\left(t, r\\right) - a\\left(r\\right)\\right)} \\frac{\\partial\\,B}{\\partial r} - B\\left(t, r\\right) \\frac{\\partial\\,C}{\\partial r} - \\frac{\\partial^2\\,C}{\\partial t ^ 2} \\\\ X_{ \\, t \\, r \\, r }^{ \\phantom{\\, t}\\phantom{\\, r}\\phantom{\\, r} } & = & -{\\left(a_{0} - a\\left(r\\right)\\right)} \\frac{\\partial\\,C}{\\partial t} - \\frac{\\partial^2\\,C}{\\partial t\\partial r} \\\\ X_{ \\, r \\, t \\, t }^{ \\phantom{\\, r}\\phantom{\\, t}\\phantom{\\, t} } & = & 6 \\, {\\left(a_{0} - a\\left(r\\right)\\right)} B\\left(t, r\\right) C\\left(t, r\\right) + 4 \\, B\\left(t, r\\right) C\\left(t, r\\right)^{2} + {\\left(2 \\, a_{0}^{2} - 4 \\, a_{0} a\\left(r\\right) + 2 \\, a\\left(r\\right)^{2} + \\frac{\\partial\\,a}{\\partial r}\\right)} B\\left(t, r\\right) + {\\left(a_{0} + C\\left(t, r\\right) - a\\left(r\\right)\\right)} \\frac{\\partial\\,B}{\\partial r} - B\\left(t, r\\right) \\frac{\\partial\\,C}{\\partial r} - \\frac{\\partial^2\\,C}{\\partial t ^ 2} \\\\ X_{ \\, r \\, t \\, r }^{ \\phantom{\\, r}\\phantom{\\, t}\\phantom{\\, r} } & = & -{\\left(a_{0} - a\\left(r\\right)\\right)} \\frac{\\partial\\,C}{\\partial t} - \\frac{\\partial^2\\,C}{\\partial t\\partial r} \\\\ X_{ \\, r \\, r \\, t }^{ \\phantom{\\, r}\\phantom{\\, r}\\phantom{\\, t} } & = & -{\\left(5 \\, a_{0} + 6 \\, C\\left(t, r\\right) - 5 \\, a\\left(r\\right)\\right)} \\frac{\\partial\\,C}{\\partial t} + \\frac{\\partial^2\\,C}{\\partial t\\partial r} \\\\ X_{ \\, r \\, r \\, r }^{ \\phantom{\\, r}\\phantom{\\, r}\\phantom{\\, r} } & = & 6 \\, {\\left(a_{0} - a\\left(r\\right)\\right)} C\\left(t, r\\right)^{2} + 4 \\, C\\left(t, r\\right)^{3} + {\\left(2 \\, a_{0}^{2} - 4 \\, a_{0} a\\left(r\\right) + 2 \\, a\\left(r\\right)^{2} + 5 \\, \\frac{\\partial\\,a}{\\partial r}\\right)} C\\left(t, r\\right) - 3 \\, {\\left(a_{0} + 2 \\, C\\left(t, r\\right) - a\\left(r\\right)\\right)} \\frac{\\partial\\,C}{\\partial r} + 2 \\, {\\left(a_{0} - a\\left(r\\right)\\right)} \\frac{\\partial\\,a}{\\partial r} + \\frac{\\partial^2\\,C}{\\partial r ^ 2} - \\frac{\\partial^2\\,a}{\\partial r ^ 2} \\end{array}$"
      ],
      "text/plain": [
       "X_t,t,t = (a_0 + 2*C(t, r) - a(r))*d(B)/dt + 4*B(t, r)*d(C)/dt + d^2(B)/dtdr \n",
       "X_t,t,r = 6*(a_0 - a(r))*B(t, r)*C(t, r) + 4*B(t, r)*C(t, r)^2 + (2*a_0^2 - 4*a_0*a(r) + 2*a(r)^2 - d(a)/dr)*B(t, r) + (3*a_0 + 4*C(t, r) - 3*a(r))*d(B)/dr + 2*B(t, r)*d(C)/dr + d^2(B)/dr^2 \n",
       "X_t,r,t = 6*(a_0 - a(r))*B(t, r)*C(t, r) + 4*B(t, r)*C(t, r)^2 + (2*a_0^2 - 4*a_0*a(r) + 2*a(r)^2 + d(a)/dr)*B(t, r) + (a_0 + C(t, r) - a(r))*d(B)/dr - B(t, r)*d(C)/dr - d^2(C)/dt^2 \n",
       "X_t,r,r = -(a_0 - a(r))*d(C)/dt - d^2(C)/dtdr \n",
       "X_r,t,t = 6*(a_0 - a(r))*B(t, r)*C(t, r) + 4*B(t, r)*C(t, r)^2 + (2*a_0^2 - 4*a_0*a(r) + 2*a(r)^2 + d(a)/dr)*B(t, r) + (a_0 + C(t, r) - a(r))*d(B)/dr - B(t, r)*d(C)/dr - d^2(C)/dt^2 \n",
       "X_r,t,r = -(a_0 - a(r))*d(C)/dt - d^2(C)/dtdr \n",
       "X_r,r,t = -(5*a_0 + 6*C(t, r) - 5*a(r))*d(C)/dt + d^2(C)/dtdr \n",
       "X_r,r,r = 6*(a_0 - a(r))*C(t, r)^2 + 4*C(t, r)^3 + (2*a_0^2 - 4*a_0*a(r) + 2*a(r)^2 + 5*d(a)/dr)*C(t, r) - 3*(a_0 + 2*C(t, r) - a(r))*d(C)/dr + 2*(a_0 - a(r))*d(a)/dr + d^2(C)/dr^2 - d^2(a)/dr^2 "
      ]
     },
     "execution_count": 34,
     "metadata": {},
     "output_type": "execute_result"
    }
   ],
   "source": [
    "NRicci = T(Ricci)\n",
    "NRicci.display_comp()"
   ]
  },
  {
   "cell_type": "code",
   "execution_count": null,
   "id": "b79e1f42",
   "metadata": {},
   "outputs": [],
   "source": []
  },
  {
   "cell_type": "code",
   "execution_count": 41,
   "id": "8941af0b",
   "metadata": {},
   "outputs": [],
   "source": [
    "a0 = var('a_0', domain='real')\n",
    "c0 = var('c_0', domain='real')\n",
    "\n",
    "T[0,0,0] = 0\n",
    "T[0,0,1] = function('a')(r) - a0 - (function(\"c\")(r) + c0) - 0\n",
    "T[0,1,0] = T[0,0,1]\n",
    "T[0,1,1] = 0\n",
    "T[0,2,2] = 0\n",
    "T[0,3,3] = 0\n",
    "\n",
    "\n",
    "T[1,0,0] = function(\"B\")(t,r)\n",
    "T[1,0,1] = 0\n",
    "T[1,1,0] = T[1,0,1]\n",
    "T[1,1,1] = (function(\"c\")(r) + c0)\n",
    "T[1,2,2] = 0\n",
    "T[1,3,3] = 0\n",
    "\n",
    "\n",
    "T[2,0,2] = 0\n",
    "T[2,2,0] = T[2,0,2]\n",
    "T[2,0,3] = 0\n",
    "T[2,3,0] = T[2,0,3]\n",
    "T[2,1,2] = 0\n",
    "T[2,2,1] = T[2,1,2]\n",
    "T[2,1,3] = 0\n",
    "T[2,3,1] = T[2,1,3]\n",
    "T[2,3,3] = -cos(th)*sin(th)\n",
    "\n",
    "\n",
    "T[3,0,2] = 0\n",
    "T[3,2,0] = T[3,0,2]\n",
    "T[3,0,3] = 0\n",
    "T[3,3,0] = T[3,0,3]\n",
    "T[3,1,2] = 0\n",
    "T[3,2,1] = T[3,1,2]\n",
    "T[3,1,3] = 0\n",
    "T[3,3,1] = T[3,1,3]\n",
    "T[3,2,3] = cos(th)/sin(th)\n",
    "T[3,3,2] = T[3,2,3]\n",
    "#T.display(only_nonredundant=True)"
   ]
  },
  {
   "cell_type": "code",
   "execution_count": 42,
   "id": "c0729ea2",
   "metadata": {},
   "outputs": [
    {
     "data": {
      "text/html": [
       "<html>\\(\\displaystyle \\begin{array}{lcl} X_{ \\, t \\, t }^{ \\phantom{\\, t}\\phantom{\\, t} } & = & {\\left(a_{0} + 2 \\, c_{0} - a\\left(r\\right) + 2 \\, c\\left(r\\right)\\right)} B\\left(t, r\\right) + \\frac{\\partial\\,B}{\\partial r} \\\\ X_{ \\, r \\, r }^{ \\phantom{\\, r}\\phantom{\\, r} } & = & -a_{0}^{2} - 3 \\, a_{0} c_{0} - 2 \\, c_{0}^{2} + {\\left(2 \\, a_{0} + 3 \\, c_{0}\\right)} a\\left(r\\right) - a\\left(r\\right)^{2} - {\\left(3 \\, a_{0} + 4 \\, c_{0} - 3 \\, a\\left(r\\right)\\right)} c\\left(r\\right) - 2 \\, c\\left(r\\right)^{2} - \\frac{\\partial\\,a}{\\partial r} + \\frac{\\partial\\,c}{\\partial r} \\\\ X_{ \\, {\\theta} \\, {\\theta} }^{ \\phantom{\\, {\\theta}}\\phantom{\\, {\\theta}} } & = & 1 \\\\ X_{ \\, {\\phi} \\, {\\phi} }^{ \\phantom{\\, {\\phi}}\\phantom{\\, {\\phi}} } & = & \\sin\\left({\\theta}\\right)^{2} \\end{array}\\)</html>"
      ],
      "text/latex": [
       "$\\displaystyle \\begin{array}{lcl} X_{ \\, t \\, t }^{ \\phantom{\\, t}\\phantom{\\, t} } & = & {\\left(a_{0} + 2 \\, c_{0} - a\\left(r\\right) + 2 \\, c\\left(r\\right)\\right)} B\\left(t, r\\right) + \\frac{\\partial\\,B}{\\partial r} \\\\ X_{ \\, r \\, r }^{ \\phantom{\\, r}\\phantom{\\, r} } & = & -a_{0}^{2} - 3 \\, a_{0} c_{0} - 2 \\, c_{0}^{2} + {\\left(2 \\, a_{0} + 3 \\, c_{0}\\right)} a\\left(r\\right) - a\\left(r\\right)^{2} - {\\left(3 \\, a_{0} + 4 \\, c_{0} - 3 \\, a\\left(r\\right)\\right)} c\\left(r\\right) - 2 \\, c\\left(r\\right)^{2} - \\frac{\\partial\\,a}{\\partial r} + \\frac{\\partial\\,c}{\\partial r} \\\\ X_{ \\, {\\theta} \\, {\\theta} }^{ \\phantom{\\, {\\theta}}\\phantom{\\, {\\theta}} } & = & 1 \\\\ X_{ \\, {\\phi} \\, {\\phi} }^{ \\phantom{\\, {\\phi}}\\phantom{\\, {\\phi}} } & = & \\sin\\left({\\theta}\\right)^{2} \\end{array}$"
      ],
      "text/plain": [
       "X_t,t = (a_0 + 2*c_0 - a(r) + 2*c(r))*B(t, r) + d(B)/dr \n",
       "X_r,r = -a_0^2 - 3*a_0*c_0 - 2*c_0^2 + (2*a_0 + 3*c_0)*a(r) - a(r)^2 - (3*a_0 + 4*c_0 - 3*a(r))*c(r) - 2*c(r)^2 - d(a)/dr + d(c)/dr \n",
       "X_th,th = 1 \n",
       "X_ph,ph = sin(th)^2 "
      ]
     },
     "execution_count": 42,
     "metadata": {},
     "output_type": "execute_result"
    }
   ],
   "source": [
    "Ricci = T.ricci()\n",
    "Ricci.display_comp()"
   ]
  },
  {
   "cell_type": "code",
   "execution_count": 43,
   "id": "8b0e265b",
   "metadata": {},
   "outputs": [
    {
     "data": {
      "text/html": [
       "<html>\\(\\displaystyle \\begin{array}{lcl} X_{ \\, t \\, t \\, t }^{ \\phantom{\\, t}\\phantom{\\, t}\\phantom{\\, t} } & = & {\\left(a_{0} + 2 \\, c_{0} - a\\left(r\\right) + 2 \\, c\\left(r\\right)\\right)} \\frac{\\partial\\,B}{\\partial t} + \\frac{\\partial^2\\,B}{\\partial t\\partial r} \\\\ X_{ \\, t \\, t \\, r }^{ \\phantom{\\, t}\\phantom{\\, t}\\phantom{\\, r} } & = & {\\left(2 \\, a_{0}^{2} + 6 \\, a_{0} c_{0} + 4 \\, c_{0}^{2} - 2 \\, {\\left(2 \\, a_{0} + 3 \\, c_{0}\\right)} a\\left(r\\right) + 2 \\, a\\left(r\\right)^{2} + 2 \\, {\\left(3 \\, a_{0} + 4 \\, c_{0} - 3 \\, a\\left(r\\right)\\right)} c\\left(r\\right) + 4 \\, c\\left(r\\right)^{2} - \\frac{\\partial\\,a}{\\partial r} + 2 \\, \\frac{\\partial\\,c}{\\partial r}\\right)} B\\left(t, r\\right) + {\\left(3 \\, a_{0} + 4 \\, c_{0} - 3 \\, a\\left(r\\right) + 4 \\, c\\left(r\\right)\\right)} \\frac{\\partial\\,B}{\\partial r} + \\frac{\\partial^2\\,B}{\\partial r ^ 2} \\\\ X_{ \\, t \\, r \\, t }^{ \\phantom{\\, t}\\phantom{\\, r}\\phantom{\\, t} } & = & {\\left(2 \\, a_{0}^{2} + 6 \\, a_{0} c_{0} + 4 \\, c_{0}^{2} - 2 \\, {\\left(2 \\, a_{0} + 3 \\, c_{0}\\right)} a\\left(r\\right) + 2 \\, a\\left(r\\right)^{2} + 2 \\, {\\left(3 \\, a_{0} + 4 \\, c_{0} - 3 \\, a\\left(r\\right)\\right)} c\\left(r\\right) + 4 \\, c\\left(r\\right)^{2} + \\frac{\\partial\\,a}{\\partial r} - \\frac{\\partial\\,c}{\\partial r}\\right)} B\\left(t, r\\right) + {\\left(a_{0} + c_{0} - a\\left(r\\right) + c\\left(r\\right)\\right)} \\frac{\\partial\\,B}{\\partial r} \\\\ X_{ \\, r \\, t \\, t }^{ \\phantom{\\, r}\\phantom{\\, t}\\phantom{\\, t} } & = & {\\left(2 \\, a_{0}^{2} + 6 \\, a_{0} c_{0} + 4 \\, c_{0}^{2} - 2 \\, {\\left(2 \\, a_{0} + 3 \\, c_{0}\\right)} a\\left(r\\right) + 2 \\, a\\left(r\\right)^{2} + 2 \\, {\\left(3 \\, a_{0} + 4 \\, c_{0} - 3 \\, a\\left(r\\right)\\right)} c\\left(r\\right) + 4 \\, c\\left(r\\right)^{2} + \\frac{\\partial\\,a}{\\partial r} - \\frac{\\partial\\,c}{\\partial r}\\right)} B\\left(t, r\\right) + {\\left(a_{0} + c_{0} - a\\left(r\\right) + c\\left(r\\right)\\right)} \\frac{\\partial\\,B}{\\partial r} \\\\ X_{ \\, r \\, r \\, r }^{ \\phantom{\\, r}\\phantom{\\, r}\\phantom{\\, r} } & = & 2 \\, a_{0}^{2} c_{0} + 6 \\, a_{0} c_{0}^{2} + 4 \\, c_{0}^{3} + 2 \\, c_{0} a\\left(r\\right)^{2} + 6 \\, {\\left(a_{0} + 2 \\, c_{0} - a\\left(r\\right)\\right)} c\\left(r\\right)^{2} + 4 \\, c\\left(r\\right)^{3} - 2 \\, {\\left(2 \\, a_{0} c_{0} + 3 \\, c_{0}^{2}\\right)} a\\left(r\\right) + 2 \\, {\\left(a_{0}^{2} + 6 \\, a_{0} c_{0} + 6 \\, c_{0}^{2} - 2 \\, {\\left(a_{0} + 3 \\, c_{0}\\right)} a\\left(r\\right) + a\\left(r\\right)^{2}\\right)} c\\left(r\\right) + {\\left(2 \\, a_{0} + 5 \\, c_{0} - 2 \\, a\\left(r\\right) + 5 \\, c\\left(r\\right)\\right)} \\frac{\\partial\\,a}{\\partial r} - 3 \\, {\\left(a_{0} + 2 \\, c_{0} - a\\left(r\\right) + 2 \\, c\\left(r\\right)\\right)} \\frac{\\partial\\,c}{\\partial r} - \\frac{\\partial^2\\,a}{\\partial r ^ 2} + \\frac{\\partial^2\\,c}{\\partial r ^ 2} \\end{array}\\)</html>"
      ],
      "text/latex": [
       "$\\displaystyle \\begin{array}{lcl} X_{ \\, t \\, t \\, t }^{ \\phantom{\\, t}\\phantom{\\, t}\\phantom{\\, t} } & = & {\\left(a_{0} + 2 \\, c_{0} - a\\left(r\\right) + 2 \\, c\\left(r\\right)\\right)} \\frac{\\partial\\,B}{\\partial t} + \\frac{\\partial^2\\,B}{\\partial t\\partial r} \\\\ X_{ \\, t \\, t \\, r }^{ \\phantom{\\, t}\\phantom{\\, t}\\phantom{\\, r} } & = & {\\left(2 \\, a_{0}^{2} + 6 \\, a_{0} c_{0} + 4 \\, c_{0}^{2} - 2 \\, {\\left(2 \\, a_{0} + 3 \\, c_{0}\\right)} a\\left(r\\right) + 2 \\, a\\left(r\\right)^{2} + 2 \\, {\\left(3 \\, a_{0} + 4 \\, c_{0} - 3 \\, a\\left(r\\right)\\right)} c\\left(r\\right) + 4 \\, c\\left(r\\right)^{2} - \\frac{\\partial\\,a}{\\partial r} + 2 \\, \\frac{\\partial\\,c}{\\partial r}\\right)} B\\left(t, r\\right) + {\\left(3 \\, a_{0} + 4 \\, c_{0} - 3 \\, a\\left(r\\right) + 4 \\, c\\left(r\\right)\\right)} \\frac{\\partial\\,B}{\\partial r} + \\frac{\\partial^2\\,B}{\\partial r ^ 2} \\\\ X_{ \\, t \\, r \\, t }^{ \\phantom{\\, t}\\phantom{\\, r}\\phantom{\\, t} } & = & {\\left(2 \\, a_{0}^{2} + 6 \\, a_{0} c_{0} + 4 \\, c_{0}^{2} - 2 \\, {\\left(2 \\, a_{0} + 3 \\, c_{0}\\right)} a\\left(r\\right) + 2 \\, a\\left(r\\right)^{2} + 2 \\, {\\left(3 \\, a_{0} + 4 \\, c_{0} - 3 \\, a\\left(r\\right)\\right)} c\\left(r\\right) + 4 \\, c\\left(r\\right)^{2} + \\frac{\\partial\\,a}{\\partial r} - \\frac{\\partial\\,c}{\\partial r}\\right)} B\\left(t, r\\right) + {\\left(a_{0} + c_{0} - a\\left(r\\right) + c\\left(r\\right)\\right)} \\frac{\\partial\\,B}{\\partial r} \\\\ X_{ \\, r \\, t \\, t }^{ \\phantom{\\, r}\\phantom{\\, t}\\phantom{\\, t} } & = & {\\left(2 \\, a_{0}^{2} + 6 \\, a_{0} c_{0} + 4 \\, c_{0}^{2} - 2 \\, {\\left(2 \\, a_{0} + 3 \\, c_{0}\\right)} a\\left(r\\right) + 2 \\, a\\left(r\\right)^{2} + 2 \\, {\\left(3 \\, a_{0} + 4 \\, c_{0} - 3 \\, a\\left(r\\right)\\right)} c\\left(r\\right) + 4 \\, c\\left(r\\right)^{2} + \\frac{\\partial\\,a}{\\partial r} - \\frac{\\partial\\,c}{\\partial r}\\right)} B\\left(t, r\\right) + {\\left(a_{0} + c_{0} - a\\left(r\\right) + c\\left(r\\right)\\right)} \\frac{\\partial\\,B}{\\partial r} \\\\ X_{ \\, r \\, r \\, r }^{ \\phantom{\\, r}\\phantom{\\, r}\\phantom{\\, r} } & = & 2 \\, a_{0}^{2} c_{0} + 6 \\, a_{0} c_{0}^{2} + 4 \\, c_{0}^{3} + 2 \\, c_{0} a\\left(r\\right)^{2} + 6 \\, {\\left(a_{0} + 2 \\, c_{0} - a\\left(r\\right)\\right)} c\\left(r\\right)^{2} + 4 \\, c\\left(r\\right)^{3} - 2 \\, {\\left(2 \\, a_{0} c_{0} + 3 \\, c_{0}^{2}\\right)} a\\left(r\\right) + 2 \\, {\\left(a_{0}^{2} + 6 \\, a_{0} c_{0} + 6 \\, c_{0}^{2} - 2 \\, {\\left(a_{0} + 3 \\, c_{0}\\right)} a\\left(r\\right) + a\\left(r\\right)^{2}\\right)} c\\left(r\\right) + {\\left(2 \\, a_{0} + 5 \\, c_{0} - 2 \\, a\\left(r\\right) + 5 \\, c\\left(r\\right)\\right)} \\frac{\\partial\\,a}{\\partial r} - 3 \\, {\\left(a_{0} + 2 \\, c_{0} - a\\left(r\\right) + 2 \\, c\\left(r\\right)\\right)} \\frac{\\partial\\,c}{\\partial r} - \\frac{\\partial^2\\,a}{\\partial r ^ 2} + \\frac{\\partial^2\\,c}{\\partial r ^ 2} \\end{array}$"
      ],
      "text/plain": [
       "X_t,t,t = (a_0 + 2*c_0 - a(r) + 2*c(r))*d(B)/dt + d^2(B)/dtdr \n",
       "X_t,t,r = (2*a_0^2 + 6*a_0*c_0 + 4*c_0^2 - 2*(2*a_0 + 3*c_0)*a(r) + 2*a(r)^2 + 2*(3*a_0 + 4*c_0 - 3*a(r))*c(r) + 4*c(r)^2 - d(a)/dr + 2*d(c)/dr)*B(t, r) + (3*a_0 + 4*c_0 - 3*a(r) + 4*c(r))*d(B)/dr + d^2(B)/dr^2 \n",
       "X_t,r,t = (2*a_0^2 + 6*a_0*c_0 + 4*c_0^2 - 2*(2*a_0 + 3*c_0)*a(r) + 2*a(r)^2 + 2*(3*a_0 + 4*c_0 - 3*a(r))*c(r) + 4*c(r)^2 + d(a)/dr - d(c)/dr)*B(t, r) + (a_0 + c_0 - a(r) + c(r))*d(B)/dr \n",
       "X_r,t,t = (2*a_0^2 + 6*a_0*c_0 + 4*c_0^2 - 2*(2*a_0 + 3*c_0)*a(r) + 2*a(r)^2 + 2*(3*a_0 + 4*c_0 - 3*a(r))*c(r) + 4*c(r)^2 + d(a)/dr - d(c)/dr)*B(t, r) + (a_0 + c_0 - a(r) + c(r))*d(B)/dr \n",
       "X_r,r,r = 2*a_0^2*c_0 + 6*a_0*c_0^2 + 4*c_0^3 + 2*c_0*a(r)^2 + 6*(a_0 + 2*c_0 - a(r))*c(r)^2 + 4*c(r)^3 - 2*(2*a_0*c_0 + 3*c_0^2)*a(r) + 2*(a_0^2 + 6*a_0*c_0 + 6*c_0^2 - 2*(a_0 + 3*c_0)*a(r) + a(r)^2)*c(r) + (2*a_0 + 5*c_0 - 2*a(r) + 5*c(r))*d(a)/dr - 3*(a_0 + 2*c_0 - a(r) + 2*c(r))*d(c)/dr - d^2(a)/dr^2 + d^2(c)/dr^2 "
      ]
     },
     "execution_count": 43,
     "metadata": {},
     "output_type": "execute_result"
    }
   ],
   "source": [
    "NRicci = T(Ricci)\n",
    "NRicci.display_comp()"
   ]
  },
  {
   "cell_type": "markdown",
   "id": "c390e17f",
   "metadata": {},
   "source": [
    "#### Second brand $C(t,r) = \\hat{C}(r) - 2G(t,r)$"
   ]
  },
  {
   "cell_type": "code",
   "execution_count": 47,
   "id": "89eae642",
   "metadata": {},
   "outputs": [
    {
     "data": {
      "text/html": [
       "<html>\\(\\displaystyle \\begin{array}{lcl} \\Gamma_{ \\phantom{\\, t} \\, t \\, r }^{ \\, t \\phantom{\\, t} \\phantom{\\, r} } & = & a\\left(r\\right) - c\\left(r\\right) \\\\ \\Gamma_{ \\phantom{\\, t} \\, r \\, t }^{ \\, t \\phantom{\\, r} \\phantom{\\, t} } & = & a\\left(r\\right) - c\\left(r\\right) \\\\ \\Gamma_{ \\phantom{\\, r} \\, t \\, t }^{ \\, r \\phantom{\\, t} \\phantom{\\, t} } & = & B\\left(t, r\\right) \\\\ \\Gamma_{ \\phantom{\\, r} \\, r \\, r }^{ \\, r \\phantom{\\, r} \\phantom{\\, r} } & = & -2 \\, G\\left(t, r\\right) + c\\left(r\\right) \\\\ \\Gamma_{ \\phantom{\\, r} \\, {\\theta} \\, {\\theta} }^{ \\, r \\phantom{\\, {\\theta}} \\phantom{\\, {\\theta}} } & = & F\\left(t, r\\right) \\\\ \\Gamma_{ \\phantom{\\, r} \\, {\\phi} \\, {\\phi} }^{ \\, r \\phantom{\\, {\\phi}} \\phantom{\\, {\\phi}} } & = & F\\left(t, r\\right) \\sin\\left({\\theta}\\right)^{2} \\\\ \\Gamma_{ \\phantom{\\, {\\theta}} \\, r \\, {\\theta} }^{ \\, {\\theta} \\phantom{\\, r} \\phantom{\\, {\\theta}} } & = & G\\left(t, r\\right) \\\\ \\Gamma_{ \\phantom{\\, {\\theta}} \\, {\\theta} \\, r }^{ \\, {\\theta} \\phantom{\\, {\\theta}} \\phantom{\\, r} } & = & G\\left(t, r\\right) \\\\ \\Gamma_{ \\phantom{\\, {\\theta}} \\, {\\phi} \\, {\\phi} }^{ \\, {\\theta} \\phantom{\\, {\\phi}} \\phantom{\\, {\\phi}} } & = & -\\cos\\left({\\theta}\\right) \\sin\\left({\\theta}\\right) \\\\ \\Gamma_{ \\phantom{\\, {\\phi}} \\, r \\, {\\phi} }^{ \\, {\\phi} \\phantom{\\, r} \\phantom{\\, {\\phi}} } & = & G\\left(t, r\\right) \\\\ \\Gamma_{ \\phantom{\\, {\\phi}} \\, {\\theta} \\, {\\phi} }^{ \\, {\\phi} \\phantom{\\, {\\theta}} \\phantom{\\, {\\phi}} } & = & \\frac{\\cos\\left({\\theta}\\right)}{\\sin\\left({\\theta}\\right)} \\\\ \\Gamma_{ \\phantom{\\, {\\phi}} \\, {\\phi} \\, r }^{ \\, {\\phi} \\phantom{\\, {\\phi}} \\phantom{\\, r} } & = & G\\left(t, r\\right) \\\\ \\Gamma_{ \\phantom{\\, {\\phi}} \\, {\\phi} \\, {\\theta} }^{ \\, {\\phi} \\phantom{\\, {\\phi}} \\phantom{\\, {\\theta}} } & = & \\frac{\\cos\\left({\\theta}\\right)}{\\sin\\left({\\theta}\\right)} \\end{array}\\)</html>"
      ],
      "text/latex": [
       "$\\displaystyle \\begin{array}{lcl} \\Gamma_{ \\phantom{\\, t} \\, t \\, r }^{ \\, t \\phantom{\\, t} \\phantom{\\, r} } & = & a\\left(r\\right) - c\\left(r\\right) \\\\ \\Gamma_{ \\phantom{\\, t} \\, r \\, t }^{ \\, t \\phantom{\\, r} \\phantom{\\, t} } & = & a\\left(r\\right) - c\\left(r\\right) \\\\ \\Gamma_{ \\phantom{\\, r} \\, t \\, t }^{ \\, r \\phantom{\\, t} \\phantom{\\, t} } & = & B\\left(t, r\\right) \\\\ \\Gamma_{ \\phantom{\\, r} \\, r \\, r }^{ \\, r \\phantom{\\, r} \\phantom{\\, r} } & = & -2 \\, G\\left(t, r\\right) + c\\left(r\\right) \\\\ \\Gamma_{ \\phantom{\\, r} \\, {\\theta} \\, {\\theta} }^{ \\, r \\phantom{\\, {\\theta}} \\phantom{\\, {\\theta}} } & = & F\\left(t, r\\right) \\\\ \\Gamma_{ \\phantom{\\, r} \\, {\\phi} \\, {\\phi} }^{ \\, r \\phantom{\\, {\\phi}} \\phantom{\\, {\\phi}} } & = & F\\left(t, r\\right) \\sin\\left({\\theta}\\right)^{2} \\\\ \\Gamma_{ \\phantom{\\, {\\theta}} \\, r \\, {\\theta} }^{ \\, {\\theta} \\phantom{\\, r} \\phantom{\\, {\\theta}} } & = & G\\left(t, r\\right) \\\\ \\Gamma_{ \\phantom{\\, {\\theta}} \\, {\\theta} \\, r }^{ \\, {\\theta} \\phantom{\\, {\\theta}} \\phantom{\\, r} } & = & G\\left(t, r\\right) \\\\ \\Gamma_{ \\phantom{\\, {\\theta}} \\, {\\phi} \\, {\\phi} }^{ \\, {\\theta} \\phantom{\\, {\\phi}} \\phantom{\\, {\\phi}} } & = & -\\cos\\left({\\theta}\\right) \\sin\\left({\\theta}\\right) \\\\ \\Gamma_{ \\phantom{\\, {\\phi}} \\, r \\, {\\phi} }^{ \\, {\\phi} \\phantom{\\, r} \\phantom{\\, {\\phi}} } & = & G\\left(t, r\\right) \\\\ \\Gamma_{ \\phantom{\\, {\\phi}} \\, {\\theta} \\, {\\phi} }^{ \\, {\\phi} \\phantom{\\, {\\theta}} \\phantom{\\, {\\phi}} } & = & \\frac{\\cos\\left({\\theta}\\right)}{\\sin\\left({\\theta}\\right)} \\\\ \\Gamma_{ \\phantom{\\, {\\phi}} \\, {\\phi} \\, r }^{ \\, {\\phi} \\phantom{\\, {\\phi}} \\phantom{\\, r} } & = & G\\left(t, r\\right) \\\\ \\Gamma_{ \\phantom{\\, {\\phi}} \\, {\\phi} \\, {\\theta} }^{ \\, {\\phi} \\phantom{\\, {\\phi}} \\phantom{\\, {\\theta}} } & = & \\frac{\\cos\\left({\\theta}\\right)}{\\sin\\left({\\theta}\\right)} \\end{array}$"
      ],
      "text/plain": [
       "Gam^t_t,r = a(r) - c(r) \n",
       "Gam^t_r,t = a(r) - c(r) \n",
       "Gam^r_t,t = B(t, r) \n",
       "Gam^r_r,r = -2*G(t, r) + c(r) \n",
       "Gam^r_th,th = F(t, r) \n",
       "Gam^r_ph,ph = F(t, r)*sin(th)^2 \n",
       "Gam^th_r,th = G(t, r) \n",
       "Gam^th_th,r = G(t, r) \n",
       "Gam^th_ph,ph = -cos(th)*sin(th) \n",
       "Gam^ph_r,ph = G(t, r) \n",
       "Gam^ph_th,ph = cos(th)/sin(th) \n",
       "Gam^ph_ph,r = G(t, r) \n",
       "Gam^ph_ph,th = cos(th)/sin(th) "
      ]
     },
     "execution_count": 47,
     "metadata": {},
     "output_type": "execute_result"
    }
   ],
   "source": [
    "a0 = var('a_0', domain='real')\n",
    "c0 = var('c_0', domain='real')\n",
    "\n",
    "T[0,0,0] = 0\n",
    "T[0,0,1] = function('a')(r) - 0 - (function(\"c\")(r) + 0 - 2*function(\"G\")(t,r)) - 2*function(\"G\")(t,r)\n",
    "T[0,1,0] = T[0,0,1]\n",
    "T[0,1,1] = 0\n",
    "T[0,2,2] = 0\n",
    "T[0,3,3] = 0\n",
    "\n",
    "\n",
    "T[1,0,0] = function(\"B\")(t,r)\n",
    "T[1,0,1] = 0\n",
    "T[1,1,0] = T[1,0,1]\n",
    "T[1,1,1] = function(\"c\")(r) + 0 - 2*function(\"G\")(t,r)\n",
    "T[1,2,2] = function(\"F\")(t,r)\n",
    "T[1,3,3] = function(\"F\")(t,r)*(sin(th))^2\n",
    "\n",
    "\n",
    "T[2,0,2] = 0\n",
    "T[2,2,0] = T[2,0,2]\n",
    "T[2,0,3] = 0\n",
    "T[2,3,0] = T[2,0,3]\n",
    "T[2,1,2] = function(\"G\")(t,r)\n",
    "T[2,2,1] = T[2,1,2]\n",
    "T[2,1,3] = 0\n",
    "T[2,3,1] = T[2,1,3]\n",
    "T[2,3,3] = -cos(th)*sin(th)\n",
    "\n",
    "\n",
    "T[3,0,2] = 0\n",
    "T[3,2,0] = T[3,0,2]\n",
    "T[3,0,3] = 0\n",
    "T[3,3,0] = T[3,0,3]\n",
    "T[3,1,2] = 0\n",
    "T[3,2,1] = T[3,1,2]\n",
    "T[3,1,3] = function(\"G\")(t,r)\n",
    "T[3,3,1] = T[3,1,3]\n",
    "T[3,2,3] = cos(th)/sin(th)\n",
    "T[3,3,2] = T[3,2,3]\n",
    "T.display(only_nonredundant=True)"
   ]
  },
  {
   "cell_type": "code",
   "execution_count": 48,
   "id": "91f29294",
   "metadata": {},
   "outputs": [
    {
     "data": {
      "text/html": [
       "<html>\\(\\displaystyle \\begin{array}{lcl} X_{ \\, t \\, t }^{ \\phantom{\\, t}\\phantom{\\, t} } & = & -{\\left(a\\left(r\\right) - 2 \\, c\\left(r\\right)\\right)} B\\left(t, r\\right) + \\frac{\\partial\\,B}{\\partial r} \\\\ X_{ \\, r \\, r }^{ \\phantom{\\, r}\\phantom{\\, r} } & = & -2 \\, {\\left(a\\left(r\\right) - 2 \\, c\\left(r\\right)\\right)} G\\left(t, r\\right) - 6 \\, G\\left(t, r\\right)^{2} - a\\left(r\\right)^{2} + 3 \\, a\\left(r\\right) c\\left(r\\right) - 2 \\, c\\left(r\\right)^{2} - 2 \\, \\frac{\\partial\\,G}{\\partial r} - \\frac{\\partial\\,a}{\\partial r} + \\frac{\\partial\\,c}{\\partial r} \\\\ X_{ \\, {\\theta} \\, {\\theta} }^{ \\phantom{\\, {\\theta}}\\phantom{\\, {\\theta}} } & = & -2 \\, F\\left(t, r\\right) G\\left(t, r\\right) + F\\left(t, r\\right) a\\left(r\\right) + \\frac{\\partial\\,F}{\\partial r} + 1 \\\\ X_{ \\, {\\phi} \\, {\\phi} }^{ \\phantom{\\, {\\phi}}\\phantom{\\, {\\phi}} } & = & -{\\left(2 \\, F\\left(t, r\\right) G\\left(t, r\\right) - F\\left(t, r\\right) a\\left(r\\right) - \\frac{\\partial\\,F}{\\partial r} - 1\\right)} \\sin\\left({\\theta}\\right)^{2} \\end{array}\\)</html>"
      ],
      "text/latex": [
       "$\\displaystyle \\begin{array}{lcl} X_{ \\, t \\, t }^{ \\phantom{\\, t}\\phantom{\\, t} } & = & -{\\left(a\\left(r\\right) - 2 \\, c\\left(r\\right)\\right)} B\\left(t, r\\right) + \\frac{\\partial\\,B}{\\partial r} \\\\ X_{ \\, r \\, r }^{ \\phantom{\\, r}\\phantom{\\, r} } & = & -2 \\, {\\left(a\\left(r\\right) - 2 \\, c\\left(r\\right)\\right)} G\\left(t, r\\right) - 6 \\, G\\left(t, r\\right)^{2} - a\\left(r\\right)^{2} + 3 \\, a\\left(r\\right) c\\left(r\\right) - 2 \\, c\\left(r\\right)^{2} - 2 \\, \\frac{\\partial\\,G}{\\partial r} - \\frac{\\partial\\,a}{\\partial r} + \\frac{\\partial\\,c}{\\partial r} \\\\ X_{ \\, {\\theta} \\, {\\theta} }^{ \\phantom{\\, {\\theta}}\\phantom{\\, {\\theta}} } & = & -2 \\, F\\left(t, r\\right) G\\left(t, r\\right) + F\\left(t, r\\right) a\\left(r\\right) + \\frac{\\partial\\,F}{\\partial r} + 1 \\\\ X_{ \\, {\\phi} \\, {\\phi} }^{ \\phantom{\\, {\\phi}}\\phantom{\\, {\\phi}} } & = & -{\\left(2 \\, F\\left(t, r\\right) G\\left(t, r\\right) - F\\left(t, r\\right) a\\left(r\\right) - \\frac{\\partial\\,F}{\\partial r} - 1\\right)} \\sin\\left({\\theta}\\right)^{2} \\end{array}$"
      ],
      "text/plain": [
       "X_t,t = -(a(r) - 2*c(r))*B(t, r) + d(B)/dr \n",
       "X_r,r = -2*(a(r) - 2*c(r))*G(t, r) - 6*G(t, r)^2 - a(r)^2 + 3*a(r)*c(r) - 2*c(r)^2 - 2*d(G)/dr - d(a)/dr + d(c)/dr \n",
       "X_th,th = -2*F(t, r)*G(t, r) + F(t, r)*a(r) + d(F)/dr + 1 \n",
       "X_ph,ph = -(2*F(t, r)*G(t, r) - F(t, r)*a(r) - d(F)/dr - 1)*sin(th)^2 "
      ]
     },
     "execution_count": 48,
     "metadata": {},
     "output_type": "execute_result"
    }
   ],
   "source": [
    "Ricci = T.ricci()\n",
    "Ricci.display_comp()"
   ]
  },
  {
   "cell_type": "code",
   "execution_count": 49,
   "id": "94b63781",
   "metadata": {},
   "outputs": [
    {
     "data": {
      "text/html": [
       "<html>\\(\\displaystyle \\begin{array}{lcl} X_{ \\, t \\, t \\, t }^{ \\phantom{\\, t}\\phantom{\\, t}\\phantom{\\, t} } & = & -{\\left(a\\left(r\\right) - 2 \\, c\\left(r\\right)\\right)} \\frac{\\partial\\,B}{\\partial t} + \\frac{\\partial^2\\,B}{\\partial t\\partial r} \\\\ X_{ \\, t \\, t \\, r }^{ \\phantom{\\, t}\\phantom{\\, t}\\phantom{\\, r} } & = & {\\left(2 \\, a\\left(r\\right)^{2} - 6 \\, a\\left(r\\right) c\\left(r\\right) + 4 \\, c\\left(r\\right)^{2} - \\frac{\\partial\\,a}{\\partial r} + 2 \\, \\frac{\\partial\\,c}{\\partial r}\\right)} B\\left(t, r\\right) - {\\left(3 \\, a\\left(r\\right) - 4 \\, c\\left(r\\right)\\right)} \\frac{\\partial\\,B}{\\partial r} + \\frac{\\partial^2\\,B}{\\partial r ^ 2} \\\\ X_{ \\, t \\, r \\, t }^{ \\phantom{\\, t}\\phantom{\\, r}\\phantom{\\, t} } & = & 2 \\, {\\left(a\\left(r\\right) - 2 \\, c\\left(r\\right)\\right)} B\\left(t, r\\right) G\\left(t, r\\right) + 6 \\, B\\left(t, r\\right) G\\left(t, r\\right)^{2} + {\\left(2 \\, a\\left(r\\right)^{2} - 6 \\, a\\left(r\\right) c\\left(r\\right) + 4 \\, c\\left(r\\right)^{2} + \\frac{\\partial\\,a}{\\partial r} - \\frac{\\partial\\,c}{\\partial r}\\right)} B\\left(t, r\\right) - {\\left(a\\left(r\\right) - c\\left(r\\right)\\right)} \\frac{\\partial\\,B}{\\partial r} + 2 \\, B\\left(t, r\\right) \\frac{\\partial\\,G}{\\partial r} \\\\ X_{ \\, r \\, t \\, t }^{ \\phantom{\\, r}\\phantom{\\, t}\\phantom{\\, t} } & = & 2 \\, {\\left(a\\left(r\\right) - 2 \\, c\\left(r\\right)\\right)} B\\left(t, r\\right) G\\left(t, r\\right) + 6 \\, B\\left(t, r\\right) G\\left(t, r\\right)^{2} + {\\left(2 \\, a\\left(r\\right)^{2} - 6 \\, a\\left(r\\right) c\\left(r\\right) + 4 \\, c\\left(r\\right)^{2} + \\frac{\\partial\\,a}{\\partial r} - \\frac{\\partial\\,c}{\\partial r}\\right)} B\\left(t, r\\right) - {\\left(a\\left(r\\right) - c\\left(r\\right)\\right)} \\frac{\\partial\\,B}{\\partial r} + 2 \\, B\\left(t, r\\right) \\frac{\\partial\\,G}{\\partial r} \\\\ X_{ \\, r \\, r \\, t }^{ \\phantom{\\, r}\\phantom{\\, r}\\phantom{\\, t} } & = & -2 \\, {\\left(6 \\, G\\left(t, r\\right) + a\\left(r\\right) - 2 \\, c\\left(r\\right)\\right)} \\frac{\\partial\\,G}{\\partial t} - 2 \\, \\frac{\\partial^2\\,G}{\\partial t\\partial r} \\\\ X_{ \\, r \\, r \\, r }^{ \\phantom{\\, r}\\phantom{\\, r}\\phantom{\\, r} } & = & -4 \\, {\\left(2 \\, a\\left(r\\right) - 7 \\, c\\left(r\\right)\\right)} G\\left(t, r\\right)^{2} - 24 \\, G\\left(t, r\\right)^{3} + 2 \\, a\\left(r\\right)^{2} c\\left(r\\right) - 6 \\, a\\left(r\\right) c\\left(r\\right)^{2} + 4 \\, c\\left(r\\right)^{3} - 2 \\, {\\left(2 \\, a\\left(r\\right)^{2} - 8 \\, a\\left(r\\right) c\\left(r\\right) + 8 \\, c\\left(r\\right)^{2} + 3 \\, \\frac{\\partial\\,a}{\\partial r} - 4 \\, \\frac{\\partial\\,c}{\\partial r}\\right)} G\\left(t, r\\right) - 2 \\, {\\left(10 \\, G\\left(t, r\\right) + a\\left(r\\right) - 4 \\, c\\left(r\\right)\\right)} \\frac{\\partial\\,G}{\\partial r} - {\\left(2 \\, a\\left(r\\right) - 5 \\, c\\left(r\\right)\\right)} \\frac{\\partial\\,a}{\\partial r} + 3 \\, {\\left(a\\left(r\\right) - 2 \\, c\\left(r\\right)\\right)} \\frac{\\partial\\,c}{\\partial r} - 2 \\, \\frac{\\partial^2\\,G}{\\partial r ^ 2} - \\frac{\\partial^2\\,a}{\\partial r ^ 2} + \\frac{\\partial^2\\,c}{\\partial r ^ 2} \\\\ X_{ \\, r \\, {\\theta} \\, {\\theta} }^{ \\phantom{\\, r}\\phantom{\\, {\\theta}}\\phantom{\\, {\\theta}} } & = & 8 \\, F\\left(t, r\\right) G\\left(t, r\\right)^{2} + {\\left(a\\left(r\\right)^{2} - 3 \\, a\\left(r\\right) c\\left(r\\right) + 2 \\, c\\left(r\\right)^{2} + \\frac{\\partial\\,a}{\\partial r} - \\frac{\\partial\\,c}{\\partial r}\\right)} F\\left(t, r\\right) + {\\left({\\left(a\\left(r\\right) - 4 \\, c\\left(r\\right)\\right)} F\\left(t, r\\right) - 1\\right)} G\\left(t, r\\right) - G\\left(t, r\\right) \\frac{\\partial\\,F}{\\partial r} + 2 \\, F\\left(t, r\\right) \\frac{\\partial\\,G}{\\partial r} \\\\ X_{ \\, r \\, {\\phi} \\, {\\phi} }^{ \\phantom{\\, r}\\phantom{\\, {\\phi}}\\phantom{\\, {\\phi}} } & = & {\\left(8 \\, F\\left(t, r\\right) G\\left(t, r\\right)^{2} + {\\left(a\\left(r\\right)^{2} - 3 \\, a\\left(r\\right) c\\left(r\\right) + 2 \\, c\\left(r\\right)^{2} + \\frac{\\partial\\,a}{\\partial r} - \\frac{\\partial\\,c}{\\partial r}\\right)} F\\left(t, r\\right) + {\\left({\\left(a\\left(r\\right) - 4 \\, c\\left(r\\right)\\right)} F\\left(t, r\\right) - 1\\right)} G\\left(t, r\\right) - G\\left(t, r\\right) \\frac{\\partial\\,F}{\\partial r} + 2 \\, F\\left(t, r\\right) \\frac{\\partial\\,G}{\\partial r}\\right)} \\sin\\left({\\theta}\\right)^{2} \\\\ X_{ \\, {\\theta} \\, r \\, {\\theta} }^{ \\phantom{\\, {\\theta}}\\phantom{\\, r}\\phantom{\\, {\\theta}} } & = & 8 \\, F\\left(t, r\\right) G\\left(t, r\\right)^{2} + {\\left(a\\left(r\\right)^{2} - 3 \\, a\\left(r\\right) c\\left(r\\right) + 2 \\, c\\left(r\\right)^{2} + \\frac{\\partial\\,a}{\\partial r} - \\frac{\\partial\\,c}{\\partial r}\\right)} F\\left(t, r\\right) + {\\left({\\left(a\\left(r\\right) - 4 \\, c\\left(r\\right)\\right)} F\\left(t, r\\right) - 1\\right)} G\\left(t, r\\right) - G\\left(t, r\\right) \\frac{\\partial\\,F}{\\partial r} + 2 \\, F\\left(t, r\\right) \\frac{\\partial\\,G}{\\partial r} \\\\ X_{ \\, {\\theta} \\, {\\theta} \\, t }^{ \\phantom{\\, {\\theta}}\\phantom{\\, {\\theta}}\\phantom{\\, t} } & = & -{\\left(2 \\, G\\left(t, r\\right) - a\\left(r\\right)\\right)} \\frac{\\partial\\,F}{\\partial t} - 2 \\, F\\left(t, r\\right) \\frac{\\partial\\,G}{\\partial t} + \\frac{\\partial^2\\,F}{\\partial t\\partial r} \\\\ X_{ \\, {\\theta} \\, {\\theta} \\, r }^{ \\phantom{\\, {\\theta}}\\phantom{\\, {\\theta}}\\phantom{\\, r} } & = & 4 \\, F\\left(t, r\\right) G\\left(t, r\\right)^{2} - 2 \\, {\\left(F\\left(t, r\\right) a\\left(r\\right) + 1\\right)} G\\left(t, r\\right) - {\\left(4 \\, G\\left(t, r\\right) - a\\left(r\\right)\\right)} \\frac{\\partial\\,F}{\\partial r} - 2 \\, F\\left(t, r\\right) \\frac{\\partial\\,G}{\\partial r} + F\\left(t, r\\right) \\frac{\\partial\\,a}{\\partial r} + \\frac{\\partial^2\\,F}{\\partial r ^ 2} \\\\ X_{ \\, {\\phi} \\, r \\, {\\phi} }^{ \\phantom{\\, {\\phi}}\\phantom{\\, r}\\phantom{\\, {\\phi}} } & = & {\\left(8 \\, F\\left(t, r\\right) G\\left(t, r\\right)^{2} + {\\left(a\\left(r\\right)^{2} - 3 \\, a\\left(r\\right) c\\left(r\\right) + 2 \\, c\\left(r\\right)^{2} + \\frac{\\partial\\,a}{\\partial r} - \\frac{\\partial\\,c}{\\partial r}\\right)} F\\left(t, r\\right) + {\\left({\\left(a\\left(r\\right) - 4 \\, c\\left(r\\right)\\right)} F\\left(t, r\\right) - 1\\right)} G\\left(t, r\\right) - G\\left(t, r\\right) \\frac{\\partial\\,F}{\\partial r} + 2 \\, F\\left(t, r\\right) \\frac{\\partial\\,G}{\\partial r}\\right)} \\sin\\left({\\theta}\\right)^{2} \\\\ X_{ \\, {\\phi} \\, {\\phi} \\, t }^{ \\phantom{\\, {\\phi}}\\phantom{\\, {\\phi}}\\phantom{\\, t} } & = & -{\\left({\\left(2 \\, G\\left(t, r\\right) - a\\left(r\\right)\\right)} \\frac{\\partial\\,F}{\\partial t} + 2 \\, F\\left(t, r\\right) \\frac{\\partial\\,G}{\\partial t} - \\frac{\\partial^2\\,F}{\\partial t\\partial r}\\right)} \\sin\\left({\\theta}\\right)^{2} \\\\ X_{ \\, {\\phi} \\, {\\phi} \\, r }^{ \\phantom{\\, {\\phi}}\\phantom{\\, {\\phi}}\\phantom{\\, r} } & = & {\\left(4 \\, F\\left(t, r\\right) G\\left(t, r\\right)^{2} - 2 \\, {\\left(F\\left(t, r\\right) a\\left(r\\right) + 1\\right)} G\\left(t, r\\right) - {\\left(4 \\, G\\left(t, r\\right) - a\\left(r\\right)\\right)} \\frac{\\partial\\,F}{\\partial r} - 2 \\, F\\left(t, r\\right) \\frac{\\partial\\,G}{\\partial r} + F\\left(t, r\\right) \\frac{\\partial\\,a}{\\partial r} + \\frac{\\partial^2\\,F}{\\partial r ^ 2}\\right)} \\sin\\left({\\theta}\\right)^{2} \\end{array}\\)</html>"
      ],
      "text/latex": [
       "$\\displaystyle \\begin{array}{lcl} X_{ \\, t \\, t \\, t }^{ \\phantom{\\, t}\\phantom{\\, t}\\phantom{\\, t} } & = & -{\\left(a\\left(r\\right) - 2 \\, c\\left(r\\right)\\right)} \\frac{\\partial\\,B}{\\partial t} + \\frac{\\partial^2\\,B}{\\partial t\\partial r} \\\\ X_{ \\, t \\, t \\, r }^{ \\phantom{\\, t}\\phantom{\\, t}\\phantom{\\, r} } & = & {\\left(2 \\, a\\left(r\\right)^{2} - 6 \\, a\\left(r\\right) c\\left(r\\right) + 4 \\, c\\left(r\\right)^{2} - \\frac{\\partial\\,a}{\\partial r} + 2 \\, \\frac{\\partial\\,c}{\\partial r}\\right)} B\\left(t, r\\right) - {\\left(3 \\, a\\left(r\\right) - 4 \\, c\\left(r\\right)\\right)} \\frac{\\partial\\,B}{\\partial r} + \\frac{\\partial^2\\,B}{\\partial r ^ 2} \\\\ X_{ \\, t \\, r \\, t }^{ \\phantom{\\, t}\\phantom{\\, r}\\phantom{\\, t} } & = & 2 \\, {\\left(a\\left(r\\right) - 2 \\, c\\left(r\\right)\\right)} B\\left(t, r\\right) G\\left(t, r\\right) + 6 \\, B\\left(t, r\\right) G\\left(t, r\\right)^{2} + {\\left(2 \\, a\\left(r\\right)^{2} - 6 \\, a\\left(r\\right) c\\left(r\\right) + 4 \\, c\\left(r\\right)^{2} + \\frac{\\partial\\,a}{\\partial r} - \\frac{\\partial\\,c}{\\partial r}\\right)} B\\left(t, r\\right) - {\\left(a\\left(r\\right) - c\\left(r\\right)\\right)} \\frac{\\partial\\,B}{\\partial r} + 2 \\, B\\left(t, r\\right) \\frac{\\partial\\,G}{\\partial r} \\\\ X_{ \\, r \\, t \\, t }^{ \\phantom{\\, r}\\phantom{\\, t}\\phantom{\\, t} } & = & 2 \\, {\\left(a\\left(r\\right) - 2 \\, c\\left(r\\right)\\right)} B\\left(t, r\\right) G\\left(t, r\\right) + 6 \\, B\\left(t, r\\right) G\\left(t, r\\right)^{2} + {\\left(2 \\, a\\left(r\\right)^{2} - 6 \\, a\\left(r\\right) c\\left(r\\right) + 4 \\, c\\left(r\\right)^{2} + \\frac{\\partial\\,a}{\\partial r} - \\frac{\\partial\\,c}{\\partial r}\\right)} B\\left(t, r\\right) - {\\left(a\\left(r\\right) - c\\left(r\\right)\\right)} \\frac{\\partial\\,B}{\\partial r} + 2 \\, B\\left(t, r\\right) \\frac{\\partial\\,G}{\\partial r} \\\\ X_{ \\, r \\, r \\, t }^{ \\phantom{\\, r}\\phantom{\\, r}\\phantom{\\, t} } & = & -2 \\, {\\left(6 \\, G\\left(t, r\\right) + a\\left(r\\right) - 2 \\, c\\left(r\\right)\\right)} \\frac{\\partial\\,G}{\\partial t} - 2 \\, \\frac{\\partial^2\\,G}{\\partial t\\partial r} \\\\ X_{ \\, r \\, r \\, r }^{ \\phantom{\\, r}\\phantom{\\, r}\\phantom{\\, r} } & = & -4 \\, {\\left(2 \\, a\\left(r\\right) - 7 \\, c\\left(r\\right)\\right)} G\\left(t, r\\right)^{2} - 24 \\, G\\left(t, r\\right)^{3} + 2 \\, a\\left(r\\right)^{2} c\\left(r\\right) - 6 \\, a\\left(r\\right) c\\left(r\\right)^{2} + 4 \\, c\\left(r\\right)^{3} - 2 \\, {\\left(2 \\, a\\left(r\\right)^{2} - 8 \\, a\\left(r\\right) c\\left(r\\right) + 8 \\, c\\left(r\\right)^{2} + 3 \\, \\frac{\\partial\\,a}{\\partial r} - 4 \\, \\frac{\\partial\\,c}{\\partial r}\\right)} G\\left(t, r\\right) - 2 \\, {\\left(10 \\, G\\left(t, r\\right) + a\\left(r\\right) - 4 \\, c\\left(r\\right)\\right)} \\frac{\\partial\\,G}{\\partial r} - {\\left(2 \\, a\\left(r\\right) - 5 \\, c\\left(r\\right)\\right)} \\frac{\\partial\\,a}{\\partial r} + 3 \\, {\\left(a\\left(r\\right) - 2 \\, c\\left(r\\right)\\right)} \\frac{\\partial\\,c}{\\partial r} - 2 \\, \\frac{\\partial^2\\,G}{\\partial r ^ 2} - \\frac{\\partial^2\\,a}{\\partial r ^ 2} + \\frac{\\partial^2\\,c}{\\partial r ^ 2} \\\\ X_{ \\, r \\, {\\theta} \\, {\\theta} }^{ \\phantom{\\, r}\\phantom{\\, {\\theta}}\\phantom{\\, {\\theta}} } & = & 8 \\, F\\left(t, r\\right) G\\left(t, r\\right)^{2} + {\\left(a\\left(r\\right)^{2} - 3 \\, a\\left(r\\right) c\\left(r\\right) + 2 \\, c\\left(r\\right)^{2} + \\frac{\\partial\\,a}{\\partial r} - \\frac{\\partial\\,c}{\\partial r}\\right)} F\\left(t, r\\right) + {\\left({\\left(a\\left(r\\right) - 4 \\, c\\left(r\\right)\\right)} F\\left(t, r\\right) - 1\\right)} G\\left(t, r\\right) - G\\left(t, r\\right) \\frac{\\partial\\,F}{\\partial r} + 2 \\, F\\left(t, r\\right) \\frac{\\partial\\,G}{\\partial r} \\\\ X_{ \\, r \\, {\\phi} \\, {\\phi} }^{ \\phantom{\\, r}\\phantom{\\, {\\phi}}\\phantom{\\, {\\phi}} } & = & {\\left(8 \\, F\\left(t, r\\right) G\\left(t, r\\right)^{2} + {\\left(a\\left(r\\right)^{2} - 3 \\, a\\left(r\\right) c\\left(r\\right) + 2 \\, c\\left(r\\right)^{2} + \\frac{\\partial\\,a}{\\partial r} - \\frac{\\partial\\,c}{\\partial r}\\right)} F\\left(t, r\\right) + {\\left({\\left(a\\left(r\\right) - 4 \\, c\\left(r\\right)\\right)} F\\left(t, r\\right) - 1\\right)} G\\left(t, r\\right) - G\\left(t, r\\right) \\frac{\\partial\\,F}{\\partial r} + 2 \\, F\\left(t, r\\right) \\frac{\\partial\\,G}{\\partial r}\\right)} \\sin\\left({\\theta}\\right)^{2} \\\\ X_{ \\, {\\theta} \\, r \\, {\\theta} }^{ \\phantom{\\, {\\theta}}\\phantom{\\, r}\\phantom{\\, {\\theta}} } & = & 8 \\, F\\left(t, r\\right) G\\left(t, r\\right)^{2} + {\\left(a\\left(r\\right)^{2} - 3 \\, a\\left(r\\right) c\\left(r\\right) + 2 \\, c\\left(r\\right)^{2} + \\frac{\\partial\\,a}{\\partial r} - \\frac{\\partial\\,c}{\\partial r}\\right)} F\\left(t, r\\right) + {\\left({\\left(a\\left(r\\right) - 4 \\, c\\left(r\\right)\\right)} F\\left(t, r\\right) - 1\\right)} G\\left(t, r\\right) - G\\left(t, r\\right) \\frac{\\partial\\,F}{\\partial r} + 2 \\, F\\left(t, r\\right) \\frac{\\partial\\,G}{\\partial r} \\\\ X_{ \\, {\\theta} \\, {\\theta} \\, t }^{ \\phantom{\\, {\\theta}}\\phantom{\\, {\\theta}}\\phantom{\\, t} } & = & -{\\left(2 \\, G\\left(t, r\\right) - a\\left(r\\right)\\right)} \\frac{\\partial\\,F}{\\partial t} - 2 \\, F\\left(t, r\\right) \\frac{\\partial\\,G}{\\partial t} + \\frac{\\partial^2\\,F}{\\partial t\\partial r} \\\\ X_{ \\, {\\theta} \\, {\\theta} \\, r }^{ \\phantom{\\, {\\theta}}\\phantom{\\, {\\theta}}\\phantom{\\, r} } & = & 4 \\, F\\left(t, r\\right) G\\left(t, r\\right)^{2} - 2 \\, {\\left(F\\left(t, r\\right) a\\left(r\\right) + 1\\right)} G\\left(t, r\\right) - {\\left(4 \\, G\\left(t, r\\right) - a\\left(r\\right)\\right)} \\frac{\\partial\\,F}{\\partial r} - 2 \\, F\\left(t, r\\right) \\frac{\\partial\\,G}{\\partial r} + F\\left(t, r\\right) \\frac{\\partial\\,a}{\\partial r} + \\frac{\\partial^2\\,F}{\\partial r ^ 2} \\\\ X_{ \\, {\\phi} \\, r \\, {\\phi} }^{ \\phantom{\\, {\\phi}}\\phantom{\\, r}\\phantom{\\, {\\phi}} } & = & {\\left(8 \\, F\\left(t, r\\right) G\\left(t, r\\right)^{2} + {\\left(a\\left(r\\right)^{2} - 3 \\, a\\left(r\\right) c\\left(r\\right) + 2 \\, c\\left(r\\right)^{2} + \\frac{\\partial\\,a}{\\partial r} - \\frac{\\partial\\,c}{\\partial r}\\right)} F\\left(t, r\\right) + {\\left({\\left(a\\left(r\\right) - 4 \\, c\\left(r\\right)\\right)} F\\left(t, r\\right) - 1\\right)} G\\left(t, r\\right) - G\\left(t, r\\right) \\frac{\\partial\\,F}{\\partial r} + 2 \\, F\\left(t, r\\right) \\frac{\\partial\\,G}{\\partial r}\\right)} \\sin\\left({\\theta}\\right)^{2} \\\\ X_{ \\, {\\phi} \\, {\\phi} \\, t }^{ \\phantom{\\, {\\phi}}\\phantom{\\, {\\phi}}\\phantom{\\, t} } & = & -{\\left({\\left(2 \\, G\\left(t, r\\right) - a\\left(r\\right)\\right)} \\frac{\\partial\\,F}{\\partial t} + 2 \\, F\\left(t, r\\right) \\frac{\\partial\\,G}{\\partial t} - \\frac{\\partial^2\\,F}{\\partial t\\partial r}\\right)} \\sin\\left({\\theta}\\right)^{2} \\\\ X_{ \\, {\\phi} \\, {\\phi} \\, r }^{ \\phantom{\\, {\\phi}}\\phantom{\\, {\\phi}}\\phantom{\\, r} } & = & {\\left(4 \\, F\\left(t, r\\right) G\\left(t, r\\right)^{2} - 2 \\, {\\left(F\\left(t, r\\right) a\\left(r\\right) + 1\\right)} G\\left(t, r\\right) - {\\left(4 \\, G\\left(t, r\\right) - a\\left(r\\right)\\right)} \\frac{\\partial\\,F}{\\partial r} - 2 \\, F\\left(t, r\\right) \\frac{\\partial\\,G}{\\partial r} + F\\left(t, r\\right) \\frac{\\partial\\,a}{\\partial r} + \\frac{\\partial^2\\,F}{\\partial r ^ 2}\\right)} \\sin\\left({\\theta}\\right)^{2} \\end{array}$"
      ],
      "text/plain": [
       "X_t,t,t = -(a(r) - 2*c(r))*d(B)/dt + d^2(B)/dtdr \n",
       "X_t,t,r = (2*a(r)^2 - 6*a(r)*c(r) + 4*c(r)^2 - d(a)/dr + 2*d(c)/dr)*B(t, r) - (3*a(r) - 4*c(r))*d(B)/dr + d^2(B)/dr^2 \n",
       "X_t,r,t = 2*(a(r) - 2*c(r))*B(t, r)*G(t, r) + 6*B(t, r)*G(t, r)^2 + (2*a(r)^2 - 6*a(r)*c(r) + 4*c(r)^2 + d(a)/dr - d(c)/dr)*B(t, r) - (a(r) - c(r))*d(B)/dr + 2*B(t, r)*d(G)/dr \n",
       "X_r,t,t = 2*(a(r) - 2*c(r))*B(t, r)*G(t, r) + 6*B(t, r)*G(t, r)^2 + (2*a(r)^2 - 6*a(r)*c(r) + 4*c(r)^2 + d(a)/dr - d(c)/dr)*B(t, r) - (a(r) - c(r))*d(B)/dr + 2*B(t, r)*d(G)/dr \n",
       "X_r,r,t = -2*(6*G(t, r) + a(r) - 2*c(r))*d(G)/dt - 2*d^2(G)/dtdr \n",
       "X_r,r,r = -4*(2*a(r) - 7*c(r))*G(t, r)^2 - 24*G(t, r)^3 + 2*a(r)^2*c(r) - 6*a(r)*c(r)^2 + 4*c(r)^3 - 2*(2*a(r)^2 - 8*a(r)*c(r) + 8*c(r)^2 + 3*d(a)/dr - 4*d(c)/dr)*G(t, r) - 2*(10*G(t, r) + a(r) - 4*c(r))*d(G)/dr - (2*a(r) - 5*c(r))*d(a)/dr + 3*(a(r) - 2*c(r))*d(c)/dr - 2*d^2(G)/dr^2 - d^2(a)/dr^2 + d^2(c)/dr^2 \n",
       "X_r,th,th = 8*F(t, r)*G(t, r)^2 + (a(r)^2 - 3*a(r)*c(r) + 2*c(r)^2 + d(a)/dr - d(c)/dr)*F(t, r) + ((a(r) - 4*c(r))*F(t, r) - 1)*G(t, r) - G(t, r)*d(F)/dr + 2*F(t, r)*d(G)/dr \n",
       "X_r,ph,ph = (8*F(t, r)*G(t, r)^2 + (a(r)^2 - 3*a(r)*c(r) + 2*c(r)^2 + d(a)/dr - d(c)/dr)*F(t, r) + ((a(r) - 4*c(r))*F(t, r) - 1)*G(t, r) - G(t, r)*d(F)/dr + 2*F(t, r)*d(G)/dr)*sin(th)^2 \n",
       "X_th,r,th = 8*F(t, r)*G(t, r)^2 + (a(r)^2 - 3*a(r)*c(r) + 2*c(r)^2 + d(a)/dr - d(c)/dr)*F(t, r) + ((a(r) - 4*c(r))*F(t, r) - 1)*G(t, r) - G(t, r)*d(F)/dr + 2*F(t, r)*d(G)/dr \n",
       "X_th,th,t = -(2*G(t, r) - a(r))*d(F)/dt - 2*F(t, r)*d(G)/dt + d^2(F)/dtdr \n",
       "X_th,th,r = 4*F(t, r)*G(t, r)^2 - 2*(F(t, r)*a(r) + 1)*G(t, r) - (4*G(t, r) - a(r))*d(F)/dr - 2*F(t, r)*d(G)/dr + F(t, r)*d(a)/dr + d^2(F)/dr^2 \n",
       "X_ph,r,ph = (8*F(t, r)*G(t, r)^2 + (a(r)^2 - 3*a(r)*c(r) + 2*c(r)^2 + d(a)/dr - d(c)/dr)*F(t, r) + ((a(r) - 4*c(r))*F(t, r) - 1)*G(t, r) - G(t, r)*d(F)/dr + 2*F(t, r)*d(G)/dr)*sin(th)^2 \n",
       "X_ph,ph,t = -((2*G(t, r) - a(r))*d(F)/dt + 2*F(t, r)*d(G)/dt - d^2(F)/dtdr)*sin(th)^2 \n",
       "X_ph,ph,r = (4*F(t, r)*G(t, r)^2 - 2*(F(t, r)*a(r) + 1)*G(t, r) - (4*G(t, r) - a(r))*d(F)/dr - 2*F(t, r)*d(G)/dr + F(t, r)*d(a)/dr + d^2(F)/dr^2)*sin(th)^2 "
      ]
     },
     "execution_count": 49,
     "metadata": {},
     "output_type": "execute_result"
    }
   ],
   "source": [
    "NRicci = T(Ricci)\n",
    "NRicci.display_comp()"
   ]
  },
  {
   "cell_type": "code",
   "execution_count": null,
   "id": "49201045",
   "metadata": {},
   "outputs": [],
   "source": []
  },
  {
   "cell_type": "code",
   "execution_count": null,
   "id": "9456684b",
   "metadata": {},
   "outputs": [],
   "source": []
  },
  {
   "cell_type": "code",
   "execution_count": null,
   "id": "bb3ccf9b",
   "metadata": {},
   "outputs": [],
   "source": []
  }
 ],
 "metadata": {
  "kernelspec": {
   "display_name": "SageMath 9.7",
   "language": "sage",
   "name": "sagemath-9.7"
  },
  "language_info": {
   "codemirror_mode": {
    "name": "ipython",
    "version": 3
   },
   "file_extension": ".py",
   "mimetype": "text/x-python",
   "name": "python",
   "nbconvert_exporter": "python",
   "pygments_lexer": "ipython3",
   "version": "3.10.5"
  }
 },
 "nbformat": 4,
 "nbformat_minor": 5
}
